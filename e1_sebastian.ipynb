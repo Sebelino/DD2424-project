{
 "cells": [
  {
   "cell_type": "markdown",
   "source": [
    "<a target=\"_blank\" href=\"https://colab.research.google.com/github/Sebelino/DD2424-project/blob/main/e1_sebastian.ipynb\">\n",
    "  <img src=\"https://colab.research.google.com/assets/colab-badge.svg\" alt=\"Open In Colab\"/>\n",
    "</a>"
   ],
   "metadata": {
    "id": "mqchQCCBzNy1"
   },
   "id": "mqchQCCBzNy1"
  },
  {
   "metadata": {
    "id": "c3344af1bc2b0abd",
    "outputId": "5a2af7e4-6175-421f-c6d8-9a55c1657e29",
    "colab": {
     "base_uri": "https://localhost:8080/"
    },
    "ExecuteTime": {
     "end_time": "2025-04-22T16:19:11.261869Z",
     "start_time": "2025-04-22T16:19:11.257986Z"
    }
   },
   "cell_type": "code",
   "source": [
    "import os\n",
    "\n",
    "# Detect if running in Google Colab\n",
    "try:\n",
    "    import google.colab\n",
    "\n",
    "    in_colab = True\n",
    "except ImportError:\n",
    "    in_colab = False\n",
    "\n",
    "print(\"in_colab:\", in_colab)\n",
    "\n",
    "if in_colab:\n",
    "    repo_name = \"DD2424-project\"\n",
    "    if not os.path.exists(repo_name):\n",
    "        !git clone https://github.com/Sebelino/DD2424-project\n",
    "    %cd DD2424-project"
   ],
   "id": "c3344af1bc2b0abd",
   "outputs": [
    {
     "name": "stdout",
     "output_type": "stream",
     "text": [
      "in_colab: False\n"
     ]
    }
   ],
   "execution_count": 4
  },
  {
   "metadata": {},
   "cell_type": "markdown",
   "source": "# Download and extract the data",
   "id": "6ecfd8aa44fcde47"
  },
  {
   "metadata": {
    "id": "7a74990d5ed3874c",
    "outputId": "91172078-0c7b-4aea-c1cc-cb3eda5b9471",
    "colab": {
     "base_uri": "https://localhost:8080/"
    },
    "ExecuteTime": {
     "end_time": "2025-04-22T16:19:11.294623Z",
     "start_time": "2025-04-22T16:19:11.291664Z"
    }
   },
   "cell_type": "code",
   "source": [
    "from download_dataset import maybe_download_and_extract\n",
    "\n",
    "maybe_download_and_extract()"
   ],
   "id": "7a74990d5ed3874c",
   "outputs": [
    {
     "name": "stdout",
     "output_type": "stream",
     "text": [
      "data/oxford-iiit-pet/images.tar.gz already exists. Skipping download.\n",
      "data/oxford-iiit-pet/annotations.tar.gz already exists. Skipping download.\n",
      "data/oxford-iiit-pet/images already extracted. Skipping.\n",
      "data/oxford-iiit-pet/annotations already extracted. Skipping.\n"
     ]
    }
   ],
   "execution_count": 5
  },
  {
   "metadata": {},
   "cell_type": "markdown",
   "source": "# Partition the data",
   "id": "e722ec6bcd44bb0c"
  },
  {
   "metadata": {
    "ExecuteTime": {
     "end_time": "2025-04-22T17:34:46.671009Z",
     "start_time": "2025-04-22T17:34:46.651442Z"
    }
   },
   "cell_type": "code",
   "source": [
    "import shutil\n",
    "import random\n",
    "from pathlib import Path\n",
    "\n",
    "\n",
    "def copy_files(files_dir, filenames, dst_dir):\n",
    "    for filename, label in filenames:\n",
    "        src = files_dir / f\"{filename}.jpg\"\n",
    "        dst = dst_dir / label / f\"{filename}.jpg\"\n",
    "        if dst.exists():\n",
    "            return  # Don't copy if it already exists\n",
    "        if src.exists():\n",
    "            shutil.copy(src, dst)\n",
    "\n",
    "\n",
    "def make_partitioned_dataset(dataset_dir: str, output_dir):\n",
    "    train_ratio = 0.8\n",
    "    val_ratio = 0.1\n",
    "    test_ratio = 1 - train_ratio - val_ratio\n",
    "\n",
    "    dataset_dir = Path(dataset_dir)\n",
    "    images_dir = dataset_dir / \"images\"\n",
    "    annotations_file = dataset_dir / \"annotations\" / \"list.txt\"\n",
    "\n",
    "    output_dir_already_exists = os.path.exists(output_dir)\n",
    "\n",
    "    # Ensure output directories exist\n",
    "    for split in ['train', 'val', 'test']:\n",
    "        for cls in ['cat', 'dog']:\n",
    "            subsubdir = output_dir / split / cls\n",
    "            subsubdir.mkdir(parents=True, exist_ok=True)\n",
    "\n",
    "    # Parse annotations to get filenames and binary labels\n",
    "    with open(annotations_file) as f:\n",
    "        lines = f.readlines()[6:]  # Skip header\n",
    "\n",
    "    file_info = []\n",
    "    for line in lines:\n",
    "        parts = line.strip().split()\n",
    "        filename, _, species_num_str, _ = parts\n",
    "        species_num = int(species_num_str)  # 1 = Cat, 2 = Dog\n",
    "        label = 'cat' if species_num == 1 else 'dog'\n",
    "        file_info.append((filename, label))\n",
    "\n",
    "    # Shuffle and split data\n",
    "    random.shuffle(file_info)\n",
    "    num_total = len(file_info)\n",
    "    num_train = int(train_ratio * num_total)\n",
    "    num_val = int(val_ratio * num_total)\n",
    "\n",
    "    if output_dir_already_exists:\n",
    "        print(f\"Output directory {output_dir} already exists.\")\n",
    "        num_test = num_total - num_train - num_val\n",
    "        return num_train, num_val, num_test\n",
    "\n",
    "    train_files = file_info[:num_train]\n",
    "    val_files = file_info[num_train:num_train + num_val]\n",
    "    test_files = file_info[num_train + num_val:]\n",
    "\n",
    "    # Copy to respective folders\n",
    "    copy_files(images_dir, train_files, output_dir / \"train\")\n",
    "    copy_files(images_dir, val_files, output_dir / \"val\")\n",
    "    copy_files(images_dir, test_files, output_dir / \"test\")\n",
    "\n",
    "    print(f\"Dataset partitioned into: {len(train_files)} train, {len(val_files)} val, {len(test_files)} test images.\")\n",
    "    print(f\"Output directory: {output_dir.resolve()}\")\n",
    "\n",
    "    return len(train_files), len(val_files), len(test_files)\n",
    "\n",
    "\n",
    "dataset_dir = Path(\"data/oxford-iiit-pet\")\n",
    "output_dir = Path(\"data/dataset_partitioned\")\n",
    "n_train, n_val, n_test = make_partitioned_dataset(dataset_dir, output_dir)\n",
    "print(\"Dataset prepared in ImageFolder format at:\", output_dir)\n",
    "print(f\"Dataset partitioned into: {n_train} train, {n_val} val, {n_test} test images in {output_dir}\")"
   ],
   "id": "7b1377ca3409dca",
   "outputs": [
    {
     "name": "stdout",
     "output_type": "stream",
     "text": [
      "Output directory data/dataset_partitioned already exists.\n",
      "Dataset prepared in ImageFolder format at: data/dataset_partitioned\n",
      "Dataset partitioned into: 5879 train, 734 val, 736 test images in data/dataset_partitioned\n"
     ]
    }
   ],
   "execution_count": 22
  },
  {
   "metadata": {},
   "cell_type": "markdown",
   "source": "# Load the data",
   "id": "dc9acf9d4afad175"
  },
  {
   "metadata": {
    "ExecuteTime": {
     "end_time": "2025-04-22T17:34:51.331183Z",
     "start_time": "2025-04-22T17:34:51.299331Z"
    }
   },
   "cell_type": "code",
   "source": [
    "from torchvision import datasets\n",
    "from torchvision.models import ResNet18_Weights\n",
    "from torch.utils.data import DataLoader\n",
    "\n",
    "# Use ResNet's default preprocessing pipeline\n",
    "weights = ResNet18_Weights.DEFAULT\n",
    "preprocess = weights.transforms()\n",
    "\n",
    "# Dataset paths\n",
    "train_dataset = datasets.ImageFolder(root=f\"{output_dir}/train\", transform=preprocess)\n",
    "val_dataset = datasets.ImageFolder(root=f\"{output_dir}/val\", transform=preprocess)\n",
    "test_dataset = datasets.ImageFolder(root=f\"{output_dir}/test\", transform=preprocess)\n",
    "\n",
    "# DataLoaders\n",
    "train_loader = DataLoader(train_dataset, batch_size=32, shuffle=True)\n",
    "val_loader = DataLoader(val_dataset, batch_size=32, shuffle=False)\n",
    "test_loader = DataLoader(test_dataset, batch_size=32, shuffle=False)\n",
    "\n",
    "print(f\"Batch size: {train_loader.batch_size}, Dataset size: {len(train_loader.dataset)}, Iterations per epoch: {len(train_loader)}\")\n"
   ],
   "id": "65a55c49cddcbe19",
   "outputs": [
    {
     "name": "stdout",
     "output_type": "stream",
     "text": [
      "Batch size: 32, Dataset size: 5879, Iterations per epoch: 184\n"
     ]
    }
   ],
   "execution_count": 23
  },
  {
   "metadata": {},
   "cell_type": "markdown",
   "source": "# Train model",
   "id": "5de4bd6ab789b0c8"
  },
  {
   "metadata": {
    "ExecuteTime": {
     "end_time": "2025-04-22T17:35:16.605028Z",
     "start_time": "2025-04-22T17:34:59.351434Z"
    }
   },
   "cell_type": "code",
   "source": [
    "import torch\n",
    "import torch.nn as nn\n",
    "import torch.optim as optim\n",
    "from torchvision import models\n",
    "from tqdm.notebook import tqdm\n",
    "\n",
    "device = torch.device(\"cuda\" if torch.cuda.is_available() else \"cpu\")\n",
    "\n",
    "# Load ResNet18\n",
    "model = models.resnet18(weights=weights)\n",
    "num_features = model.fc.in_features\n",
    "model.fc = nn.Linear(num_features, 2)  # Binary classification (cat vs dog)\n",
    "model = model.to(device)\n",
    "\n",
    "# Optimizer\n",
    "eta = 0.001\n",
    "optimizer = optim.Adam(model.fc.parameters(), lr=eta)  # Fine-tune final layer only\n",
    "\n",
    "criterion = nn.CrossEntropyLoss()\n",
    "\n",
    "num_epochs = 5\n",
    "model.train()\n",
    "\n",
    "\n",
    "def evaluate(model, loader, device):\n",
    "    model.eval()\n",
    "    correct = 0\n",
    "    total = 0\n",
    "    with torch.no_grad():\n",
    "        for inputs, labels in tqdm(loader, desc=\"Evaluating\"):\n",
    "            inputs, labels = inputs.to(device), labels.to(device)\n",
    "            outputs = model(inputs)\n",
    "            _, predicted = torch.max(outputs.data, 1)\n",
    "            total += labels.size(0)\n",
    "            correct += (predicted == labels).sum().item()\n",
    "    model.train()\n",
    "    return 100 * correct / total\n",
    "\n",
    "for epoch in tqdm(range(num_epochs), desc=\"Epoch\"):\n",
    "    running_loss = 0.0\n",
    "    correct = 0\n",
    "    total = 0\n",
    "    for inputs, labels in tqdm(train_loader, desc=\"Iteration\", leave=False):\n",
    "        inputs, labels = inputs.to(device), labels.to(device)\n",
    "\n",
    "        optimizer.zero_grad()\n",
    "        outputs = model(inputs)\n",
    "        loss = criterion(outputs, labels)\n",
    "        loss.backward()\n",
    "        optimizer.step()\n",
    "\n",
    "        running_loss += loss.item()\n",
    "        _, predicted = torch.max(outputs.data, 1)\n",
    "        total += labels.size(0)\n",
    "        correct += (predicted == labels).sum().item()\n",
    "\n",
    "    train_acc = 100 * correct / total\n",
    "    val_acc = evaluate(model, val_loader, device)\n",
    "    print(\n",
    "        f\"Epoch [{epoch + 1}/{num_epochs}], Loss: {running_loss / len(train_loader):.4f}, Train Acc: {train_acc:.2f}%, Val Acc: {val_acc:.2f}%\")\n"
   ],
   "id": "4a282f58506dc0d2",
   "outputs": [
    {
     "data": {
      "text/plain": [
       "Epoch:   0%|          | 0/5 [00:00<?, ?it/s]"
      ],
      "application/vnd.jupyter.widget-view+json": {
       "version_major": 2,
       "version_minor": 0,
       "model_id": "8206be0882f4405b8cb13879ed8f70bb"
      }
     },
     "metadata": {},
     "output_type": "display_data"
    },
    {
     "data": {
      "text/plain": [
       "Iteration:   0%|          | 0/184 [00:00<?, ?it/s]"
      ],
      "application/vnd.jupyter.widget-view+json": {
       "version_major": 2,
       "version_minor": 0,
       "model_id": "f65d7f885a0c4cd8ac9d21450787a95e"
      }
     },
     "metadata": {},
     "output_type": "display_data"
    },
    {
     "ename": "KeyboardInterrupt",
     "evalue": "",
     "output_type": "error",
     "traceback": [
      "\u001B[31m---------------------------------------------------------------------------\u001B[39m",
      "\u001B[31mKeyboardInterrupt\u001B[39m                         Traceback (most recent call last)",
      "\u001B[36mCell\u001B[39m\u001B[36m \u001B[39m\u001B[32mIn[24]\u001B[39m\u001B[32m, line 43\u001B[39m\n\u001B[32m     41\u001B[39m correct = \u001B[32m0\u001B[39m\n\u001B[32m     42\u001B[39m total = \u001B[32m0\u001B[39m\n\u001B[32m---> \u001B[39m\u001B[32m43\u001B[39m \u001B[43m\u001B[49m\u001B[38;5;28;43;01mfor\u001B[39;49;00m\u001B[43m \u001B[49m\u001B[43minputs\u001B[49m\u001B[43m,\u001B[49m\u001B[43m \u001B[49m\u001B[43mlabels\u001B[49m\u001B[43m \u001B[49m\u001B[38;5;129;43;01min\u001B[39;49;00m\u001B[43m \u001B[49m\u001B[43mtqdm\u001B[49m\u001B[43m(\u001B[49m\u001B[43mtrain_loader\u001B[49m\u001B[43m,\u001B[49m\u001B[43m \u001B[49m\u001B[43mdesc\u001B[49m\u001B[43m=\u001B[49m\u001B[33;43m\"\u001B[39;49m\u001B[33;43mIteration\u001B[39;49m\u001B[33;43m\"\u001B[39;49m\u001B[43m,\u001B[49m\u001B[43m \u001B[49m\u001B[43mleave\u001B[49m\u001B[43m=\u001B[49m\u001B[38;5;28;43;01mFalse\u001B[39;49;00m\u001B[43m)\u001B[49m\u001B[43m:\u001B[49m\n\u001B[32m     44\u001B[39m \u001B[43m    \u001B[49m\u001B[43minputs\u001B[49m\u001B[43m,\u001B[49m\u001B[43m \u001B[49m\u001B[43mlabels\u001B[49m\u001B[43m \u001B[49m\u001B[43m=\u001B[49m\u001B[43m \u001B[49m\u001B[43minputs\u001B[49m\u001B[43m.\u001B[49m\u001B[43mto\u001B[49m\u001B[43m(\u001B[49m\u001B[43mdevice\u001B[49m\u001B[43m)\u001B[49m\u001B[43m,\u001B[49m\u001B[43m \u001B[49m\u001B[43mlabels\u001B[49m\u001B[43m.\u001B[49m\u001B[43mto\u001B[49m\u001B[43m(\u001B[49m\u001B[43mdevice\u001B[49m\u001B[43m)\u001B[49m\n\u001B[32m     46\u001B[39m \u001B[43m    \u001B[49m\u001B[43moptimizer\u001B[49m\u001B[43m.\u001B[49m\u001B[43mzero_grad\u001B[49m\u001B[43m(\u001B[49m\u001B[43m)\u001B[49m\n",
      "\u001B[36mFile \u001B[39m\u001B[32m~/src/DD2424-project/.venv/lib/python3.13/site-packages/tqdm/notebook.py:250\u001B[39m, in \u001B[36mtqdm_notebook.__iter__\u001B[39m\u001B[34m(self)\u001B[39m\n\u001B[32m    248\u001B[39m \u001B[38;5;28;01mtry\u001B[39;00m:\n\u001B[32m    249\u001B[39m     it = \u001B[38;5;28msuper\u001B[39m().\u001B[34m__iter__\u001B[39m()\n\u001B[32m--> \u001B[39m\u001B[32m250\u001B[39m \u001B[43m    \u001B[49m\u001B[38;5;28;43;01mfor\u001B[39;49;00m\u001B[43m \u001B[49m\u001B[43mobj\u001B[49m\u001B[43m \u001B[49m\u001B[38;5;129;43;01min\u001B[39;49;00m\u001B[43m \u001B[49m\u001B[43mit\u001B[49m\u001B[43m:\u001B[49m\n\u001B[32m    251\u001B[39m \u001B[43m        \u001B[49m\u001B[38;5;66;43;03m# return super(tqdm...) will not catch exception\u001B[39;49;00m\n\u001B[32m    252\u001B[39m \u001B[43m        \u001B[49m\u001B[38;5;28;43;01myield\u001B[39;49;00m\u001B[43m \u001B[49m\u001B[43mobj\u001B[49m\n\u001B[32m    253\u001B[39m \u001B[38;5;66;03m# NB: except ... [ as ...] breaks IPython async KeyboardInterrupt\u001B[39;00m\n",
      "\u001B[36mFile \u001B[39m\u001B[32m~/src/DD2424-project/.venv/lib/python3.13/site-packages/tqdm/std.py:1181\u001B[39m, in \u001B[36mtqdm.__iter__\u001B[39m\u001B[34m(self)\u001B[39m\n\u001B[32m   1178\u001B[39m time = \u001B[38;5;28mself\u001B[39m._time\n\u001B[32m   1180\u001B[39m \u001B[38;5;28;01mtry\u001B[39;00m:\n\u001B[32m-> \u001B[39m\u001B[32m1181\u001B[39m \u001B[43m    \u001B[49m\u001B[38;5;28;43;01mfor\u001B[39;49;00m\u001B[43m \u001B[49m\u001B[43mobj\u001B[49m\u001B[43m \u001B[49m\u001B[38;5;129;43;01min\u001B[39;49;00m\u001B[43m \u001B[49m\u001B[43miterable\u001B[49m\u001B[43m:\u001B[49m\n\u001B[32m   1182\u001B[39m \u001B[43m        \u001B[49m\u001B[38;5;28;43;01myield\u001B[39;49;00m\u001B[43m \u001B[49m\u001B[43mobj\u001B[49m\n\u001B[32m   1183\u001B[39m \u001B[43m        \u001B[49m\u001B[38;5;66;43;03m# Update and possibly print the progressbar.\u001B[39;49;00m\n\u001B[32m   1184\u001B[39m \u001B[43m        \u001B[49m\u001B[38;5;66;43;03m# Note: does not call self.update(1) for speed optimisation.\u001B[39;49;00m\n",
      "\u001B[36mFile \u001B[39m\u001B[32m~/src/DD2424-project/.venv/lib/python3.13/site-packages/torch/utils/data/dataloader.py:708\u001B[39m, in \u001B[36m_BaseDataLoaderIter.__next__\u001B[39m\u001B[34m(self)\u001B[39m\n\u001B[32m    705\u001B[39m \u001B[38;5;28;01mif\u001B[39;00m \u001B[38;5;28mself\u001B[39m._sampler_iter \u001B[38;5;129;01mis\u001B[39;00m \u001B[38;5;28;01mNone\u001B[39;00m:\n\u001B[32m    706\u001B[39m     \u001B[38;5;66;03m# TODO(https://github.com/pytorch/pytorch/issues/76750)\u001B[39;00m\n\u001B[32m    707\u001B[39m     \u001B[38;5;28mself\u001B[39m._reset()  \u001B[38;5;66;03m# type: ignore[call-arg]\u001B[39;00m\n\u001B[32m--> \u001B[39m\u001B[32m708\u001B[39m data = \u001B[38;5;28;43mself\u001B[39;49m\u001B[43m.\u001B[49m\u001B[43m_next_data\u001B[49m\u001B[43m(\u001B[49m\u001B[43m)\u001B[49m\n\u001B[32m    709\u001B[39m \u001B[38;5;28mself\u001B[39m._num_yielded += \u001B[32m1\u001B[39m\n\u001B[32m    710\u001B[39m \u001B[38;5;28;01mif\u001B[39;00m (\n\u001B[32m    711\u001B[39m     \u001B[38;5;28mself\u001B[39m._dataset_kind == _DatasetKind.Iterable\n\u001B[32m    712\u001B[39m     \u001B[38;5;129;01mand\u001B[39;00m \u001B[38;5;28mself\u001B[39m._IterableDataset_len_called \u001B[38;5;129;01mis\u001B[39;00m \u001B[38;5;129;01mnot\u001B[39;00m \u001B[38;5;28;01mNone\u001B[39;00m\n\u001B[32m    713\u001B[39m     \u001B[38;5;129;01mand\u001B[39;00m \u001B[38;5;28mself\u001B[39m._num_yielded > \u001B[38;5;28mself\u001B[39m._IterableDataset_len_called\n\u001B[32m    714\u001B[39m ):\n",
      "\u001B[36mFile \u001B[39m\u001B[32m~/src/DD2424-project/.venv/lib/python3.13/site-packages/torch/utils/data/dataloader.py:764\u001B[39m, in \u001B[36m_SingleProcessDataLoaderIter._next_data\u001B[39m\u001B[34m(self)\u001B[39m\n\u001B[32m    762\u001B[39m \u001B[38;5;28;01mdef\u001B[39;00m\u001B[38;5;250m \u001B[39m\u001B[34m_next_data\u001B[39m(\u001B[38;5;28mself\u001B[39m):\n\u001B[32m    763\u001B[39m     index = \u001B[38;5;28mself\u001B[39m._next_index()  \u001B[38;5;66;03m# may raise StopIteration\u001B[39;00m\n\u001B[32m--> \u001B[39m\u001B[32m764\u001B[39m     data = \u001B[38;5;28;43mself\u001B[39;49m\u001B[43m.\u001B[49m\u001B[43m_dataset_fetcher\u001B[49m\u001B[43m.\u001B[49m\u001B[43mfetch\u001B[49m\u001B[43m(\u001B[49m\u001B[43mindex\u001B[49m\u001B[43m)\u001B[49m  \u001B[38;5;66;03m# may raise StopIteration\u001B[39;00m\n\u001B[32m    765\u001B[39m     \u001B[38;5;28;01mif\u001B[39;00m \u001B[38;5;28mself\u001B[39m._pin_memory:\n\u001B[32m    766\u001B[39m         data = _utils.pin_memory.pin_memory(data, \u001B[38;5;28mself\u001B[39m._pin_memory_device)\n",
      "\u001B[36mFile \u001B[39m\u001B[32m~/src/DD2424-project/.venv/lib/python3.13/site-packages/torch/utils/data/_utils/fetch.py:52\u001B[39m, in \u001B[36m_MapDatasetFetcher.fetch\u001B[39m\u001B[34m(self, possibly_batched_index)\u001B[39m\n\u001B[32m     50\u001B[39m         data = \u001B[38;5;28mself\u001B[39m.dataset.__getitems__(possibly_batched_index)\n\u001B[32m     51\u001B[39m     \u001B[38;5;28;01melse\u001B[39;00m:\n\u001B[32m---> \u001B[39m\u001B[32m52\u001B[39m         data = [\u001B[38;5;28;43mself\u001B[39;49m\u001B[43m.\u001B[49m\u001B[43mdataset\u001B[49m\u001B[43m[\u001B[49m\u001B[43midx\u001B[49m\u001B[43m]\u001B[49m \u001B[38;5;28;01mfor\u001B[39;00m idx \u001B[38;5;129;01min\u001B[39;00m possibly_batched_index]\n\u001B[32m     53\u001B[39m \u001B[38;5;28;01melse\u001B[39;00m:\n\u001B[32m     54\u001B[39m     data = \u001B[38;5;28mself\u001B[39m.dataset[possibly_batched_index]\n",
      "\u001B[36mFile \u001B[39m\u001B[32m~/src/DD2424-project/.venv/lib/python3.13/site-packages/torchvision/datasets/folder.py:245\u001B[39m, in \u001B[36mDatasetFolder.__getitem__\u001B[39m\u001B[34m(self, index)\u001B[39m\n\u001B[32m    237\u001B[39m \u001B[38;5;250m\u001B[39m\u001B[33;03m\"\"\"\u001B[39;00m\n\u001B[32m    238\u001B[39m \u001B[33;03mArgs:\u001B[39;00m\n\u001B[32m    239\u001B[39m \u001B[33;03m    index (int): Index\u001B[39;00m\n\u001B[32m   (...)\u001B[39m\u001B[32m    242\u001B[39m \u001B[33;03m    tuple: (sample, target) where target is class_index of the target class.\u001B[39;00m\n\u001B[32m    243\u001B[39m \u001B[33;03m\"\"\"\u001B[39;00m\n\u001B[32m    244\u001B[39m path, target = \u001B[38;5;28mself\u001B[39m.samples[index]\n\u001B[32m--> \u001B[39m\u001B[32m245\u001B[39m sample = \u001B[38;5;28;43mself\u001B[39;49m\u001B[43m.\u001B[49m\u001B[43mloader\u001B[49m\u001B[43m(\u001B[49m\u001B[43mpath\u001B[49m\u001B[43m)\u001B[49m\n\u001B[32m    246\u001B[39m \u001B[38;5;28;01mif\u001B[39;00m \u001B[38;5;28mself\u001B[39m.transform \u001B[38;5;129;01mis\u001B[39;00m \u001B[38;5;129;01mnot\u001B[39;00m \u001B[38;5;28;01mNone\u001B[39;00m:\n\u001B[32m    247\u001B[39m     sample = \u001B[38;5;28mself\u001B[39m.transform(sample)\n",
      "\u001B[36mFile \u001B[39m\u001B[32m~/src/DD2424-project/.venv/lib/python3.13/site-packages/torchvision/datasets/folder.py:284\u001B[39m, in \u001B[36mdefault_loader\u001B[39m\u001B[34m(path)\u001B[39m\n\u001B[32m    282\u001B[39m     \u001B[38;5;28;01mreturn\u001B[39;00m accimage_loader(path)\n\u001B[32m    283\u001B[39m \u001B[38;5;28;01melse\u001B[39;00m:\n\u001B[32m--> \u001B[39m\u001B[32m284\u001B[39m     \u001B[38;5;28;01mreturn\u001B[39;00m \u001B[43mpil_loader\u001B[49m\u001B[43m(\u001B[49m\u001B[43mpath\u001B[49m\u001B[43m)\u001B[49m\n",
      "\u001B[36mFile \u001B[39m\u001B[32m~/src/DD2424-project/.venv/lib/python3.13/site-packages/torchvision/datasets/folder.py:264\u001B[39m, in \u001B[36mpil_loader\u001B[39m\u001B[34m(path)\u001B[39m\n\u001B[32m    262\u001B[39m \u001B[38;5;28;01mwith\u001B[39;00m \u001B[38;5;28mopen\u001B[39m(path, \u001B[33m\"\u001B[39m\u001B[33mrb\u001B[39m\u001B[33m\"\u001B[39m) \u001B[38;5;28;01mas\u001B[39;00m f:\n\u001B[32m    263\u001B[39m     img = Image.open(f)\n\u001B[32m--> \u001B[39m\u001B[32m264\u001B[39m     \u001B[38;5;28;01mreturn\u001B[39;00m \u001B[43mimg\u001B[49m\u001B[43m.\u001B[49m\u001B[43mconvert\u001B[49m\u001B[43m(\u001B[49m\u001B[33;43m\"\u001B[39;49m\u001B[33;43mRGB\u001B[39;49m\u001B[33;43m\"\u001B[39;49m\u001B[43m)\u001B[49m\n",
      "\u001B[36mFile \u001B[39m\u001B[32m~/src/DD2424-project/.venv/lib/python3.13/site-packages/PIL/Image.py:982\u001B[39m, in \u001B[36mImage.convert\u001B[39m\u001B[34m(self, mode, matrix, dither, palette, colors)\u001B[39m\n\u001B[32m    979\u001B[39m \u001B[38;5;28;01mif\u001B[39;00m mode \u001B[38;5;129;01min\u001B[39;00m (\u001B[33m\"\u001B[39m\u001B[33mBGR;15\u001B[39m\u001B[33m\"\u001B[39m, \u001B[33m\"\u001B[39m\u001B[33mBGR;16\u001B[39m\u001B[33m\"\u001B[39m, \u001B[33m\"\u001B[39m\u001B[33mBGR;24\u001B[39m\u001B[33m\"\u001B[39m):\n\u001B[32m    980\u001B[39m     deprecate(mode, \u001B[32m12\u001B[39m)\n\u001B[32m--> \u001B[39m\u001B[32m982\u001B[39m \u001B[38;5;28;43mself\u001B[39;49m\u001B[43m.\u001B[49m\u001B[43mload\u001B[49m\u001B[43m(\u001B[49m\u001B[43m)\u001B[49m\n\u001B[32m    984\u001B[39m has_transparency = \u001B[33m\"\u001B[39m\u001B[33mtransparency\u001B[39m\u001B[33m\"\u001B[39m \u001B[38;5;129;01min\u001B[39;00m \u001B[38;5;28mself\u001B[39m.info\n\u001B[32m    985\u001B[39m \u001B[38;5;28;01mif\u001B[39;00m \u001B[38;5;129;01mnot\u001B[39;00m mode \u001B[38;5;129;01mand\u001B[39;00m \u001B[38;5;28mself\u001B[39m.mode == \u001B[33m\"\u001B[39m\u001B[33mP\u001B[39m\u001B[33m\"\u001B[39m:\n\u001B[32m    986\u001B[39m     \u001B[38;5;66;03m# determine default mode\u001B[39;00m\n",
      "\u001B[36mFile \u001B[39m\u001B[32m~/src/DD2424-project/.venv/lib/python3.13/site-packages/PIL/ImageFile.py:389\u001B[39m, in \u001B[36mImageFile.load\u001B[39m\u001B[34m(self)\u001B[39m\n\u001B[32m    386\u001B[39m         \u001B[38;5;28;01mraise\u001B[39;00m \u001B[38;5;167;01mOSError\u001B[39;00m(msg)\n\u001B[32m    388\u001B[39m b = b + s\n\u001B[32m--> \u001B[39m\u001B[32m389\u001B[39m n, err_code = \u001B[43mdecoder\u001B[49m\u001B[43m.\u001B[49m\u001B[43mdecode\u001B[49m\u001B[43m(\u001B[49m\u001B[43mb\u001B[49m\u001B[43m)\u001B[49m\n\u001B[32m    390\u001B[39m \u001B[38;5;28;01mif\u001B[39;00m n < \u001B[32m0\u001B[39m:\n\u001B[32m    391\u001B[39m     \u001B[38;5;28;01mbreak\u001B[39;00m\n",
      "\u001B[31mKeyboardInterrupt\u001B[39m: "
     ]
    }
   ],
   "execution_count": 24
  },
  {
   "metadata": {},
   "cell_type": "markdown",
   "source": "# Test model",
   "id": "b6b8261bf5a410c"
  },
  {
   "metadata": {
    "ExecuteTime": {
     "end_time": "2025-04-22T17:05:29.266878Z",
     "start_time": "2025-04-22T17:04:40.360220Z"
    }
   },
   "cell_type": "code",
   "source": [
    "final_test_acc = evaluate(model, test_loader, device)\n",
    "print(f\"Final Test Accuracy: {final_test_acc:.2f}%\")"
   ],
   "id": "5cd78da7aecf55d9",
   "outputs": [
    {
     "name": "stdout",
     "output_type": "stream",
     "text": [
      "Final Test Accuracy: 99.31%\n"
     ]
    }
   ],
   "execution_count": 11
  }
 ],
 "metadata": {
  "kernelspec": {
   "display_name": "Python 3",
   "language": "python",
   "name": "python3"
  },
  "language_info": {
   "codemirror_mode": {
    "name": "ipython",
    "version": 2
   },
   "file_extension": ".py",
   "mimetype": "text/x-python",
   "name": "python",
   "nbconvert_exporter": "python",
   "pygments_lexer": "ipython2",
   "version": "2.7.6"
  },
  "colab": {
   "provenance": []
  }
 },
 "nbformat": 4,
 "nbformat_minor": 5
}
