{
 "cells": [
  {
   "cell_type": "markdown",
   "source": [
    "<a target=\"_blank\" href=\"https://colab.research.google.com/github/Sebelino/DD2424-project/blob/main/e1_sebastian.ipynb\">\n",
    "  <img src=\"https://colab.research.google.com/assets/colab-badge.svg\" alt=\"Open In Colab\"/>\n",
    "</a>"
   ],
   "metadata": {
    "id": "mqchQCCBzNy1"
   },
   "id": "mqchQCCBzNy1"
  },
  {
   "metadata": {
    "id": "c3344af1bc2b0abd",
    "outputId": "5a2af7e4-6175-421f-c6d8-9a55c1657e29",
    "colab": {
     "base_uri": "https://localhost:8080/"
    },
    "ExecuteTime": {
     "end_time": "2025-04-22T16:19:11.261869Z",
     "start_time": "2025-04-22T16:19:11.257986Z"
    }
   },
   "cell_type": "code",
   "source": [
    "import os\n",
    "\n",
    "# Detect if running in Google Colab\n",
    "try:\n",
    "    import google.colab\n",
    "\n",
    "    in_colab = True\n",
    "except ImportError:\n",
    "    in_colab = False\n",
    "\n",
    "print(\"in_colab:\", in_colab)\n",
    "\n",
    "if in_colab:\n",
    "    repo_name = \"DD2424-project\"\n",
    "    if not os.path.exists(repo_name):\n",
    "        !git clone https://github.com/Sebelino/DD2424-project\n",
    "    %cd DD2424-project"
   ],
   "id": "c3344af1bc2b0abd",
   "outputs": [
    {
     "name": "stdout",
     "output_type": "stream",
     "text": [
      "in_colab: False\n"
     ]
    }
   ],
   "execution_count": 4
  },
  {
   "metadata": {},
   "cell_type": "markdown",
   "source": "# Download and extract the data",
   "id": "6ecfd8aa44fcde47"
  },
  {
   "metadata": {
    "id": "7a74990d5ed3874c",
    "outputId": "91172078-0c7b-4aea-c1cc-cb3eda5b9471",
    "colab": {
     "base_uri": "https://localhost:8080/"
    },
    "ExecuteTime": {
     "end_time": "2025-04-22T16:19:11.294623Z",
     "start_time": "2025-04-22T16:19:11.291664Z"
    }
   },
   "cell_type": "code",
   "source": [
    "from download_dataset import maybe_download_and_extract\n",
    "\n",
    "maybe_download_and_extract()"
   ],
   "id": "7a74990d5ed3874c",
   "outputs": [
    {
     "name": "stdout",
     "output_type": "stream",
     "text": [
      "data/oxford-iiit-pet/images.tar.gz already exists. Skipping download.\n",
      "data/oxford-iiit-pet/annotations.tar.gz already exists. Skipping download.\n",
      "data/oxford-iiit-pet/images already extracted. Skipping.\n",
      "data/oxford-iiit-pet/annotations already extracted. Skipping.\n"
     ]
    }
   ],
   "execution_count": 5
  },
  {
   "metadata": {},
   "cell_type": "markdown",
   "source": "# Partition the data",
   "id": "e722ec6bcd44bb0c"
  },
  {
   "metadata": {
    "ExecuteTime": {
     "end_time": "2025-04-22T16:19:11.372905Z",
     "start_time": "2025-04-22T16:19:11.350976Z"
    }
   },
   "cell_type": "code",
   "source": [
    "import shutil\n",
    "import random\n",
    "from pathlib import Path\n",
    "\n",
    "\n",
    "def copy_files_if_absent(files_dir, filenames, dst_dir):\n",
    "    for filename, label in filenames:\n",
    "        src = files_dir / f\"{filename}.jpg\"\n",
    "        dst = dst_dir / label / f\"{filename}.jpg\"\n",
    "        if dst.exists():\n",
    "            return  # Don't copy if it already exists\n",
    "        if src.exists():\n",
    "            shutil.copy(src, dst)\n",
    "\n",
    "\n",
    "def make_partitioned_dataset(dataset_dir: str, output_dir):\n",
    "    train_ratio = 0.8\n",
    "    val_ratio = 0.1\n",
    "    test_ratio = 1 - train_ratio - val_ratio\n",
    "\n",
    "    dataset_dir = Path(dataset_dir)\n",
    "    images_dir = dataset_dir / \"images\"\n",
    "    annotations_file = dataset_dir / \"annotations\" / \"list.txt\"\n",
    "\n",
    "    # Ensure output directories exist\n",
    "    for split in ['train', 'val', 'test']:\n",
    "        for cls in ['cat', 'dog']:\n",
    "            subsubdir = output_dir / split / cls\n",
    "            subsubdir.mkdir(parents=True, exist_ok=True)\n",
    "\n",
    "    # Parse annotations to get filenames and binary labels\n",
    "    with open(annotations_file) as f:\n",
    "        lines = f.readlines()[6:]  # Skip header\n",
    "\n",
    "    file_info = []\n",
    "    for line in lines:\n",
    "        parts = line.strip().split()\n",
    "        filename, _, species_num_str, _ = parts\n",
    "        species_num = int(species_num_str)  # 1 = Cat, 2 = Dog\n",
    "        label = 'cat' if species_num == 1 else 'dog'\n",
    "        file_info.append((filename, label))\n",
    "\n",
    "    # Shuffle and split data\n",
    "    random.shuffle(file_info)\n",
    "    num_total = len(file_info)\n",
    "    num_train = int(train_ratio * num_total)\n",
    "    num_val = int(val_ratio * num_total)\n",
    "\n",
    "    train_files = file_info[:num_train]\n",
    "    val_files = file_info[num_train:num_train + num_val]\n",
    "    test_files = file_info[num_train + num_val:]\n",
    "\n",
    "    # Copy to respective folders\n",
    "    copy_files_if_absent(images_dir, train_files, output_dir / \"train\")\n",
    "    copy_files_if_absent(images_dir, val_files, output_dir / \"val\")\n",
    "    copy_files_if_absent(images_dir, test_files, output_dir / \"test\")\n",
    "\n",
    "    print(f\"Dataset partitioned into: {len(train_files)} train, {len(val_files)} val, {len(test_files)} test images.\")\n",
    "    print(f\"Output directory: {output_dir.resolve()}\")\n",
    "\n",
    "    return len(train_files), len(val_files), len(test_files)\n",
    "\n",
    "\n",
    "dataset_dir = Path(\"data/oxford-iiit-pet\")\n",
    "output_dir = Path(\"data/dataset_partitioned\")\n",
    "n_train, n_val, n_test = make_partitioned_dataset(dataset_dir, output_dir)\n",
    "print(\"Dataset prepared in ImageFolder format at:\", output_dir)\n",
    "print(f\"Dataset partitioned into: {n_train} train, {n_val} val, {n_test} test images in {output_dir}\")"
   ],
   "id": "7b1377ca3409dca",
   "outputs": [
    {
     "name": "stdout",
     "output_type": "stream",
     "text": [
      "Dataset partitioned into: 5879 train, 734 val, 736 test images.\n",
      "Output directory: /home/sebelino/src/DD2424-project/data/dataset_partitioned\n",
      "Dataset prepared in ImageFolder format at: data/dataset_partitioned\n",
      "Dataset partitioned into: 5879 train, 734 val, 736 test images in data/dataset_partitioned\n"
     ]
    }
   ],
   "execution_count": 6
  },
  {
   "metadata": {},
   "cell_type": "markdown",
   "source": "# Load the data",
   "id": "dc9acf9d4afad175"
  },
  {
   "metadata": {
    "ExecuteTime": {
     "end_time": "2025-04-22T16:19:11.430610Z",
     "start_time": "2025-04-22T16:19:11.406243Z"
    }
   },
   "cell_type": "code",
   "source": [
    "from torchvision import datasets\n",
    "from torchvision.models import ResNet18_Weights\n",
    "from torch.utils.data import DataLoader\n",
    "\n",
    "# Use ResNet's default preprocessing pipeline\n",
    "weights = ResNet18_Weights.DEFAULT\n",
    "preprocess = weights.transforms()\n",
    "\n",
    "# Dataset paths\n",
    "train_dataset = datasets.ImageFolder(root=f\"{output_dir}/train\", transform=preprocess)\n",
    "val_dataset = datasets.ImageFolder(root=f\"{output_dir}/val\", transform=preprocess)\n",
    "test_dataset = datasets.ImageFolder(root=f\"{output_dir}/test\", transform=preprocess)\n",
    "\n",
    "# DataLoaders\n",
    "train_loader = DataLoader(train_dataset, batch_size=32, shuffle=True)\n",
    "val_loader = DataLoader(val_dataset, batch_size=32, shuffle=False)\n",
    "test_loader = DataLoader(test_dataset, batch_size=32, shuffle=False)"
   ],
   "id": "65a55c49cddcbe19",
   "outputs": [],
   "execution_count": 7
  },
  {
   "metadata": {},
   "cell_type": "markdown",
   "source": "# Train model",
   "id": "5de4bd6ab789b0c8"
  },
  {
   "metadata": {
    "jupyter": {
     "is_executing": true
    },
    "ExecuteTime": {
     "start_time": "2025-04-22T16:20:31.246221Z"
    }
   },
   "cell_type": "code",
   "source": [
    "import torch\n",
    "import torch.nn as nn\n",
    "import torch.optim as optim\n",
    "from torchvision import models\n",
    "from tqdm.notebook import tqdm\n",
    "\n",
    "device = torch.device(\"cuda\" if torch.cuda.is_available() else \"cpu\")\n",
    "\n",
    "# Load ResNet18\n",
    "model = models.resnet18(weights=weights)\n",
    "num_features = model.fc.in_features\n",
    "model.fc = nn.Linear(num_features, 2)  # Binary classification (cat vs dog)\n",
    "model = model.to(device)\n",
    "\n",
    "# Optimizer\n",
    "eta = 0.001\n",
    "optimizer = optim.Adam(model.fc.parameters(), lr=eta)  # Fine-tune final layer only\n",
    "\n",
    "criterion = nn.CrossEntropyLoss()\n",
    "\n",
    "num_epochs = 5\n",
    "model.train()\n",
    "\n",
    "\n",
    "def evaluate(model, loader, device):\n",
    "    model.eval()\n",
    "    correct = 0\n",
    "    total = 0\n",
    "    with torch.no_grad():\n",
    "        for inputs, labels in loader:\n",
    "            inputs, labels = inputs.to(device), labels.to(device)\n",
    "            outputs = model(inputs)\n",
    "            _, predicted = torch.max(outputs.data, 1)\n",
    "            total += labels.size(0)\n",
    "            correct += (predicted == labels).sum().item()\n",
    "    model.train()\n",
    "    return 100 * correct / total\n",
    "\n",
    "\n",
    "for epoch in tqdm(range(num_epochs), desc=\"Epoch\"):\n",
    "    running_loss = 0.0\n",
    "    correct = 0\n",
    "    total = 0\n",
    "    for inputs, labels in tqdm(train_loader, desc=\"Iteration\", leave=False):\n",
    "        inputs, labels = inputs.to(device), labels.to(device)\n",
    "\n",
    "        optimizer.zero_grad()\n",
    "        outputs = model(inputs)\n",
    "        loss = criterion(outputs, labels)\n",
    "        loss.backward()\n",
    "        optimizer.step()\n",
    "\n",
    "        running_loss += loss.item()\n",
    "        _, predicted = torch.max(outputs.data, 1)\n",
    "        total += labels.size(0)\n",
    "        correct += (predicted == labels).sum().item()\n",
    "\n",
    "    train_acc = 100 * correct / total\n",
    "    val_acc = evaluate(model, val_loader, device)\n",
    "    print(\n",
    "        f\"Epoch [{epoch + 1}/{num_epochs}], Loss: {running_loss / len(train_loader):.4f}, Train Acc: {train_acc:.2f}%, Val Acc: {val_acc:.2f}%\")\n"
   ],
   "id": "4a282f58506dc0d2",
   "outputs": [
    {
     "data": {
      "text/plain": [
       "Epoch:   0%|          | 0/5 [00:00<?, ?it/s]"
      ],
      "application/vnd.jupyter.widget-view+json": {
       "version_major": 2,
       "version_minor": 0,
       "model_id": "3879d3e965b241df839adb2db2507021"
      }
     },
     "metadata": {},
     "output_type": "display_data"
    },
    {
     "data": {
      "text/plain": [
       "Iteration:   0%|          | 0/230 [00:00<?, ?it/s]"
      ],
      "application/vnd.jupyter.widget-view+json": {
       "version_major": 2,
       "version_minor": 0,
       "model_id": "3d9842f80c65492dab02090f12e31f76"
      }
     },
     "metadata": {},
     "output_type": "display_data"
    }
   ],
   "execution_count": null
  },
  {
   "metadata": {},
   "cell_type": "markdown",
   "source": "# Test model",
   "id": "b6b8261bf5a410c"
  },
  {
   "metadata": {},
   "cell_type": "code",
   "outputs": [],
   "execution_count": null,
   "source": [
    "final_test_acc = evaluate(model, test_loader, device)\n",
    "print(f\"Final Test Accuracy: {final_test_acc:.2f}%\")"
   ],
   "id": "5cd78da7aecf55d9"
  }
 ],
 "metadata": {
  "kernelspec": {
   "display_name": "Python 3",
   "language": "python",
   "name": "python3"
  },
  "language_info": {
   "codemirror_mode": {
    "name": "ipython",
    "version": 2
   },
   "file_extension": ".py",
   "mimetype": "text/x-python",
   "name": "python",
   "nbconvert_exporter": "python",
   "pygments_lexer": "ipython2",
   "version": "2.7.6"
  },
  "colab": {
   "provenance": []
  }
 },
 "nbformat": 4,
 "nbformat_minor": 5
}
