{
 "cells": [
  {
   "cell_type": "markdown",
   "id": "3e992f45-92bf-42c6-b733-b0cd958be329",
   "metadata": {},
   "source": [
    "## Measure time"
   ]
  },
  {
   "cell_type": "code",
   "execution_count": 1,
   "id": "e3585d7e-00d6-4668-b0f4-10f895baab56",
   "metadata": {},
   "outputs": [],
   "source": [
    "import time\n",
    "start_time = time.time()"
   ]
  },
  {
   "cell_type": "markdown",
   "id": "7fdbd5bf-4ed5-48bf-9f88-dd26d7b278fb",
   "metadata": {},
   "source": [
    "## Reproducible results"
   ]
  },
  {
   "cell_type": "code",
   "execution_count": 2,
   "id": "44c2679d-1cd1-4083-a537-7a41d92cd80f",
   "metadata": {},
   "outputs": [
    {
     "name": "stdout",
     "output_type": "stream",
     "text": [
      "Training results should now be reproducible.\n"
     ]
    }
   ],
   "source": [
    "from determinism import Determinism\n",
    "determinism = Determinism(seed=42).sow()  # Keep this before any torch import\n",
    "print(\"Training results should now be reproducible.\")"
   ]
  },
  {
   "cell_type": "markdown",
   "id": "a8cb1843-0521-4710-8876-633916c07c09",
   "metadata": {},
   "source": [
    "## Setup dataset and hyperparameters\n",
    "To investigate the impact of imbalanced training data on fine-tuning performance, we simulate class imbalance by restricting the training set to 20% of the images for each cat breed while keeping all dog images intact. We do not create a validation set as we are not tuning hyperparameters."
   ]
  },
  {
   "cell_type": "code",
   "execution_count": 3,
   "id": "2d043df2-2580-4086-91e3-f2cb342c25e7",
   "metadata": {},
   "outputs": [],
   "source": [
    "%reload_ext autoreload\n",
    "%autoreload 2\n",
    "from datasets import DatasetParams\n",
    "from training import TrainParams, AdamParams\n",
    "from augmentation import AugmentationParams\n",
    "\n",
    "# Map breed to family (ex. 0 (Abbyssinian) to 0 (Cat))\n",
    "breed_family_idx = [0, 1, 1, 1, 1, 0, 0, 0, 1, 0, 1, 0, 1, 1, 1, 1, 1, 1, 1,\n",
    "                    1, 0, 1, 1, 0, 1, 1, 0, 0, 1, 1, 1, 1, 0, 0, 1, 1, 1]\n",
    "\n",
    "dataset_params = DatasetParams(\n",
    "    splitting_seed=determinism.seed,\n",
    "    shuffler_seed=determinism.seed,\n",
    "    batch_size=32,\n",
    "    # Reduce cat data by 80 %\n",
    "    class_fractions = tuple(0.2 if x == 0 else 1.0 for x in breed_family_idx),\n",
    "    validation_set_fraction=0,  # no validation set\n",
    ")\n",
    "\n",
    "baseline_params = TrainParams(\n",
    "    seed=determinism.seed,\n",
    "    architecture=\"resnet50\",\n",
    "    n_epochs=3,\n",
    "    optimizer=AdamParams(\n",
    "        learning_rate=1e-3,\n",
    "        weight_decay=0,\n",
    "    ),\n",
    "    freeze_layers=True,\n",
    "    unfreezing_epochs=None,\n",
    "    augmentation=AugmentationParams(\n",
    "        enabled=False,\n",
    "        transform=None,\n",
    "    ),\n",
    "    validation_freq=0, # no validation set\n",
    ")"
   ]
  },
  {
   "cell_type": "markdown",
   "id": "32c17ea5-5478-4acd-a767-41cb5e48be45",
   "metadata": {},
   "source": [
    "## Experiments\n",
    "Now we will conduct experiments comparing three configurations under the imbalanced training setup: (1) standard cross-entropy loss, (2) weighted cross-entropy loss, and (3) over-sampling of minority classes. Other parameters will remain fixed."
   ]
  },
  {
   "cell_type": "markdown",
   "id": "173cdb68-4e03-4348-b055-c4c5fcf6c711",
   "metadata": {},
   "source": [
    "### 1. Standard cross-entropy loss\n",
    "We check how much the test performance drops without any compensation."
   ]
  },
  {
   "cell_type": "code",
   "execution_count": 4,
   "id": "1661d702-a5fc-4b3a-91ec-b9b8dd247651",
   "metadata": {},
   "outputs": [
    {
     "name": "stdout",
     "output_type": "stream",
     "text": [
      "Test size: 3669\n",
      "Trying to load trainer from disk...\n",
      "Trainer not found. Retraining...\n"
     ]
    },
    {
     "data": {
      "application/vnd.jupyter.widget-view+json": {
       "model_id": "d1e3bd5b27334af3a2385c9e8e640468",
       "version_major": 2,
       "version_minor": 0
      },
      "text/plain": [
       "Update step:   0%|          | 0/258 [00:00<?, ?it/s]"
      ]
     },
     "metadata": {},
     "output_type": "display_data"
    },
    {
     "name": "stderr",
     "output_type": "stream",
     "text": [
      "/home/jaxner/DD2424-project/venv/lib/python3.11/site-packages/torch/utils/data/dataloader.py:665: UserWarning: 'pin_memory' argument is set as true but no accelerator is found, then device pinned memory won't be used.\n",
      "  warnings.warn(warn_msg)\n"
     ]
    },
    {
     "name": "stdout",
     "output_type": "stream",
     "text": [
      "Epoch [1/3], Loss: 2.1248, Train Acc: 62.83%\n",
      "Epoch [2/3], Loss: 0.7762, Train Acc: 90.76%\n",
      "Epoch [3/3], Loss: 0.4636, Train Acc: 94.06%\n",
      "Total elapsed: 405.52s, average per update step: 1.57s\n"
     ]
    },
    {
     "data": {
      "application/vnd.jupyter.widget-view+json": {
       "model_id": "8b49dd95fb9b482198bcfa2ca7feee64",
       "version_major": 2,
       "version_minor": 0
      },
      "text/plain": [
       "Evaluating:   0%|          | 0/115 [00:00<?, ?it/s]"
      ]
     },
     "metadata": {},
     "output_type": "display_data"
    },
    {
     "name": "stdout",
     "output_type": "stream",
     "text": [
      "Test Accuracy: 84.328 %\n",
      "Trying to load trainer from disk...\n",
      "Trainer not found. Retraining...\n"
     ]
    },
    {
     "data": {
      "application/vnd.jupyter.widget-view+json": {
       "model_id": "1e6ccabf06874a778baf3188fda69355",
       "version_major": 2,
       "version_minor": 0
      },
      "text/plain": [
       "Update step:   0%|          | 0/258 [00:00<?, ?it/s]"
      ]
     },
     "metadata": {},
     "output_type": "display_data"
    },
    {
     "name": "stdout",
     "output_type": "stream",
     "text": [
      "Epoch [1/3], Loss: 2.1152, Train Acc: 63.38%\n",
      "Epoch [2/3], Loss: 0.7780, Train Acc: 90.25%\n",
      "Epoch [3/3], Loss: 0.4587, Train Acc: 94.46%\n",
      "Total elapsed: 402.34s, average per update step: 1.54s\n"
     ]
    },
    {
     "data": {
      "application/vnd.jupyter.widget-view+json": {
       "model_id": "fd1bf39fee2e4318a030f2c7e672e8f2",
       "version_major": 2,
       "version_minor": 0
      },
      "text/plain": [
       "Evaluating:   0%|          | 0/115 [00:00<?, ?it/s]"
      ]
     },
     "metadata": {},
     "output_type": "display_data"
    },
    {
     "name": "stdout",
     "output_type": "stream",
     "text": [
      "Test Accuracy: 83.701 %\n",
      "Trying to load trainer from disk...\n",
      "Trainer not found. Retraining...\n"
     ]
    },
    {
     "data": {
      "application/vnd.jupyter.widget-view+json": {
       "model_id": "8ea0a100fb0742fca1f6cae1f84ddccb",
       "version_major": 2,
       "version_minor": 0
      },
      "text/plain": [
       "Update step:   0%|          | 0/258 [00:00<?, ?it/s]"
      ]
     },
     "metadata": {},
     "output_type": "display_data"
    },
    {
     "name": "stdout",
     "output_type": "stream",
     "text": [
      "Epoch [1/3], Loss: 2.1169, Train Acc: 63.71%\n",
      "Epoch [2/3], Loss: 0.7739, Train Acc: 90.76%\n",
      "Epoch [3/3], Loss: 0.4612, Train Acc: 93.95%\n",
      "Total elapsed: 389.29s, average per update step: 1.49s\n"
     ]
    },
    {
     "data": {
      "application/vnd.jupyter.widget-view+json": {
       "model_id": "01d83e4b32c64b06b1910874268bd7e0",
       "version_major": 2,
       "version_minor": 0
      },
      "text/plain": [
       "Evaluating:   0%|          | 0/115 [00:00<?, ?it/s]"
      ]
     },
     "metadata": {},
     "output_type": "display_data"
    },
    {
     "name": "stdout",
     "output_type": "stream",
     "text": [
      "Test Accuracy: 83.620 %\n",
      "Test Accuracy Mean: 83.88 %\n",
      "Test Accuracy Standard Error: 0.22 percentage points\n"
     ]
    }
   ],
   "source": [
    "from evaluation import evaluate_final_test_accuracy\n",
    "evaluate_final_test_accuracy(dataset_params, baseline_params, determinism, trials=3)"
   ]
  },
  {
   "cell_type": "markdown",
   "id": "96d0c1d0-2387-4ea1-9ea6-3fe8d9ef06a6",
   "metadata": {},
   "source": [
    "### 2. Weighted cross-entropy loss\n",
    "We add weights to the cross entropy loss function to compensate. Since we reduced the number of cats to 1/5, a natural weight to try is 5."
   ]
  },
  {
   "cell_type": "code",
   "execution_count": 5,
   "id": "f654ba34-63d2-47a6-a9ab-9c54110e3c90",
   "metadata": {},
   "outputs": [
    {
     "name": "stdout",
     "output_type": "stream",
     "text": [
      "Test size: 3669\n",
      "Trying to load trainer from disk...\n",
      "Trainer not found. Retraining...\n"
     ]
    },
    {
     "data": {
      "application/vnd.jupyter.widget-view+json": {
       "model_id": "6689d03ea3d34156b76fab90769816bc",
       "version_major": 2,
       "version_minor": 0
      },
      "text/plain": [
       "Update step:   0%|          | 0/258 [00:00<?, ?it/s]"
      ]
     },
     "metadata": {},
     "output_type": "display_data"
    },
    {
     "name": "stderr",
     "output_type": "stream",
     "text": [
      "/home/jaxner/DD2424-project/venv/lib/python3.11/site-packages/torch/utils/data/dataloader.py:665: UserWarning: 'pin_memory' argument is set as true but no accelerator is found, then device pinned memory won't be used.\n",
      "  warnings.warn(warn_msg)\n"
     ]
    },
    {
     "name": "stdout",
     "output_type": "stream",
     "text": [
      "Epoch [1/3], Loss: 2.3536, Train Acc: 63.27%\n",
      "Epoch [2/3], Loss: 0.9247, Train Acc: 91.31%\n",
      "Epoch [3/3], Loss: 0.5488, Train Acc: 94.10%\n",
      "Total elapsed: 388.45s, average per update step: 1.48s\n"
     ]
    },
    {
     "data": {
      "application/vnd.jupyter.widget-view+json": {
       "model_id": "9472256c02d7477a96193d292d05d9b9",
       "version_major": 2,
       "version_minor": 0
      },
      "text/plain": [
       "Evaluating:   0%|          | 0/115 [00:00<?, ?it/s]"
      ]
     },
     "metadata": {},
     "output_type": "display_data"
    },
    {
     "name": "stdout",
     "output_type": "stream",
     "text": [
      "Test Accuracy: 85.582 %\n",
      "Trying to load trainer from disk...\n",
      "Trainer not found. Retraining...\n"
     ]
    },
    {
     "data": {
      "application/vnd.jupyter.widget-view+json": {
       "model_id": "fe706705743b408498268af28c970b5e",
       "version_major": 2,
       "version_minor": 0
      },
      "text/plain": [
       "Update step:   0%|          | 0/258 [00:00<?, ?it/s]"
      ]
     },
     "metadata": {},
     "output_type": "display_data"
    },
    {
     "name": "stdout",
     "output_type": "stream",
     "text": [
      "Epoch [1/3], Loss: 2.3485, Train Acc: 63.34%\n",
      "Epoch [2/3], Loss: 0.9287, Train Acc: 90.95%\n",
      "Epoch [3/3], Loss: 0.5429, Train Acc: 94.21%\n",
      "Total elapsed: 389.48s, average per update step: 1.50s\n"
     ]
    },
    {
     "data": {
      "application/vnd.jupyter.widget-view+json": {
       "model_id": "d31a4a0b379d4288a2146ac5e47985fb",
       "version_major": 2,
       "version_minor": 0
      },
      "text/plain": [
       "Evaluating:   0%|          | 0/115 [00:00<?, ?it/s]"
      ]
     },
     "metadata": {},
     "output_type": "display_data"
    },
    {
     "name": "stdout",
     "output_type": "stream",
     "text": [
      "Test Accuracy: 85.010 %\n",
      "Trying to load trainer from disk...\n",
      "Trainer not found. Retraining...\n"
     ]
    },
    {
     "data": {
      "application/vnd.jupyter.widget-view+json": {
       "model_id": "ef12dcb9b69e4f0cac63afbf9c17bbf7",
       "version_major": 2,
       "version_minor": 0
      },
      "text/plain": [
       "Update step:   0%|          | 0/258 [00:00<?, ?it/s]"
      ]
     },
     "metadata": {},
     "output_type": "display_data"
    },
    {
     "name": "stdout",
     "output_type": "stream",
     "text": [
      "Epoch [1/3], Loss: 2.3517, Train Acc: 63.67%\n",
      "Epoch [2/3], Loss: 0.9264, Train Acc: 91.68%\n",
      "Epoch [3/3], Loss: 0.5409, Train Acc: 93.95%\n",
      "Total elapsed: 392.06s, average per update step: 1.50s\n"
     ]
    },
    {
     "data": {
      "application/vnd.jupyter.widget-view+json": {
       "model_id": "19846496eba14928bc4bb7644a8aaf35",
       "version_major": 2,
       "version_minor": 0
      },
      "text/plain": [
       "Evaluating:   0%|          | 0/115 [00:00<?, ?it/s]"
      ]
     },
     "metadata": {},
     "output_type": "display_data"
    },
    {
     "name": "stdout",
     "output_type": "stream",
     "text": [
      "Test Accuracy: 84.737 %\n",
      "Test Accuracy Mean: 85.11 %\n",
      "Test Accuracy Standard Error: 0.25 percentage points\n"
     ]
    }
   ],
   "source": [
    "cat_vs_dog_ratio = 5\n",
    "weights = tuple(\n",
    "    cat_vs_dog_ratio if fam_idx == 0 else 1.0\n",
    "    for fam_idx in breed_family_idx\n",
    ")\n",
    "baseline_params.loss_weights = weights\n",
    "dataset_params.oversampling_weights = None\n",
    "evaluate_final_test_accuracy(dataset_params, baseline_params, determinism, trials=3)"
   ]
  },
  {
   "cell_type": "markdown",
   "id": "60fe94eb-e798-468d-ae65-bcbfa33d0daa",
   "metadata": {},
   "source": [
    "### 3. Over-sampling of minority classes\n",
    "Next we try oversampling."
   ]
  },
  {
   "cell_type": "code",
   "execution_count": 6,
   "id": "705f66c5-2bc6-4df7-9879-cb02ec132f03",
   "metadata": {},
   "outputs": [
    {
     "name": "stdout",
     "output_type": "stream",
     "text": [
      "Test size: 3669\n",
      "Trying to load trainer from disk...\n",
      "Trainer not found. Retraining...\n"
     ]
    },
    {
     "data": {
      "application/vnd.jupyter.widget-view+json": {
       "model_id": "436af00090d34cfc9ae51bb9e3f907c1",
       "version_major": 2,
       "version_minor": 0
      },
      "text/plain": [
       "Update step:   0%|          | 0/258 [00:00<?, ?it/s]"
      ]
     },
     "metadata": {},
     "output_type": "display_data"
    },
    {
     "name": "stderr",
     "output_type": "stream",
     "text": [
      "/home/jaxner/DD2424-project/venv/lib/python3.11/site-packages/torch/utils/data/dataloader.py:665: UserWarning: 'pin_memory' argument is set as true but no accelerator is found, then device pinned memory won't be used.\n",
      "  warnings.warn(warn_msg)\n"
     ]
    },
    {
     "name": "stdout",
     "output_type": "stream",
     "text": [
      "Epoch [1/3], Loss: 2.1325, Train Acc: 64.70%\n",
      "Epoch [2/3], Loss: 0.7638, Train Acc: 93.11%\n",
      "Epoch [3/3], Loss: 0.4216, Train Acc: 94.90%\n",
      "Total elapsed: 391.27s, average per update step: 1.50s\n"
     ]
    },
    {
     "data": {
      "application/vnd.jupyter.widget-view+json": {
       "model_id": "93057e5dab1e4a08b2418dd2d2d3e2ac",
       "version_major": 2,
       "version_minor": 0
      },
      "text/plain": [
       "Evaluating:   0%|          | 0/115 [00:00<?, ?it/s]"
      ]
     },
     "metadata": {},
     "output_type": "display_data"
    },
    {
     "name": "stdout",
     "output_type": "stream",
     "text": [
      "Test Accuracy: 87.108 %\n",
      "Trying to load trainer from disk...\n",
      "Trainer not found. Retraining...\n"
     ]
    },
    {
     "data": {
      "application/vnd.jupyter.widget-view+json": {
       "model_id": "a9fc2e6790224b27bcf4007e54a7c8fa",
       "version_major": 2,
       "version_minor": 0
      },
      "text/plain": [
       "Update step:   0%|          | 0/258 [00:00<?, ?it/s]"
      ]
     },
     "metadata": {},
     "output_type": "display_data"
    },
    {
     "name": "stdout",
     "output_type": "stream",
     "text": [
      "Epoch [1/3], Loss: 2.1389, Train Acc: 63.49%\n",
      "Epoch [2/3], Loss: 0.7745, Train Acc: 92.96%\n",
      "Epoch [3/3], Loss: 0.4432, Train Acc: 95.01%\n",
      "Total elapsed: 390.45s, average per update step: 1.49s\n"
     ]
    },
    {
     "data": {
      "application/vnd.jupyter.widget-view+json": {
       "model_id": "6b84c13fa3bd451da8f02e44f98d9af7",
       "version_major": 2,
       "version_minor": 0
      },
      "text/plain": [
       "Evaluating:   0%|          | 0/115 [00:00<?, ?it/s]"
      ]
     },
     "metadata": {},
     "output_type": "display_data"
    },
    {
     "name": "stdout",
     "output_type": "stream",
     "text": [
      "Test Accuracy: 87.653 %\n",
      "Trying to load trainer from disk...\n",
      "Trainer not found. Retraining...\n"
     ]
    },
    {
     "data": {
      "application/vnd.jupyter.widget-view+json": {
       "model_id": "4f060314b93e46f7bb4c198f41d6b5bc",
       "version_major": 2,
       "version_minor": 0
      },
      "text/plain": [
       "Update step:   0%|          | 0/258 [00:00<?, ?it/s]"
      ]
     },
     "metadata": {},
     "output_type": "display_data"
    },
    {
     "name": "stdout",
     "output_type": "stream",
     "text": [
      "Epoch [1/3], Loss: 2.1272, Train Acc: 66.09%\n",
      "Epoch [2/3], Loss: 0.7501, Train Acc: 94.57%\n",
      "Epoch [3/3], Loss: 0.4159, Train Acc: 95.53%\n",
      "Total elapsed: 391.36s, average per update step: 1.49s\n"
     ]
    },
    {
     "data": {
      "application/vnd.jupyter.widget-view+json": {
       "model_id": "a796cb0f639e4fdc83214d80e21354aa",
       "version_major": 2,
       "version_minor": 0
      },
      "text/plain": [
       "Evaluating:   0%|          | 0/115 [00:00<?, ?it/s]"
      ]
     },
     "metadata": {},
     "output_type": "display_data"
    },
    {
     "name": "stdout",
     "output_type": "stream",
     "text": [
      "Test Accuracy: 87.163 %\n",
      "Test Accuracy Mean: 87.31 %\n",
      "Test Accuracy Standard Error: 0.17 percentage points\n"
     ]
    }
   ],
   "source": [
    "baseline_params.loss_weights = None\n",
    "dataset_params.oversampling_weights = weights\n",
    "evaluate_final_test_accuracy(dataset_params, baseline_params, determinism, trials=3)"
   ]
  },
  {
   "cell_type": "markdown",
   "id": "937ea40e-e826-4307-95c0-457b0502b8f8",
   "metadata": {},
   "source": [
    "### 4. Both\n",
    "Finally we try both at the same time, using the same weight for both."
   ]
  },
  {
   "cell_type": "code",
   "execution_count": 7,
   "id": "345f1401-8c69-40d7-8454-90d5a1a4cee4",
   "metadata": {},
   "outputs": [
    {
     "name": "stdout",
     "output_type": "stream",
     "text": [
      "Test size: 3669\n",
      "Trying to load trainer from disk...\n",
      "Trainer not found. Retraining...\n"
     ]
    },
    {
     "data": {
      "application/vnd.jupyter.widget-view+json": {
       "model_id": "99e5ee05a0df4aa492404b29b3c5f3af",
       "version_major": 2,
       "version_minor": 0
      },
      "text/plain": [
       "Update step:   0%|          | 0/258 [00:00<?, ?it/s]"
      ]
     },
     "metadata": {},
     "output_type": "display_data"
    },
    {
     "name": "stderr",
     "output_type": "stream",
     "text": [
      "/home/jaxner/DD2424-project/venv/lib/python3.11/site-packages/torch/utils/data/dataloader.py:665: UserWarning: 'pin_memory' argument is set as true but no accelerator is found, then device pinned memory won't be used.\n",
      "  warnings.warn(warn_msg)\n"
     ]
    },
    {
     "name": "stdout",
     "output_type": "stream",
     "text": [
      "Epoch [1/3], Loss: 2.0150, Train Acc: 50.40%\n",
      "Epoch [2/3], Loss: 0.7323, Train Acc: 91.02%\n",
      "Epoch [3/3], Loss: 0.3800, Train Acc: 94.39%\n",
      "Total elapsed: 391.93s, average per update step: 1.50s\n"
     ]
    },
    {
     "data": {
      "application/vnd.jupyter.widget-view+json": {
       "model_id": "6c63f736a030431cbb3ee6dcfd0682d4",
       "version_major": 2,
       "version_minor": 0
      },
      "text/plain": [
       "Evaluating:   0%|          | 0/115 [00:00<?, ?it/s]"
      ]
     },
     "metadata": {},
     "output_type": "display_data"
    },
    {
     "name": "stdout",
     "output_type": "stream",
     "text": [
      "Test Accuracy: 87.299 %\n",
      "Trying to load trainer from disk...\n",
      "Trainer not found. Retraining...\n"
     ]
    },
    {
     "data": {
      "application/vnd.jupyter.widget-view+json": {
       "model_id": "29c9663314914908aa64944e49c07a83",
       "version_major": 2,
       "version_minor": 0
      },
      "text/plain": [
       "Update step:   0%|          | 0/258 [00:00<?, ?it/s]"
      ]
     },
     "metadata": {},
     "output_type": "display_data"
    },
    {
     "name": "stdout",
     "output_type": "stream",
     "text": [
      "Epoch [1/3], Loss: 2.0266, Train Acc: 50.00%\n",
      "Epoch [2/3], Loss: 0.7332, Train Acc: 91.09%\n",
      "Epoch [3/3], Loss: 0.3969, Train Acc: 94.28%\n",
      "Total elapsed: 390.64s, average per update step: 1.50s\n"
     ]
    },
    {
     "data": {
      "application/vnd.jupyter.widget-view+json": {
       "model_id": "a5f12be9752c4499b3705d481734318d",
       "version_major": 2,
       "version_minor": 0
      },
      "text/plain": [
       "Evaluating:   0%|          | 0/115 [00:00<?, ?it/s]"
      ]
     },
     "metadata": {},
     "output_type": "display_data"
    },
    {
     "name": "stdout",
     "output_type": "stream",
     "text": [
      "Test Accuracy: 87.953 %\n",
      "Trying to load trainer from disk...\n",
      "Trainer not found. Retraining...\n"
     ]
    },
    {
     "data": {
      "application/vnd.jupyter.widget-view+json": {
       "model_id": "6219fdedcd914e259813cc2bffa6fcba",
       "version_major": 2,
       "version_minor": 0
      },
      "text/plain": [
       "Update step:   0%|          | 0/258 [00:00<?, ?it/s]"
      ]
     },
     "metadata": {},
     "output_type": "display_data"
    },
    {
     "name": "stdout",
     "output_type": "stream",
     "text": [
      "Epoch [1/3], Loss: 2.0277, Train Acc: 51.43%\n",
      "Epoch [2/3], Loss: 0.7260, Train Acc: 92.56%\n",
      "Epoch [3/3], Loss: 0.3820, Train Acc: 94.57%\n",
      "Total elapsed: 391.94s, average per update step: 1.50s\n"
     ]
    },
    {
     "data": {
      "application/vnd.jupyter.widget-view+json": {
       "model_id": "82fe4ecd0b9f4f3b98f0cff8b9a09fab",
       "version_major": 2,
       "version_minor": 0
      },
      "text/plain": [
       "Evaluating:   0%|          | 0/115 [00:00<?, ?it/s]"
      ]
     },
     "metadata": {},
     "output_type": "display_data"
    },
    {
     "name": "stdout",
     "output_type": "stream",
     "text": [
      "Test Accuracy: 87.463 %\n",
      "Test Accuracy Mean: 87.57 %\n",
      "Test Accuracy Standard Error: 0.20 percentage points\n"
     ]
    }
   ],
   "source": [
    "baseline_params.loss_weights = weights\n",
    "dataset_params.oversampling_weights = weights\n",
    "evaluate_final_test_accuracy(dataset_params, baseline_params, determinism, trials=3)"
   ]
  },
  {
   "cell_type": "markdown",
   "id": "fadfc39d-f7af-425b-b105-9027c9c08d6e",
   "metadata": {},
   "source": [
    "## Time elapsed"
   ]
  },
  {
   "cell_type": "code",
   "execution_count": 8,
   "id": "8f311880-4398-4d22-8e8d-3f136a77ea73",
   "metadata": {},
   "outputs": [
    {
     "name": "stdout",
     "output_type": "stream",
     "text": [
      "Total elapsed time: 6863.60 seconds\n"
     ]
    }
   ],
   "source": [
    "elapsed = time.time() - start_time\n",
    "print(f\"Total elapsed time: {elapsed:.2f} seconds\")"
   ]
  }
 ],
 "metadata": {
  "kernelspec": {
   "display_name": "Python 3 (ipykernel)",
   "language": "python",
   "name": "python3"
  },
  "language_info": {
   "codemirror_mode": {
    "name": "ipython",
    "version": 3
   },
   "file_extension": ".py",
   "mimetype": "text/x-python",
   "name": "python",
   "nbconvert_exporter": "python",
   "pygments_lexer": "ipython3",
   "version": "3.11.2"
  }
 },
 "nbformat": 4,
 "nbformat_minor": 5
}
