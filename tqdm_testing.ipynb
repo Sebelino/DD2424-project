{
  "cells": [
    {
      "cell_type": "code",
      "id": "initial_id",
      "metadata": {
        "collapsed": true,
        "ExecuteTime": {
          "end_time": "2025-05-03T06:39:57.715820Z",
          "start_time": "2025-05-03T06:39:56.861988Z"
        }
      },
      "source": [
        "import time\n",
        "\n",
        "from tqdm.auto import tqdm\n",
        "\n",
        "train_loader = range(3)\n",
        "pb_outer = tqdm(range(2), position=0, desc=\"Epoch\", leave=True)\n",
        "pb_inner = tqdm(train_loader, position=1, desc=\"Batch\", leave=True)\n",
        "for epoch in pb_outer:\n",
        "    time.sleep(0.1)\n",
        "    for inputs in train_loader:\n",
        "        time.sleep(0.1)\n",
        "        pb_inner.update()\n",
        "    pb_inner.refresh()\n",
        "    is_final_iteration = 1\n",
        "    if not is_final_iteration:\n",
        "        pb_inner.reset(total=len(train_loader))\n",
        "pb_inner.close()\n",
        "\n",
        "tqdm.write(f\"Elapsed for all epochs: {pb_outer.format_dict['elapsed']:.2f}s, average per epoch: {1/pb_outer.format_dict['rate']:.2f}s, average per batch: {1/pb_inner.format_dict['rate']:.2f}s\")\n"
      ],
      "outputs": [
        {
          "data": {
            "text/plain": [
              "Epoch:   0%|          | 0/2 [00:00<?, ?it/s]"
            ],
            "application/vnd.jupyter.widget-view+json": {
              "version_major": 2,
              "version_minor": 0,
              "model_id": "c65f5a284703435292284bc0bc5259a0"
            }
          },
          "metadata": {},
          "output_type": "display_data"
        },
        {
          "data": {
            "text/plain": [
              "Batch:   0%|          | 0/3 [00:00<?, ?it/s]"
            ],
            "application/vnd.jupyter.widget-view+json": {
              "version_major": 2,
              "version_minor": 0,
              "model_id": "098ea0c176394c22b8c75b51876b49e9"
            }
          },
          "metadata": {},
          "output_type": "display_data"
        },
        {
          "name": "stdout",
          "output_type": "stream",
          "text": [
            "Elapsed for all epochs: 0.84s, average per epoch: 0.42s, average per batch: 0.12s\n"
          ]
        }
      ],
      "execution_count": 47
    }
  ],
  "metadata": {
    "kernelspec": {
      "display_name": "Python 3",
      "language": "python",
      "name": "python3"
    },
    "language_info": {
      "codemirror_mode": {
        "name": "ipython",
        "version": 2
      },
      "file_extension": ".py",
      "mimetype": "text/x-python",
      "name": "python",
      "nbconvert_exporter": "python",
      "pygments_lexer": "ipython2",
      "version": "2.7.6"
    },
    "widgets": {
      "application/vnd.jupyter.widget-state+json": {
        "state": {}
      }
    }
  },
  "nbformat": 4,
  "nbformat_minor": 5
}
