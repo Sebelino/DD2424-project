{
  "cells": [
    {
      "cell_type": "code",
      "id": "initial_id",
      "metadata": {
        "collapsed": true,
        "ExecuteTime": {
          "end_time": "2025-05-03T05:45:58.208645Z",
          "start_time": "2025-05-03T05:45:57.574941Z"
        }
      },
      "source": [
        "\n",
        "\n",
        "import time\n",
        "\n",
        "from tqdm import tqdm\n",
        "\n",
        "train_loader = range(3)\n",
        "outer = tqdm(range(2), position=0, desc=\"Epoch\",ncols=80, leave=False)\n",
        "for epoch in outer:\n",
        "    inner = tqdm(train_loader, position=1, desc=\"Batch\",ncols=80, leave=False)\n",
        "    for inputs in inner:\n",
        "        time.sleep(0.1)\n"
      ],
      "outputs": [
        {
          "name": "stderr",
          "output_type": "stream",
          "text": [
            "Epoch:   0%|                                              | 0/2 [00:00<?, ?it/s]\n",
            "Batch:   0%|                                              | 0/3 [00:00<?, ?it/s]\u001b[A\n",
            "Batch:  33%|████████████▋                         | 1/3 [00:00<00:00,  9.98it/s]\u001b[A\n",
            "Batch:  67%|█████████████████████████▎            | 2/3 [00:00<00:00,  9.87it/s]\u001b[A\n",
            "Batch: 100%|██████████████████████████████████████| 3/3 [00:00<00:00,  9.85it/s]\u001b[A\n",
            "Epoch:  50%|███████████████████                   | 1/2 [00:00<00:00,  3.21it/s]\u001b[A\n",
            "Batch:   0%|                                              | 0/3 [00:00<?, ?it/s]\u001b[A\n",
            "Batch:  33%|████████████▋                         | 1/3 [00:00<00:00,  9.98it/s]\u001b[A\n",
            "Batch:  67%|█████████████████████████▎            | 2/3 [00:00<00:00,  9.87it/s]\u001b[A\n",
            "Batch: 100%|██████████████████████████████████████| 3/3 [00:00<00:00,  9.82it/s]\u001b[A\n",
            "                                                                                \u001b[A\r"
          ]
        }
      ],
      "execution_count": 4
    }
  ],
  "metadata": {
    "kernelspec": {
      "display_name": "Python 3",
      "language": "python",
      "name": "python3"
    },
    "language_info": {
      "codemirror_mode": {
        "name": "ipython",
        "version": 2
      },
      "file_extension": ".py",
      "mimetype": "text/x-python",
      "name": "python",
      "nbconvert_exporter": "python",
      "pygments_lexer": "ipython2",
      "version": "2.7.6"
    },
    "widgets": {
      "application/vnd.jupyter.widget-state+json": {
        "state": {}
      }
    }
  },
  "nbformat": 4,
  "nbformat_minor": 5
}
