{
  "cells": [
    {
      "cell_type": "code",
      "id": "initial_id",
      "metadata": {
        "collapsed": true,
        "ExecuteTime": {
          "end_time": "2025-05-03T05:50:53.937599Z",
          "start_time": "2025-05-03T05:50:53.106692Z"
        }
      },
      "source": [
        "\n",
        "\n",
        "import time\n",
        "\n",
        "from tqdm.notebook import tqdm\n",
        "\n",
        "train_loader = range(3)\n",
        "outer = tqdm(range(2), position=0, desc=\"Epoch\", leave=True)\n",
        "inner = tqdm(train_loader, position=1, desc=\"Batch\", leave=False)\n",
        "for epoch in outer:\n",
        "    time.sleep(0.1)\n",
        "    for inputs in train_loader:\n",
        "        time.sleep(0.1)\n",
        "        inner.update()\n",
        "    inner.refresh()\n",
        "inner.close()\n"
      ],
      "outputs": [
        {
          "data": {
            "text/plain": [
              "Epoch:   0%|          | 0/2 [00:00<?, ?it/s]"
            ],
            "application/vnd.jupyter.widget-view+json": {
              "version_major": 2,
              "version_minor": 0,
              "model_id": "f3eccbe1c04b49c9a41b7a3da20c3066"
            }
          },
          "metadata": {},
          "output_type": "display_data"
        },
        {
          "data": {
            "text/plain": [
              "Batch:   0%|          | 0/3 [00:00<?, ?it/s]"
            ],
            "application/vnd.jupyter.widget-view+json": {
              "version_major": 2,
              "version_minor": 0,
              "model_id": "d0334101268f48519b29c59afb37c330"
            }
          },
          "metadata": {},
          "output_type": "display_data"
        }
      ],
      "execution_count": 11
    }
  ],
  "metadata": {
    "kernelspec": {
      "display_name": "Python 3",
      "language": "python",
      "name": "python3"
    },
    "language_info": {
      "codemirror_mode": {
        "name": "ipython",
        "version": 2
      },
      "file_extension": ".py",
      "mimetype": "text/x-python",
      "name": "python",
      "nbconvert_exporter": "python",
      "pygments_lexer": "ipython2",
      "version": "2.7.6"
    },
    "widgets": {
      "application/vnd.jupyter.widget-state+json": {
        "state": {}
      }
    }
  },
  "nbformat": 4,
  "nbformat_minor": 5
}
