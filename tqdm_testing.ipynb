{
  "cells": [
    {
      "metadata": {
        "collapsed": true,
        "ExecuteTime": {
          "end_time": "2025-05-03T08:43:04.814891Z",
          "start_time": "2025-05-03T08:42:47.829199Z"
        }
      },
      "cell_type": "code",
      "source": [
        "import time\n",
        "\n",
        "from tqdm.auto import tqdm\n",
        "\n",
        "\n",
        "def progressbars():\n",
        "    n_epochs = 2\n",
        "\n",
        "    epochs = range(1, n_epochs + 1)\n",
        "    train_loader = range(1, 3 + 1)\n",
        "    val_loader = range(1, 4 + 1)\n",
        "    pb_outer = tqdm(epochs, position=0, desc=\"Epoch\", leave=True)\n",
        "    pb_inner = tqdm(train_loader, position=1, desc=\"Train Batch\", leave=True)\n",
        "    pb_inner2 = tqdm(val_loader, position=2, desc=\"Val Batch\", leave=True)\n",
        "    for epoch in pb_outer:\n",
        "        for _ in train_loader:\n",
        "            time.sleep(1)\n",
        "            pb_inner.update()\n",
        "        pb_inner.refresh()\n",
        "        is_final_iteration = epoch == len(epochs)\n",
        "\n",
        "        for _ in val_loader:\n",
        "            time.sleep(0.3)\n",
        "            pb_inner2.update()\n",
        "        pb_inner2.refresh()\n",
        "\n",
        "        if not is_final_iteration:\n",
        "            pb_inner.reset(total=len(train_loader))\n",
        "        if not is_final_iteration:\n",
        "            pb_inner2.reset(total=len(val_loader))\n",
        "    pb_inner.close()\n",
        "    pb_inner2.close()\n",
        "    tqdm.write(\n",
        "        f\"Elapsed for all epochs: {pb_outer.format_dict['elapsed']:.2f}s, average per epoch: {1 / pb_outer.format_dict['rate']:.2f}s, average per batch: {1 / pb_inner.format_dict['rate']:.2f}s\")\n",
        "\n",
        "progressbars()\n",
        "progressbars()\n"
      ],
      "id": "initial_id",
      "outputs": [
        {
          "data": {
            "text/plain": [
              "Epoch:   0%|          | 0/2 [00:00<?, ?it/s]"
            ],
            "application/vnd.jupyter.widget-view+json": {
              "version_major": 2,
              "version_minor": 0,
              "model_id": "07b7697414e34e22adfb40457bd62fef"
            }
          },
          "metadata": {},
          "output_type": "display_data"
        },
        {
          "data": {
            "text/plain": [
              "Train Batch:   0%|          | 0/3 [00:00<?, ?it/s]"
            ],
            "application/vnd.jupyter.widget-view+json": {
              "version_major": 2,
              "version_minor": 0,
              "model_id": "f6fbd377b2c64612bccd975c2414925d"
            }
          },
          "metadata": {},
          "output_type": "display_data"
        },
        {
          "data": {
            "text/plain": [
              "Val Batch:   0%|          | 0/4 [00:00<?, ?it/s]"
            ],
            "application/vnd.jupyter.widget-view+json": {
              "version_major": 2,
              "version_minor": 0,
              "model_id": "4298327f75c24cbda44aaaedaef527d5"
            }
          },
          "metadata": {},
          "output_type": "display_data"
        },
        {
          "name": "stdout",
          "output_type": "stream",
          "text": [
            "Elapsed for all epochs: 8.49s, average per epoch: 4.24s, average per batch: 1.00s\n"
          ]
        },
        {
          "data": {
            "text/plain": [
              "Epoch:   0%|          | 0/2 [00:00<?, ?it/s]"
            ],
            "application/vnd.jupyter.widget-view+json": {
              "version_major": 2,
              "version_minor": 0,
              "model_id": "5524c2c271c44e3494efc8c0c7f3d3cb"
            }
          },
          "metadata": {},
          "output_type": "display_data"
        },
        {
          "data": {
            "text/plain": [
              "Train Batch:   0%|          | 0/3 [00:00<?, ?it/s]"
            ],
            "application/vnd.jupyter.widget-view+json": {
              "version_major": 2,
              "version_minor": 0,
              "model_id": "7f5bb80832734c8390539eeb88650edd"
            }
          },
          "metadata": {},
          "output_type": "display_data"
        },
        {
          "data": {
            "text/plain": [
              "Val Batch:   0%|          | 0/4 [00:00<?, ?it/s]"
            ],
            "application/vnd.jupyter.widget-view+json": {
              "version_major": 2,
              "version_minor": 0,
              "model_id": "b417b5a52af44d9fbf485f577e52db50"
            }
          },
          "metadata": {},
          "output_type": "display_data"
        },
        {
          "name": "stdout",
          "output_type": "stream",
          "text": [
            "Elapsed for all epochs: 8.48s, average per epoch: 4.23s, average per batch: 1.00s\n"
          ]
        }
      ],
      "execution_count": 95
    }
  ],
  "metadata": {
    "kernelspec": {
      "display_name": "Python 3",
      "language": "python",
      "name": "python3"
    },
    "language_info": {
      "codemirror_mode": {
        "name": "ipython",
        "version": 2
      },
      "file_extension": ".py",
      "mimetype": "text/x-python",
      "name": "python",
      "nbconvert_exporter": "python",
      "pygments_lexer": "ipython2",
      "version": "2.7.6"
    },
    "widgets": {
      "application/vnd.jupyter.widget-state+json": {
        "state": {}
      }
    }
  },
  "nbformat": 4,
  "nbformat_minor": 5
}
