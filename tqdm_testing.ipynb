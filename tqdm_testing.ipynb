{
  "cells": [
    {
      "cell_type": "code",
      "id": "initial_id",
      "metadata": {
        "collapsed": true,
        "ExecuteTime": {
          "end_time": "2025-05-03T05:08:26.079035Z",
          "start_time": "2025-05-03T05:08:23.617157Z"
        }
      },
      "source": [
        "\n",
        "\n",
        "from tqdm.notebook import tqdm\n",
        "import time\n",
        "progress_bar = tqdm(range(3), desc=\"Epoch\", leave=False)\n",
        "for epoch in progress_bar:\n",
        "    train_loader = range(8)\n",
        "    for inputs in tqdm(train_loader, desc=\"Batch\", leave=False):\n",
        "        time.sleep(0.1)\n"
      ],
      "outputs": [
        {
          "data": {
            "text/plain": [
              "Epoch:   0%|          | 0/3 [00:00<?, ?it/s]"
            ],
            "application/vnd.jupyter.widget-view+json": {
              "version_major": 2,
              "version_minor": 0,
              "model_id": "fbd70a83ff3f4de7acd0ec890dba4638"
            }
          },
          "metadata": {},
          "output_type": "display_data"
        },
        {
          "data": {
            "text/plain": [
              "Batch:   0%|          | 0/8 [00:00<?, ?it/s]"
            ],
            "application/vnd.jupyter.widget-view+json": {
              "version_major": 2,
              "version_minor": 0,
              "model_id": "7eeb7524ae994c619b510697a0e23c33"
            }
          },
          "metadata": {},
          "output_type": "display_data"
        },
        {
          "data": {
            "text/plain": [
              "Batch:   0%|          | 0/8 [00:00<?, ?it/s]"
            ],
            "application/vnd.jupyter.widget-view+json": {
              "version_major": 2,
              "version_minor": 0,
              "model_id": "a0d8b1d268f34271ae988d89902f5fcc"
            }
          },
          "metadata": {},
          "output_type": "display_data"
        },
        {
          "data": {
            "text/plain": [
              "Batch:   0%|          | 0/8 [00:00<?, ?it/s]"
            ],
            "application/vnd.jupyter.widget-view+json": {
              "version_major": 2,
              "version_minor": 0,
              "model_id": "d41f0af5158e4cc6a27fee9e3b85e0eb"
            }
          },
          "metadata": {},
          "output_type": "display_data"
        }
      ],
      "execution_count": 6
    }
  ],
  "metadata": {
    "kernelspec": {
      "display_name": "Python 3",
      "language": "python",
      "name": "python3"
    },
    "language_info": {
      "codemirror_mode": {
        "name": "ipython",
        "version": 2
      },
      "file_extension": ".py",
      "mimetype": "text/x-python",
      "name": "python",
      "nbconvert_exporter": "python",
      "pygments_lexer": "ipython2",
      "version": "2.7.6"
    },
    "widgets": {
      "application/vnd.jupyter.widget-state+json": {
        "state": {}
      }
    }
  },
  "nbformat": 4,
  "nbformat_minor": 5
}
