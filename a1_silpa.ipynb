{
 "cells": [
  {
   "cell_type": "markdown",
   "id": "mqchQCCBzNy1",
   "metadata": {
    "id": "mqchQCCBzNy1"
   },
   "source": [
    "<a target=\"_blank\" href=\"https://colab.research.google.com/github/Sebelino/DD2424-project/blob/main/e1_sebastian.ipynb\">\n",
    "  <img src=\"https://colab.research.google.com/assets/colab-badge.svg\" alt=\"Open In Colab\"/>\n",
    "</a>"
   ]
  },
  {
   "cell_type": "code",
   "execution_count": 1,
   "id": "c3344af1bc2b0abd",
   "metadata": {
    "ExecuteTime": {
     "end_time": "2025-05-01T12:48:57.134565Z",
     "start_time": "2025-05-01T12:48:57.107104Z"
    },
    "colab": {
     "base_uri": "https://localhost:8080/"
    },
    "id": "c3344af1bc2b0abd",
    "outputId": "e1ee5686-190b-42d6-bc2d-a354e78be8b0"
   },
   "outputs": [
    {
     "name": "stdout",
     "output_type": "stream",
     "text": [
      "Host: deeplearning-vm\n",
      "You are here: /home/silpasoninallacheruvu/DD2424-project\n",
      "download_dataset.py is in your current directory. Assuming you are in the root of the repository.\n"
     ]
    }
   ],
   "source": [
    "%load_ext autoreload\n",
    "%autoreload 2\n",
    "\n",
    "import os\n",
    "import socket\n",
    "\n",
    "repo_name = \"DD2424-project\"\n",
    "dep_filename = \"download_dataset.py\"\n",
    "cwd = os.getcwd()\n",
    "hostname = socket.gethostname()\n",
    "\n",
    "print(f\"Host: {hostname}\")\n",
    "print(f\"You are here: {cwd}\")\n",
    "\n",
    "if os.path.exists(dep_filename):\n",
    "    print(f\"{dep_filename} is in your current directory. Assuming you are in the root of the repository.\")\n",
    "elif not os.path.exists(repo_name):\n",
    "    print(f\"Cloning repo and fetching {dep_filename}...\")\n",
    "    !git clone https://github.com/Sebelino/DD2424-project\n",
    "    !cp DD2424-project/download_dataset.py .\n",
    "else:\n",
    "    !git -C DD2424-project pull --rebase\n",
    "    !cp DD2424-project/download_dataset.py ."
   ]
  },
  {
   "cell_type": "code",
   "execution_count": 5,
   "id": "5486e14c-9d75-47e7-9c2c-833305844418",
   "metadata": {},
   "outputs": [],
   "source": [
    "import torch\n",
    "torch.set_float32_matmul_precision('high')"
   ]
  },
  {
   "cell_type": "markdown",
   "id": "BvDz8yGrm2SU",
   "metadata": {
    "id": "BvDz8yGrm2SU",
    "jp-MarkdownHeadingCollapsed": true
   },
   "source": [
    "# Train model"
   ]
  },
  {
   "cell_type": "code",
   "execution_count": null,
   "id": "4a282f58506dc0d2",
   "metadata": {
    "ExecuteTime": {
     "end_time": "2025-05-01T13:36:36.200136Z",
     "start_time": "2025-05-01T13:36:34.825123Z"
    },
    "colab": {
     "base_uri": "https://localhost:8080/",
     "height": 301,
     "referenced_widgets": [
      "1e6378c767af4aec9fb7c9c8f7835b98",
      "10fc2b1849af4509a66677a5372c39ed",
      "9e13a75035764c74a19290dd5c1baaf6",
      "a9b6b6f50f294db1a0843081f6efc782",
      "dccc605f54a04c11ad9b021deed63c5c",
      "ab199c14846a47acbe0d5cb36c28883d",
      "0f9f82479ebf4e7a809eb6ca3f5fae94",
      "95248791546d40b3a002fd8de0957ed3",
      "d67f999dcbc9422f9b816e39d69eef82",
      "f473ac2788e34220835d3c5369f8aa19",
      "a9ac0b92b1194292a07a60634f2ef8c5",
      "43a87df7a3bf44feaee97947f491eaa1",
      "9812861344ef48839879bc9865f490e0",
      "b3ee448e65cb474eb089b002f4e3da63",
      "f3b9f1cc8c914216b103fc83ba9f81e2",
      "fae8e7661ad34b6ebac03aa834d70c4b",
      "4ad2207333424851b7134baae93eee52",
      "0efb70bca74e4b7883a963e02e7935d6",
      "a8cdee5e97f34ddb9ab6ef3d4950e994",
      "86757b74738a4d77ab4346e6ee1c11bc",
      "ef8c8db636924605861a7cfb1b1d5c5e",
      "028b8d3c666e43bb95042495d535a882",
      "dc618f4a4b254822a3324111eb5494a6",
      "e64bdf9ef15f4444bb6c9f9598f9ecf7",
      "52b475ad00054608a706096868e04467",
      "1ec2f31dc66543eb9ce4c560a380eafb",
      "87ddefba98c44513b33d69fb627bc200",
      "32fe4352072941d1b4ffd0bad43d2085",
      "70379b23712a4cfe93ab50a910177723",
      "7065e0741c1a410891268ea08b091a6e",
      "d87cdab67926479a8730ce56954dc930",
      "b62f907c98e14d03bc4ddb48a103c1ab",
      "f8316b6c223e4b5f8654b38261e2a2ca",
      "cbcdbf47f9ce4b828176f627e5e82665",
      "dfb2cf30d2144ea39f93df32cf267777",
      "99006b2bd48c492fb55bd35bf9d0283e",
      "b0d481cec0aa4ea89e20885e070ed636",
      "b7e5db78d74149ca8dc8ae001a92996a",
      "06bc8512f4aa423da30c967f96965530",
      "16addd9a61694bd4b1beb75251aa99cf",
      "9b71539be91c488cb12a9c2fafbce99a",
      "4aecb1bef78e463fb5821cc20a0d87bc",
      "d7280b8bc50b49c8b6b37b1ea8a16ad0",
      "21de943d91ba4767be8aaf394d13cc21",
      "c617b069231f48329ec952664290c96f",
      "aa401b6ccd5748d8b99ffddc51078ffb",
      "c2e15b316e1d40c0871bb747416ece13",
      "62e1486081874fddb50a384d2a2578d3",
      "e2c9fd358e2549f3b4b6314c14b34f0f",
      "65cdf5ba7b904f1c92c8c3984a3df32b",
      "57ffadfcaba743f691c07b32226c9cab",
      "a68600c7a0824cc9a6892ed077802f0e",
      "8492c217f3e84d9da921a92446485b3a",
      "8b421aef426849679e0b9fd0e146a29d",
      "cad81f9ce3ac4fd1ab1ea83f85687b3d",
      "a4eebce3fbcd42ca9e57680e1d30bd64",
      "3150145a682347dda799c7431951a88b",
      "dc2a66b7a7d84e529069e2e8e6866cbe",
      "2444080b2c584b25a2e51ce9cda78390",
      "55ca049e524f4ba389d957f15776f110",
      "cb09a9412f624541b9dee06d7292c028",
      "ff5ce6e4163045df97c036ddec745796",
      "9e7865af011e4ab98dffb7812228ba77",
      "4de20954051443cea28874ddc9bca757",
      "9ca3787ef919446ba1422f1ddf215e06",
      "4eb18cbd99574914b0408cced942a2dd",
      "822d8a52588c41f994d9164e6bf2fb1a",
      "4a6716eb785e4f91811c9dda2cddcf2a",
      "cc8c61c505a245b189067f35a9bfca76",
      "c51f666c1abf4a44839acc28ab725b3a",
      "b1343f42a6da4510be85d75fed01b14e",
      "95e0eacfa14b4334b564055713499ae8",
      "cc35bcc5b2f349ef9afd7e4db7c7e852",
      "70d18ee9e17547959b96a2d79a7a8ae2",
      "4459809e49924d829567dc7faf049d59",
      "a87527d7282f409ba04c3b74bc9e7f4a",
      "fd968167a64e4f6ab5b1ae081766b918",
      "c71cdadc627d47ec943800c4e62d83e3",
      "28b712ae20e24d31a0404a2daf03f735",
      "d702600f388441429a34df4416325acd",
      "53595a15f3f148008378e40d6e5fe873",
      "a800e7ba084a4467b726a7237735be35",
      "f2eed63e81494873b46ba509ba3b95c9",
      "7c2ccadb1928435299b7e8c79052585e",
      "51c7cd51a9164c51960324be3b1697ed",
      "fff2e5609a274719b75cc2d6d4e0d565",
      "6846d33cca2841009d28563294ed8f3c",
      "ea11bd69cd3e45229f4fb5f7d1e7e506",
      "821bb81b7ed344adb6faabe6520549d4",
      "110a4c3944c8432ca7ec9e434f53b27d",
      "367a0c8f87954fd59dcd4b7c2bf6b355",
      "3053a9be5c1c4baa83993c9ba5e5622c",
      "dfb3ce6f99214b50b493d3cd8911fbc5",
      "1a1d653918174a489a8a2e5201b9a8e7",
      "bcd0aae37ce34a2c83cf7afd95465584",
      "49fd12c1d00346f6994e8f369076983f",
      "f1e89413bcd54101b9ac4f69b053c5c0",
      "e78aa32aa54847b2a8a497cc94532ed8",
      "1a31c27858894f09b6d1e1a8f1b51f86",
      "0a775b6f283f47f2999e4924f4037fae",
      "0a90f50ca6f24d65a63f593fc7477033",
      "802215186b1a49bd872bfc7a04927c58",
      "d05ffac886a14e8eb9ec963d889952c9",
      "10597c196aea46a0a151a1440edbf492",
      "b9b701cc8bdd484f97391a6bf4911bc1",
      "d1f9c872f9274c778a6550e1e065f406",
      "4c043430abf14c0e880e3ea6b104be6d",
      "7aab4724b29545d2bd7f5ecc0a03d24a",
      "3f34d383d6654eff9821e04f516530ff",
      "7a6f0b22521546b0a120bc8716c0e4e3",
      "785827bdf2b647dd8ad4f087647af888",
      "af26d4222c51495086edcb2b51246437",
      "99dedb24596d48f49e7ce3eccb4cf470",
      "8b115783453146959a1eeb955fc9b488",
      "b0638d496d3847569253ca45e3d58b8b",
      "a4a7e63b4989428a83c816dbbc22c566",
      "cd6bbb8cdc6c4142821bef9d2f790fab",
      "a8fccdd922154eb69204bc68ca6763fd",
      "7e3f9d83a5e84033b87caaf5a80f7d41",
      "fb88284817e649ec86c45b75c6c64349",
      "ac55eb3f6abd4116a3745334334a138c"
     ]
    },
    "id": "4a282f58506dc0d2",
    "outputId": "a1280bf6-0c93-46a7-e88a-d715ab705fcb"
   },
   "outputs": [],
   "source": [
    "# from dataclasses import asdict\n",
    "# from util import json_dumps\n",
    "# from evaluation import evaluate_test_accuracy_and_misclassified, \\\n",
    "#     evaluate_with_train_val_plot, run_with_different_seeds, run_comparison\n",
    "# from run import run\n",
    "# %reload_ext autoreload\n",
    "# %autoreload 2\n",
    "\n",
    "# from determinism import Determinism\n",
    "\n",
    "# determinism = Determinism(seed=42).sow()  # Keep this before any torch import\n",
    "\n",
    "# from training import TrainParams, NagParams, AdamParams\n",
    "\n",
    "# baseline_params = TrainParams(\n",
    "#     seed=determinism.seed,\n",
    "#     batch_size=32,\n",
    "#     architecture=\"resnet50\",\n",
    "#     n_epochs=10,\n",
    "#     optimizer=NagParams(\n",
    "#         learning_rate=0.01,\n",
    "#         weight_decay=1e-4,\n",
    "#         momentum=0.9,\n",
    "#     ),\n",
    "#     freeze_layers=True,\n",
    "#     unfreezing_epochs=None,\n",
    "#     validation_freq=1,\n",
    "#     unfreeze_last_l_blocks = 1,\n",
    "#     time_limit_seconds=None,\n",
    "#     val_acc_target=None,\n",
    "# )\n",
    "\n",
    "# invalidate_cache_entry = True\n",
    "# if invalidate_cache_entry:\n",
    "#     run.call_and_shelve(baseline_params).clear()\n",
    "\n",
    "# # First plot: Training and validation accuracy\n",
    "# for l in range(1,6):\n",
    "#     baseline_params.unfreeze_last_l_blocks = l\n",
    "#     print(\"Training with params:\")\n",
    "#     print(baseline_params.pprint())\n",
    "#     result = run(baseline_params)\n",
    "\n",
    "#     print(\"Training result:\")\n",
    "#     print(result.pprint())\n",
    "#     evaluate_with_train_val_plot(result)\n",
    "\n",
    "#     # Second plot: Rerun training multiple times with different seed\n",
    "#     run_with_different_seeds(baseline_params, trials=3)\n",
    "\n",
    "#     # Third plot: Compare NAG with Adam\n",
    "#     experimental_params = baseline_params.copy()\n",
    "#     experimental_params.optimizer = AdamParams(learning_rate=0.001)\n",
    "    \n",
    "#     param_sets = {\n",
    "#         \"Baseline (NAG)\": baseline_params,\n",
    "#         \"Experiment (Adam)\": experimental_params,\n",
    "#     }\n",
    "    \n",
    "#     run_comparison(param_sets, trials=3)\n"
   ]
  },
  {
   "cell_type": "markdown",
   "id": "babde0b3-c22b-4401-9c6e-0f9b443c74c6",
   "metadata": {
    "id": "BvDz8yGrm2SU"
   },
   "source": [
    "# Train semi-supervised model"
   ]
  },
  {
   "cell_type": "code",
   "execution_count": null,
   "id": "c29b5e9c-cae7-43ac-b788-b164f3d6c856",
   "metadata": {},
   "outputs": [],
   "source": [
    "%reload_ext autoreload\n",
    "%autoreload 2\n",
    "\n",
    "from training import TrainParams, NagParams\n",
    "from evaluation import evaluate_test_accuracy_and_misclassified, \\\n",
    "    evaluate_with_train_val_plot, run_with_different_seeds, run_comparison\n",
    "from run import run\n",
    "from caching import invalidate_cache_entry\n",
    "from datasets import DatasetParams\n",
    "from augmentation import AugmentationParams\n",
    "\n",
    "from determinism import Determinism\n",
    "\n",
    "determinism = Determinism(seed=42).sow()  # Keep this before any torch import\n",
    "   \n",
    "dataset_params = DatasetParams(\n",
    "    splitting_seed=determinism.seed,\n",
    "    shuffler_seed=determinism.seed,\n",
    "    batch_size=32,\n",
    "    #trainval_size=None,  # Load all training data\n",
    "    class_fractions=(1.0,) * 37,\n",
    "    #trainval_size=400,  # Load a subset\n",
    "    validation_set_fraction=0.2,  # 20 % of trainval set\n",
    "    labelled_data_fraction=0.5, # full labelled data first\n",
    ")\n",
    "\n",
    "baseline_params = TrainParams(\n",
    "    seed=determinism.seed,\n",
    "    architecture=\"resnet50\",\n",
    "    n_epochs=5,\n",
    "    optimizer=NagParams(\n",
    "        learning_rate=0.004713842776302303,\n",
    "        weight_decay=4.287389519996026e-06,\n",
    "        momentum=0.7222321829989696,\n",
    "    ),\n",
    "    freeze_layers=True,\n",
    "    unfreezing_epochs=(2, 4),\n",
    "    validation_freq=1,\n",
    "    time_limit_seconds=None,\n",
    "    val_acc_target=None,\n",
    "    unfreeze_last_l_blocks = 2,\n",
    "    pseudo_threshold = 0.95,\n",
    "    unsup_weight = 1,\n",
    "    augmentation = AugmentationParams(\n",
    "        enabled=False,\n",
    "        transform=None\n",
    "    ),\n",
    "    fixmatch=True,\n",
    "    use_scheduler=True,\n",
    "    scheduler_type=\"plateau\"\n",
    ")\n",
    "\n",
    "run_args = (dataset_params, baseline_params)\n",
    "\n",
    "# Set invalidate=True to invalidate a single cache entry\n",
    "invalidate_cache_entry(run, run_args, invalidate=False)\n",
    "\n",
    "# First plot: Training and validation accuracy\n",
    "print(\"Training with params:\")\n",
    "print(baseline_params.pprint())\n",
    "result = run(*run_args)\n",
    "\n",
    "print(\"Training result:\")\n",
    "print(result.pprint())\n",
    "evaluate_with_train_val_plot(result)"
   ]
  },
  {
   "cell_type": "code",
   "execution_count": null,
   "id": "c02e6f7e-2058-4403-ab90-5ef30ec3bb3d",
   "metadata": {},
   "outputs": [],
   "source": [
    "from evaluation import run_dataset_comparison\n",
    "\n",
    "def tweak(params: DatasetParams, labelled_data_fraction):\n",
    "    params = params.copy()\n",
    "    params.labelled_data_fraction = labelled_data_fraction\n",
    "    return params\n",
    " \n",
    "#plot: Compare unsupervised learning for different fractions of unlabelled data\n",
    "labelled_data_fractions = [ 0.1, 0.3, 0.5, 0.7, 0.9, 1.0]\n",
    "param_sets = {f\"labelled_data_fraction={data_fraction}\": tweak(dataset_params, labelled_data_fraction=data_fraction) for data_fraction in labelled_data_fractions}\n",
    "\n",
    "run_dataset_comparison(param_sets, baseline_params)\n"
   ]
  },
  {
   "cell_type": "code",
   "execution_count": null,
   "id": "cddf1fcc-6dca-43ae-984c-854ded95a04a",
   "metadata": {},
   "outputs": [],
   "source": [
    "from evaluation import run_dataset_comparison\n",
    "\n",
    "def tweak(params: DatasetParams, labelled_data_fraction):\n",
    "    params = params.copy()\n",
    "    params.labelled_data_fraction = labelled_data_fraction\n",
    "    return params\n",
    " \n",
    "#plot: Compare unsupervised learning for different fractions of unlabelled data along with threshold\n",
    "labelled_data_fractions = [ 0.1, 0.3, 0.5, 0.7, 0.9, 1.0]\n",
    "param_sets = {f\"labelled_data_fraction={data_fraction}\": tweak(dataset_params, labelled_data_fraction=data_fraction) for data_fraction in labelled_data_fractions}\n",
    "\n",
    "baseline_params.pseudo_threshold = None\n",
    "run_dataset_comparison(param_sets, baseline_params)\n"
   ]
  },
  {
   "cell_type": "code",
   "execution_count": 5,
   "id": "ca156b3d-97f0-45f0-a1c5-81e545cfa9af",
   "metadata": {},
   "outputs": [
    {
     "name": "stdout",
     "output_type": "stream",
     "text": [
      "\n",
      "=====================================\n",
      "Training with unsup_weight=0.1\n",
      "=====================================\n",
      "{\n",
      "  \"seed\": 42,\n",
      "  \"architecture\": \"resnet50\",\n",
      "  \"optimizer\": {\n",
      "    \"learning_rate\": 0.004713842776302303,\n",
      "    \"weight_decay\": 4.287389519996026e-06,\n",
      "    \"momentum\": 0.7222321829989696,\n",
      "    \"name\": \"nag\"\n",
      "  },\n",
      "  \"n_epochs\": 5,\n",
      "  \"freeze_layers\": true,\n",
      "  \"unfreezing_epochs\": [2, 4],\n",
      "  \"augmentation\": {\n",
      "    \"enabled\": false,\n",
      "    \"dropout_rate\": 0.3\n",
      "  },\n",
      "  \"validation_freq\": 1,\n",
      "  \"mft\": {\n",
      "    \"enabled\": false,\n",
      "    \"k\": 0,\n",
      "    \"impl\": \"theirs\"\n",
      "  },\n",
      "  \"unfreeze_last_l_blocks\": 2,\n",
      "  \"fixmatch\": true,\n",
      "  \"unsup_weight\": 0.1,\n",
      "  \"pseudo_threshold\": 0.95,\n",
      "  \"contrastive_temp\": 0.1,\n",
      "  \"num_classes\": 37,\n",
      "  \"use_scheduler\": true,\n",
      "  \"scheduler_type\": \"plateau\"\n",
      "}\n",
      "Test size: 3669\n",
      "Trying to load trainer from disk...\n"
     ]
    },
    {
     "name": "stderr",
     "output_type": "stream",
     "text": [
      "/opt/python/3.10/lib/python3.10/site-packages/torch/optim/lr_scheduler.py:60: UserWarning: The verbose parameter is deprecated. Please use get_last_lr() to access the learning rate.\n",
      "  warnings.warn(\n"
     ]
    },
    {
     "name": "stdout",
     "output_type": "stream",
     "text": [
      "Trainer not found. Retraining...\n",
      "[Trainer] Unfroze last 2 blocks\n"
     ]
    },
    {
     "data": {
      "application/vnd.jupyter.widget-view+json": {
       "model_id": "89266b652b944021b0eb22a655cd6f98",
       "version_major": 2,
       "version_minor": 0
      },
      "text/plain": [
       "Update step:   0%|          | 0/580 [00:00<?, ?it/s]"
      ]
     },
     "metadata": {},
     "output_type": "display_data"
    },
    {
     "name": "stdout",
     "output_type": "stream",
     "text": [
      "Epoch [1/5], Loss: 3.1379, Train Acc: 39.11%\n",
      "Epoch [2/5], Loss: 1.5996, Train Acc: 83.70%\n",
      "Epoch [3/5], Loss: 0.6819, Train Acc: 88.81%\n",
      "Epoch [4/5], Loss: 0.4123, Train Acc: 92.67%\n",
      "Epoch [5/5], Loss: 0.2976, Train Acc: 94.51%\n",
      "Total elapsed: 114.84s, average per update step: 0.10s\n"
     ]
    },
    {
     "data": {
      "application/vnd.jupyter.widget-view+json": {
       "model_id": "10939e5578fe412886f7fbed370208a1",
       "version_major": 2,
       "version_minor": 0
      },
      "text/plain": [
       "Evaluating:   0%|          | 0/115 [00:00<?, ?it/s]"
      ]
     },
     "metadata": {},
     "output_type": "display_data"
    },
    {
     "name": "stdout",
     "output_type": "stream",
     "text": [
      "Test Accuracy: 91.415 %\n",
      "Test Accuracy Mean: 91.41 %\n",
      "\n",
      "=====================================\n",
      "Training with unsup_weight=0.2\n",
      "=====================================\n",
      "{\n",
      "  \"seed\": 42,\n",
      "  \"architecture\": \"resnet50\",\n",
      "  \"optimizer\": {\n",
      "    \"learning_rate\": 0.004713842776302303,\n",
      "    \"weight_decay\": 4.287389519996026e-06,\n",
      "    \"momentum\": 0.7222321829989696,\n",
      "    \"name\": \"nag\"\n",
      "  },\n",
      "  \"n_epochs\": 5,\n",
      "  \"freeze_layers\": true,\n",
      "  \"unfreezing_epochs\": [2, 4],\n",
      "  \"augmentation\": {\n",
      "    \"enabled\": false,\n",
      "    \"dropout_rate\": 0.3\n",
      "  },\n",
      "  \"validation_freq\": 1,\n",
      "  \"mft\": {\n",
      "    \"enabled\": false,\n",
      "    \"k\": 0,\n",
      "    \"impl\": \"theirs\"\n",
      "  },\n",
      "  \"unfreeze_last_l_blocks\": 2,\n",
      "  \"fixmatch\": true,\n",
      "  \"unsup_weight\": 0.2,\n",
      "  \"pseudo_threshold\": 0.95,\n",
      "  \"contrastive_temp\": 0.1,\n",
      "  \"num_classes\": 37,\n",
      "  \"use_scheduler\": true,\n",
      "  \"scheduler_type\": \"plateau\"\n",
      "}\n",
      "Test size: 3669\n",
      "Trying to load trainer from disk...\n"
     ]
    },
    {
     "name": "stderr",
     "output_type": "stream",
     "text": [
      "/opt/python/3.10/lib/python3.10/site-packages/torch/optim/lr_scheduler.py:60: UserWarning: The verbose parameter is deprecated. Please use get_last_lr() to access the learning rate.\n",
      "  warnings.warn(\n"
     ]
    },
    {
     "name": "stdout",
     "output_type": "stream",
     "text": [
      "Trainer not found. Retraining...\n",
      "[Trainer] Unfroze last 2 blocks\n"
     ]
    },
    {
     "data": {
      "application/vnd.jupyter.widget-view+json": {
       "model_id": "eef159cae50545ec8241088c3e069ce1",
       "version_major": 2,
       "version_minor": 0
      },
      "text/plain": [
       "Update step:   0%|          | 0/580 [00:00<?, ?it/s]"
      ]
     },
     "metadata": {},
     "output_type": "display_data"
    },
    {
     "name": "stdout",
     "output_type": "stream",
     "text": [
      "Epoch [1/5], Loss: 3.1379, Train Acc: 39.11%\n",
      "Epoch [2/5], Loss: 1.5996, Train Acc: 83.70%\n",
      "Epoch [3/5], Loss: 0.6819, Train Acc: 88.81%\n",
      "Epoch [4/5], Loss: 0.4181, Train Acc: 92.72%\n",
      "Epoch [5/5], Loss: 0.3155, Train Acc: 94.57%\n",
      "Total elapsed: 115.13s, average per update step: 0.10s\n"
     ]
    },
    {
     "data": {
      "application/vnd.jupyter.widget-view+json": {
       "model_id": "6e4b1ac20b1341758cfe3eede52fc4af",
       "version_major": 2,
       "version_minor": 0
      },
      "text/plain": [
       "Evaluating:   0%|          | 0/115 [00:00<?, ?it/s]"
      ]
     },
     "metadata": {},
     "output_type": "display_data"
    },
    {
     "name": "stdout",
     "output_type": "stream",
     "text": [
      "Test Accuracy: 91.496 %\n",
      "Test Accuracy Mean: 91.50 %\n",
      "\n",
      "=====================================\n",
      "Training with unsup_weight=0.3\n",
      "=====================================\n",
      "{\n",
      "  \"seed\": 42,\n",
      "  \"architecture\": \"resnet50\",\n",
      "  \"optimizer\": {\n",
      "    \"learning_rate\": 0.004713842776302303,\n",
      "    \"weight_decay\": 4.287389519996026e-06,\n",
      "    \"momentum\": 0.7222321829989696,\n",
      "    \"name\": \"nag\"\n",
      "  },\n",
      "  \"n_epochs\": 5,\n",
      "  \"freeze_layers\": true,\n",
      "  \"unfreezing_epochs\": [2, 4],\n",
      "  \"augmentation\": {\n",
      "    \"enabled\": false,\n",
      "    \"dropout_rate\": 0.3\n",
      "  },\n",
      "  \"validation_freq\": 1,\n",
      "  \"mft\": {\n",
      "    \"enabled\": false,\n",
      "    \"k\": 0,\n",
      "    \"impl\": \"theirs\"\n",
      "  },\n",
      "  \"unfreeze_last_l_blocks\": 2,\n",
      "  \"fixmatch\": true,\n",
      "  \"unsup_weight\": 0.3,\n",
      "  \"pseudo_threshold\": 0.95,\n",
      "  \"contrastive_temp\": 0.1,\n",
      "  \"num_classes\": 37,\n",
      "  \"use_scheduler\": true,\n",
      "  \"scheduler_type\": \"plateau\"\n",
      "}\n",
      "Test size: 3669\n",
      "Trying to load trainer from disk...\n"
     ]
    },
    {
     "name": "stderr",
     "output_type": "stream",
     "text": [
      "/opt/python/3.10/lib/python3.10/site-packages/torch/optim/lr_scheduler.py:60: UserWarning: The verbose parameter is deprecated. Please use get_last_lr() to access the learning rate.\n",
      "  warnings.warn(\n"
     ]
    },
    {
     "name": "stdout",
     "output_type": "stream",
     "text": [
      "Trainer not found. Retraining...\n",
      "[Trainer] Unfroze last 2 blocks\n"
     ]
    },
    {
     "data": {
      "application/vnd.jupyter.widget-view+json": {
       "model_id": "a8005980653e40c49f821293310369a9",
       "version_major": 2,
       "version_minor": 0
      },
      "text/plain": [
       "Update step:   0%|          | 0/580 [00:00<?, ?it/s]"
      ]
     },
     "metadata": {},
     "output_type": "display_data"
    },
    {
     "name": "stdout",
     "output_type": "stream",
     "text": [
      "Epoch [1/5], Loss: 3.1379, Train Acc: 39.11%\n",
      "Epoch [2/5], Loss: 1.5996, Train Acc: 83.70%\n",
      "Epoch [3/5], Loss: 0.6819, Train Acc: 88.81%\n",
      "Epoch [4/5], Loss: 0.4239, Train Acc: 92.83%\n",
      "Epoch [5/5], Loss: 0.3336, Train Acc: 94.57%\n",
      "Total elapsed: 114.34s, average per update step: 0.10s\n"
     ]
    },
    {
     "data": {
      "application/vnd.jupyter.widget-view+json": {
       "model_id": "1808173576c947a8be7b89a5e1e51d22",
       "version_major": 2,
       "version_minor": 0
      },
      "text/plain": [
       "Evaluating:   0%|          | 0/115 [00:00<?, ?it/s]"
      ]
     },
     "metadata": {},
     "output_type": "display_data"
    },
    {
     "name": "stdout",
     "output_type": "stream",
     "text": [
      "Test Accuracy: 91.524 %\n",
      "Test Accuracy Mean: 91.52 %\n",
      "\n",
      "=====================================\n",
      "Training with unsup_weight=0.4\n",
      "=====================================\n",
      "{\n",
      "  \"seed\": 42,\n",
      "  \"architecture\": \"resnet50\",\n",
      "  \"optimizer\": {\n",
      "    \"learning_rate\": 0.004713842776302303,\n",
      "    \"weight_decay\": 4.287389519996026e-06,\n",
      "    \"momentum\": 0.7222321829989696,\n",
      "    \"name\": \"nag\"\n",
      "  },\n",
      "  \"n_epochs\": 5,\n",
      "  \"freeze_layers\": true,\n",
      "  \"unfreezing_epochs\": [2, 4],\n",
      "  \"augmentation\": {\n",
      "    \"enabled\": false,\n",
      "    \"dropout_rate\": 0.3\n",
      "  },\n",
      "  \"validation_freq\": 1,\n",
      "  \"mft\": {\n",
      "    \"enabled\": false,\n",
      "    \"k\": 0,\n",
      "    \"impl\": \"theirs\"\n",
      "  },\n",
      "  \"unfreeze_last_l_blocks\": 2,\n",
      "  \"fixmatch\": true,\n",
      "  \"unsup_weight\": 0.4,\n",
      "  \"pseudo_threshold\": 0.95,\n",
      "  \"contrastive_temp\": 0.1,\n",
      "  \"num_classes\": 37,\n",
      "  \"use_scheduler\": true,\n",
      "  \"scheduler_type\": \"plateau\"\n",
      "}\n",
      "Test size: 3669\n",
      "Trying to load trainer from disk...\n"
     ]
    },
    {
     "name": "stderr",
     "output_type": "stream",
     "text": [
      "/opt/python/3.10/lib/python3.10/site-packages/torch/optim/lr_scheduler.py:60: UserWarning: The verbose parameter is deprecated. Please use get_last_lr() to access the learning rate.\n",
      "  warnings.warn(\n"
     ]
    },
    {
     "name": "stdout",
     "output_type": "stream",
     "text": [
      "Trainer not found. Retraining...\n",
      "[Trainer] Unfroze last 2 blocks\n"
     ]
    },
    {
     "data": {
      "application/vnd.jupyter.widget-view+json": {
       "model_id": "57a329851e3e4ddbb3e2ad0642a477d6",
       "version_major": 2,
       "version_minor": 0
      },
      "text/plain": [
       "Update step:   0%|          | 0/580 [00:00<?, ?it/s]"
      ]
     },
     "metadata": {},
     "output_type": "display_data"
    },
    {
     "name": "stdout",
     "output_type": "stream",
     "text": [
      "Epoch [1/5], Loss: 3.1379, Train Acc: 39.11%\n",
      "Epoch [2/5], Loss: 1.5996, Train Acc: 83.70%\n",
      "Epoch [3/5], Loss: 0.6819, Train Acc: 88.81%\n",
      "Epoch [4/5], Loss: 0.4632, Train Acc: 92.45%\n",
      "Epoch [5/5], Loss: 0.3288, Train Acc: 94.57%\n",
      "Total elapsed: 113.72s, average per update step: 0.10s\n"
     ]
    },
    {
     "data": {
      "application/vnd.jupyter.widget-view+json": {
       "model_id": "d55df32e0f2f4ad5871140aeef8f7cac",
       "version_major": 2,
       "version_minor": 0
      },
      "text/plain": [
       "Evaluating:   0%|          | 0/115 [00:00<?, ?it/s]"
      ]
     },
     "metadata": {},
     "output_type": "display_data"
    },
    {
     "name": "stdout",
     "output_type": "stream",
     "text": [
      "Test Accuracy: 91.551 %\n",
      "Test Accuracy Mean: 91.55 %\n",
      "\n",
      "=====================================\n",
      "Training with unsup_weight=0.5\n",
      "=====================================\n",
      "{\n",
      "  \"seed\": 42,\n",
      "  \"architecture\": \"resnet50\",\n",
      "  \"optimizer\": {\n",
      "    \"learning_rate\": 0.004713842776302303,\n",
      "    \"weight_decay\": 4.287389519996026e-06,\n",
      "    \"momentum\": 0.7222321829989696,\n",
      "    \"name\": \"nag\"\n",
      "  },\n",
      "  \"n_epochs\": 5,\n",
      "  \"freeze_layers\": true,\n",
      "  \"unfreezing_epochs\": [2, 4],\n",
      "  \"augmentation\": {\n",
      "    \"enabled\": false,\n",
      "    \"dropout_rate\": 0.3\n",
      "  },\n",
      "  \"validation_freq\": 1,\n",
      "  \"mft\": {\n",
      "    \"enabled\": false,\n",
      "    \"k\": 0,\n",
      "    \"impl\": \"theirs\"\n",
      "  },\n",
      "  \"unfreeze_last_l_blocks\": 2,\n",
      "  \"fixmatch\": true,\n",
      "  \"unsup_weight\": 0.5,\n",
      "  \"pseudo_threshold\": 0.95,\n",
      "  \"contrastive_temp\": 0.1,\n",
      "  \"num_classes\": 37,\n",
      "  \"use_scheduler\": true,\n",
      "  \"scheduler_type\": \"plateau\"\n",
      "}\n",
      "Test size: 3669\n",
      "Trying to load trainer from disk...\n"
     ]
    },
    {
     "name": "stderr",
     "output_type": "stream",
     "text": [
      "/opt/python/3.10/lib/python3.10/site-packages/torch/optim/lr_scheduler.py:60: UserWarning: The verbose parameter is deprecated. Please use get_last_lr() to access the learning rate.\n",
      "  warnings.warn(\n"
     ]
    },
    {
     "name": "stdout",
     "output_type": "stream",
     "text": [
      "Trainer not found. Retraining...\n",
      "[Trainer] Unfroze last 2 blocks\n"
     ]
    },
    {
     "data": {
      "application/vnd.jupyter.widget-view+json": {
       "model_id": "6c60d5ca2acc4b1c8fc0bc34e311ec38",
       "version_major": 2,
       "version_minor": 0
      },
      "text/plain": [
       "Update step:   0%|          | 0/580 [00:00<?, ?it/s]"
      ]
     },
     "metadata": {},
     "output_type": "display_data"
    },
    {
     "name": "stdout",
     "output_type": "stream",
     "text": [
      "Epoch [1/5], Loss: 3.1379, Train Acc: 39.11%\n",
      "Epoch [2/5], Loss: 1.5996, Train Acc: 83.70%\n",
      "Epoch [3/5], Loss: 0.6819, Train Acc: 88.81%\n",
      "Epoch [4/5], Loss: 0.4751, Train Acc: 92.50%\n",
      "Epoch [5/5], Loss: 0.3414, Train Acc: 94.57%\n",
      "Total elapsed: 115.61s, average per update step: 0.12s\n"
     ]
    },
    {
     "data": {
      "application/vnd.jupyter.widget-view+json": {
       "model_id": "987075c48c0e4df6bc0308a5cda795b7",
       "version_major": 2,
       "version_minor": 0
      },
      "text/plain": [
       "Evaluating:   0%|          | 0/115 [00:00<?, ?it/s]"
      ]
     },
     "metadata": {},
     "output_type": "display_data"
    },
    {
     "name": "stdout",
     "output_type": "stream",
     "text": [
      "Test Accuracy: 91.496 %\n",
      "Test Accuracy Mean: 91.50 %\n",
      "\n",
      "=====================================\n",
      "Training with unsup_weight=0.6\n",
      "=====================================\n",
      "{\n",
      "  \"seed\": 42,\n",
      "  \"architecture\": \"resnet50\",\n",
      "  \"optimizer\": {\n",
      "    \"learning_rate\": 0.004713842776302303,\n",
      "    \"weight_decay\": 4.287389519996026e-06,\n",
      "    \"momentum\": 0.7222321829989696,\n",
      "    \"name\": \"nag\"\n",
      "  },\n",
      "  \"n_epochs\": 5,\n",
      "  \"freeze_layers\": true,\n",
      "  \"unfreezing_epochs\": [2, 4],\n",
      "  \"augmentation\": {\n",
      "    \"enabled\": false,\n",
      "    \"dropout_rate\": 0.3\n",
      "  },\n",
      "  \"validation_freq\": 1,\n",
      "  \"mft\": {\n",
      "    \"enabled\": false,\n",
      "    \"k\": 0,\n",
      "    \"impl\": \"theirs\"\n",
      "  },\n",
      "  \"unfreeze_last_l_blocks\": 2,\n",
      "  \"fixmatch\": true,\n",
      "  \"unsup_weight\": 0.6,\n",
      "  \"pseudo_threshold\": 0.95,\n",
      "  \"contrastive_temp\": 0.1,\n",
      "  \"num_classes\": 37,\n",
      "  \"use_scheduler\": true,\n",
      "  \"scheduler_type\": \"plateau\"\n",
      "}\n",
      "Test size: 3669\n",
      "Trying to load trainer from disk...\n"
     ]
    },
    {
     "name": "stderr",
     "output_type": "stream",
     "text": [
      "/opt/python/3.10/lib/python3.10/site-packages/torch/optim/lr_scheduler.py:60: UserWarning: The verbose parameter is deprecated. Please use get_last_lr() to access the learning rate.\n",
      "  warnings.warn(\n"
     ]
    },
    {
     "name": "stdout",
     "output_type": "stream",
     "text": [
      "Trainer not found. Retraining...\n",
      "[Trainer] Unfroze last 2 blocks\n"
     ]
    },
    {
     "data": {
      "application/vnd.jupyter.widget-view+json": {
       "model_id": "5d2c6e7bd70d44ba9b99dc33a376a2ac",
       "version_major": 2,
       "version_minor": 0
      },
      "text/plain": [
       "Update step:   0%|          | 0/580 [00:00<?, ?it/s]"
      ]
     },
     "metadata": {},
     "output_type": "display_data"
    },
    {
     "name": "stdout",
     "output_type": "stream",
     "text": [
      "Epoch [1/5], Loss: 3.1379, Train Acc: 39.11%\n",
      "Epoch [2/5], Loss: 1.5996, Train Acc: 83.70%\n",
      "Epoch [3/5], Loss: 0.6819, Train Acc: 88.81%\n",
      "Epoch [4/5], Loss: 0.4869, Train Acc: 92.50%\n",
      "Epoch [5/5], Loss: 0.3534, Train Acc: 94.57%\n",
      "Total elapsed: 116.05s, average per update step: 0.10s\n"
     ]
    },
    {
     "data": {
      "application/vnd.jupyter.widget-view+json": {
       "model_id": "08f70c0a5cbc483f9002f07aa658e388",
       "version_major": 2,
       "version_minor": 0
      },
      "text/plain": [
       "Evaluating:   0%|          | 0/115 [00:00<?, ?it/s]"
      ]
     },
     "metadata": {},
     "output_type": "display_data"
    },
    {
     "name": "stdout",
     "output_type": "stream",
     "text": [
      "Test Accuracy: 91.524 %\n",
      "Test Accuracy Mean: 91.52 %\n",
      "\n",
      "=====================================\n",
      "Training with unsup_weight=0.7\n",
      "=====================================\n",
      "{\n",
      "  \"seed\": 42,\n",
      "  \"architecture\": \"resnet50\",\n",
      "  \"optimizer\": {\n",
      "    \"learning_rate\": 0.004713842776302303,\n",
      "    \"weight_decay\": 4.287389519996026e-06,\n",
      "    \"momentum\": 0.7222321829989696,\n",
      "    \"name\": \"nag\"\n",
      "  },\n",
      "  \"n_epochs\": 5,\n",
      "  \"freeze_layers\": true,\n",
      "  \"unfreezing_epochs\": [2, 4],\n",
      "  \"augmentation\": {\n",
      "    \"enabled\": false,\n",
      "    \"dropout_rate\": 0.3\n",
      "  },\n",
      "  \"validation_freq\": 1,\n",
      "  \"mft\": {\n",
      "    \"enabled\": false,\n",
      "    \"k\": 0,\n",
      "    \"impl\": \"theirs\"\n",
      "  },\n",
      "  \"unfreeze_last_l_blocks\": 2,\n",
      "  \"fixmatch\": true,\n",
      "  \"unsup_weight\": 0.7,\n",
      "  \"pseudo_threshold\": 0.95,\n",
      "  \"contrastive_temp\": 0.1,\n",
      "  \"num_classes\": 37,\n",
      "  \"use_scheduler\": true,\n",
      "  \"scheduler_type\": \"plateau\"\n",
      "}\n",
      "Test size: 3669\n",
      "Trying to load trainer from disk...\n"
     ]
    },
    {
     "name": "stderr",
     "output_type": "stream",
     "text": [
      "/opt/python/3.10/lib/python3.10/site-packages/torch/optim/lr_scheduler.py:60: UserWarning: The verbose parameter is deprecated. Please use get_last_lr() to access the learning rate.\n",
      "  warnings.warn(\n"
     ]
    },
    {
     "name": "stdout",
     "output_type": "stream",
     "text": [
      "Trainer not found. Retraining...\n",
      "[Trainer] Unfroze last 2 blocks\n"
     ]
    },
    {
     "data": {
      "application/vnd.jupyter.widget-view+json": {
       "model_id": "83927dac55404664a5133ee5d3aa2b26",
       "version_major": 2,
       "version_minor": 0
      },
      "text/plain": [
       "Update step:   0%|          | 0/580 [00:00<?, ?it/s]"
      ]
     },
     "metadata": {},
     "output_type": "display_data"
    },
    {
     "name": "stdout",
     "output_type": "stream",
     "text": [
      "Epoch [1/5], Loss: 3.1379, Train Acc: 39.11%\n",
      "Epoch [2/5], Loss: 1.5996, Train Acc: 83.70%\n",
      "Epoch [3/5], Loss: 0.6819, Train Acc: 88.81%\n",
      "Epoch [4/5], Loss: 0.4987, Train Acc: 92.34%\n",
      "Epoch [5/5], Loss: 0.3231, Train Acc: 94.46%\n",
      "Total elapsed: 115.78s, average per update step: 0.10s\n"
     ]
    },
    {
     "data": {
      "application/vnd.jupyter.widget-view+json": {
       "model_id": "7f8ad1cbca604cb3a8a91239cd19221f",
       "version_major": 2,
       "version_minor": 0
      },
      "text/plain": [
       "Evaluating:   0%|          | 0/115 [00:00<?, ?it/s]"
      ]
     },
     "metadata": {},
     "output_type": "display_data"
    },
    {
     "name": "stdout",
     "output_type": "stream",
     "text": [
      "Test Accuracy: 91.605 %\n",
      "Test Accuracy Mean: 91.61 %\n",
      "\n",
      "=====================================\n",
      "Training with unsup_weight=0.8\n",
      "=====================================\n",
      "{\n",
      "  \"seed\": 42,\n",
      "  \"architecture\": \"resnet50\",\n",
      "  \"optimizer\": {\n",
      "    \"learning_rate\": 0.004713842776302303,\n",
      "    \"weight_decay\": 4.287389519996026e-06,\n",
      "    \"momentum\": 0.7222321829989696,\n",
      "    \"name\": \"nag\"\n",
      "  },\n",
      "  \"n_epochs\": 5,\n",
      "  \"freeze_layers\": true,\n",
      "  \"unfreezing_epochs\": [2, 4],\n",
      "  \"augmentation\": {\n",
      "    \"enabled\": false,\n",
      "    \"dropout_rate\": 0.3\n",
      "  },\n",
      "  \"validation_freq\": 1,\n",
      "  \"mft\": {\n",
      "    \"enabled\": false,\n",
      "    \"k\": 0,\n",
      "    \"impl\": \"theirs\"\n",
      "  },\n",
      "  \"unfreeze_last_l_blocks\": 2,\n",
      "  \"fixmatch\": true,\n",
      "  \"unsup_weight\": 0.8,\n",
      "  \"pseudo_threshold\": 0.95,\n",
      "  \"contrastive_temp\": 0.1,\n",
      "  \"num_classes\": 37,\n",
      "  \"use_scheduler\": true,\n",
      "  \"scheduler_type\": \"plateau\"\n",
      "}\n",
      "Test size: 3669\n",
      "Trying to load trainer from disk...\n"
     ]
    },
    {
     "name": "stderr",
     "output_type": "stream",
     "text": [
      "/opt/python/3.10/lib/python3.10/site-packages/torch/optim/lr_scheduler.py:60: UserWarning: The verbose parameter is deprecated. Please use get_last_lr() to access the learning rate.\n",
      "  warnings.warn(\n"
     ]
    },
    {
     "name": "stdout",
     "output_type": "stream",
     "text": [
      "Trainer not found. Retraining...\n",
      "[Trainer] Unfroze last 2 blocks\n"
     ]
    },
    {
     "data": {
      "application/vnd.jupyter.widget-view+json": {
       "model_id": "bf1e767bf2d044578b5aff238725d7ef",
       "version_major": 2,
       "version_minor": 0
      },
      "text/plain": [
       "Update step:   0%|          | 0/580 [00:00<?, ?it/s]"
      ]
     },
     "metadata": {},
     "output_type": "display_data"
    },
    {
     "name": "stdout",
     "output_type": "stream",
     "text": [
      "Epoch [1/5], Loss: 3.1379, Train Acc: 39.11%\n",
      "Epoch [2/5], Loss: 1.5996, Train Acc: 83.70%\n",
      "Epoch [3/5], Loss: 0.6819, Train Acc: 88.81%\n",
      "Epoch [4/5], Loss: 0.5105, Train Acc: 92.29%\n",
      "Epoch [5/5], Loss: 0.3780, Train Acc: 94.51%\n",
      "Total elapsed: 115.41s, average per update step: 0.10s\n"
     ]
    },
    {
     "data": {
      "application/vnd.jupyter.widget-view+json": {
       "model_id": "b19df5aa0430424fae9293942c47beee",
       "version_major": 2,
       "version_minor": 0
      },
      "text/plain": [
       "Evaluating:   0%|          | 0/115 [00:00<?, ?it/s]"
      ]
     },
     "metadata": {},
     "output_type": "display_data"
    },
    {
     "name": "stdout",
     "output_type": "stream",
     "text": [
      "Test Accuracy: 91.524 %\n",
      "Test Accuracy Mean: 91.52 %\n",
      "\n",
      "=====================================\n",
      "Training with unsup_weight=0.9\n",
      "=====================================\n",
      "{\n",
      "  \"seed\": 42,\n",
      "  \"architecture\": \"resnet50\",\n",
      "  \"optimizer\": {\n",
      "    \"learning_rate\": 0.004713842776302303,\n",
      "    \"weight_decay\": 4.287389519996026e-06,\n",
      "    \"momentum\": 0.7222321829989696,\n",
      "    \"name\": \"nag\"\n",
      "  },\n",
      "  \"n_epochs\": 5,\n",
      "  \"freeze_layers\": true,\n",
      "  \"unfreezing_epochs\": [2, 4],\n",
      "  \"augmentation\": {\n",
      "    \"enabled\": false,\n",
      "    \"dropout_rate\": 0.3\n",
      "  },\n",
      "  \"validation_freq\": 1,\n",
      "  \"mft\": {\n",
      "    \"enabled\": false,\n",
      "    \"k\": 0,\n",
      "    \"impl\": \"theirs\"\n",
      "  },\n",
      "  \"unfreeze_last_l_blocks\": 2,\n",
      "  \"fixmatch\": true,\n",
      "  \"unsup_weight\": 0.9,\n",
      "  \"pseudo_threshold\": 0.95,\n",
      "  \"contrastive_temp\": 0.1,\n",
      "  \"num_classes\": 37,\n",
      "  \"use_scheduler\": true,\n",
      "  \"scheduler_type\": \"plateau\"\n",
      "}\n",
      "Test size: 3669\n",
      "Trying to load trainer from disk...\n"
     ]
    },
    {
     "name": "stderr",
     "output_type": "stream",
     "text": [
      "/opt/python/3.10/lib/python3.10/site-packages/torch/optim/lr_scheduler.py:60: UserWarning: The verbose parameter is deprecated. Please use get_last_lr() to access the learning rate.\n",
      "  warnings.warn(\n"
     ]
    },
    {
     "name": "stdout",
     "output_type": "stream",
     "text": [
      "Trainer not found. Retraining...\n",
      "[Trainer] Unfroze last 2 blocks\n"
     ]
    },
    {
     "data": {
      "application/vnd.jupyter.widget-view+json": {
       "model_id": "d8ad5d8325a344678bef7278102de472",
       "version_major": 2,
       "version_minor": 0
      },
      "text/plain": [
       "Update step:   0%|          | 0/580 [00:00<?, ?it/s]"
      ]
     },
     "metadata": {},
     "output_type": "display_data"
    },
    {
     "name": "stdout",
     "output_type": "stream",
     "text": [
      "Epoch [1/5], Loss: 3.1379, Train Acc: 39.11%\n",
      "Epoch [2/5], Loss: 1.5996, Train Acc: 83.70%\n",
      "Epoch [3/5], Loss: 0.6819, Train Acc: 88.81%\n",
      "Epoch [4/5], Loss: 0.5223, Train Acc: 92.40%\n",
      "Epoch [5/5], Loss: 0.3908, Train Acc: 94.51%\n",
      "Total elapsed: 115.42s, average per update step: 0.11s\n"
     ]
    },
    {
     "data": {
      "application/vnd.jupyter.widget-view+json": {
       "model_id": "659f90fa86e846bba0a17bd348a6acbf",
       "version_major": 2,
       "version_minor": 0
      },
      "text/plain": [
       "Evaluating:   0%|          | 0/115 [00:00<?, ?it/s]"
      ]
     },
     "metadata": {},
     "output_type": "display_data"
    },
    {
     "name": "stdout",
     "output_type": "stream",
     "text": [
      "Test Accuracy: 91.496 %\n",
      "Test Accuracy Mean: 91.50 %\n",
      "\n",
      "=====================================\n",
      "Training with unsup_weight=1.0\n",
      "=====================================\n",
      "{\n",
      "  \"seed\": 42,\n",
      "  \"architecture\": \"resnet50\",\n",
      "  \"optimizer\": {\n",
      "    \"learning_rate\": 0.004713842776302303,\n",
      "    \"weight_decay\": 4.287389519996026e-06,\n",
      "    \"momentum\": 0.7222321829989696,\n",
      "    \"name\": \"nag\"\n",
      "  },\n",
      "  \"n_epochs\": 5,\n",
      "  \"freeze_layers\": true,\n",
      "  \"unfreezing_epochs\": [2, 4],\n",
      "  \"augmentation\": {\n",
      "    \"enabled\": false,\n",
      "    \"dropout_rate\": 0.3\n",
      "  },\n",
      "  \"validation_freq\": 1,\n",
      "  \"mft\": {\n",
      "    \"enabled\": false,\n",
      "    \"k\": 0,\n",
      "    \"impl\": \"theirs\"\n",
      "  },\n",
      "  \"unfreeze_last_l_blocks\": 2,\n",
      "  \"fixmatch\": true,\n",
      "  \"unsup_weight\": 1.0,\n",
      "  \"pseudo_threshold\": 0.95,\n",
      "  \"contrastive_temp\": 0.1,\n",
      "  \"num_classes\": 37,\n",
      "  \"use_scheduler\": true,\n",
      "  \"scheduler_type\": \"plateau\"\n",
      "}\n",
      "Test size: 3669\n",
      "Trying to load trainer from disk...\n"
     ]
    },
    {
     "name": "stderr",
     "output_type": "stream",
     "text": [
      "/opt/python/3.10/lib/python3.10/site-packages/torch/optim/lr_scheduler.py:60: UserWarning: The verbose parameter is deprecated. Please use get_last_lr() to access the learning rate.\n",
      "  warnings.warn(\n"
     ]
    },
    {
     "name": "stdout",
     "output_type": "stream",
     "text": [
      "Trainer not found. Retraining...\n",
      "[Trainer] Unfroze last 2 blocks\n"
     ]
    },
    {
     "data": {
      "application/vnd.jupyter.widget-view+json": {
       "model_id": "12a82888ae8640b28303c3933c81b354",
       "version_major": 2,
       "version_minor": 0
      },
      "text/plain": [
       "Update step:   0%|          | 0/580 [00:00<?, ?it/s]"
      ]
     },
     "metadata": {},
     "output_type": "display_data"
    },
    {
     "name": "stdout",
     "output_type": "stream",
     "text": [
      "Epoch [1/5], Loss: 3.1379, Train Acc: 39.11%\n",
      "Epoch [2/5], Loss: 1.5996, Train Acc: 83.70%\n",
      "Epoch [3/5], Loss: 0.6819, Train Acc: 88.81%\n",
      "Epoch [4/5], Loss: 0.5341, Train Acc: 92.29%\n",
      "Epoch [5/5], Loss: 0.4033, Train Acc: 94.46%\n",
      "Total elapsed: 114.35s, average per update step: 0.10s\n"
     ]
    },
    {
     "data": {
      "application/vnd.jupyter.widget-view+json": {
       "model_id": "58158d5b617e42e591376b768430ba6a",
       "version_major": 2,
       "version_minor": 0
      },
      "text/plain": [
       "Evaluating:   0%|          | 0/115 [00:00<?, ?it/s]"
      ]
     },
     "metadata": {},
     "output_type": "display_data"
    },
    {
     "name": "stdout",
     "output_type": "stream",
     "text": [
      "Test Accuracy: 91.496 %\n",
      "Test Accuracy Mean: 91.50 %\n"
     ]
    }
   ],
   "source": [
    "from evaluation import evaluate_test_accuracy\n",
    "from run import try_loading_trainer\n",
    "from augmentation import AugmentationParams\n",
    "from evaluation import evaluate_final_test_accuracy, run_with_different_seeds\n",
    "from torch.utils.data import DataLoader\n",
    "from datasets import load_dataset, DatasetParams\n",
    "from training import Trainer, TrainParams, NagParams\n",
    "from copy import deepcopy\n",
    "from caching import invalidate_cache_entry\n",
    "from determinism import Determinism\n",
    "\n",
    "determinism = Determinism(seed=42).sow()  # Keep this before any torch import\n",
    "\n",
    "dataset_params = DatasetParams(\n",
    "    splitting_seed=determinism.seed,\n",
    "    shuffler_seed=determinism.seed,\n",
    "    batch_size=32,\n",
    "    #trainval_size=None,  # Load all training data\n",
    "    class_fractions=(1.0,) * 37,\n",
    "    #trainval_size=400,  # Load a subset\n",
    "    validation_set_fraction=0,  # 20 % of trainval set\n",
    "    labelled_data_fraction=0.5, # full labelled data first\n",
    ")\n",
    "\n",
    "baseline_params = TrainParams(\n",
    "    seed=determinism.seed,\n",
    "    architecture=\"resnet50\",\n",
    "    n_epochs=5,\n",
    "    optimizer=NagParams(\n",
    "        learning_rate=0.004713842776302303,\n",
    "        weight_decay=4.287389519996026e-06,\n",
    "        momentum=0.7222321829989696,\n",
    "    ),\n",
    "    freeze_layers=True,\n",
    "    unfreezing_epochs=(2, 4),\n",
    "    validation_freq=1,\n",
    "    time_limit_seconds=None,\n",
    "    val_acc_target=None,\n",
    "    unfreeze_last_l_blocks = 2,\n",
    "    pseudo_threshold = 0.95,\n",
    "    unsup_weight = 1,\n",
    "    augmentation = AugmentationParams(\n",
    "        enabled=False,\n",
    "        transform=None\n",
    "    ),\n",
    "    fixmatch=True,\n",
    "    use_scheduler=True,\n",
    "    scheduler_type=\"plateau\"\n",
    ")\n",
    "\n",
    "#plot: Compare unsupervised learning for different values of unsup_weight\n",
    "unsup_weights = [ 0.1, 0.2, 0.3, 0.4, 0.5, 0.6, 0.7, 0.8, 0.9, 1.0]\n",
    "\n",
    "for unsup_weight in unsup_weights:\n",
    "    baseline_params.unsup_weight = unsup_weight\n",
    "    training_params = deepcopy(baseline_params)\n",
    "\n",
    "    print(\"\\n=====================================\")\n",
    "    print(f\"Training with unsup_weight={unsup_weight}\")\n",
    "    print(\"=====================================\")\n",
    "    print(training_params.pprint())\n",
    "\n",
    "    # trainer = try_loading_trainer(dataset_params, training_params, determinism)\n",
    "\n",
    "    # test_dataset = load_dataset(\"test\", Trainer.make_base_transform(training_params))\n",
    "    # test_loader = DataLoader(\n",
    "    #     test_dataset,\n",
    "    #     batch_size=dataset_params.batch_size,\n",
    "    #     shuffle=False,\n",
    "    #     num_workers=3,\n",
    "    #     persistent_workers=False,\n",
    "    #     pin_memory=True,\n",
    "    #     worker_init_fn=Determinism.data_loader_worker_init_fn(dataset_params.shuffler_seed),\n",
    "    # )\n",
    "    trials = 1\n",
    "    # print(f\"Test size: {len(test_loader.dataset)}\")\n",
    "    evaluate_final_test_accuracy(\n",
    "            dataset_params,\n",
    "            training_params,\n",
    "            determinism,\n",
    "            trials,\n",
    "            display_misclassified=False,\n",
    "        )\n",
    "    # print(f\"Final Test Accuracy: {final_test_acc:.2f}%\")\n"
   ]
  },
  {
   "cell_type": "markdown",
   "id": "b6b8261bf5a410c",
   "metadata": {
    "id": "b6b8261bf5a410c"
   },
   "source": [
    "# Main Testing loop for semi-supervised model"
   ]
  },
  {
   "cell_type": "code",
   "execution_count": 7,
   "id": "60cf64fadf4b083e",
   "metadata": {
    "ExecuteTime": {
     "end_time": "2025-05-01T12:51:41.846868059Z",
     "start_time": "2025-05-01T10:42:00.275385Z"
    }
   },
   "outputs": [
    {
     "name": "stdout",
     "output_type": "stream",
     "text": [
      "\n",
      "=====================================\n",
      "Training with fraction=0.7, epochs=10\n",
      "=====================================\n",
      "Test size: 3669\n",
      "Trying to load trainer from disk...\n"
     ]
    },
    {
     "name": "stderr",
     "output_type": "stream",
     "text": [
      "/opt/python/3.10/lib/python3.10/site-packages/torch/optim/lr_scheduler.py:60: UserWarning: The verbose parameter is deprecated. Please use get_last_lr() to access the learning rate.\n",
      "  warnings.warn(\n"
     ]
    },
    {
     "name": "stdout",
     "output_type": "stream",
     "text": [
      "Trainer not found. Retraining...\n",
      "[Trainer] Unfroze last 2 blocks\n"
     ]
    },
    {
     "data": {
      "application/vnd.jupyter.widget-view+json": {
       "model_id": "d4da53b75c8b478eb1f47f3194145210",
       "version_major": 2,
       "version_minor": 0
      },
      "text/plain": [
       "Update step:   0%|          | 0/1160 [00:00<?, ?it/s]"
      ]
     },
     "metadata": {},
     "output_type": "display_data"
    },
    {
     "name": "stdout",
     "output_type": "stream",
     "text": [
      "Epoch [1/10], Loss: 2.8437, Train Acc: 50.93%\n",
      "Epoch [2/10], Loss: 1.0082, Train Acc: 84.57%\n",
      "Epoch [3/10], Loss: 0.4513, Train Acc: 91.20%\n",
      "Epoch [4/10], Loss: 0.3625, Train Acc: 94.26%\n",
      "Epoch [5/10], Loss: 0.3110, Train Acc: 95.04%\n",
      "Epoch [6/10], Loss: 0.4132, Train Acc: 96.43%\n",
      "Epoch [7/10], Loss: 0.3774, Train Acc: 97.64%\n",
      "Epoch [8/10], Loss: 0.3698, Train Acc: 96.51%\n",
      "Epoch [9/10], Loss: 0.4130, Train Acc: 98.22%\n",
      "Epoch [10/10], Loss: 0.3481, Train Acc: 98.10%\n",
      "Total elapsed: 187.16s, average per update step: 0.10s\n"
     ]
    },
    {
     "data": {
      "application/vnd.jupyter.widget-view+json": {
       "model_id": "e40d54110f2043138518ab8153266a6b",
       "version_major": 2,
       "version_minor": 0
      },
      "text/plain": [
       "Evaluating:   0%|          | 0/115 [00:00<?, ?it/s]"
      ]
     },
     "metadata": {},
     "output_type": "display_data"
    },
    {
     "name": "stdout",
     "output_type": "stream",
     "text": [
      "Test Accuracy: 92.259 %\n",
      "Trying to load trainer from disk...\n",
      "Trainer not found. Retraining...\n",
      "[Trainer] Unfroze last 2 blocks\n"
     ]
    },
    {
     "data": {
      "application/vnd.jupyter.widget-view+json": {
       "model_id": "aa61e705a4964500bec10820848feb10",
       "version_major": 2,
       "version_minor": 0
      },
      "text/plain": [
       "Update step:   0%|          | 0/1160 [00:00<?, ?it/s]"
      ]
     },
     "metadata": {},
     "output_type": "display_data"
    },
    {
     "name": "stdout",
     "output_type": "stream",
     "text": [
      "Epoch [1/10], Loss: 2.8408, Train Acc: 48.84%\n",
      "Epoch [2/10], Loss: 1.0231, Train Acc: 84.22%\n",
      "Epoch [3/10], Loss: 0.4910, Train Acc: 90.31%\n",
      "Epoch [4/10], Loss: 0.3295, Train Acc: 93.91%\n",
      "Epoch [5/10], Loss: 0.3083, Train Acc: 95.66%\n",
      "Epoch [6/10], Loss: 0.3354, Train Acc: 96.86%\n",
      "Epoch [7/10], Loss: 0.2608, Train Acc: 97.79%\n",
      "Epoch [8/10], Loss: 0.4083, Train Acc: 96.67%\n",
      "Epoch [9/10], Loss: 0.3478, Train Acc: 98.41%\n",
      "Epoch [10/10], Loss: 0.5254, Train Acc: 98.06%\n",
      "Total elapsed: 182.60s, average per update step: 0.10s\n"
     ]
    },
    {
     "data": {
      "application/vnd.jupyter.widget-view+json": {
       "model_id": "7c0c564bbaa946ebb630cceae125b347",
       "version_major": 2,
       "version_minor": 0
      },
      "text/plain": [
       "Evaluating:   0%|          | 0/115 [00:00<?, ?it/s]"
      ]
     },
     "metadata": {},
     "output_type": "display_data"
    },
    {
     "name": "stdout",
     "output_type": "stream",
     "text": [
      "Test Accuracy: 92.014 %\n",
      "Trying to load trainer from disk...\n",
      "Trainer not found. Retraining...\n",
      "[Trainer] Unfroze last 2 blocks\n"
     ]
    },
    {
     "data": {
      "application/vnd.jupyter.widget-view+json": {
       "model_id": "d8246b2fac1240c982b0307dd5384e37",
       "version_major": 2,
       "version_minor": 0
      },
      "text/plain": [
       "Update step:   0%|          | 0/1160 [00:00<?, ?it/s]"
      ]
     },
     "metadata": {},
     "output_type": "display_data"
    },
    {
     "name": "stdout",
     "output_type": "stream",
     "text": [
      "Epoch [1/10], Loss: 2.8293, Train Acc: 50.78%\n",
      "Epoch [2/10], Loss: 0.9906, Train Acc: 84.53%\n",
      "Epoch [3/10], Loss: 0.4583, Train Acc: 90.74%\n",
      "Epoch [4/10], Loss: 0.3000, Train Acc: 93.68%\n",
      "Epoch [5/10], Loss: 0.3179, Train Acc: 95.19%\n",
      "Epoch [6/10], Loss: 0.3127, Train Acc: 96.82%\n",
      "Epoch [7/10], Loss: 0.3056, Train Acc: 98.14%\n",
      "Epoch [8/10], Loss: 0.2783, Train Acc: 97.67%\n",
      "Epoch [9/10], Loss: 0.4091, Train Acc: 98.49%\n",
      "Epoch [10/10], Loss: 0.4121, Train Acc: 98.88%\n",
      "Total elapsed: 184.54s, average per update step: 0.11s\n"
     ]
    },
    {
     "data": {
      "application/vnd.jupyter.widget-view+json": {
       "model_id": "d54f0d4387fa46b4adc641a896f5d284",
       "version_major": 2,
       "version_minor": 0
      },
      "text/plain": [
       "Evaluating:   0%|          | 0/115 [00:00<?, ?it/s]"
      ]
     },
     "metadata": {},
     "output_type": "display_data"
    },
    {
     "name": "stdout",
     "output_type": "stream",
     "text": [
      "Test Accuracy: 91.796 %\n",
      "Test Accuracy Mean: 92.02 %\n",
      "Test Accuracy Standard Error: 0.13 percentage points\n",
      "\n",
      "=====================================\n",
      "Training with fraction=0.7, epochs=20\n",
      "=====================================\n",
      "Test size: 3669\n",
      "Trying to load trainer from disk...\n"
     ]
    },
    {
     "name": "stderr",
     "output_type": "stream",
     "text": [
      "/opt/python/3.10/lib/python3.10/site-packages/torch/optim/lr_scheduler.py:60: UserWarning: The verbose parameter is deprecated. Please use get_last_lr() to access the learning rate.\n",
      "  warnings.warn(\n"
     ]
    },
    {
     "name": "stdout",
     "output_type": "stream",
     "text": [
      "Trainer not found. Retraining...\n",
      "[Trainer] Unfroze last 2 blocks\n"
     ]
    },
    {
     "data": {
      "application/vnd.jupyter.widget-view+json": {
       "model_id": "9a1248b2d5ed40308b65227d54bf7d04",
       "version_major": 2,
       "version_minor": 0
      },
      "text/plain": [
       "Update step:   0%|          | 0/2320 [00:00<?, ?it/s]"
      ]
     },
     "metadata": {},
     "output_type": "display_data"
    },
    {
     "name": "stdout",
     "output_type": "stream",
     "text": [
      "Epoch [1/20], Loss: 2.8437, Train Acc: 50.93%\n",
      "Epoch [2/20], Loss: 1.0082, Train Acc: 84.57%\n",
      "Epoch [3/20], Loss: 0.4513, Train Acc: 91.20%\n",
      "Epoch [4/20], Loss: 0.3625, Train Acc: 94.26%\n",
      "Epoch [5/20], Loss: 0.3110, Train Acc: 95.04%\n",
      "Epoch [6/20], Loss: 0.4132, Train Acc: 96.43%\n",
      "Epoch [7/20], Loss: 0.3774, Train Acc: 97.64%\n",
      "Epoch [8/20], Loss: 0.3698, Train Acc: 96.51%\n",
      "Epoch [9/20], Loss: 0.4130, Train Acc: 98.22%\n",
      "Epoch [10/20], Loss: 0.3481, Train Acc: 98.10%\n",
      "Epoch [11/20], Loss: 0.4381, Train Acc: 98.41%\n",
      "Epoch [12/20], Loss: 0.3961, Train Acc: 98.49%\n",
      "Epoch [13/20], Loss: 0.2338, Train Acc: 98.53%\n",
      "Epoch [14/20], Loss: 0.2811, Train Acc: 98.99%\n",
      "Epoch [15/20], Loss: 0.2593, Train Acc: 99.26%\n",
      "Epoch [16/20], Loss: 0.3084, Train Acc: 99.22%\n",
      "Epoch [17/20], Loss: 0.2774, Train Acc: 99.15%\n",
      "Epoch [18/20], Loss: 0.2870, Train Acc: 99.42%\n",
      "Epoch [19/20], Loss: 0.2485, Train Acc: 99.07%\n",
      "Epoch [20/20], Loss: 0.2638, Train Acc: 99.26%\n",
      "Total elapsed: 370.50s, average per update step: 0.09s\n"
     ]
    },
    {
     "data": {
      "application/vnd.jupyter.widget-view+json": {
       "model_id": "e9c89cbe9a414d5e989cc7f06e99559e",
       "version_major": 2,
       "version_minor": 0
      },
      "text/plain": [
       "Evaluating:   0%|          | 0/115 [00:00<?, ?it/s]"
      ]
     },
     "metadata": {},
     "output_type": "display_data"
    },
    {
     "name": "stdout",
     "output_type": "stream",
     "text": [
      "Test Accuracy: 91.769 %\n",
      "Trying to load trainer from disk...\n",
      "Trainer not found. Retraining...\n",
      "[Trainer] Unfroze last 2 blocks\n"
     ]
    },
    {
     "data": {
      "application/vnd.jupyter.widget-view+json": {
       "model_id": "490212025d5443409dc360e237d597c6",
       "version_major": 2,
       "version_minor": 0
      },
      "text/plain": [
       "Update step:   0%|          | 0/2320 [00:00<?, ?it/s]"
      ]
     },
     "metadata": {},
     "output_type": "display_data"
    },
    {
     "name": "stdout",
     "output_type": "stream",
     "text": [
      "Epoch [1/20], Loss: 2.8408, Train Acc: 48.84%\n",
      "Epoch [2/20], Loss: 1.0231, Train Acc: 84.22%\n",
      "Epoch [3/20], Loss: 0.4910, Train Acc: 90.31%\n",
      "Epoch [4/20], Loss: 0.3295, Train Acc: 93.91%\n",
      "Epoch [5/20], Loss: 0.3083, Train Acc: 95.66%\n",
      "Epoch [6/20], Loss: 0.3354, Train Acc: 96.86%\n",
      "Epoch [7/20], Loss: 0.2608, Train Acc: 97.79%\n",
      "Epoch [8/20], Loss: 0.4083, Train Acc: 96.67%\n",
      "Epoch [9/20], Loss: 0.3478, Train Acc: 98.41%\n",
      "Epoch [10/20], Loss: 0.5254, Train Acc: 98.06%\n",
      "Epoch [11/20], Loss: 0.4614, Train Acc: 97.83%\n",
      "Epoch [12/20], Loss: 0.3608, Train Acc: 98.60%\n",
      "Epoch [13/20], Loss: 0.4710, Train Acc: 98.45%\n",
      "Epoch [14/20], Loss: 0.3159, Train Acc: 98.49%\n",
      "Epoch [15/20], Loss: 0.3162, Train Acc: 98.76%\n",
      "Epoch [16/20], Loss: 0.3187, Train Acc: 99.42%\n",
      "Epoch [17/20], Loss: 0.2885, Train Acc: 98.91%\n",
      "Epoch [18/20], Loss: 0.2619, Train Acc: 99.50%\n",
      "Epoch [19/20], Loss: 0.2254, Train Acc: 99.34%\n",
      "Epoch [20/20], Loss: 0.2463, Train Acc: 99.26%\n",
      "Total elapsed: 369.94s, average per update step: 0.10s\n"
     ]
    },
    {
     "data": {
      "application/vnd.jupyter.widget-view+json": {
       "model_id": "f42f91852558418995c47303e1559f13",
       "version_major": 2,
       "version_minor": 0
      },
      "text/plain": [
       "Evaluating:   0%|          | 0/115 [00:00<?, ?it/s]"
      ]
     },
     "metadata": {},
     "output_type": "display_data"
    },
    {
     "name": "stdout",
     "output_type": "stream",
     "text": [
      "Test Accuracy: 91.905 %\n",
      "Trying to load trainer from disk...\n",
      "Trainer not found. Retraining...\n",
      "[Trainer] Unfroze last 2 blocks\n"
     ]
    },
    {
     "data": {
      "application/vnd.jupyter.widget-view+json": {
       "model_id": "fa0e082a733346b38ee483f98b2a1ec0",
       "version_major": 2,
       "version_minor": 0
      },
      "text/plain": [
       "Update step:   0%|          | 0/2320 [00:00<?, ?it/s]"
      ]
     },
     "metadata": {},
     "output_type": "display_data"
    },
    {
     "name": "stdout",
     "output_type": "stream",
     "text": [
      "Epoch [1/20], Loss: 2.8293, Train Acc: 50.78%\n",
      "Epoch [2/20], Loss: 0.9906, Train Acc: 84.53%\n",
      "Epoch [3/20], Loss: 0.4583, Train Acc: 90.74%\n",
      "Epoch [4/20], Loss: 0.3000, Train Acc: 93.68%\n",
      "Epoch [5/20], Loss: 0.3179, Train Acc: 95.19%\n",
      "Epoch [6/20], Loss: 0.3127, Train Acc: 96.82%\n",
      "Epoch [7/20], Loss: 0.3056, Train Acc: 98.14%\n",
      "Epoch [8/20], Loss: 0.2783, Train Acc: 97.67%\n",
      "Epoch [9/20], Loss: 0.4091, Train Acc: 98.49%\n",
      "Epoch [10/20], Loss: 0.4121, Train Acc: 98.88%\n",
      "Epoch [11/20], Loss: 0.4080, Train Acc: 98.84%\n",
      "Epoch [12/20], Loss: 0.3355, Train Acc: 97.83%\n",
      "Epoch [13/20], Loss: 0.3745, Train Acc: 98.88%\n",
      "Epoch [14/20], Loss: 0.3029, Train Acc: 98.53%\n",
      "Epoch [15/20], Loss: 0.3363, Train Acc: 98.68%\n",
      "Epoch [16/20], Loss: 0.2758, Train Acc: 99.30%\n",
      "Epoch [17/20], Loss: 0.3591, Train Acc: 99.30%\n",
      "Epoch [18/20], Loss: 0.2820, Train Acc: 99.30%\n",
      "Epoch [19/20], Loss: 0.2862, Train Acc: 98.99%\n",
      "Epoch [20/20], Loss: 0.2287, Train Acc: 99.34%\n",
      "Total elapsed: 371.87s, average per update step: 0.10s\n"
     ]
    },
    {
     "data": {
      "application/vnd.jupyter.widget-view+json": {
       "model_id": "eab71c026e3a4278b881785d1eafc74d",
       "version_major": 2,
       "version_minor": 0
      },
      "text/plain": [
       "Evaluating:   0%|          | 0/115 [00:00<?, ?it/s]"
      ]
     },
     "metadata": {},
     "output_type": "display_data"
    },
    {
     "name": "stdout",
     "output_type": "stream",
     "text": [
      "Test Accuracy: 91.796 %\n",
      "Test Accuracy Mean: 91.82 %\n",
      "Test Accuracy Standard Error: 0.04 percentage points\n",
      "\n",
      "=====================================\n",
      "Training with fraction=0.7, epochs=30\n",
      "=====================================\n",
      "Test size: 3669\n",
      "Trying to load trainer from disk...\n"
     ]
    },
    {
     "name": "stderr",
     "output_type": "stream",
     "text": [
      "/opt/python/3.10/lib/python3.10/site-packages/torch/optim/lr_scheduler.py:60: UserWarning: The verbose parameter is deprecated. Please use get_last_lr() to access the learning rate.\n",
      "  warnings.warn(\n"
     ]
    },
    {
     "name": "stdout",
     "output_type": "stream",
     "text": [
      "Trainer not found. Retraining...\n",
      "[Trainer] Unfroze last 2 blocks\n"
     ]
    },
    {
     "data": {
      "application/vnd.jupyter.widget-view+json": {
       "model_id": "00b02bde81214dfd85efce9899c14f5f",
       "version_major": 2,
       "version_minor": 0
      },
      "text/plain": [
       "Update step:   0%|          | 0/3480 [00:00<?, ?it/s]"
      ]
     },
     "metadata": {},
     "output_type": "display_data"
    },
    {
     "name": "stdout",
     "output_type": "stream",
     "text": [
      "Epoch [1/30], Loss: 2.8437, Train Acc: 50.93%\n",
      "Epoch [2/30], Loss: 1.0082, Train Acc: 84.57%\n",
      "Epoch [3/30], Loss: 0.4513, Train Acc: 91.20%\n",
      "Epoch [4/30], Loss: 0.3625, Train Acc: 94.26%\n",
      "Epoch [5/30], Loss: 0.3110, Train Acc: 95.04%\n",
      "Epoch [6/30], Loss: 0.4132, Train Acc: 96.43%\n",
      "Epoch [7/30], Loss: 0.3774, Train Acc: 97.64%\n",
      "Epoch [8/30], Loss: 0.3698, Train Acc: 96.51%\n",
      "Epoch [9/30], Loss: 0.4130, Train Acc: 98.22%\n",
      "Epoch [10/30], Loss: 0.3481, Train Acc: 98.10%\n",
      "Epoch [11/30], Loss: 0.4381, Train Acc: 98.41%\n",
      "Epoch [12/30], Loss: 0.3961, Train Acc: 98.49%\n",
      "Epoch [13/30], Loss: 0.2338, Train Acc: 98.53%\n",
      "Epoch [14/30], Loss: 0.2811, Train Acc: 98.99%\n",
      "Epoch [15/30], Loss: 0.2593, Train Acc: 99.26%\n",
      "Epoch [16/30], Loss: 0.3084, Train Acc: 99.22%\n",
      "Epoch [17/30], Loss: 0.2774, Train Acc: 99.15%\n",
      "Epoch [18/30], Loss: 0.2870, Train Acc: 99.42%\n",
      "Epoch [19/30], Loss: 0.2485, Train Acc: 99.07%\n",
      "Epoch [20/30], Loss: 0.2638, Train Acc: 99.26%\n",
      "Epoch [21/30], Loss: 0.2071, Train Acc: 99.46%\n",
      "Epoch [22/30], Loss: 0.2390, Train Acc: 99.34%\n",
      "Epoch [23/30], Loss: 0.2532, Train Acc: 99.38%\n",
      "Epoch [24/30], Loss: 0.2241, Train Acc: 99.46%\n",
      "Epoch [25/30], Loss: 0.2206, Train Acc: 99.38%\n",
      "Epoch [26/30], Loss: 0.1621, Train Acc: 99.81%\n",
      "Epoch [27/30], Loss: 0.1687, Train Acc: 99.65%\n",
      "Epoch [28/30], Loss: 0.2030, Train Acc: 99.65%\n",
      "Epoch [29/30], Loss: 0.1822, Train Acc: 99.38%\n",
      "Epoch [30/30], Loss: 0.1882, Train Acc: 99.77%\n",
      "Total elapsed: 558.77s, average per update step: 0.09s\n"
     ]
    },
    {
     "data": {
      "application/vnd.jupyter.widget-view+json": {
       "model_id": "9ba334b836a74e8090a2cedb66793925",
       "version_major": 2,
       "version_minor": 0
      },
      "text/plain": [
       "Evaluating:   0%|          | 0/115 [00:00<?, ?it/s]"
      ]
     },
     "metadata": {},
     "output_type": "display_data"
    },
    {
     "name": "stdout",
     "output_type": "stream",
     "text": [
      "Test Accuracy: 91.633 %\n",
      "Trying to load trainer from disk...\n",
      "Trainer not found. Retraining...\n",
      "[Trainer] Unfroze last 2 blocks\n"
     ]
    },
    {
     "data": {
      "application/vnd.jupyter.widget-view+json": {
       "model_id": "a82c9b263460493db0dbeb9666fbc34b",
       "version_major": 2,
       "version_minor": 0
      },
      "text/plain": [
       "Update step:   0%|          | 0/3480 [00:00<?, ?it/s]"
      ]
     },
     "metadata": {},
     "output_type": "display_data"
    },
    {
     "name": "stdout",
     "output_type": "stream",
     "text": [
      "Epoch [1/30], Loss: 2.8408, Train Acc: 48.84%\n",
      "Epoch [2/30], Loss: 1.0231, Train Acc: 84.22%\n",
      "Epoch [3/30], Loss: 0.4910, Train Acc: 90.31%\n",
      "Epoch [4/30], Loss: 0.3295, Train Acc: 93.91%\n",
      "Epoch [5/30], Loss: 0.3083, Train Acc: 95.66%\n",
      "Epoch [6/30], Loss: 0.3354, Train Acc: 96.86%\n",
      "Epoch [7/30], Loss: 0.2608, Train Acc: 97.79%\n",
      "Epoch [8/30], Loss: 0.4083, Train Acc: 96.67%\n",
      "Epoch [9/30], Loss: 0.3478, Train Acc: 98.41%\n",
      "Epoch [10/30], Loss: 0.5254, Train Acc: 98.06%\n",
      "Epoch [11/30], Loss: 0.4614, Train Acc: 97.83%\n",
      "Epoch [12/30], Loss: 0.3608, Train Acc: 98.60%\n",
      "Epoch [13/30], Loss: 0.4710, Train Acc: 98.45%\n",
      "Epoch [14/30], Loss: 0.3159, Train Acc: 98.49%\n",
      "Epoch [15/30], Loss: 0.3162, Train Acc: 98.76%\n",
      "Epoch [16/30], Loss: 0.3187, Train Acc: 99.42%\n",
      "Epoch [17/30], Loss: 0.2885, Train Acc: 98.91%\n",
      "Epoch [18/30], Loss: 0.2619, Train Acc: 99.50%\n",
      "Epoch [19/30], Loss: 0.2254, Train Acc: 99.34%\n",
      "Epoch [20/30], Loss: 0.2463, Train Acc: 99.26%\n",
      "Epoch [21/30], Loss: 0.2042, Train Acc: 99.53%\n",
      "Epoch [22/30], Loss: 0.1909, Train Acc: 99.53%\n",
      "Epoch [23/30], Loss: 0.2119, Train Acc: 99.46%\n",
      "Epoch [24/30], Loss: 0.1900, Train Acc: 99.30%\n",
      "Epoch [25/30], Loss: 0.1835, Train Acc: 99.69%\n",
      "Epoch [26/30], Loss: 0.1714, Train Acc: 99.53%\n",
      "Epoch [27/30], Loss: 0.1452, Train Acc: 99.81%\n",
      "Epoch [28/30], Loss: 0.1655, Train Acc: 99.69%\n",
      "Epoch [29/30], Loss: 0.1717, Train Acc: 99.53%\n",
      "Epoch [30/30], Loss: 0.1355, Train Acc: 99.77%\n",
      "Total elapsed: 559.78s, average per update step: 0.10s\n"
     ]
    },
    {
     "data": {
      "application/vnd.jupyter.widget-view+json": {
       "model_id": "b9a6b49a0bb046188f446e8247f83735",
       "version_major": 2,
       "version_minor": 0
      },
      "text/plain": [
       "Evaluating:   0%|          | 0/115 [00:00<?, ?it/s]"
      ]
     },
     "metadata": {},
     "output_type": "display_data"
    },
    {
     "name": "stdout",
     "output_type": "stream",
     "text": [
      "Test Accuracy: 91.387 %\n",
      "Trying to load trainer from disk...\n",
      "Trainer not found. Retraining...\n",
      "[Trainer] Unfroze last 2 blocks\n"
     ]
    },
    {
     "data": {
      "application/vnd.jupyter.widget-view+json": {
       "model_id": "001c00708c0c4701882a9effed5b605c",
       "version_major": 2,
       "version_minor": 0
      },
      "text/plain": [
       "Update step:   0%|          | 0/3480 [00:00<?, ?it/s]"
      ]
     },
     "metadata": {},
     "output_type": "display_data"
    },
    {
     "name": "stdout",
     "output_type": "stream",
     "text": [
      "Epoch [1/30], Loss: 2.8293, Train Acc: 50.78%\n",
      "Epoch [2/30], Loss: 0.9906, Train Acc: 84.53%\n",
      "Epoch [3/30], Loss: 0.4583, Train Acc: 90.74%\n",
      "Epoch [4/30], Loss: 0.3000, Train Acc: 93.68%\n",
      "Epoch [5/30], Loss: 0.3179, Train Acc: 95.19%\n",
      "Epoch [6/30], Loss: 0.3127, Train Acc: 96.82%\n",
      "Epoch [7/30], Loss: 0.3056, Train Acc: 98.14%\n",
      "Epoch [8/30], Loss: 0.2783, Train Acc: 97.67%\n",
      "Epoch [9/30], Loss: 0.4091, Train Acc: 98.49%\n",
      "Epoch [10/30], Loss: 0.4121, Train Acc: 98.88%\n",
      "Epoch [11/30], Loss: 0.4080, Train Acc: 98.84%\n",
      "Epoch [12/30], Loss: 0.3355, Train Acc: 97.83%\n",
      "Epoch [13/30], Loss: 0.3745, Train Acc: 98.88%\n",
      "Epoch [14/30], Loss: 0.3029, Train Acc: 98.53%\n",
      "Epoch [15/30], Loss: 0.3363, Train Acc: 98.68%\n",
      "Epoch [16/30], Loss: 0.2758, Train Acc: 99.30%\n",
      "Epoch [17/30], Loss: 0.3591, Train Acc: 99.30%\n",
      "Epoch [18/30], Loss: 0.2820, Train Acc: 99.30%\n",
      "Epoch [19/30], Loss: 0.2862, Train Acc: 98.99%\n",
      "Epoch [20/30], Loss: 0.2287, Train Acc: 99.34%\n",
      "Epoch [21/30], Loss: 0.2481, Train Acc: 99.50%\n",
      "Epoch [22/30], Loss: 0.2512, Train Acc: 99.42%\n",
      "Epoch [23/30], Loss: 0.2189, Train Acc: 99.19%\n",
      "Epoch [24/30], Loss: 0.2066, Train Acc: 99.38%\n",
      "Epoch [25/30], Loss: 0.2226, Train Acc: 99.38%\n",
      "Epoch [26/30], Loss: 0.1812, Train Acc: 99.50%\n",
      "Epoch [27/30], Loss: 0.2036, Train Acc: 99.50%\n",
      "Epoch [28/30], Loss: 0.1829, Train Acc: 99.65%\n",
      "Epoch [29/30], Loss: 0.1805, Train Acc: 99.77%\n",
      "Epoch [30/30], Loss: 0.1662, Train Acc: 99.88%\n",
      "Total elapsed: 559.05s, average per update step: 0.10s\n"
     ]
    },
    {
     "data": {
      "application/vnd.jupyter.widget-view+json": {
       "model_id": "742131e5df2d4701b34934d403179bc7",
       "version_major": 2,
       "version_minor": 0
      },
      "text/plain": [
       "Evaluating:   0%|          | 0/115 [00:00<?, ?it/s]"
      ]
     },
     "metadata": {},
     "output_type": "display_data"
    },
    {
     "name": "stdout",
     "output_type": "stream",
     "text": [
      "Test Accuracy: 91.714 %\n",
      "Test Accuracy Mean: 91.58 %\n",
      "Test Accuracy Standard Error: 0.10 percentage points\n",
      "\n",
      "=====================================\n",
      "Training with fraction=0.5, epochs=10\n",
      "=====================================\n",
      "Test size: 3669\n",
      "Trying to load trainer from disk...\n"
     ]
    },
    {
     "name": "stderr",
     "output_type": "stream",
     "text": [
      "/opt/python/3.10/lib/python3.10/site-packages/torch/optim/lr_scheduler.py:60: UserWarning: The verbose parameter is deprecated. Please use get_last_lr() to access the learning rate.\n",
      "  warnings.warn(\n"
     ]
    },
    {
     "name": "stdout",
     "output_type": "stream",
     "text": [
      "Trainer not found. Retraining...\n",
      "[Trainer] Unfroze last 2 blocks\n"
     ]
    },
    {
     "data": {
      "application/vnd.jupyter.widget-view+json": {
       "model_id": "5fe87d441ca24e2b80de564e370cfa3e",
       "version_major": 2,
       "version_minor": 0
      },
      "text/plain": [
       "Update step:   0%|          | 0/1160 [00:00<?, ?it/s]"
      ]
     },
     "metadata": {},
     "output_type": "display_data"
    },
    {
     "name": "stdout",
     "output_type": "stream",
     "text": [
      "Epoch [1/10], Loss: 3.1379, Train Acc: 39.11%\n",
      "Epoch [2/10], Loss: 1.5996, Train Acc: 83.70%\n",
      "Epoch [3/10], Loss: 0.6819, Train Acc: 88.81%\n",
      "Epoch [4/10], Loss: 0.4751, Train Acc: 92.45%\n",
      "Epoch [5/10], Loss: 0.3104, Train Acc: 94.46%\n",
      "Epoch [6/10], Loss: 0.3383, Train Acc: 95.60%\n",
      "Epoch [7/10], Loss: 0.4472, Train Acc: 96.63%\n",
      "Epoch [8/10], Loss: 0.4530, Train Acc: 95.27%\n",
      "Epoch [9/10], Loss: 0.4642, Train Acc: 97.18%\n",
      "Epoch [10/10], Loss: 0.6240, Train Acc: 98.15%\n",
      "Total elapsed: 218.05s, average per update step: 0.10s\n"
     ]
    },
    {
     "data": {
      "application/vnd.jupyter.widget-view+json": {
       "model_id": "6048944008104208997860e412abfda1",
       "version_major": 2,
       "version_minor": 0
      },
      "text/plain": [
       "Evaluating:   0%|          | 0/115 [00:00<?, ?it/s]"
      ]
     },
     "metadata": {},
     "output_type": "display_data"
    },
    {
     "name": "stdout",
     "output_type": "stream",
     "text": [
      "Test Accuracy: 91.687 %\n",
      "Trying to load trainer from disk...\n",
      "Trainer not found. Retraining...\n",
      "[Trainer] Unfroze last 2 blocks\n"
     ]
    },
    {
     "data": {
      "application/vnd.jupyter.widget-view+json": {
       "model_id": "b1c351acec134f2f882af9b0b52dcd09",
       "version_major": 2,
       "version_minor": 0
      },
      "text/plain": [
       "Update step:   0%|          | 0/1160 [00:00<?, ?it/s]"
      ]
     },
     "metadata": {},
     "output_type": "display_data"
    },
    {
     "name": "stdout",
     "output_type": "stream",
     "text": [
      "Epoch [1/10], Loss: 3.1343, Train Acc: 38.62%\n",
      "Epoch [2/10], Loss: 1.6307, Train Acc: 81.80%\n",
      "Epoch [3/10], Loss: 0.6976, Train Acc: 89.19%\n",
      "Epoch [4/10], Loss: 0.4279, Train Acc: 92.23%\n",
      "Epoch [5/10], Loss: 0.3184, Train Acc: 94.24%\n",
      "Epoch [6/10], Loss: 0.3430, Train Acc: 95.17%\n",
      "Epoch [7/10], Loss: 0.4316, Train Acc: 96.96%\n",
      "Epoch [8/10], Loss: 0.4916, Train Acc: 96.09%\n",
      "Epoch [9/10], Loss: 0.2874, Train Acc: 96.69%\n",
      "Epoch [10/10], Loss: 0.5830, Train Acc: 96.14%\n",
      "Total elapsed: 220.05s, average per update step: 0.10s\n"
     ]
    },
    {
     "data": {
      "application/vnd.jupyter.widget-view+json": {
       "model_id": "92a2f58b44264ad58595cbdc83404715",
       "version_major": 2,
       "version_minor": 0
      },
      "text/plain": [
       "Evaluating:   0%|          | 0/115 [00:00<?, ?it/s]"
      ]
     },
     "metadata": {},
     "output_type": "display_data"
    },
    {
     "name": "stdout",
     "output_type": "stream",
     "text": [
      "Test Accuracy: 91.660 %\n",
      "Trying to load trainer from disk...\n",
      "Trainer not found. Retraining...\n",
      "[Trainer] Unfroze last 2 blocks\n"
     ]
    },
    {
     "data": {
      "application/vnd.jupyter.widget-view+json": {
       "model_id": "aec221802aef4ef68b4c070cfb5f7451",
       "version_major": 2,
       "version_minor": 0
      },
      "text/plain": [
       "Update step:   0%|          | 0/1160 [00:00<?, ?it/s]"
      ]
     },
     "metadata": {},
     "output_type": "display_data"
    },
    {
     "name": "stdout",
     "output_type": "stream",
     "text": [
      "Epoch [1/10], Loss: 3.1195, Train Acc: 41.06%\n",
      "Epoch [2/10], Loss: 1.5899, Train Acc: 82.78%\n",
      "Epoch [3/10], Loss: 0.6739, Train Acc: 89.41%\n",
      "Epoch [4/10], Loss: 0.4194, Train Acc: 91.85%\n",
      "Epoch [5/10], Loss: 0.3183, Train Acc: 94.19%\n",
      "Epoch [6/10], Loss: 0.3722, Train Acc: 95.71%\n",
      "Epoch [7/10], Loss: 0.4422, Train Acc: 97.01%\n",
      "Epoch [8/10], Loss: 0.4325, Train Acc: 95.17%\n",
      "Epoch [9/10], Loss: 0.7270, Train Acc: 97.66%\n",
      "Epoch [10/10], Loss: 0.6159, Train Acc: 95.60%\n",
      "Total elapsed: 221.26s, average per update step: 0.09s\n"
     ]
    },
    {
     "data": {
      "application/vnd.jupyter.widget-view+json": {
       "model_id": "42dfc5fb9345400da6c31f5744648e70",
       "version_major": 2,
       "version_minor": 0
      },
      "text/plain": [
       "Evaluating:   0%|          | 0/115 [00:00<?, ?it/s]"
      ]
     },
     "metadata": {},
     "output_type": "display_data"
    },
    {
     "name": "stdout",
     "output_type": "stream",
     "text": [
      "Test Accuracy: 91.878 %\n",
      "Test Accuracy Mean: 91.74 %\n",
      "Test Accuracy Standard Error: 0.07 percentage points\n",
      "\n",
      "=====================================\n",
      "Training with fraction=0.5, epochs=20\n",
      "=====================================\n",
      "Test size: 3669\n",
      "Trying to load trainer from disk...\n"
     ]
    },
    {
     "name": "stderr",
     "output_type": "stream",
     "text": [
      "/opt/python/3.10/lib/python3.10/site-packages/torch/optim/lr_scheduler.py:60: UserWarning: The verbose parameter is deprecated. Please use get_last_lr() to access the learning rate.\n",
      "  warnings.warn(\n"
     ]
    },
    {
     "name": "stdout",
     "output_type": "stream",
     "text": [
      "Trainer not found. Retraining...\n",
      "[Trainer] Unfroze last 2 blocks\n"
     ]
    },
    {
     "data": {
      "application/vnd.jupyter.widget-view+json": {
       "model_id": "8abee38e867e41339e013dc7cd0b9068",
       "version_major": 2,
       "version_minor": 0
      },
      "text/plain": [
       "Update step:   0%|          | 0/2320 [00:00<?, ?it/s]"
      ]
     },
     "metadata": {},
     "output_type": "display_data"
    },
    {
     "name": "stdout",
     "output_type": "stream",
     "text": [
      "Epoch [1/20], Loss: 3.1379, Train Acc: 39.11%\n",
      "Epoch [2/20], Loss: 1.5996, Train Acc: 83.70%\n",
      "Epoch [3/20], Loss: 0.6819, Train Acc: 88.81%\n",
      "Epoch [4/20], Loss: 0.4751, Train Acc: 92.45%\n",
      "Epoch [5/20], Loss: 0.3104, Train Acc: 94.46%\n",
      "Epoch [6/20], Loss: 0.3383, Train Acc: 95.60%\n",
      "Epoch [7/20], Loss: 0.4472, Train Acc: 96.63%\n",
      "Epoch [8/20], Loss: 0.4530, Train Acc: 95.27%\n",
      "Epoch [9/20], Loss: 0.4642, Train Acc: 97.18%\n",
      "Epoch [10/20], Loss: 0.6240, Train Acc: 98.15%\n",
      "Epoch [11/20], Loss: 0.5440, Train Acc: 96.58%\n",
      "Epoch [12/20], Loss: 0.7500, Train Acc: 98.04%\n",
      "Epoch [13/20], Loss: 0.5463, Train Acc: 96.58%\n",
      "Epoch [14/20], Loss: 0.8664, Train Acc: 97.50%\n",
      "Epoch [15/20], Loss: 0.6539, Train Acc: 98.37%\n",
      "Epoch [16/20], Loss: 0.6920, Train Acc: 98.70%\n",
      "Epoch [17/20], Loss: 0.6359, Train Acc: 97.12%\n",
      "Epoch [18/20], Loss: 0.9071, Train Acc: 98.48%\n",
      "Epoch [19/20], Loss: 0.5980, Train Acc: 98.21%\n",
      "Epoch [20/20], Loss: 0.4021, Train Acc: 98.15%\n",
      "Total elapsed: 439.69s, average per update step: 0.10s\n"
     ]
    },
    {
     "data": {
      "application/vnd.jupyter.widget-view+json": {
       "model_id": "3d401d2120d8405382f747d651e109ab",
       "version_major": 2,
       "version_minor": 0
      },
      "text/plain": [
       "Evaluating:   0%|          | 0/115 [00:00<?, ?it/s]"
      ]
     },
     "metadata": {},
     "output_type": "display_data"
    },
    {
     "name": "stdout",
     "output_type": "stream",
     "text": [
      "Test Accuracy: 90.869 %\n",
      "Trying to load trainer from disk...\n",
      "Trainer not found. Retraining...\n",
      "[Trainer] Unfroze last 2 blocks\n"
     ]
    },
    {
     "data": {
      "application/vnd.jupyter.widget-view+json": {
       "model_id": "83d78c1bf257493abbded468a36a05ad",
       "version_major": 2,
       "version_minor": 0
      },
      "text/plain": [
       "Update step:   0%|          | 0/2320 [00:00<?, ?it/s]"
      ]
     },
     "metadata": {},
     "output_type": "display_data"
    },
    {
     "name": "stdout",
     "output_type": "stream",
     "text": [
      "Epoch [1/20], Loss: 3.1343, Train Acc: 38.62%\n",
      "Epoch [2/20], Loss: 1.6307, Train Acc: 81.80%\n",
      "Epoch [3/20], Loss: 0.6976, Train Acc: 89.19%\n",
      "Epoch [4/20], Loss: 0.4279, Train Acc: 92.23%\n",
      "Epoch [5/20], Loss: 0.3184, Train Acc: 94.24%\n",
      "Epoch [6/20], Loss: 0.3430, Train Acc: 95.17%\n",
      "Epoch [7/20], Loss: 0.4316, Train Acc: 96.96%\n",
      "Epoch [8/20], Loss: 0.4916, Train Acc: 96.09%\n",
      "Epoch [9/20], Loss: 0.2874, Train Acc: 96.69%\n",
      "Epoch [10/20], Loss: 0.5830, Train Acc: 96.14%\n",
      "Epoch [11/20], Loss: 0.6086, Train Acc: 96.25%\n",
      "Epoch [12/20], Loss: 0.5647, Train Acc: 98.32%\n",
      "Epoch [13/20], Loss: 0.6246, Train Acc: 97.88%\n",
      "Epoch [14/20], Loss: 0.3995, Train Acc: 98.04%\n",
      "Epoch [15/20], Loss: 0.8318, Train Acc: 98.32%\n",
      "Epoch [16/20], Loss: 0.5699, Train Acc: 97.45%\n",
      "Epoch [17/20], Loss: 0.5783, Train Acc: 97.72%\n",
      "Epoch [18/20], Loss: 0.5009, Train Acc: 98.21%\n",
      "Epoch [19/20], Loss: 0.5529, Train Acc: 97.61%\n",
      "Epoch [20/20], Loss: 0.6461, Train Acc: 98.70%\n",
      "Total elapsed: 438.97s, average per update step: 0.10s\n"
     ]
    },
    {
     "data": {
      "application/vnd.jupyter.widget-view+json": {
       "model_id": "b3eb07ebd6a746768282e9435f1c0b2c",
       "version_major": 2,
       "version_minor": 0
      },
      "text/plain": [
       "Evaluating:   0%|          | 0/115 [00:00<?, ?it/s]"
      ]
     },
     "metadata": {},
     "output_type": "display_data"
    },
    {
     "name": "stdout",
     "output_type": "stream",
     "text": [
      "Test Accuracy: 91.115 %\n",
      "Trying to load trainer from disk...\n",
      "Trainer not found. Retraining...\n",
      "[Trainer] Unfroze last 2 blocks\n"
     ]
    },
    {
     "data": {
      "application/vnd.jupyter.widget-view+json": {
       "model_id": "5bef037b18a74d469f543bf00c044c40",
       "version_major": 2,
       "version_minor": 0
      },
      "text/plain": [
       "Update step:   0%|          | 0/2320 [00:00<?, ?it/s]"
      ]
     },
     "metadata": {},
     "output_type": "display_data"
    },
    {
     "name": "stdout",
     "output_type": "stream",
     "text": [
      "Epoch [1/20], Loss: 3.1195, Train Acc: 41.06%\n",
      "Epoch [2/20], Loss: 1.5899, Train Acc: 82.78%\n",
      "Epoch [3/20], Loss: 0.6739, Train Acc: 89.41%\n",
      "Epoch [4/20], Loss: 0.4194, Train Acc: 91.85%\n",
      "Epoch [5/20], Loss: 0.3183, Train Acc: 94.19%\n",
      "Epoch [6/20], Loss: 0.3722, Train Acc: 95.71%\n",
      "Epoch [7/20], Loss: 0.4422, Train Acc: 97.01%\n",
      "Epoch [8/20], Loss: 0.4325, Train Acc: 95.17%\n",
      "Epoch [9/20], Loss: 0.7270, Train Acc: 97.66%\n",
      "Epoch [10/20], Loss: 0.6159, Train Acc: 95.60%\n",
      "Epoch [11/20], Loss: 0.5233, Train Acc: 97.07%\n",
      "Epoch [12/20], Loss: 0.4865, Train Acc: 97.77%\n",
      "Epoch [13/20], Loss: 0.6922, Train Acc: 97.45%\n",
      "Epoch [14/20], Loss: 0.4680, Train Acc: 97.83%\n",
      "Epoch [15/20], Loss: 0.5330, Train Acc: 97.94%\n",
      "Epoch [16/20], Loss: 0.4835, Train Acc: 97.61%\n",
      "Epoch [17/20], Loss: 0.8134, Train Acc: 98.64%\n",
      "Epoch [18/20], Loss: 0.4862, Train Acc: 98.53%\n",
      "Epoch [19/20], Loss: 0.3581, Train Acc: 98.37%\n",
      "Epoch [20/20], Loss: 0.7589, Train Acc: 99.08%\n",
      "Total elapsed: 451.13s, average per update step: 0.10s\n"
     ]
    },
    {
     "data": {
      "application/vnd.jupyter.widget-view+json": {
       "model_id": "22bd93b422d1454aa24148f48fbe10df",
       "version_major": 2,
       "version_minor": 0
      },
      "text/plain": [
       "Evaluating:   0%|          | 0/115 [00:00<?, ?it/s]"
      ]
     },
     "metadata": {},
     "output_type": "display_data"
    },
    {
     "name": "stdout",
     "output_type": "stream",
     "text": [
      "Test Accuracy: 91.442 %\n",
      "Test Accuracy Mean: 91.14 %\n",
      "Test Accuracy Standard Error: 0.17 percentage points\n",
      "\n",
      "=====================================\n",
      "Training with fraction=0.5, epochs=30\n",
      "=====================================\n",
      "Test size: 3669\n",
      "Trying to load trainer from disk...\n"
     ]
    },
    {
     "name": "stderr",
     "output_type": "stream",
     "text": [
      "/opt/python/3.10/lib/python3.10/site-packages/torch/optim/lr_scheduler.py:60: UserWarning: The verbose parameter is deprecated. Please use get_last_lr() to access the learning rate.\n",
      "  warnings.warn(\n"
     ]
    },
    {
     "name": "stdout",
     "output_type": "stream",
     "text": [
      "Trainer not found. Retraining...\n",
      "[Trainer] Unfroze last 2 blocks\n"
     ]
    },
    {
     "data": {
      "application/vnd.jupyter.widget-view+json": {
       "model_id": "3fc35a91d4fc4a8384108d9b76d05b9d",
       "version_major": 2,
       "version_minor": 0
      },
      "text/plain": [
       "Update step:   0%|          | 0/3480 [00:00<?, ?it/s]"
      ]
     },
     "metadata": {},
     "output_type": "display_data"
    },
    {
     "name": "stdout",
     "output_type": "stream",
     "text": [
      "Epoch [1/30], Loss: 3.1379, Train Acc: 39.11%\n",
      "Epoch [2/30], Loss: 1.5996, Train Acc: 83.70%\n",
      "Epoch [3/30], Loss: 0.6819, Train Acc: 88.81%\n",
      "Epoch [4/30], Loss: 0.4751, Train Acc: 92.45%\n",
      "Epoch [5/30], Loss: 0.3104, Train Acc: 94.46%\n",
      "Epoch [6/30], Loss: 0.3383, Train Acc: 95.60%\n",
      "Epoch [7/30], Loss: 0.4472, Train Acc: 96.63%\n",
      "Epoch [8/30], Loss: 0.4530, Train Acc: 95.27%\n",
      "Epoch [9/30], Loss: 0.4642, Train Acc: 97.18%\n",
      "Epoch [10/30], Loss: 0.6240, Train Acc: 98.15%\n",
      "Epoch [11/30], Loss: 0.5440, Train Acc: 96.58%\n",
      "Epoch [12/30], Loss: 0.7500, Train Acc: 98.04%\n",
      "Epoch [13/30], Loss: 0.5463, Train Acc: 96.58%\n",
      "Epoch [14/30], Loss: 0.8664, Train Acc: 97.50%\n",
      "Epoch [15/30], Loss: 0.6539, Train Acc: 98.37%\n",
      "Epoch [16/30], Loss: 0.6920, Train Acc: 98.70%\n",
      "Epoch [17/30], Loss: 0.6359, Train Acc: 97.12%\n",
      "Epoch [18/30], Loss: 0.9071, Train Acc: 98.48%\n",
      "Epoch [19/30], Loss: 0.5980, Train Acc: 98.21%\n",
      "Epoch [20/30], Loss: 0.4021, Train Acc: 98.15%\n",
      "Epoch [21/30], Loss: 0.6044, Train Acc: 98.91%\n",
      "Epoch [22/30], Loss: 0.5107, Train Acc: 99.19%\n",
      "Epoch [23/30], Loss: 0.4449, Train Acc: 98.80%\n",
      "Epoch [24/30], Loss: 0.5511, Train Acc: 98.75%\n",
      "Epoch [25/30], Loss: 0.4522, Train Acc: 99.19%\n",
      "Epoch [26/30], Loss: 0.3684, Train Acc: 99.24%\n",
      "Epoch [27/30], Loss: 0.3508, Train Acc: 99.51%\n",
      "Epoch [28/30], Loss: 0.3508, Train Acc: 99.67%\n",
      "Epoch [29/30], Loss: 0.4416, Train Acc: 99.57%\n",
      "Epoch [30/30], Loss: 0.3279, Train Acc: 99.35%\n",
      "Total elapsed: 706.78s, average per update step: 0.11s\n"
     ]
    },
    {
     "data": {
      "application/vnd.jupyter.widget-view+json": {
       "model_id": "933e272105234a198b7600d6d7ba602f",
       "version_major": 2,
       "version_minor": 0
      },
      "text/plain": [
       "Evaluating:   0%|          | 0/115 [00:00<?, ?it/s]"
      ]
     },
     "metadata": {},
     "output_type": "display_data"
    },
    {
     "name": "stdout",
     "output_type": "stream",
     "text": [
      "Test Accuracy: 90.052 %\n",
      "Trying to load trainer from disk...\n",
      "Trainer not found. Retraining...\n",
      "[Trainer] Unfroze last 2 blocks\n"
     ]
    },
    {
     "data": {
      "application/vnd.jupyter.widget-view+json": {
       "model_id": "dae320cf30fc481b910fdd7f3ee7b69e",
       "version_major": 2,
       "version_minor": 0
      },
      "text/plain": [
       "Update step:   0%|          | 0/3480 [00:00<?, ?it/s]"
      ]
     },
     "metadata": {},
     "output_type": "display_data"
    },
    {
     "name": "stdout",
     "output_type": "stream",
     "text": [
      "Epoch [1/30], Loss: 3.1343, Train Acc: 38.62%\n",
      "Epoch [2/30], Loss: 1.6307, Train Acc: 81.80%\n",
      "Epoch [3/30], Loss: 0.6976, Train Acc: 89.19%\n",
      "Epoch [4/30], Loss: 0.4279, Train Acc: 92.23%\n",
      "Epoch [5/30], Loss: 0.3184, Train Acc: 94.24%\n",
      "Epoch [6/30], Loss: 0.3430, Train Acc: 95.17%\n",
      "Epoch [7/30], Loss: 0.4316, Train Acc: 96.96%\n",
      "Epoch [8/30], Loss: 0.4916, Train Acc: 96.09%\n",
      "Epoch [9/30], Loss: 0.2874, Train Acc: 96.69%\n",
      "Epoch [10/30], Loss: 0.5830, Train Acc: 96.14%\n",
      "Epoch [11/30], Loss: 0.6086, Train Acc: 96.25%\n",
      "Epoch [12/30], Loss: 0.5647, Train Acc: 98.32%\n",
      "Epoch [13/30], Loss: 0.6246, Train Acc: 97.88%\n",
      "Epoch [14/30], Loss: 0.3995, Train Acc: 98.04%\n",
      "Epoch [15/30], Loss: 0.8318, Train Acc: 98.32%\n",
      "Epoch [16/30], Loss: 0.5699, Train Acc: 97.45%\n",
      "Epoch [17/30], Loss: 0.5783, Train Acc: 97.72%\n",
      "Epoch [18/30], Loss: 0.5009, Train Acc: 98.21%\n",
      "Epoch [19/30], Loss: 0.5529, Train Acc: 97.61%\n",
      "Epoch [20/30], Loss: 0.6461, Train Acc: 98.70%\n",
      "Epoch [21/30], Loss: 0.6446, Train Acc: 99.19%\n",
      "Epoch [22/30], Loss: 0.5502, Train Acc: 98.97%\n",
      "Epoch [23/30], Loss: 0.4857, Train Acc: 99.46%\n",
      "Epoch [24/30], Loss: 0.6159, Train Acc: 98.59%\n",
      "Epoch [25/30], Loss: 0.5732, Train Acc: 98.64%\n",
      "Epoch [26/30], Loss: 0.4987, Train Acc: 99.08%\n",
      "Epoch [27/30], Loss: 0.5243, Train Acc: 98.37%\n",
      "Epoch [28/30], Loss: 0.5567, Train Acc: 99.35%\n",
      "Epoch [29/30], Loss: 0.4344, Train Acc: 99.35%\n",
      "Epoch [30/30], Loss: 0.4000, Train Acc: 99.73%\n",
      "Total elapsed: 702.41s, average per update step: 0.11s\n"
     ]
    },
    {
     "data": {
      "application/vnd.jupyter.widget-view+json": {
       "model_id": "f0b43dea99474ac589abd6c5787464fd",
       "version_major": 2,
       "version_minor": 0
      },
      "text/plain": [
       "Evaluating:   0%|          | 0/115 [00:00<?, ?it/s]"
      ]
     },
     "metadata": {},
     "output_type": "display_data"
    },
    {
     "name": "stdout",
     "output_type": "stream",
     "text": [
      "Test Accuracy: 90.215 %\n",
      "Trying to load trainer from disk...\n",
      "Trainer not found. Retraining...\n",
      "[Trainer] Unfroze last 2 blocks\n"
     ]
    },
    {
     "data": {
      "application/vnd.jupyter.widget-view+json": {
       "model_id": "1fc436d4ef084f83afcc744eb10adc2d",
       "version_major": 2,
       "version_minor": 0
      },
      "text/plain": [
       "Update step:   0%|          | 0/3480 [00:00<?, ?it/s]"
      ]
     },
     "metadata": {},
     "output_type": "display_data"
    },
    {
     "name": "stdout",
     "output_type": "stream",
     "text": [
      "Epoch [1/30], Loss: 3.1195, Train Acc: 41.06%\n",
      "Epoch [2/30], Loss: 1.5899, Train Acc: 82.78%\n",
      "Epoch [3/30], Loss: 0.6739, Train Acc: 89.41%\n",
      "Epoch [4/30], Loss: 0.4194, Train Acc: 91.85%\n",
      "Epoch [5/30], Loss: 0.3183, Train Acc: 94.19%\n",
      "Epoch [6/30], Loss: 0.3722, Train Acc: 95.71%\n",
      "Epoch [7/30], Loss: 0.4422, Train Acc: 97.01%\n",
      "Epoch [8/30], Loss: 0.4325, Train Acc: 95.17%\n",
      "Epoch [9/30], Loss: 0.7270, Train Acc: 97.66%\n",
      "Epoch [10/30], Loss: 0.6159, Train Acc: 95.60%\n",
      "Epoch [11/30], Loss: 0.5233, Train Acc: 97.07%\n",
      "Epoch [12/30], Loss: 0.4865, Train Acc: 97.77%\n",
      "Epoch [13/30], Loss: 0.6922, Train Acc: 97.45%\n",
      "Epoch [14/30], Loss: 0.4680, Train Acc: 97.83%\n",
      "Epoch [15/30], Loss: 0.5330, Train Acc: 97.94%\n",
      "Epoch [16/30], Loss: 0.4835, Train Acc: 97.61%\n",
      "Epoch [17/30], Loss: 0.8134, Train Acc: 98.64%\n",
      "Epoch [18/30], Loss: 0.4862, Train Acc: 98.53%\n",
      "Epoch [19/30], Loss: 0.3581, Train Acc: 98.37%\n",
      "Epoch [20/30], Loss: 0.7589, Train Acc: 99.08%\n",
      "Epoch [21/30], Loss: 0.7355, Train Acc: 98.70%\n",
      "Epoch [22/30], Loss: 0.5379, Train Acc: 98.97%\n",
      "Epoch [23/30], Loss: 0.5588, Train Acc: 99.19%\n",
      "Epoch [24/30], Loss: 0.4513, Train Acc: 99.08%\n",
      "Epoch [25/30], Loss: 0.4681, Train Acc: 98.97%\n",
      "Epoch [26/30], Loss: 0.4141, Train Acc: 99.02%\n",
      "Epoch [27/30], Loss: 0.4478, Train Acc: 99.08%\n",
      "Epoch [28/30], Loss: 0.4609, Train Acc: 99.46%\n",
      "Epoch [29/30], Loss: 0.3978, Train Acc: 99.62%\n",
      "Epoch [30/30], Loss: 0.3879, Train Acc: 99.46%\n",
      "Total elapsed: 705.71s, average per update step: 0.11s\n"
     ]
    },
    {
     "data": {
      "application/vnd.jupyter.widget-view+json": {
       "model_id": "351cc076cfbf4bd5af60963531bc8c25",
       "version_major": 2,
       "version_minor": 0
      },
      "text/plain": [
       "Evaluating:   0%|          | 0/115 [00:00<?, ?it/s]"
      ]
     },
     "metadata": {},
     "output_type": "display_data"
    },
    {
     "name": "stdout",
     "output_type": "stream",
     "text": [
      "Test Accuracy: 90.624 %\n",
      "Test Accuracy Mean: 90.30 %\n",
      "Test Accuracy Standard Error: 0.17 percentage points\n",
      "\n",
      "=====================================\n",
      "Training with fraction=0.3, epochs=10\n",
      "=====================================\n",
      "Test size: 3669\n",
      "Trying to load trainer from disk...\n"
     ]
    },
    {
     "name": "stderr",
     "output_type": "stream",
     "text": [
      "/opt/python/3.10/lib/python3.10/site-packages/torch/optim/lr_scheduler.py:60: UserWarning: The verbose parameter is deprecated. Please use get_last_lr() to access the learning rate.\n",
      "  warnings.warn(\n"
     ]
    },
    {
     "name": "stdout",
     "output_type": "stream",
     "text": [
      "Trainer not found. Retraining...\n",
      "[Trainer] Unfroze last 2 blocks\n"
     ]
    },
    {
     "data": {
      "application/vnd.jupyter.widget-view+json": {
       "model_id": "f5d25524ea0840149c3c311e132f3ca9",
       "version_major": 2,
       "version_minor": 0
      },
      "text/plain": [
       "Update step:   0%|          | 0/1160 [00:00<?, ?it/s]"
      ]
     },
     "metadata": {},
     "output_type": "display_data"
    },
    {
     "name": "stdout",
     "output_type": "stream",
     "text": [
      "Epoch [1/10], Loss: 3.3719, Train Acc: 24.25%\n",
      "Epoch [2/10], Loss: 2.5948, Train Acc: 71.76%\n",
      "Epoch [3/10], Loss: 1.5496, Train Acc: 83.26%\n",
      "Epoch [4/10], Loss: 0.8569, Train Acc: 89.77%\n",
      "Epoch [5/10], Loss: 0.5486, Train Acc: 91.49%\n",
      "Epoch [6/10], Loss: 0.4275, Train Acc: 94.30%\n",
      "Epoch [7/10], Loss: 0.4558, Train Acc: 94.39%\n",
      "Epoch [8/10], Loss: 0.4069, Train Acc: 95.57%\n",
      "Epoch [9/10], Loss: 0.9926, Train Acc: 90.05%\n",
      "Epoch [10/10], Loss: 0.5167, Train Acc: 93.48%\n",
      "Total elapsed: 270.46s, average per update step: 0.10s\n"
     ]
    },
    {
     "data": {
      "application/vnd.jupyter.widget-view+json": {
       "model_id": "a3833aecec0d4f929a11f32c798a3ea2",
       "version_major": 2,
       "version_minor": 0
      },
      "text/plain": [
       "Evaluating:   0%|          | 0/115 [00:00<?, ?it/s]"
      ]
     },
     "metadata": {},
     "output_type": "display_data"
    },
    {
     "name": "stdout",
     "output_type": "stream",
     "text": [
      "Test Accuracy: 90.924 %\n",
      "Trying to load trainer from disk...\n",
      "Trainer not found. Retraining...\n",
      "[Trainer] Unfroze last 2 blocks\n"
     ]
    },
    {
     "data": {
      "application/vnd.jupyter.widget-view+json": {
       "model_id": "6b2499ea0cd347289d0a8f199590bb47",
       "version_major": 2,
       "version_minor": 0
      },
      "text/plain": [
       "Update step:   0%|          | 0/1160 [00:00<?, ?it/s]"
      ]
     },
     "metadata": {},
     "output_type": "display_data"
    },
    {
     "name": "stdout",
     "output_type": "stream",
     "text": [
      "Epoch [1/10], Loss: 3.3701, Train Acc: 20.90%\n",
      "Epoch [2/10], Loss: 2.6036, Train Acc: 69.14%\n",
      "Epoch [3/10], Loss: 1.5638, Train Acc: 81.72%\n",
      "Epoch [4/10], Loss: 0.8777, Train Acc: 88.14%\n",
      "Epoch [5/10], Loss: 0.5777, Train Acc: 91.04%\n",
      "Epoch [6/10], Loss: 0.3983, Train Acc: 94.12%\n",
      "Epoch [7/10], Loss: 0.3501, Train Acc: 94.75%\n",
      "Epoch [8/10], Loss: 0.3260, Train Acc: 96.47%\n",
      "Epoch [9/10], Loss: 0.3976, Train Acc: 97.74%\n",
      "Epoch [10/10], Loss: 0.2464, Train Acc: 98.37%\n",
      "Total elapsed: 269.91s, average per update step: 0.10s\n"
     ]
    },
    {
     "data": {
      "application/vnd.jupyter.widget-view+json": {
       "model_id": "72560c2b38074e04b7141571db7be1af",
       "version_major": 2,
       "version_minor": 0
      },
      "text/plain": [
       "Evaluating:   0%|          | 0/115 [00:00<?, ?it/s]"
      ]
     },
     "metadata": {},
     "output_type": "display_data"
    },
    {
     "name": "stdout",
     "output_type": "stream",
     "text": [
      "Test Accuracy: 90.815 %\n",
      "Trying to load trainer from disk...\n",
      "Trainer not found. Retraining...\n",
      "[Trainer] Unfroze last 2 blocks\n"
     ]
    },
    {
     "data": {
      "application/vnd.jupyter.widget-view+json": {
       "model_id": "fdf4fd08c199409dab3f7e06a471ff48",
       "version_major": 2,
       "version_minor": 0
      },
      "text/plain": [
       "Update step:   0%|          | 0/1160 [00:00<?, ?it/s]"
      ]
     },
     "metadata": {},
     "output_type": "display_data"
    },
    {
     "name": "stdout",
     "output_type": "stream",
     "text": [
      "Epoch [1/10], Loss: 3.3602, Train Acc: 25.16%\n",
      "Epoch [2/10], Loss: 2.5812, Train Acc: 70.77%\n",
      "Epoch [3/10], Loss: 1.5265, Train Acc: 83.35%\n",
      "Epoch [4/10], Loss: 0.8498, Train Acc: 89.41%\n",
      "Epoch [5/10], Loss: 0.5359, Train Acc: 92.31%\n",
      "Epoch [6/10], Loss: 0.3818, Train Acc: 94.12%\n",
      "Epoch [7/10], Loss: 0.3480, Train Acc: 95.38%\n",
      "Epoch [8/10], Loss: 0.4111, Train Acc: 96.74%\n",
      "Epoch [9/10], Loss: 0.9119, Train Acc: 91.49%\n",
      "Epoch [10/10], Loss: 0.4144, Train Acc: 94.75%\n",
      "Total elapsed: 269.36s, average per update step: 0.10s\n"
     ]
    },
    {
     "data": {
      "application/vnd.jupyter.widget-view+json": {
       "model_id": "5bad733dbe364f2cbe9fe80ba607354d",
       "version_major": 2,
       "version_minor": 0
      },
      "text/plain": [
       "Evaluating:   0%|          | 0/115 [00:00<?, ?it/s]"
      ]
     },
     "metadata": {},
     "output_type": "display_data"
    },
    {
     "name": "stdout",
     "output_type": "stream",
     "text": [
      "Test Accuracy: 90.624 %\n",
      "Test Accuracy Mean: 90.79 %\n",
      "Test Accuracy Standard Error: 0.09 percentage points\n",
      "\n",
      "=====================================\n",
      "Training with fraction=0.3, epochs=20\n",
      "=====================================\n",
      "Test size: 3669\n",
      "Trying to load trainer from disk...\n"
     ]
    },
    {
     "name": "stderr",
     "output_type": "stream",
     "text": [
      "/opt/python/3.10/lib/python3.10/site-packages/torch/optim/lr_scheduler.py:60: UserWarning: The verbose parameter is deprecated. Please use get_last_lr() to access the learning rate.\n",
      "  warnings.warn(\n"
     ]
    },
    {
     "name": "stdout",
     "output_type": "stream",
     "text": [
      "Trainer not found. Retraining...\n",
      "[Trainer] Unfroze last 2 blocks\n"
     ]
    },
    {
     "data": {
      "application/vnd.jupyter.widget-view+json": {
       "model_id": "4e2d5f212f9e437e806dfe5091825d8a",
       "version_major": 2,
       "version_minor": 0
      },
      "text/plain": [
       "Update step:   0%|          | 0/2320 [00:00<?, ?it/s]"
      ]
     },
     "metadata": {},
     "output_type": "display_data"
    },
    {
     "name": "stdout",
     "output_type": "stream",
     "text": [
      "Epoch [1/20], Loss: 3.3719, Train Acc: 24.25%\n",
      "Epoch [2/20], Loss: 2.5948, Train Acc: 71.76%\n",
      "Epoch [3/20], Loss: 1.5496, Train Acc: 83.26%\n",
      "Epoch [4/20], Loss: 0.8569, Train Acc: 89.77%\n",
      "Epoch [5/20], Loss: 0.5486, Train Acc: 91.49%\n",
      "Epoch [6/20], Loss: 0.4275, Train Acc: 94.30%\n",
      "Epoch [7/20], Loss: 0.4558, Train Acc: 94.39%\n",
      "Epoch [8/20], Loss: 0.4069, Train Acc: 95.57%\n",
      "Epoch [9/20], Loss: 0.9926, Train Acc: 90.05%\n",
      "Epoch [10/20], Loss: 0.5167, Train Acc: 93.48%\n",
      "Epoch [11/20], Loss: 1.0444, Train Acc: 94.84%\n",
      "Epoch [12/20], Loss: 0.8140, Train Acc: 93.39%\n",
      "Epoch [13/20], Loss: 0.6883, Train Acc: 94.75%\n",
      "Epoch [14/20], Loss: 0.3746, Train Acc: 96.74%\n",
      "Epoch [15/20], Loss: 0.5759, Train Acc: 95.66%\n",
      "Epoch [16/20], Loss: 1.1886, Train Acc: 95.75%\n",
      "Epoch [17/20], Loss: 0.4211, Train Acc: 97.38%\n",
      "Epoch [18/20], Loss: 0.8351, Train Acc: 95.48%\n",
      "Epoch [19/20], Loss: 1.3341, Train Acc: 95.93%\n",
      "Epoch [20/20], Loss: 1.0449, Train Acc: 96.92%\n",
      "Total elapsed: 546.25s, average per update step: 0.12s\n"
     ]
    },
    {
     "data": {
      "application/vnd.jupyter.widget-view+json": {
       "model_id": "00f4ea831a51463ab8833b02d9008c4e",
       "version_major": 2,
       "version_minor": 0
      },
      "text/plain": [
       "Evaluating:   0%|          | 0/115 [00:00<?, ?it/s]"
      ]
     },
     "metadata": {},
     "output_type": "display_data"
    },
    {
     "name": "stdout",
     "output_type": "stream",
     "text": [
      "Test Accuracy: 89.616 %\n",
      "Trying to load trainer from disk...\n",
      "Trainer not found. Retraining...\n",
      "[Trainer] Unfroze last 2 blocks\n"
     ]
    },
    {
     "data": {
      "application/vnd.jupyter.widget-view+json": {
       "model_id": "36fcc030dd5c45efaa6c5008bf6eb453",
       "version_major": 2,
       "version_minor": 0
      },
      "text/plain": [
       "Update step:   0%|          | 0/2320 [00:00<?, ?it/s]"
      ]
     },
     "metadata": {},
     "output_type": "display_data"
    },
    {
     "name": "stdout",
     "output_type": "stream",
     "text": [
      "Epoch [1/20], Loss: 3.3701, Train Acc: 20.90%\n",
      "Epoch [2/20], Loss: 2.6036, Train Acc: 69.14%\n",
      "Epoch [3/20], Loss: 1.5638, Train Acc: 81.72%\n",
      "Epoch [4/20], Loss: 0.8777, Train Acc: 88.14%\n",
      "Epoch [5/20], Loss: 0.5777, Train Acc: 91.04%\n",
      "Epoch [6/20], Loss: 0.3983, Train Acc: 94.12%\n",
      "Epoch [7/20], Loss: 0.3501, Train Acc: 94.75%\n",
      "Epoch [8/20], Loss: 0.3260, Train Acc: 96.47%\n",
      "Epoch [9/20], Loss: 0.3976, Train Acc: 97.74%\n",
      "Epoch [10/20], Loss: 0.2464, Train Acc: 98.37%\n",
      "Epoch [11/20], Loss: 0.4168, Train Acc: 98.37%\n",
      "Epoch [12/20], Loss: 0.8892, Train Acc: 94.03%\n",
      "Epoch [13/20], Loss: 0.3495, Train Acc: 95.29%\n",
      "Epoch [14/20], Loss: 1.0945, Train Acc: 95.66%\n",
      "Epoch [15/20], Loss: 0.8909, Train Acc: 94.66%\n",
      "Epoch [16/20], Loss: 1.0788, Train Acc: 95.02%\n",
      "Epoch [17/20], Loss: 0.8545, Train Acc: 95.38%\n",
      "Epoch [18/20], Loss: 0.5450, Train Acc: 96.38%\n",
      "Epoch [19/20], Loss: 0.3922, Train Acc: 98.10%\n",
      "Epoch [20/20], Loss: 0.1442, Train Acc: 98.55%\n",
      "Total elapsed: 540.71s, average per update step: 0.10s\n"
     ]
    },
    {
     "data": {
      "application/vnd.jupyter.widget-view+json": {
       "model_id": "8d1aa4c6a1214e43b35c629589a32094",
       "version_major": 2,
       "version_minor": 0
      },
      "text/plain": [
       "Evaluating:   0%|          | 0/115 [00:00<?, ?it/s]"
      ]
     },
     "metadata": {},
     "output_type": "display_data"
    },
    {
     "name": "stdout",
     "output_type": "stream",
     "text": [
      "Test Accuracy: 89.888 %\n",
      "Trying to load trainer from disk...\n",
      "Trainer not found. Retraining...\n",
      "[Trainer] Unfroze last 2 blocks\n"
     ]
    },
    {
     "data": {
      "application/vnd.jupyter.widget-view+json": {
       "model_id": "93ab31fe0c9c40d7ba5134cd96ed4ca4",
       "version_major": 2,
       "version_minor": 0
      },
      "text/plain": [
       "Update step:   0%|          | 0/2320 [00:00<?, ?it/s]"
      ]
     },
     "metadata": {},
     "output_type": "display_data"
    },
    {
     "name": "stdout",
     "output_type": "stream",
     "text": [
      "Epoch [1/20], Loss: 3.3602, Train Acc: 25.16%\n",
      "Epoch [2/20], Loss: 2.5812, Train Acc: 70.77%\n",
      "Epoch [3/20], Loss: 1.5265, Train Acc: 83.35%\n",
      "Epoch [4/20], Loss: 0.8498, Train Acc: 89.41%\n",
      "Epoch [5/20], Loss: 0.5359, Train Acc: 92.31%\n",
      "Epoch [6/20], Loss: 0.3818, Train Acc: 94.12%\n",
      "Epoch [7/20], Loss: 0.3480, Train Acc: 95.38%\n",
      "Epoch [8/20], Loss: 0.4111, Train Acc: 96.74%\n",
      "Epoch [9/20], Loss: 0.9119, Train Acc: 91.49%\n",
      "Epoch [10/20], Loss: 0.4144, Train Acc: 94.75%\n",
      "Epoch [11/20], Loss: 0.3835, Train Acc: 97.47%\n",
      "Epoch [12/20], Loss: 0.7557, Train Acc: 94.39%\n",
      "Epoch [13/20], Loss: 1.4183, Train Acc: 95.93%\n",
      "Epoch [14/20], Loss: 0.9667, Train Acc: 93.94%\n",
      "Epoch [15/20], Loss: 0.4562, Train Acc: 96.65%\n",
      "Epoch [16/20], Loss: 0.5197, Train Acc: 96.56%\n",
      "Epoch [17/20], Loss: 1.2008, Train Acc: 97.56%\n",
      "Epoch [18/20], Loss: 1.2473, Train Acc: 98.46%\n",
      "Epoch [19/20], Loss: 0.6604, Train Acc: 94.57%\n",
      "Epoch [20/20], Loss: 0.9277, Train Acc: 98.55%\n",
      "Total elapsed: 541.44s, average per update step: 0.11s\n"
     ]
    },
    {
     "data": {
      "application/vnd.jupyter.widget-view+json": {
       "model_id": "2c62e94bd11a4c64a760b567883446d3",
       "version_major": 2,
       "version_minor": 0
      },
      "text/plain": [
       "Evaluating:   0%|          | 0/115 [00:00<?, ?it/s]"
      ]
     },
     "metadata": {},
     "output_type": "display_data"
    },
    {
     "name": "stdout",
     "output_type": "stream",
     "text": [
      "Test Accuracy: 90.379 %\n",
      "Test Accuracy Mean: 89.96 %\n",
      "Test Accuracy Standard Error: 0.22 percentage points\n",
      "\n",
      "=====================================\n",
      "Training with fraction=0.3, epochs=30\n",
      "=====================================\n",
      "Test size: 3669\n",
      "Trying to load trainer from disk...\n"
     ]
    },
    {
     "name": "stderr",
     "output_type": "stream",
     "text": [
      "/opt/python/3.10/lib/python3.10/site-packages/torch/optim/lr_scheduler.py:60: UserWarning: The verbose parameter is deprecated. Please use get_last_lr() to access the learning rate.\n",
      "  warnings.warn(\n"
     ]
    },
    {
     "name": "stdout",
     "output_type": "stream",
     "text": [
      "Trainer not found. Retraining...\n",
      "[Trainer] Unfroze last 2 blocks\n"
     ]
    },
    {
     "data": {
      "application/vnd.jupyter.widget-view+json": {
       "model_id": "94cf582e43e748029a10699410292b71",
       "version_major": 2,
       "version_minor": 0
      },
      "text/plain": [
       "Update step:   0%|          | 0/3480 [00:00<?, ?it/s]"
      ]
     },
     "metadata": {},
     "output_type": "display_data"
    },
    {
     "name": "stdout",
     "output_type": "stream",
     "text": [
      "Epoch [1/30], Loss: 3.3719, Train Acc: 24.25%\n",
      "Epoch [2/30], Loss: 2.5948, Train Acc: 71.76%\n",
      "Epoch [3/30], Loss: 1.5496, Train Acc: 83.26%\n",
      "Epoch [4/30], Loss: 0.8569, Train Acc: 89.77%\n",
      "Epoch [5/30], Loss: 0.5486, Train Acc: 91.49%\n",
      "Epoch [6/30], Loss: 0.4275, Train Acc: 94.30%\n",
      "Epoch [7/30], Loss: 0.4558, Train Acc: 94.39%\n",
      "Epoch [8/30], Loss: 0.4069, Train Acc: 95.57%\n",
      "Epoch [9/30], Loss: 0.9926, Train Acc: 90.05%\n",
      "Epoch [10/30], Loss: 0.5167, Train Acc: 93.48%\n",
      "Epoch [11/30], Loss: 1.0444, Train Acc: 94.84%\n",
      "Epoch [12/30], Loss: 0.8140, Train Acc: 93.39%\n",
      "Epoch [13/30], Loss: 0.6883, Train Acc: 94.75%\n",
      "Epoch [14/30], Loss: 0.3746, Train Acc: 96.74%\n",
      "Epoch [15/30], Loss: 0.5759, Train Acc: 95.66%\n",
      "Epoch [16/30], Loss: 1.1886, Train Acc: 95.75%\n",
      "Epoch [17/30], Loss: 0.4211, Train Acc: 97.38%\n",
      "Epoch [18/30], Loss: 0.8351, Train Acc: 95.48%\n",
      "Epoch [19/30], Loss: 1.3341, Train Acc: 95.93%\n",
      "Epoch [20/30], Loss: 1.0449, Train Acc: 96.92%\n",
      "Epoch [21/30], Loss: 1.0630, Train Acc: 96.11%\n",
      "Epoch [22/30], Loss: 1.0232, Train Acc: 95.57%\n",
      "Epoch [23/30], Loss: 0.8807, Train Acc: 95.11%\n",
      "Epoch [24/30], Loss: 1.1624, Train Acc: 97.83%\n",
      "Epoch [25/30], Loss: 1.1727, Train Acc: 96.83%\n",
      "Epoch [26/30], Loss: 1.1519, Train Acc: 97.83%\n",
      "Epoch [27/30], Loss: 0.9430, Train Acc: 97.47%\n",
      "Epoch [28/30], Loss: 1.0433, Train Acc: 99.46%\n",
      "Epoch [29/30], Loss: 0.8019, Train Acc: 98.19%\n",
      "Epoch [30/30], Loss: 0.9115, Train Acc: 99.28%\n",
      "Total elapsed: 815.08s, average per update step: 0.10s\n"
     ]
    },
    {
     "data": {
      "application/vnd.jupyter.widget-view+json": {
       "model_id": "94d68280a0c240f19630a2edac353d7a",
       "version_major": 2,
       "version_minor": 0
      },
      "text/plain": [
       "Evaluating:   0%|          | 0/115 [00:00<?, ?it/s]"
      ]
     },
     "metadata": {},
     "output_type": "display_data"
    },
    {
     "name": "stdout",
     "output_type": "stream",
     "text": [
      "Test Accuracy: 89.806 %\n",
      "Trying to load trainer from disk...\n",
      "Trainer not found. Retraining...\n",
      "[Trainer] Unfroze last 2 blocks\n"
     ]
    },
    {
     "data": {
      "application/vnd.jupyter.widget-view+json": {
       "model_id": "d31cff29befb46bf80652636cb3b113d",
       "version_major": 2,
       "version_minor": 0
      },
      "text/plain": [
       "Update step:   0%|          | 0/3480 [00:00<?, ?it/s]"
      ]
     },
     "metadata": {},
     "output_type": "display_data"
    },
    {
     "name": "stdout",
     "output_type": "stream",
     "text": [
      "Epoch [1/30], Loss: 3.3701, Train Acc: 20.90%\n",
      "Epoch [2/30], Loss: 2.6036, Train Acc: 69.14%\n",
      "Epoch [3/30], Loss: 1.5638, Train Acc: 81.72%\n",
      "Epoch [4/30], Loss: 0.8777, Train Acc: 88.14%\n",
      "Epoch [5/30], Loss: 0.5777, Train Acc: 91.04%\n",
      "Epoch [6/30], Loss: 0.3983, Train Acc: 94.12%\n",
      "Epoch [7/30], Loss: 0.3501, Train Acc: 94.75%\n",
      "Epoch [8/30], Loss: 0.3260, Train Acc: 96.47%\n",
      "Epoch [9/30], Loss: 0.3976, Train Acc: 97.74%\n",
      "Epoch [10/30], Loss: 0.2464, Train Acc: 98.37%\n",
      "Epoch [11/30], Loss: 0.4168, Train Acc: 98.37%\n",
      "Epoch [12/30], Loss: 0.8892, Train Acc: 94.03%\n",
      "Epoch [13/30], Loss: 0.3495, Train Acc: 95.29%\n",
      "Epoch [14/30], Loss: 1.0945, Train Acc: 95.66%\n",
      "Epoch [15/30], Loss: 0.8909, Train Acc: 94.66%\n",
      "Epoch [16/30], Loss: 1.0788, Train Acc: 95.02%\n",
      "Epoch [17/30], Loss: 0.8545, Train Acc: 95.38%\n",
      "Epoch [18/30], Loss: 0.5450, Train Acc: 96.38%\n",
      "Epoch [19/30], Loss: 0.3922, Train Acc: 98.10%\n",
      "Epoch [20/30], Loss: 0.1442, Train Acc: 98.55%\n",
      "Epoch [21/30], Loss: 0.5802, Train Acc: 96.83%\n",
      "Epoch [22/30], Loss: 0.6478, Train Acc: 98.73%\n",
      "Epoch [23/30], Loss: 0.2253, Train Acc: 98.73%\n",
      "Epoch [24/30], Loss: 0.9355, Train Acc: 97.01%\n",
      "Epoch [25/30], Loss: 0.6549, Train Acc: 97.56%\n",
      "Epoch [26/30], Loss: 1.1699, Train Acc: 98.10%\n",
      "Epoch [27/30], Loss: 1.2332, Train Acc: 98.91%\n",
      "Epoch [28/30], Loss: 1.2396, Train Acc: 96.56%\n",
      "Epoch [29/30], Loss: 0.5614, Train Acc: 97.74%\n",
      "Epoch [30/30], Loss: 0.3454, Train Acc: 99.46%\n",
      "Total elapsed: 821.19s, average per update step: 0.11s\n"
     ]
    },
    {
     "data": {
      "application/vnd.jupyter.widget-view+json": {
       "model_id": "a9e88030375e410abdebe3607f06b3f9",
       "version_major": 2,
       "version_minor": 0
      },
      "text/plain": [
       "Evaluating:   0%|          | 0/115 [00:00<?, ?it/s]"
      ]
     },
     "metadata": {},
     "output_type": "display_data"
    },
    {
     "name": "stdout",
     "output_type": "stream",
     "text": [
      "Test Accuracy: 89.398 %\n",
      "Trying to load trainer from disk...\n",
      "Trainer not found. Retraining...\n",
      "[Trainer] Unfroze last 2 blocks\n"
     ]
    },
    {
     "data": {
      "application/vnd.jupyter.widget-view+json": {
       "model_id": "dab4d13d4562414785f494dd4408b316",
       "version_major": 2,
       "version_minor": 0
      },
      "text/plain": [
       "Update step:   0%|          | 0/3480 [00:00<?, ?it/s]"
      ]
     },
     "metadata": {},
     "output_type": "display_data"
    },
    {
     "name": "stdout",
     "output_type": "stream",
     "text": [
      "Epoch [1/30], Loss: 3.3602, Train Acc: 25.16%\n",
      "Epoch [2/30], Loss: 2.5812, Train Acc: 70.77%\n",
      "Epoch [3/30], Loss: 1.5265, Train Acc: 83.35%\n",
      "Epoch [4/30], Loss: 0.8498, Train Acc: 89.41%\n",
      "Epoch [5/30], Loss: 0.5359, Train Acc: 92.31%\n",
      "Epoch [6/30], Loss: 0.3818, Train Acc: 94.12%\n",
      "Epoch [7/30], Loss: 0.3480, Train Acc: 95.38%\n",
      "Epoch [8/30], Loss: 0.4111, Train Acc: 96.74%\n",
      "Epoch [9/30], Loss: 0.9119, Train Acc: 91.49%\n",
      "Epoch [10/30], Loss: 0.4144, Train Acc: 94.75%\n",
      "Epoch [11/30], Loss: 0.3835, Train Acc: 97.47%\n",
      "Epoch [12/30], Loss: 0.7557, Train Acc: 94.39%\n",
      "Epoch [13/30], Loss: 1.4183, Train Acc: 95.93%\n",
      "Epoch [14/30], Loss: 0.9667, Train Acc: 93.94%\n",
      "Epoch [15/30], Loss: 0.4562, Train Acc: 96.65%\n",
      "Epoch [16/30], Loss: 0.5197, Train Acc: 96.56%\n",
      "Epoch [17/30], Loss: 1.2008, Train Acc: 97.56%\n",
      "Epoch [18/30], Loss: 1.2473, Train Acc: 98.46%\n",
      "Epoch [19/30], Loss: 0.6604, Train Acc: 94.57%\n",
      "Epoch [20/30], Loss: 0.9277, Train Acc: 98.55%\n",
      "Epoch [21/30], Loss: 1.2600, Train Acc: 94.75%\n",
      "Epoch [22/30], Loss: 1.0195, Train Acc: 95.20%\n",
      "Epoch [23/30], Loss: 0.7785, Train Acc: 96.83%\n",
      "Epoch [24/30], Loss: 0.6637, Train Acc: 97.92%\n",
      "Epoch [25/30], Loss: 0.9496, Train Acc: 96.92%\n",
      "Epoch [26/30], Loss: 1.0710, Train Acc: 98.82%\n",
      "Epoch [27/30], Loss: 0.5796, Train Acc: 97.92%\n",
      "Epoch [28/30], Loss: 0.5186, Train Acc: 99.73%\n",
      "Epoch [29/30], Loss: 0.4432, Train Acc: 99.91%\n",
      "Epoch [30/30], Loss: 0.5388, Train Acc: 99.46%\n",
      "Total elapsed: 822.96s, average per update step: 0.10s\n"
     ]
    },
    {
     "data": {
      "application/vnd.jupyter.widget-view+json": {
       "model_id": "a45778ea543940aa989fef4a8028dc33",
       "version_major": 2,
       "version_minor": 0
      },
      "text/plain": [
       "Evaluating:   0%|          | 0/115 [00:00<?, ?it/s]"
      ]
     },
     "metadata": {},
     "output_type": "display_data"
    },
    {
     "name": "stdout",
     "output_type": "stream",
     "text": [
      "Test Accuracy: 89.616 %\n",
      "Test Accuracy Mean: 89.61 %\n",
      "Test Accuracy Standard Error: 0.12 percentage points\n",
      "\n",
      "=====================================\n",
      "Training with fraction=0.1, epochs=10\n",
      "=====================================\n",
      "Test size: 3669\n",
      "Trying to load trainer from disk...\n"
     ]
    },
    {
     "name": "stderr",
     "output_type": "stream",
     "text": [
      "/opt/python/3.10/lib/python3.10/site-packages/torch/optim/lr_scheduler.py:60: UserWarning: The verbose parameter is deprecated. Please use get_last_lr() to access the learning rate.\n",
      "  warnings.warn(\n"
     ]
    },
    {
     "name": "stdout",
     "output_type": "stream",
     "text": [
      "Trainer not found. Retraining...\n",
      "[Trainer] Unfroze last 2 blocks\n"
     ]
    },
    {
     "data": {
      "application/vnd.jupyter.widget-view+json": {
       "model_id": "22a3e4211d574c298030c5383e1174d4",
       "version_major": 2,
       "version_minor": 0
      },
      "text/plain": [
       "Update step:   0%|          | 0/1160 [00:00<?, ?it/s]"
      ]
     },
     "metadata": {},
     "output_type": "display_data"
    },
    {
     "name": "stdout",
     "output_type": "stream",
     "text": [
      "Epoch [1/10], Loss: 3.5724, Train Acc: 4.86%\n",
      "Epoch [2/10], Loss: 3.3205, Train Acc: 29.19%\n",
      "Epoch [3/10], Loss: 3.0797, Train Acc: 54.05%\n",
      "Epoch [4/10], Loss: 2.7810, Train Acc: 75.41%\n",
      "Epoch [5/10], Loss: 2.4043, Train Acc: 85.68%\n",
      "Epoch [6/10], Loss: 1.9718, Train Acc: 93.24%\n",
      "Epoch [7/10], Loss: 1.5630, Train Acc: 92.70%\n",
      "Epoch [8/10], Loss: 1.2016, Train Acc: 94.86%\n",
      "Epoch [9/10], Loss: 0.8889, Train Acc: 96.22%\n",
      "Epoch [10/10], Loss: 0.7041, Train Acc: 95.95%\n",
      "Total elapsed: 305.65s, average per update step: 0.13s\n"
     ]
    },
    {
     "data": {
      "application/vnd.jupyter.widget-view+json": {
       "model_id": "83c0558ee2cd49588203c55ef1320178",
       "version_major": 2,
       "version_minor": 0
      },
      "text/plain": [
       "Evaluating:   0%|          | 0/115 [00:00<?, ?it/s]"
      ]
     },
     "metadata": {},
     "output_type": "display_data"
    },
    {
     "name": "stdout",
     "output_type": "stream",
     "text": [
      "Test Accuracy: 84.846 %\n",
      "Trying to load trainer from disk...\n",
      "Trainer not found. Retraining...\n",
      "[Trainer] Unfroze last 2 blocks\n"
     ]
    },
    {
     "data": {
      "application/vnd.jupyter.widget-view+json": {
       "model_id": "e47c1b2b021248fe8ef0ca698109eaf5",
       "version_major": 2,
       "version_minor": 0
      },
      "text/plain": [
       "Update step:   0%|          | 0/1160 [00:00<?, ?it/s]"
      ]
     },
     "metadata": {},
     "output_type": "display_data"
    },
    {
     "name": "stdout",
     "output_type": "stream",
     "text": [
      "Epoch [1/10], Loss: 3.5622, Train Acc: 4.32%\n",
      "Epoch [2/10], Loss: 3.3313, Train Acc: 30.81%\n",
      "Epoch [3/10], Loss: 3.0747, Train Acc: 55.68%\n",
      "Epoch [4/10], Loss: 2.7714, Train Acc: 72.43%\n",
      "Epoch [5/10], Loss: 2.4174, Train Acc: 86.22%\n",
      "Epoch [6/10], Loss: 1.9757, Train Acc: 90.00%\n",
      "Epoch [7/10], Loss: 1.5722, Train Acc: 91.89%\n",
      "Epoch [8/10], Loss: 1.1934, Train Acc: 94.86%\n",
      "Epoch [9/10], Loss: 0.9174, Train Acc: 96.76%\n",
      "Epoch [10/10], Loss: 0.7133, Train Acc: 95.41%\n",
      "Total elapsed: 305.44s, average per update step: 0.12s\n"
     ]
    },
    {
     "data": {
      "application/vnd.jupyter.widget-view+json": {
       "model_id": "c7dc7b02e3a1458d8524b691a5f0d869",
       "version_major": 2,
       "version_minor": 0
      },
      "text/plain": [
       "Evaluating:   0%|          | 0/115 [00:00<?, ?it/s]"
      ]
     },
     "metadata": {},
     "output_type": "display_data"
    },
    {
     "name": "stdout",
     "output_type": "stream",
     "text": [
      "Test Accuracy: 84.383 %\n",
      "Trying to load trainer from disk...\n",
      "Trainer not found. Retraining...\n",
      "[Trainer] Unfroze last 2 blocks\n"
     ]
    },
    {
     "data": {
      "application/vnd.jupyter.widget-view+json": {
       "model_id": "577af757d25e45a0bec495413e5edfd3",
       "version_major": 2,
       "version_minor": 0
      },
      "text/plain": [
       "Update step:   0%|          | 0/1160 [00:00<?, ?it/s]"
      ]
     },
     "metadata": {},
     "output_type": "display_data"
    },
    {
     "name": "stdout",
     "output_type": "stream",
     "text": [
      "Epoch [1/10], Loss: 3.5497, Train Acc: 6.76%\n",
      "Epoch [2/10], Loss: 3.3201, Train Acc: 31.62%\n",
      "Epoch [3/10], Loss: 3.0601, Train Acc: 58.65%\n",
      "Epoch [4/10], Loss: 2.7703, Train Acc: 77.57%\n",
      "Epoch [5/10], Loss: 2.3964, Train Acc: 88.92%\n",
      "Epoch [6/10], Loss: 1.9803, Train Acc: 92.70%\n",
      "Epoch [7/10], Loss: 1.5701, Train Acc: 91.89%\n",
      "Epoch [8/10], Loss: 1.1408, Train Acc: 94.86%\n",
      "Epoch [9/10], Loss: 0.8907, Train Acc: 96.76%\n",
      "Epoch [10/10], Loss: 0.6753, Train Acc: 96.22%\n",
      "Total elapsed: 306.51s, average per update step: 0.12s\n"
     ]
    },
    {
     "data": {
      "application/vnd.jupyter.widget-view+json": {
       "model_id": "2950f3eafab749849fd756414e87a8c7",
       "version_major": 2,
       "version_minor": 0
      },
      "text/plain": [
       "Evaluating:   0%|          | 0/115 [00:00<?, ?it/s]"
      ]
     },
     "metadata": {},
     "output_type": "display_data"
    },
    {
     "name": "stdout",
     "output_type": "stream",
     "text": [
      "Test Accuracy: 85.473 %\n",
      "Test Accuracy Mean: 84.90 %\n",
      "Test Accuracy Standard Error: 0.32 percentage points\n",
      "\n",
      "=====================================\n",
      "Training with fraction=0.1, epochs=20\n",
      "=====================================\n",
      "Test size: 3669\n",
      "Trying to load trainer from disk...\n"
     ]
    },
    {
     "name": "stderr",
     "output_type": "stream",
     "text": [
      "/opt/python/3.10/lib/python3.10/site-packages/torch/optim/lr_scheduler.py:60: UserWarning: The verbose parameter is deprecated. Please use get_last_lr() to access the learning rate.\n",
      "  warnings.warn(\n"
     ]
    },
    {
     "name": "stdout",
     "output_type": "stream",
     "text": [
      "Trainer not found. Retraining...\n",
      "[Trainer] Unfroze last 2 blocks\n"
     ]
    },
    {
     "data": {
      "application/vnd.jupyter.widget-view+json": {
       "model_id": "3fd61b4611e04e38bee2907d834d271f",
       "version_major": 2,
       "version_minor": 0
      },
      "text/plain": [
       "Update step:   0%|          | 0/2320 [00:00<?, ?it/s]"
      ]
     },
     "metadata": {},
     "output_type": "display_data"
    },
    {
     "name": "stdout",
     "output_type": "stream",
     "text": [
      "Epoch [1/20], Loss: 3.5724, Train Acc: 4.86%\n",
      "Epoch [2/20], Loss: 3.3205, Train Acc: 29.19%\n",
      "Epoch [3/20], Loss: 3.0797, Train Acc: 54.05%\n",
      "Epoch [4/20], Loss: 2.7810, Train Acc: 75.41%\n",
      "Epoch [5/20], Loss: 2.4043, Train Acc: 85.68%\n",
      "Epoch [6/20], Loss: 1.9718, Train Acc: 93.24%\n",
      "Epoch [7/20], Loss: 1.5630, Train Acc: 92.70%\n",
      "Epoch [8/20], Loss: 1.2016, Train Acc: 94.86%\n",
      "Epoch [9/20], Loss: 0.8889, Train Acc: 96.22%\n",
      "Epoch [10/20], Loss: 0.7041, Train Acc: 95.95%\n",
      "Epoch [11/20], Loss: 0.5059, Train Acc: 99.46%\n",
      "Epoch [12/20], Loss: 0.4389, Train Acc: 98.11%\n",
      "Epoch [13/20], Loss: 0.3287, Train Acc: 98.92%\n",
      "Epoch [14/20], Loss: 0.3087, Train Acc: 98.38%\n",
      "Epoch [15/20], Loss: 0.2692, Train Acc: 100.00%\n",
      "Epoch [16/20], Loss: 0.2061, Train Acc: 99.73%\n",
      "Epoch [17/20], Loss: 0.1838, Train Acc: 100.00%\n",
      "Epoch [18/20], Loss: 0.4427, Train Acc: 99.46%\n",
      "Epoch [19/20], Loss: 0.9121, Train Acc: 98.38%\n",
      "Epoch [20/20], Loss: 1.4798, Train Acc: 76.76%\n",
      "Total elapsed: 612.18s, average per update step: 0.11s\n"
     ]
    },
    {
     "data": {
      "application/vnd.jupyter.widget-view+json": {
       "model_id": "2c7a536b7d7f4f0e97bb706328c69993",
       "version_major": 2,
       "version_minor": 0
      },
      "text/plain": [
       "Evaluating:   0%|          | 0/115 [00:00<?, ?it/s]"
      ]
     },
     "metadata": {},
     "output_type": "display_data"
    },
    {
     "name": "stdout",
     "output_type": "stream",
     "text": [
      "Test Accuracy: 84.410 %\n",
      "Trying to load trainer from disk...\n",
      "Trainer not found. Retraining...\n",
      "[Trainer] Unfroze last 2 blocks\n"
     ]
    },
    {
     "data": {
      "application/vnd.jupyter.widget-view+json": {
       "model_id": "c0446a81ee3946ea99f04c759f7b9093",
       "version_major": 2,
       "version_minor": 0
      },
      "text/plain": [
       "Update step:   0%|          | 0/2320 [00:00<?, ?it/s]"
      ]
     },
     "metadata": {},
     "output_type": "display_data"
    },
    {
     "name": "stdout",
     "output_type": "stream",
     "text": [
      "Epoch [1/20], Loss: 3.5622, Train Acc: 4.32%\n",
      "Epoch [2/20], Loss: 3.3313, Train Acc: 30.81%\n",
      "Epoch [3/20], Loss: 3.0747, Train Acc: 55.68%\n",
      "Epoch [4/20], Loss: 2.7714, Train Acc: 72.43%\n",
      "Epoch [5/20], Loss: 2.4174, Train Acc: 86.22%\n",
      "Epoch [6/20], Loss: 1.9757, Train Acc: 90.00%\n",
      "Epoch [7/20], Loss: 1.5722, Train Acc: 91.89%\n",
      "Epoch [8/20], Loss: 1.1934, Train Acc: 94.86%\n",
      "Epoch [9/20], Loss: 0.9174, Train Acc: 96.76%\n",
      "Epoch [10/20], Loss: 0.7133, Train Acc: 95.41%\n",
      "Epoch [11/20], Loss: 0.5448, Train Acc: 98.11%\n",
      "Epoch [12/20], Loss: 0.4193, Train Acc: 99.46%\n",
      "Epoch [13/20], Loss: 0.3607, Train Acc: 98.38%\n",
      "Epoch [14/20], Loss: 0.3144, Train Acc: 99.19%\n",
      "Epoch [15/20], Loss: 0.2777, Train Acc: 99.73%\n",
      "Epoch [16/20], Loss: 0.2189, Train Acc: 99.73%\n",
      "Epoch [17/20], Loss: 0.1898, Train Acc: 99.73%\n",
      "Epoch [18/20], Loss: 0.3066, Train Acc: 99.46%\n",
      "Epoch [19/20], Loss: 0.6828, Train Acc: 99.73%\n",
      "Epoch [20/20], Loss: 1.5058, Train Acc: 77.30%\n",
      "Total elapsed: 609.05s, average per update step: 0.12s\n"
     ]
    },
    {
     "data": {
      "application/vnd.jupyter.widget-view+json": {
       "model_id": "1499d00cead6467581af92e350173dda",
       "version_major": 2,
       "version_minor": 0
      },
      "text/plain": [
       "Evaluating:   0%|          | 0/115 [00:00<?, ?it/s]"
      ]
     },
     "metadata": {},
     "output_type": "display_data"
    },
    {
     "name": "stdout",
     "output_type": "stream",
     "text": [
      "Test Accuracy: 84.110 %\n",
      "Trying to load trainer from disk...\n",
      "Trainer not found. Retraining...\n",
      "[Trainer] Unfroze last 2 blocks\n"
     ]
    },
    {
     "data": {
      "application/vnd.jupyter.widget-view+json": {
       "model_id": "863f5e745e064297abe8b193a361b7f4",
       "version_major": 2,
       "version_minor": 0
      },
      "text/plain": [
       "Update step:   0%|          | 0/2320 [00:00<?, ?it/s]"
      ]
     },
     "metadata": {},
     "output_type": "display_data"
    },
    {
     "name": "stdout",
     "output_type": "stream",
     "text": [
      "Epoch [1/20], Loss: 3.5497, Train Acc: 6.76%\n",
      "Epoch [2/20], Loss: 3.3201, Train Acc: 31.62%\n",
      "Epoch [3/20], Loss: 3.0601, Train Acc: 58.65%\n",
      "Epoch [4/20], Loss: 2.7703, Train Acc: 77.57%\n",
      "Epoch [5/20], Loss: 2.3964, Train Acc: 88.92%\n",
      "Epoch [6/20], Loss: 1.9803, Train Acc: 92.70%\n",
      "Epoch [7/20], Loss: 1.5701, Train Acc: 91.89%\n",
      "Epoch [8/20], Loss: 1.1408, Train Acc: 94.86%\n",
      "Epoch [9/20], Loss: 0.8907, Train Acc: 96.76%\n",
      "Epoch [10/20], Loss: 0.6753, Train Acc: 96.22%\n",
      "Epoch [11/20], Loss: 0.5430, Train Acc: 97.84%\n",
      "Epoch [12/20], Loss: 0.4203, Train Acc: 98.65%\n",
      "Epoch [13/20], Loss: 0.3623, Train Acc: 98.65%\n",
      "Epoch [14/20], Loss: 0.3122, Train Acc: 99.19%\n",
      "Epoch [15/20], Loss: 0.2576, Train Acc: 100.00%\n",
      "Epoch [16/20], Loss: 0.2170, Train Acc: 99.73%\n",
      "Epoch [17/20], Loss: 0.1795, Train Acc: 100.00%\n",
      "Epoch [18/20], Loss: 0.1686, Train Acc: 99.73%\n",
      "Epoch [19/20], Loss: 0.2998, Train Acc: 99.46%\n",
      "Epoch [20/20], Loss: 0.1408, Train Acc: 99.73%\n",
      "Total elapsed: 612.46s, average per update step: 0.11s\n"
     ]
    },
    {
     "data": {
      "application/vnd.jupyter.widget-view+json": {
       "model_id": "b3c5a88b905244679d307f04605dd913",
       "version_major": 2,
       "version_minor": 0
      },
      "text/plain": [
       "Evaluating:   0%|          | 0/115 [00:00<?, ?it/s]"
      ]
     },
     "metadata": {},
     "output_type": "display_data"
    },
    {
     "name": "stdout",
     "output_type": "stream",
     "text": [
      "Test Accuracy: 85.091 %\n",
      "Test Accuracy Mean: 84.54 %\n",
      "Test Accuracy Standard Error: 0.29 percentage points\n",
      "\n",
      "=====================================\n",
      "Training with fraction=0.1, epochs=30\n",
      "=====================================\n",
      "Test size: 3669\n",
      "Trying to load trainer from disk...\n"
     ]
    },
    {
     "name": "stderr",
     "output_type": "stream",
     "text": [
      "/opt/python/3.10/lib/python3.10/site-packages/torch/optim/lr_scheduler.py:60: UserWarning: The verbose parameter is deprecated. Please use get_last_lr() to access the learning rate.\n",
      "  warnings.warn(\n"
     ]
    },
    {
     "name": "stdout",
     "output_type": "stream",
     "text": [
      "Trainer not found. Retraining...\n",
      "[Trainer] Unfroze last 2 blocks\n"
     ]
    },
    {
     "data": {
      "application/vnd.jupyter.widget-view+json": {
       "model_id": "7ce9c4f527bc4d8da71f8c9e22f83f7f",
       "version_major": 2,
       "version_minor": 0
      },
      "text/plain": [
       "Update step:   0%|          | 0/3480 [00:00<?, ?it/s]"
      ]
     },
     "metadata": {},
     "output_type": "display_data"
    },
    {
     "name": "stdout",
     "output_type": "stream",
     "text": [
      "Epoch [1/30], Loss: 3.5724, Train Acc: 4.86%\n",
      "Epoch [2/30], Loss: 3.3205, Train Acc: 29.19%\n",
      "Epoch [3/30], Loss: 3.0797, Train Acc: 54.05%\n",
      "Epoch [4/30], Loss: 2.7810, Train Acc: 75.41%\n",
      "Epoch [5/30], Loss: 2.4043, Train Acc: 85.68%\n",
      "Epoch [6/30], Loss: 1.9718, Train Acc: 93.24%\n",
      "Epoch [7/30], Loss: 1.5630, Train Acc: 92.70%\n",
      "Epoch [8/30], Loss: 1.2016, Train Acc: 94.86%\n",
      "Epoch [9/30], Loss: 0.8889, Train Acc: 96.22%\n",
      "Epoch [10/30], Loss: 0.7041, Train Acc: 95.95%\n",
      "Epoch [11/30], Loss: 0.5059, Train Acc: 99.46%\n",
      "Epoch [12/30], Loss: 0.4389, Train Acc: 98.11%\n",
      "Epoch [13/30], Loss: 0.3287, Train Acc: 98.92%\n",
      "Epoch [14/30], Loss: 0.3087, Train Acc: 98.38%\n",
      "Epoch [15/30], Loss: 0.2692, Train Acc: 100.00%\n",
      "Epoch [16/30], Loss: 0.2061, Train Acc: 99.73%\n",
      "Epoch [17/30], Loss: 0.1838, Train Acc: 100.00%\n",
      "Epoch [18/30], Loss: 0.4427, Train Acc: 99.46%\n",
      "Epoch [19/30], Loss: 0.9121, Train Acc: 98.38%\n",
      "Epoch [20/30], Loss: 1.4798, Train Acc: 76.76%\n",
      "Epoch [21/30], Loss: 1.0173, Train Acc: 85.41%\n",
      "Epoch [22/30], Loss: 0.8131, Train Acc: 91.62%\n",
      "Epoch [23/30], Loss: 0.4063, Train Acc: 92.43%\n",
      "Epoch [24/30], Loss: 0.2674, Train Acc: 98.11%\n",
      "Epoch [25/30], Loss: 0.2677, Train Acc: 97.30%\n",
      "Epoch [26/30], Loss: 0.2582, Train Acc: 98.92%\n",
      "Epoch [27/30], Loss: 0.1625, Train Acc: 99.73%\n",
      "Epoch [28/30], Loss: 0.1542, Train Acc: 98.38%\n",
      "Epoch [29/30], Loss: 0.1185, Train Acc: 99.46%\n",
      "Epoch [30/30], Loss: 0.1155, Train Acc: 99.19%\n",
      "Total elapsed: 926.84s, average per update step: 0.11s\n"
     ]
    },
    {
     "data": {
      "application/vnd.jupyter.widget-view+json": {
       "model_id": "c4776cce700d4c10abb06263751ef2f6",
       "version_major": 2,
       "version_minor": 0
      },
      "text/plain": [
       "Evaluating:   0%|          | 0/115 [00:00<?, ?it/s]"
      ]
     },
     "metadata": {},
     "output_type": "display_data"
    },
    {
     "name": "stdout",
     "output_type": "stream",
     "text": [
      "Test Accuracy: 83.320 %\n",
      "Trying to load trainer from disk...\n",
      "Trainer not found. Retraining...\n",
      "[Trainer] Unfroze last 2 blocks\n"
     ]
    },
    {
     "data": {
      "application/vnd.jupyter.widget-view+json": {
       "model_id": "e17e40ec708946d9b13e2aeb85dafbba",
       "version_major": 2,
       "version_minor": 0
      },
      "text/plain": [
       "Update step:   0%|          | 0/3480 [00:00<?, ?it/s]"
      ]
     },
     "metadata": {},
     "output_type": "display_data"
    },
    {
     "name": "stdout",
     "output_type": "stream",
     "text": [
      "Epoch [1/30], Loss: 3.5622, Train Acc: 4.32%\n",
      "Epoch [2/30], Loss: 3.3313, Train Acc: 30.81%\n",
      "Epoch [3/30], Loss: 3.0747, Train Acc: 55.68%\n",
      "Epoch [4/30], Loss: 2.7714, Train Acc: 72.43%\n",
      "Epoch [5/30], Loss: 2.4174, Train Acc: 86.22%\n",
      "Epoch [6/30], Loss: 1.9757, Train Acc: 90.00%\n",
      "Epoch [7/30], Loss: 1.5722, Train Acc: 91.89%\n",
      "Epoch [8/30], Loss: 1.1934, Train Acc: 94.86%\n",
      "Epoch [9/30], Loss: 0.9174, Train Acc: 96.76%\n",
      "Epoch [10/30], Loss: 0.7133, Train Acc: 95.41%\n",
      "Epoch [11/30], Loss: 0.5448, Train Acc: 98.11%\n",
      "Epoch [12/30], Loss: 0.4193, Train Acc: 99.46%\n",
      "Epoch [13/30], Loss: 0.3607, Train Acc: 98.38%\n",
      "Epoch [14/30], Loss: 0.3144, Train Acc: 99.19%\n",
      "Epoch [15/30], Loss: 0.2777, Train Acc: 99.73%\n",
      "Epoch [16/30], Loss: 0.2189, Train Acc: 99.73%\n",
      "Epoch [17/30], Loss: 0.1898, Train Acc: 99.73%\n",
      "Epoch [18/30], Loss: 0.3066, Train Acc: 99.46%\n",
      "Epoch [19/30], Loss: 0.6828, Train Acc: 99.73%\n",
      "Epoch [20/30], Loss: 1.5058, Train Acc: 77.30%\n",
      "Epoch [21/30], Loss: 1.1880, Train Acc: 82.43%\n",
      "Epoch [22/30], Loss: 0.6615, Train Acc: 87.30%\n",
      "Epoch [23/30], Loss: 0.5014, Train Acc: 91.08%\n",
      "Epoch [24/30], Loss: 0.4148, Train Acc: 93.24%\n",
      "Epoch [25/30], Loss: 0.3547, Train Acc: 94.32%\n",
      "Epoch [26/30], Loss: 0.3923, Train Acc: 95.41%\n",
      "Epoch [27/30], Loss: 0.2278, Train Acc: 97.30%\n",
      "Epoch [28/30], Loss: 0.2012, Train Acc: 97.30%\n",
      "Epoch [29/30], Loss: 0.1501, Train Acc: 99.19%\n",
      "Epoch [30/30], Loss: 0.1459, Train Acc: 98.65%\n",
      "Total elapsed: 925.66s, average per update step: 0.11s\n"
     ]
    },
    {
     "data": {
      "application/vnd.jupyter.widget-view+json": {
       "model_id": "6fc3cefcd4dd48acb8698de2ef08807c",
       "version_major": 2,
       "version_minor": 0
      },
      "text/plain": [
       "Evaluating:   0%|          | 0/115 [00:00<?, ?it/s]"
      ]
     },
     "metadata": {},
     "output_type": "display_data"
    },
    {
     "name": "stdout",
     "output_type": "stream",
     "text": [
      "Test Accuracy: 82.502 %\n",
      "Trying to load trainer from disk...\n",
      "Trainer not found. Retraining...\n",
      "[Trainer] Unfroze last 2 blocks\n"
     ]
    },
    {
     "data": {
      "application/vnd.jupyter.widget-view+json": {
       "model_id": "41afae06be1040e3833a967becfcae3d",
       "version_major": 2,
       "version_minor": 0
      },
      "text/plain": [
       "Update step:   0%|          | 0/3480 [00:00<?, ?it/s]"
      ]
     },
     "metadata": {},
     "output_type": "display_data"
    },
    {
     "name": "stdout",
     "output_type": "stream",
     "text": [
      "Epoch [1/30], Loss: 3.5497, Train Acc: 6.76%\n",
      "Epoch [2/30], Loss: 3.3201, Train Acc: 31.62%\n",
      "Epoch [3/30], Loss: 3.0601, Train Acc: 58.65%\n",
      "Epoch [4/30], Loss: 2.7703, Train Acc: 77.57%\n",
      "Epoch [5/30], Loss: 2.3964, Train Acc: 88.92%\n",
      "Epoch [6/30], Loss: 1.9803, Train Acc: 92.70%\n",
      "Epoch [7/30], Loss: 1.5701, Train Acc: 91.89%\n",
      "Epoch [8/30], Loss: 1.1408, Train Acc: 94.86%\n",
      "Epoch [9/30], Loss: 0.8907, Train Acc: 96.76%\n",
      "Epoch [10/30], Loss: 0.6753, Train Acc: 96.22%\n",
      "Epoch [11/30], Loss: 0.5430, Train Acc: 97.84%\n",
      "Epoch [12/30], Loss: 0.4203, Train Acc: 98.65%\n",
      "Epoch [13/30], Loss: 0.3623, Train Acc: 98.65%\n",
      "Epoch [14/30], Loss: 0.3122, Train Acc: 99.19%\n",
      "Epoch [15/30], Loss: 0.2576, Train Acc: 100.00%\n",
      "Epoch [16/30], Loss: 0.2170, Train Acc: 99.73%\n",
      "Epoch [17/30], Loss: 0.1795, Train Acc: 100.00%\n",
      "Epoch [18/30], Loss: 0.1686, Train Acc: 99.73%\n",
      "Epoch [19/30], Loss: 0.2998, Train Acc: 99.46%\n",
      "Epoch [20/30], Loss: 0.1408, Train Acc: 99.73%\n",
      "Epoch [21/30], Loss: 0.2625, Train Acc: 100.00%\n",
      "Epoch [22/30], Loss: 0.3670, Train Acc: 99.19%\n",
      "Epoch [23/30], Loss: 1.6056, Train Acc: 81.62%\n",
      "Epoch [24/30], Loss: 1.0232, Train Acc: 79.73%\n",
      "Epoch [25/30], Loss: 0.6857, Train Acc: 86.76%\n",
      "Epoch [26/30], Loss: 0.4635, Train Acc: 92.70%\n",
      "Epoch [27/30], Loss: 0.3665, Train Acc: 93.78%\n",
      "Epoch [28/30], Loss: 0.3299, Train Acc: 95.14%\n",
      "Epoch [29/30], Loss: 0.2137, Train Acc: 97.84%\n",
      "Epoch [30/30], Loss: 0.2049, Train Acc: 97.03%\n",
      "Total elapsed: 920.73s, average per update step: 0.12s\n"
     ]
    },
    {
     "data": {
      "application/vnd.jupyter.widget-view+json": {
       "model_id": "059f8668e01c4ad6967a1a843044f9f7",
       "version_major": 2,
       "version_minor": 0
      },
      "text/plain": [
       "Evaluating:   0%|          | 0/115 [00:00<?, ?it/s]"
      ]
     },
     "metadata": {},
     "output_type": "display_data"
    },
    {
     "name": "stdout",
     "output_type": "stream",
     "text": [
      "Test Accuracy: 83.538 %\n",
      "Test Accuracy Mean: 83.12 %\n",
      "Test Accuracy Standard Error: 0.32 percentage points\n"
     ]
    }
   ],
   "source": [
    "from run import try_loading_trainer\n",
    "from augmentation import AugmentationParams\n",
    "from evaluation import evaluate_final_test_accuracy, run_with_different_seeds\n",
    "from torch.utils.data import DataLoader\n",
    "from datasets import load_dataset, DatasetParams\n",
    "from training import Trainer, TrainParams, NagParams\n",
    "from copy import deepcopy\n",
    "from caching import invalidate_cache_entry\n",
    "from determinism import Determinism\n",
    "\n",
    "%reload_ext autoreload\n",
    "%autoreload 2\n",
    "\n",
    "\n",
    "determinism = Determinism(seed=42).sow()  # Keep this before any torch import\n",
    "   \n",
    "dataset_params = DatasetParams(\n",
    "    splitting_seed=determinism.seed,\n",
    "    shuffler_seed=determinism.seed,\n",
    "    batch_size=32,\n",
    "    #trainval_size=None,  # Load all training data\n",
    "    class_fractions=(1.0,) * 37,\n",
    "    #trainval_size=400,  # Load a subset\n",
    "    validation_set_fraction=0.2,  # 20 % of trainval set\n",
    "    labelled_data_fraction=1.0, # full labelled data first\n",
    ")\n",
    "\n",
    "baseline_params = TrainParams(\n",
    "    seed=determinism.seed,\n",
    "    architecture=\"resnet50\",\n",
    "    n_epochs=5,\n",
    "    optimizer=NagParams(\n",
    "        learning_rate=0.004713842776302303,\n",
    "        weight_decay=4.287389519996026e-06,\n",
    "        momentum=0.7222321829989696,\n",
    "    ),\n",
    "    freeze_layers=True,\n",
    "    unfreezing_epochs=(2, 4),\n",
    "    validation_freq=1,\n",
    "    time_limit_seconds=None,\n",
    "    val_acc_target=None,\n",
    "    unfreeze_last_l_blocks = 2,\n",
    "    pseudo_threshold = 0.95,\n",
    "    unsup_weight = 0.5,\n",
    "    augmentation = AugmentationParams(\n",
    "        enabled=False,\n",
    "        transform=None\n",
    "    ),\n",
    "    fixmatch=True,\n",
    "    use_scheduler=True,\n",
    "    scheduler_type=\"plateau\"\n",
    ")\n",
    "\n",
    "fractions = [0.7, 0.5, 0.3, 0.1] #[0.1, 0.3, 0.5, 0.7, 0.9, 1.0]\n",
    "epochs_list = [10, 20, 30]\n",
    "\n",
    "for fraction in fractions:\n",
    "    dataset_params.labelled_data_fraction = fraction\n",
    "    for num_epochs in epochs_list:\n",
    "        training_params = deepcopy(baseline_params)\n",
    "        training_params.n_epochs = num_epochs\n",
    "\n",
    "        print(\"\\n=====================================\")\n",
    "        print(f\"Training with fraction={fraction}, epochs={num_epochs}\")\n",
    "        print(\"=====================================\")\n",
    "        # print(training_params.pprint())\n",
    "        # print(dataset_params.pprint())\n",
    "\n",
    "        trials = 3\n",
    "        # run_with_different_seeds(dataset_params, training_params, determinism, trials)\n",
    "        evaluate_final_test_accuracy(\n",
    "            dataset_params,\n",
    "            training_params,\n",
    "            determinism,\n",
    "            trials,\n",
    "            display_misclassified=False,\n",
    "        )"
   ]
  },
  {
   "cell_type": "code",
   "execution_count": 3,
   "id": "19ec0d72-51fe-4f15-bbb5-9f426dc4ba57",
   "metadata": {},
   "outputs": [
    {
     "name": "stdout",
     "output_type": "stream",
     "text": [
      "\n",
      "=====================================\n",
      "Training with fraction=0.7, pseudo_threshold=None\n",
      "=====================================\n",
      "Test size: 3669\n",
      "Trying to load trainer from disk...\n"
     ]
    },
    {
     "name": "stderr",
     "output_type": "stream",
     "text": [
      "/opt/python/3.10/lib/python3.10/site-packages/torch/optim/lr_scheduler.py:60: UserWarning: The verbose parameter is deprecated. Please use get_last_lr() to access the learning rate.\n",
      "  warnings.warn(\n"
     ]
    },
    {
     "name": "stdout",
     "output_type": "stream",
     "text": [
      "Trainer not found. Retraining...\n",
      "[Trainer] Unfroze last 2 blocks\n"
     ]
    },
    {
     "data": {
      "application/vnd.jupyter.widget-view+json": {
       "model_id": "e3940c5c2c5b4febb9987ff4e3a858b0",
       "version_major": 2,
       "version_minor": 0
      },
      "text/plain": [
       "Update step:   0%|          | 0/2320 [00:00<?, ?it/s]"
      ]
     },
     "metadata": {},
     "output_type": "display_data"
    },
    {
     "name": "stdout",
     "output_type": "stream",
     "text": [
      "Epoch [1/20], Loss: 3.3793, Train Acc: 35.23%\n",
      "Epoch [2/20], Loss: 1.4076, Train Acc: 76.16%\n",
      "Epoch [3/20], Loss: 0.7320, Train Acc: 86.78%\n",
      "Epoch [4/20], Loss: 0.5728, Train Acc: 91.55%\n",
      "Epoch [5/20], Loss: 0.5585, Train Acc: 94.84%\n",
      "Epoch [6/20], Loss: 0.4148, Train Acc: 96.01%\n",
      "Epoch [7/20], Loss: 0.3625, Train Acc: 97.21%\n",
      "Epoch [8/20], Loss: 0.3759, Train Acc: 97.09%\n",
      "Epoch [9/20], Loss: 0.3338, Train Acc: 98.14%\n",
      "Epoch [10/20], Loss: 0.3856, Train Acc: 98.57%\n",
      "Epoch [11/20], Loss: 0.4259, Train Acc: 99.03%\n",
      "Epoch [12/20], Loss: 0.3985, Train Acc: 99.26%\n",
      "Epoch [13/20], Loss: 0.3718, Train Acc: 99.03%\n",
      "Epoch [14/20], Loss: 0.3757, Train Acc: 99.69%\n",
      "Epoch [15/20], Loss: 0.3364, Train Acc: 99.26%\n",
      "Epoch [16/20], Loss: 0.3470, Train Acc: 99.34%\n",
      "Epoch [17/20], Loss: 0.3760, Train Acc: 99.26%\n",
      "Epoch [18/20], Loss: 0.3594, Train Acc: 99.46%\n",
      "Epoch [19/20], Loss: 0.3831, Train Acc: 99.57%\n",
      "Epoch [20/20], Loss: 0.3452, Train Acc: 99.53%\n",
      "Total elapsed: 389.51s, average per update step: 0.10s\n"
     ]
    },
    {
     "data": {
      "application/vnd.jupyter.widget-view+json": {
       "model_id": "4c58fc66882e49a68e8916fecda9b147",
       "version_major": 2,
       "version_minor": 0
      },
      "text/plain": [
       "Evaluating:   0%|          | 0/115 [00:00<?, ?it/s]"
      ]
     },
     "metadata": {},
     "output_type": "display_data"
    },
    {
     "name": "stdout",
     "output_type": "stream",
     "text": [
      "Test Accuracy: 92.096 %\n",
      "Trying to load trainer from disk...\n",
      "Trainer not found. Retraining...\n",
      "[Trainer] Unfroze last 2 blocks\n"
     ]
    },
    {
     "data": {
      "application/vnd.jupyter.widget-view+json": {
       "model_id": "c76fdd4ec2a841c988f6f8165ce1b4e5",
       "version_major": 2,
       "version_minor": 0
      },
      "text/plain": [
       "Update step:   0%|          | 0/2320 [00:00<?, ?it/s]"
      ]
     },
     "metadata": {},
     "output_type": "display_data"
    },
    {
     "name": "stdout",
     "output_type": "stream",
     "text": [
      "Epoch [1/20], Loss: 3.3387, Train Acc: 33.22%\n",
      "Epoch [2/20], Loss: 1.4477, Train Acc: 75.12%\n",
      "Epoch [3/20], Loss: 0.7723, Train Acc: 86.67%\n",
      "Epoch [4/20], Loss: 0.6774, Train Acc: 92.29%\n",
      "Epoch [5/20], Loss: 0.5821, Train Acc: 94.42%\n",
      "Epoch [6/20], Loss: 0.4585, Train Acc: 95.78%\n",
      "Epoch [7/20], Loss: 0.4500, Train Acc: 97.02%\n",
      "Epoch [8/20], Loss: 0.4470, Train Acc: 97.17%\n",
      "Epoch [9/20], Loss: 0.4338, Train Acc: 98.41%\n",
      "Epoch [10/20], Loss: 0.4110, Train Acc: 98.60%\n",
      "Epoch [11/20], Loss: 0.4147, Train Acc: 98.68%\n",
      "Epoch [12/20], Loss: 0.3841, Train Acc: 98.95%\n",
      "Epoch [13/20], Loss: 0.3946, Train Acc: 98.91%\n",
      "Epoch [14/20], Loss: 0.3903, Train Acc: 99.30%\n",
      "Epoch [15/20], Loss: 0.3577, Train Acc: 99.42%\n",
      "Epoch [16/20], Loss: 0.3406, Train Acc: 99.69%\n",
      "Epoch [17/20], Loss: 0.3653, Train Acc: 99.61%\n",
      "Epoch [18/20], Loss: 0.3352, Train Acc: 99.88%\n",
      "Epoch [19/20], Loss: 0.3589, Train Acc: 99.42%\n",
      "Epoch [20/20], Loss: 0.3352, Train Acc: 99.53%\n",
      "Total elapsed: 389.47s, average per update step: 0.10s\n"
     ]
    },
    {
     "data": {
      "application/vnd.jupyter.widget-view+json": {
       "model_id": "f180a5d54a2d48d49cf5569897e980dd",
       "version_major": 2,
       "version_minor": 0
      },
      "text/plain": [
       "Evaluating:   0%|          | 0/115 [00:00<?, ?it/s]"
      ]
     },
     "metadata": {},
     "output_type": "display_data"
    },
    {
     "name": "stdout",
     "output_type": "stream",
     "text": [
      "Test Accuracy: 91.823 %\n",
      "Trying to load trainer from disk...\n",
      "Trainer not found. Retraining...\n",
      "[Trainer] Unfroze last 2 blocks\n"
     ]
    },
    {
     "data": {
      "application/vnd.jupyter.widget-view+json": {
       "model_id": "c696bb0805ee4d22ae2abc3d409a87aa",
       "version_major": 2,
       "version_minor": 0
      },
      "text/plain": [
       "Update step:   0%|          | 0/2320 [00:00<?, ?it/s]"
      ]
     },
     "metadata": {},
     "output_type": "display_data"
    },
    {
     "name": "stdout",
     "output_type": "stream",
     "text": [
      "Epoch [1/20], Loss: 3.3536, Train Acc: 35.93%\n",
      "Epoch [2/20], Loss: 1.3918, Train Acc: 74.81%\n",
      "Epoch [3/20], Loss: 0.7606, Train Acc: 87.25%\n",
      "Epoch [4/20], Loss: 0.5843, Train Acc: 91.94%\n",
      "Epoch [5/20], Loss: 0.5911, Train Acc: 94.57%\n",
      "Epoch [6/20], Loss: 0.3652, Train Acc: 96.05%\n",
      "Epoch [7/20], Loss: 0.4040, Train Acc: 97.48%\n",
      "Epoch [8/20], Loss: 0.4516, Train Acc: 97.52%\n",
      "Epoch [9/20], Loss: 0.4093, Train Acc: 98.49%\n",
      "Epoch [10/20], Loss: 0.3853, Train Acc: 98.06%\n",
      "Epoch [11/20], Loss: 0.4417, Train Acc: 98.60%\n",
      "Epoch [12/20], Loss: 0.4341, Train Acc: 99.07%\n",
      "Epoch [13/20], Loss: 0.4450, Train Acc: 98.95%\n",
      "Epoch [14/20], Loss: 0.4340, Train Acc: 99.61%\n",
      "Epoch [15/20], Loss: 0.4035, Train Acc: 99.61%\n",
      "Epoch [16/20], Loss: 0.3614, Train Acc: 99.69%\n",
      "Epoch [17/20], Loss: 0.3786, Train Acc: 99.69%\n",
      "Epoch [18/20], Loss: 0.3462, Train Acc: 99.61%\n",
      "Epoch [19/20], Loss: 0.3660, Train Acc: 99.57%\n",
      "Epoch [20/20], Loss: 0.3325, Train Acc: 99.69%\n",
      "Total elapsed: 389.74s, average per update step: 0.10s\n"
     ]
    },
    {
     "data": {
      "application/vnd.jupyter.widget-view+json": {
       "model_id": "27caf5493a11471695ae87ba11619a33",
       "version_major": 2,
       "version_minor": 0
      },
      "text/plain": [
       "Evaluating:   0%|          | 0/115 [00:00<?, ?it/s]"
      ]
     },
     "metadata": {},
     "output_type": "display_data"
    },
    {
     "name": "stdout",
     "output_type": "stream",
     "text": [
      "Test Accuracy: 92.041 %\n",
      "Test Accuracy Mean: 91.99 %\n",
      "Test Accuracy Standard Error: 0.08 percentage points\n",
      "\n",
      "=====================================\n",
      "Training with fraction=0.7, pseudo_threshold=0.5\n",
      "=====================================\n",
      "Test size: 3669\n",
      "Trying to load trainer from disk...\n"
     ]
    },
    {
     "name": "stderr",
     "output_type": "stream",
     "text": [
      "/opt/python/3.10/lib/python3.10/site-packages/torch/optim/lr_scheduler.py:60: UserWarning: The verbose parameter is deprecated. Please use get_last_lr() to access the learning rate.\n",
      "  warnings.warn(\n"
     ]
    },
    {
     "name": "stdout",
     "output_type": "stream",
     "text": [
      "Trainer not found. Retraining...\n",
      "[Trainer] Unfroze last 2 blocks\n"
     ]
    },
    {
     "data": {
      "application/vnd.jupyter.widget-view+json": {
       "model_id": "4d4cafcdda124ff598c11b83de90d636",
       "version_major": 2,
       "version_minor": 0
      },
      "text/plain": [
       "Update step:   0%|          | 0/2320 [00:00<?, ?it/s]"
      ]
     },
     "metadata": {},
     "output_type": "display_data"
    },
    {
     "name": "stdout",
     "output_type": "stream",
     "text": [
      "Epoch [1/20], Loss: 2.8437, Train Acc: 50.93%\n",
      "Epoch [2/20], Loss: 1.0082, Train Acc: 84.50%\n",
      "Epoch [3/20], Loss: 0.9131, Train Acc: 88.76%\n",
      "Epoch [4/20], Loss: 0.6920, Train Acc: 91.71%\n",
      "Epoch [5/20], Loss: 0.5264, Train Acc: 93.57%\n",
      "Epoch [6/20], Loss: 0.5371, Train Acc: 95.66%\n",
      "Epoch [7/20], Loss: 0.4980, Train Acc: 96.94%\n",
      "Epoch [8/20], Loss: 0.4428, Train Acc: 97.33%\n",
      "Epoch [9/20], Loss: 0.3921, Train Acc: 98.26%\n",
      "Epoch [10/20], Loss: 0.3776, Train Acc: 98.57%\n",
      "Epoch [11/20], Loss: 0.3525, Train Acc: 98.72%\n",
      "Epoch [12/20], Loss: 0.3230, Train Acc: 98.64%\n",
      "Epoch [13/20], Loss: 0.3082, Train Acc: 98.95%\n",
      "Epoch [14/20], Loss: 0.2918, Train Acc: 99.57%\n",
      "Epoch [15/20], Loss: 0.2827, Train Acc: 99.34%\n",
      "Epoch [16/20], Loss: 0.2582, Train Acc: 99.77%\n",
      "Epoch [17/20], Loss: 0.2953, Train Acc: 99.46%\n",
      "Epoch [18/20], Loss: 0.2651, Train Acc: 99.57%\n",
      "Epoch [19/20], Loss: 0.2625, Train Acc: 99.61%\n",
      "Epoch [20/20], Loss: 0.2504, Train Acc: 99.61%\n",
      "Total elapsed: 385.66s, average per update step: 0.10s\n"
     ]
    },
    {
     "data": {
      "application/vnd.jupyter.widget-view+json": {
       "model_id": "8a60c66e194146e198f426df4c8dba5f",
       "version_major": 2,
       "version_minor": 0
      },
      "text/plain": [
       "Evaluating:   0%|          | 0/115 [00:00<?, ?it/s]"
      ]
     },
     "metadata": {},
     "output_type": "display_data"
    },
    {
     "name": "stdout",
     "output_type": "stream",
     "text": [
      "Test Accuracy: 91.932 %\n",
      "Trying to load trainer from disk...\n",
      "Trainer not found. Retraining...\n",
      "[Trainer] Unfroze last 2 blocks\n"
     ]
    },
    {
     "data": {
      "application/vnd.jupyter.widget-view+json": {
       "model_id": "92d71ece6fcf4b3fa3410d1bca10304f",
       "version_major": 2,
       "version_minor": 0
      },
      "text/plain": [
       "Update step:   0%|          | 0/2320 [00:00<?, ?it/s]"
      ]
     },
     "metadata": {},
     "output_type": "display_data"
    },
    {
     "name": "stdout",
     "output_type": "stream",
     "text": [
      "Epoch [1/20], Loss: 2.8405, Train Acc: 48.84%\n",
      "Epoch [2/20], Loss: 1.0228, Train Acc: 84.22%\n",
      "Epoch [3/20], Loss: 0.9414, Train Acc: 90.12%\n",
      "Epoch [4/20], Loss: 0.7040, Train Acc: 91.63%\n",
      "Epoch [5/20], Loss: 0.6246, Train Acc: 94.53%\n",
      "Epoch [6/20], Loss: 0.5178, Train Acc: 96.28%\n",
      "Epoch [7/20], Loss: 0.4790, Train Acc: 97.33%\n",
      "Epoch [8/20], Loss: 0.4241, Train Acc: 97.29%\n",
      "Epoch [9/20], Loss: 0.4057, Train Acc: 98.18%\n",
      "Epoch [10/20], Loss: 0.3798, Train Acc: 98.53%\n",
      "Epoch [11/20], Loss: 0.3624, Train Acc: 98.76%\n",
      "Epoch [12/20], Loss: 0.3239, Train Acc: 99.11%\n",
      "Epoch [13/20], Loss: 0.3051, Train Acc: 99.03%\n",
      "Epoch [14/20], Loss: 0.3171, Train Acc: 99.61%\n",
      "Epoch [15/20], Loss: 0.2947, Train Acc: 99.53%\n",
      "Epoch [16/20], Loss: 0.2514, Train Acc: 99.46%\n",
      "Epoch [17/20], Loss: 0.2983, Train Acc: 99.50%\n",
      "Epoch [18/20], Loss: 0.2654, Train Acc: 99.69%\n",
      "Epoch [19/20], Loss: 0.2520, Train Acc: 99.53%\n",
      "Epoch [20/20], Loss: 0.2420, Train Acc: 99.46%\n",
      "Total elapsed: 383.53s, average per update step: 0.10s\n"
     ]
    },
    {
     "data": {
      "application/vnd.jupyter.widget-view+json": {
       "model_id": "16607842805f4859aa26d9e25605b316",
       "version_major": 2,
       "version_minor": 0
      },
      "text/plain": [
       "Evaluating:   0%|          | 0/115 [00:00<?, ?it/s]"
      ]
     },
     "metadata": {},
     "output_type": "display_data"
    },
    {
     "name": "stdout",
     "output_type": "stream",
     "text": [
      "Test Accuracy: 91.878 %\n",
      "Trying to load trainer from disk...\n",
      "Trainer not found. Retraining...\n",
      "[Trainer] Unfroze last 2 blocks\n"
     ]
    },
    {
     "data": {
      "application/vnd.jupyter.widget-view+json": {
       "model_id": "ddead90d64914a2085b18f747af0281c",
       "version_major": 2,
       "version_minor": 0
      },
      "text/plain": [
       "Update step:   0%|          | 0/2320 [00:00<?, ?it/s]"
      ]
     },
     "metadata": {},
     "output_type": "display_data"
    },
    {
     "name": "stdout",
     "output_type": "stream",
     "text": [
      "Epoch [1/20], Loss: 2.8292, Train Acc: 50.81%\n",
      "Epoch [2/20], Loss: 0.9906, Train Acc: 84.53%\n",
      "Epoch [3/20], Loss: 0.9614, Train Acc: 88.49%\n",
      "Epoch [4/20], Loss: 0.6776, Train Acc: 90.97%\n",
      "Epoch [5/20], Loss: 0.6038, Train Acc: 93.41%\n",
      "Epoch [6/20], Loss: 0.5333, Train Acc: 95.43%\n",
      "Epoch [7/20], Loss: 0.4854, Train Acc: 96.40%\n",
      "Epoch [8/20], Loss: 0.4222, Train Acc: 97.52%\n",
      "Epoch [9/20], Loss: 0.4187, Train Acc: 97.91%\n",
      "Epoch [10/20], Loss: 0.3656, Train Acc: 98.91%\n",
      "Epoch [11/20], Loss: 0.3641, Train Acc: 98.49%\n",
      "Epoch [12/20], Loss: 0.3262, Train Acc: 99.19%\n",
      "Epoch [13/20], Loss: 0.3207, Train Acc: 99.03%\n",
      "Epoch [14/20], Loss: 0.3102, Train Acc: 99.34%\n",
      "Epoch [15/20], Loss: 0.2995, Train Acc: 99.19%\n",
      "Epoch [16/20], Loss: 0.2639, Train Acc: 99.42%\n",
      "Epoch [17/20], Loss: 0.2662, Train Acc: 99.65%\n",
      "Epoch [18/20], Loss: 0.2646, Train Acc: 99.81%\n",
      "Epoch [19/20], Loss: 0.2633, Train Acc: 99.42%\n",
      "Epoch [20/20], Loss: 0.2452, Train Acc: 99.61%\n",
      "Total elapsed: 386.72s, average per update step: 0.10s\n"
     ]
    },
    {
     "data": {
      "application/vnd.jupyter.widget-view+json": {
       "model_id": "9278ea23795e474e95fd28817c8ebd59",
       "version_major": 2,
       "version_minor": 0
      },
      "text/plain": [
       "Evaluating:   0%|          | 0/115 [00:00<?, ?it/s]"
      ]
     },
     "metadata": {},
     "output_type": "display_data"
    },
    {
     "name": "stdout",
     "output_type": "stream",
     "text": [
      "Test Accuracy: 91.823 %\n",
      "Test Accuracy Mean: 91.88 %\n",
      "Test Accuracy Standard Error: 0.03 percentage points\n",
      "\n",
      "=====================================\n",
      "Training with fraction=0.7, pseudo_threshold=0.7\n",
      "=====================================\n",
      "Test size: 3669\n",
      "Trying to load trainer from disk...\n"
     ]
    },
    {
     "name": "stderr",
     "output_type": "stream",
     "text": [
      "/opt/python/3.10/lib/python3.10/site-packages/torch/optim/lr_scheduler.py:60: UserWarning: The verbose parameter is deprecated. Please use get_last_lr() to access the learning rate.\n",
      "  warnings.warn(\n"
     ]
    },
    {
     "name": "stdout",
     "output_type": "stream",
     "text": [
      "Trainer not found. Retraining...\n",
      "[Trainer] Unfroze last 2 blocks\n"
     ]
    },
    {
     "data": {
      "application/vnd.jupyter.widget-view+json": {
       "model_id": "4769033e96754bdebbcb5ef2ef9875e2",
       "version_major": 2,
       "version_minor": 0
      },
      "text/plain": [
       "Update step:   0%|          | 0/2320 [00:00<?, ?it/s]"
      ]
     },
     "metadata": {},
     "output_type": "display_data"
    },
    {
     "name": "stdout",
     "output_type": "stream",
     "text": [
      "Epoch [1/20], Loss: 2.8437, Train Acc: 50.93%\n",
      "Epoch [2/20], Loss: 1.0082, Train Acc: 84.50%\n",
      "Epoch [3/20], Loss: 0.6567, Train Acc: 91.12%\n",
      "Epoch [4/20], Loss: 0.7405, Train Acc: 91.90%\n",
      "Epoch [5/20], Loss: 0.7176, Train Acc: 94.03%\n",
      "Epoch [6/20], Loss: 0.5630, Train Acc: 94.96%\n",
      "Epoch [7/20], Loss: 0.5154, Train Acc: 96.20%\n",
      "Epoch [8/20], Loss: 0.4237, Train Acc: 96.90%\n",
      "Epoch [9/20], Loss: 0.4009, Train Acc: 98.53%\n",
      "Epoch [10/20], Loss: 0.3556, Train Acc: 98.49%\n",
      "Epoch [11/20], Loss: 0.3600, Train Acc: 98.26%\n",
      "Epoch [12/20], Loss: 0.3576, Train Acc: 98.91%\n",
      "Epoch [13/20], Loss: 0.3038, Train Acc: 98.95%\n",
      "Epoch [14/20], Loss: 0.2827, Train Acc: 99.42%\n",
      "Epoch [15/20], Loss: 0.2804, Train Acc: 99.61%\n",
      "Epoch [16/20], Loss: 0.2620, Train Acc: 99.46%\n",
      "Epoch [17/20], Loss: 0.2710, Train Acc: 99.50%\n",
      "Epoch [18/20], Loss: 0.2507, Train Acc: 99.38%\n",
      "Epoch [19/20], Loss: 0.2372, Train Acc: 99.53%\n",
      "Epoch [20/20], Loss: 0.2348, Train Acc: 99.61%\n",
      "Total elapsed: 384.25s, average per update step: 0.10s\n"
     ]
    },
    {
     "data": {
      "application/vnd.jupyter.widget-view+json": {
       "model_id": "4238f6709776461380095c5966bd60d9",
       "version_major": 2,
       "version_minor": 0
      },
      "text/plain": [
       "Evaluating:   0%|          | 0/115 [00:00<?, ?it/s]"
      ]
     },
     "metadata": {},
     "output_type": "display_data"
    },
    {
     "name": "stdout",
     "output_type": "stream",
     "text": [
      "Test Accuracy: 91.605 %\n",
      "Trying to load trainer from disk...\n",
      "Trainer not found. Retraining...\n",
      "[Trainer] Unfroze last 2 blocks\n"
     ]
    },
    {
     "data": {
      "application/vnd.jupyter.widget-view+json": {
       "model_id": "31cd207daf3d4617b1654d781ddc4a22",
       "version_major": 2,
       "version_minor": 0
      },
      "text/plain": [
       "Update step:   0%|          | 0/2320 [00:00<?, ?it/s]"
      ]
     },
     "metadata": {},
     "output_type": "display_data"
    },
    {
     "name": "stdout",
     "output_type": "stream",
     "text": [
      "Epoch [1/20], Loss: 2.8405, Train Acc: 48.84%\n",
      "Epoch [2/20], Loss: 1.0228, Train Acc: 84.22%\n",
      "Epoch [3/20], Loss: 0.5686, Train Acc: 90.81%\n",
      "Epoch [4/20], Loss: 0.7642, Train Acc: 92.21%\n",
      "Epoch [5/20], Loss: 0.6195, Train Acc: 93.49%\n",
      "Epoch [6/20], Loss: 0.5356, Train Acc: 94.19%\n",
      "Epoch [7/20], Loss: 0.4766, Train Acc: 96.90%\n",
      "Epoch [8/20], Loss: 0.3667, Train Acc: 97.05%\n",
      "Epoch [9/20], Loss: 0.3807, Train Acc: 97.79%\n",
      "Epoch [10/20], Loss: 0.3553, Train Acc: 98.37%\n",
      "Epoch [11/20], Loss: 0.3622, Train Acc: 98.33%\n",
      "Epoch [12/20], Loss: 0.3078, Train Acc: 98.95%\n",
      "Epoch [13/20], Loss: 0.3037, Train Acc: 98.95%\n",
      "Epoch [14/20], Loss: 0.2770, Train Acc: 99.69%\n",
      "Epoch [15/20], Loss: 0.2629, Train Acc: 99.26%\n",
      "Epoch [16/20], Loss: 0.2523, Train Acc: 99.34%\n",
      "Epoch [17/20], Loss: 0.2738, Train Acc: 99.42%\n",
      "Epoch [18/20], Loss: 0.2419, Train Acc: 99.77%\n",
      "Epoch [19/20], Loss: 0.2218, Train Acc: 99.53%\n",
      "Epoch [20/20], Loss: 0.2384, Train Acc: 99.57%\n",
      "Total elapsed: 383.03s, average per update step: 0.12s\n"
     ]
    },
    {
     "data": {
      "application/vnd.jupyter.widget-view+json": {
       "model_id": "ddeadc2a1e604e7d8c1857c285afa20b",
       "version_major": 2,
       "version_minor": 0
      },
      "text/plain": [
       "Evaluating:   0%|          | 0/115 [00:00<?, ?it/s]"
      ]
     },
     "metadata": {},
     "output_type": "display_data"
    },
    {
     "name": "stdout",
     "output_type": "stream",
     "text": [
      "Test Accuracy: 91.878 %\n",
      "Trying to load trainer from disk...\n",
      "Trainer not found. Retraining...\n",
      "[Trainer] Unfroze last 2 blocks\n"
     ]
    },
    {
     "data": {
      "application/vnd.jupyter.widget-view+json": {
       "model_id": "bd793b1d21ff457f8837a1686bcd7475",
       "version_major": 2,
       "version_minor": 0
      },
      "text/plain": [
       "Update step:   0%|          | 0/2320 [00:00<?, ?it/s]"
      ]
     },
     "metadata": {},
     "output_type": "display_data"
    },
    {
     "name": "stdout",
     "output_type": "stream",
     "text": [
      "Epoch [1/20], Loss: 2.8292, Train Acc: 50.81%\n",
      "Epoch [2/20], Loss: 0.9906, Train Acc: 84.53%\n",
      "Epoch [3/20], Loss: 0.7196, Train Acc: 89.77%\n",
      "Epoch [4/20], Loss: 0.7762, Train Acc: 93.29%\n",
      "Epoch [5/20], Loss: 0.7019, Train Acc: 93.88%\n",
      "Epoch [6/20], Loss: 0.5343, Train Acc: 94.46%\n",
      "Epoch [7/20], Loss: 0.4229, Train Acc: 96.40%\n",
      "Epoch [8/20], Loss: 0.4449, Train Acc: 96.59%\n",
      "Epoch [9/20], Loss: 0.4538, Train Acc: 97.98%\n",
      "Epoch [10/20], Loss: 0.3841, Train Acc: 97.64%\n",
      "Epoch [11/20], Loss: 0.3869, Train Acc: 98.84%\n",
      "Epoch [12/20], Loss: 0.3429, Train Acc: 99.19%\n",
      "Epoch [13/20], Loss: 0.2970, Train Acc: 99.15%\n",
      "Epoch [14/20], Loss: 0.2960, Train Acc: 99.38%\n",
      "Epoch [15/20], Loss: 0.2774, Train Acc: 99.30%\n",
      "Epoch [16/20], Loss: 0.2734, Train Acc: 99.42%\n",
      "Epoch [17/20], Loss: 0.2777, Train Acc: 99.42%\n",
      "Epoch [18/20], Loss: 0.2471, Train Acc: 99.57%\n",
      "Epoch [19/20], Loss: 0.2522, Train Acc: 99.15%\n",
      "Epoch [20/20], Loss: 0.2389, Train Acc: 99.65%\n",
      "Total elapsed: 385.33s, average per update step: 0.10s\n"
     ]
    },
    {
     "data": {
      "application/vnd.jupyter.widget-view+json": {
       "model_id": "2150d8e1d2f74b909c92c75906b14ed2",
       "version_major": 2,
       "version_minor": 0
      },
      "text/plain": [
       "Evaluating:   0%|          | 0/115 [00:00<?, ?it/s]"
      ]
     },
     "metadata": {},
     "output_type": "display_data"
    },
    {
     "name": "stdout",
     "output_type": "stream",
     "text": [
      "Test Accuracy: 91.551 %\n",
      "Test Accuracy Mean: 91.68 %\n",
      "Test Accuracy Standard Error: 0.10 percentage points\n",
      "\n",
      "=====================================\n",
      "Training with fraction=0.9, pseudo_threshold=None\n",
      "=====================================\n",
      "Test size: 3669\n",
      "Trying to load trainer from disk...\n"
     ]
    },
    {
     "name": "stderr",
     "output_type": "stream",
     "text": [
      "/opt/python/3.10/lib/python3.10/site-packages/torch/optim/lr_scheduler.py:60: UserWarning: The verbose parameter is deprecated. Please use get_last_lr() to access the learning rate.\n",
      "  warnings.warn(\n"
     ]
    },
    {
     "name": "stdout",
     "output_type": "stream",
     "text": [
      "Trainer not found. Retraining...\n",
      "[Trainer] Unfroze last 2 blocks\n"
     ]
    },
    {
     "data": {
      "application/vnd.jupyter.widget-view+json": {
       "model_id": "986254bc1db44781b63d9c9e2fff8e77",
       "version_major": 2,
       "version_minor": 0
      },
      "text/plain": [
       "Update step:   0%|          | 0/2320 [00:00<?, ?it/s]"
      ]
     },
     "metadata": {},
     "output_type": "display_data"
    },
    {
     "name": "stdout",
     "output_type": "stream",
     "text": [
      "Epoch [1/20], Loss: 2.7062, Train Acc: 50.82%\n",
      "Epoch [2/20], Loss: 0.8481, Train Acc: 87.03%\n",
      "Epoch [3/20], Loss: 0.4890, Train Acc: 91.96%\n",
      "Epoch [4/20], Loss: 0.3578, Train Acc: 95.10%\n",
      "Epoch [5/20], Loss: 0.2966, Train Acc: 96.44%\n",
      "Epoch [6/20], Loss: 0.2541, Train Acc: 97.22%\n",
      "Epoch [7/20], Loss: 0.2174, Train Acc: 97.85%\n",
      "Epoch [8/20], Loss: 0.1965, Train Acc: 98.36%\n",
      "Epoch [9/20], Loss: 0.1758, Train Acc: 99.04%\n",
      "Epoch [10/20], Loss: 0.1702, Train Acc: 99.31%\n",
      "Epoch [11/20], Loss: 0.1539, Train Acc: 99.49%\n",
      "Epoch [12/20], Loss: 0.1408, Train Acc: 99.52%\n",
      "Epoch [13/20], Loss: 0.1399, Train Acc: 99.52%\n",
      "Epoch [14/20], Loss: 0.1239, Train Acc: 99.70%\n",
      "Epoch [15/20], Loss: 0.1210, Train Acc: 99.73%\n",
      "Epoch [16/20], Loss: 0.1113, Train Acc: 99.88%\n",
      "Epoch [17/20], Loss: 0.1096, Train Acc: 99.79%\n",
      "Epoch [18/20], Loss: 0.1089, Train Acc: 99.64%\n",
      "Epoch [19/20], Loss: 0.1020, Train Acc: 99.76%\n",
      "Epoch [20/20], Loss: 0.1003, Train Acc: 99.76%\n",
      "Total elapsed: 306.43s, average per update step: 0.10s\n"
     ]
    },
    {
     "data": {
      "application/vnd.jupyter.widget-view+json": {
       "model_id": "11e81b85e6ce4f3895a3eff9fb71aadc",
       "version_major": 2,
       "version_minor": 0
      },
      "text/plain": [
       "Evaluating:   0%|          | 0/115 [00:00<?, ?it/s]"
      ]
     },
     "metadata": {},
     "output_type": "display_data"
    },
    {
     "name": "stdout",
     "output_type": "stream",
     "text": [
      "Test Accuracy: 92.014 %\n",
      "Trying to load trainer from disk...\n",
      "Trainer not found. Retraining...\n",
      "[Trainer] Unfroze last 2 blocks\n"
     ]
    },
    {
     "data": {
      "application/vnd.jupyter.widget-view+json": {
       "model_id": "d75272345ff94b0d90c4affdbb13038c",
       "version_major": 2,
       "version_minor": 0
      },
      "text/plain": [
       "Update step:   0%|          | 0/2320 [00:00<?, ?it/s]"
      ]
     },
     "metadata": {},
     "output_type": "display_data"
    },
    {
     "name": "stdout",
     "output_type": "stream",
     "text": [
      "Epoch [1/20], Loss: 2.6926, Train Acc: 50.43%\n",
      "Epoch [2/20], Loss: 0.8471, Train Acc: 87.03%\n",
      "Epoch [3/20], Loss: 0.4956, Train Acc: 91.43%\n",
      "Epoch [4/20], Loss: 0.3651, Train Acc: 94.95%\n",
      "Epoch [5/20], Loss: 0.2972, Train Acc: 96.06%\n",
      "Epoch [6/20], Loss: 0.2562, Train Acc: 97.19%\n",
      "Epoch [7/20], Loss: 0.2211, Train Acc: 98.21%\n",
      "Epoch [8/20], Loss: 0.1936, Train Acc: 98.39%\n",
      "Epoch [9/20], Loss: 0.1744, Train Acc: 99.07%\n",
      "Epoch [10/20], Loss: 0.1718, Train Acc: 99.34%\n",
      "Epoch [11/20], Loss: 0.1508, Train Acc: 99.49%\n",
      "Epoch [12/20], Loss: 0.1402, Train Acc: 99.61%\n",
      "Epoch [13/20], Loss: 0.1424, Train Acc: 99.55%\n",
      "Epoch [14/20], Loss: 0.1204, Train Acc: 99.67%\n",
      "Epoch [15/20], Loss: 0.1247, Train Acc: 99.70%\n",
      "Epoch [16/20], Loss: 0.1152, Train Acc: 99.67%\n",
      "Epoch [17/20], Loss: 0.1158, Train Acc: 99.64%\n",
      "Epoch [18/20], Loss: 0.1130, Train Acc: 99.61%\n",
      "Epoch [19/20], Loss: 0.1058, Train Acc: 99.70%\n",
      "Epoch [20/20], Loss: 0.1027, Train Acc: 99.79%\n",
      "Total elapsed: 309.20s, average per update step: 0.10s\n"
     ]
    },
    {
     "data": {
      "application/vnd.jupyter.widget-view+json": {
       "model_id": "c7612fa1c21c402b836c2d9c341c3cf4",
       "version_major": 2,
       "version_minor": 0
      },
      "text/plain": [
       "Evaluating:   0%|          | 0/115 [00:00<?, ?it/s]"
      ]
     },
     "metadata": {},
     "output_type": "display_data"
    },
    {
     "name": "stdout",
     "output_type": "stream",
     "text": [
      "Test Accuracy: 92.150 %\n",
      "Trying to load trainer from disk...\n",
      "Trainer not found. Retraining...\n",
      "[Trainer] Unfroze last 2 blocks\n"
     ]
    },
    {
     "data": {
      "application/vnd.jupyter.widget-view+json": {
       "model_id": "fbe9270de9d148cb8c95a8ec5fa93fa6",
       "version_major": 2,
       "version_minor": 0
      },
      "text/plain": [
       "Update step:   0%|          | 0/2320 [00:00<?, ?it/s]"
      ]
     },
     "metadata": {},
     "output_type": "display_data"
    },
    {
     "name": "stdout",
     "output_type": "stream",
     "text": [
      "Epoch [1/20], Loss: 2.6778, Train Acc: 52.61%\n",
      "Epoch [2/20], Loss: 0.8349, Train Acc: 86.38%\n",
      "Epoch [3/20], Loss: 0.4851, Train Acc: 91.81%\n",
      "Epoch [4/20], Loss: 0.3650, Train Acc: 94.53%\n",
      "Epoch [5/20], Loss: 0.2843, Train Acc: 96.47%\n",
      "Epoch [6/20], Loss: 0.2501, Train Acc: 97.10%\n",
      "Epoch [7/20], Loss: 0.2151, Train Acc: 97.88%\n",
      "Epoch [8/20], Loss: 0.1826, Train Acc: 98.48%\n",
      "Epoch [9/20], Loss: 0.1738, Train Acc: 98.83%\n",
      "Epoch [10/20], Loss: 0.1659, Train Acc: 99.28%\n",
      "Epoch [11/20], Loss: 0.1510, Train Acc: 99.58%\n",
      "Epoch [12/20], Loss: 0.1343, Train Acc: 99.67%\n",
      "Epoch [13/20], Loss: 0.1318, Train Acc: 99.70%\n",
      "Epoch [14/20], Loss: 0.1164, Train Acc: 99.73%\n",
      "Epoch [15/20], Loss: 0.1172, Train Acc: 99.55%\n",
      "Epoch [16/20], Loss: 0.1059, Train Acc: 99.79%\n",
      "Epoch [17/20], Loss: 0.1097, Train Acc: 99.70%\n",
      "Epoch [18/20], Loss: 0.1034, Train Acc: 99.58%\n",
      "Epoch [19/20], Loss: 0.1074, Train Acc: 99.82%\n",
      "Epoch [20/20], Loss: 0.1036, Train Acc: 99.64%\n",
      "Total elapsed: 306.06s, average per update step: 0.10s\n"
     ]
    },
    {
     "data": {
      "application/vnd.jupyter.widget-view+json": {
       "model_id": "4838bc750a224a1d91f6e720ff50fdaf",
       "version_major": 2,
       "version_minor": 0
      },
      "text/plain": [
       "Evaluating:   0%|          | 0/115 [00:00<?, ?it/s]"
      ]
     },
     "metadata": {},
     "output_type": "display_data"
    },
    {
     "name": "stdout",
     "output_type": "stream",
     "text": [
      "Test Accuracy: 91.905 %\n",
      "Test Accuracy Mean: 92.02 %\n",
      "Test Accuracy Standard Error: 0.07 percentage points\n",
      "\n",
      "=====================================\n",
      "Training with fraction=0.9, pseudo_threshold=0.5\n",
      "=====================================\n",
      "Test size: 3669\n",
      "Trying to load trainer from disk...\n"
     ]
    },
    {
     "name": "stderr",
     "output_type": "stream",
     "text": [
      "/opt/python/3.10/lib/python3.10/site-packages/torch/optim/lr_scheduler.py:60: UserWarning: The verbose parameter is deprecated. Please use get_last_lr() to access the learning rate.\n",
      "  warnings.warn(\n"
     ]
    },
    {
     "name": "stdout",
     "output_type": "stream",
     "text": [
      "Trainer not found. Retraining...\n",
      "[Trainer] Unfroze last 2 blocks\n"
     ]
    },
    {
     "data": {
      "application/vnd.jupyter.widget-view+json": {
       "model_id": "f97b5cbcda7b4e2ba15c48ccf539ed42",
       "version_major": 2,
       "version_minor": 0
      },
      "text/plain": [
       "Update step:   0%|          | 0/2320 [00:00<?, ?it/s]"
      ]
     },
     "metadata": {},
     "output_type": "display_data"
    },
    {
     "name": "stdout",
     "output_type": "stream",
     "text": [
      "Epoch [1/20], Loss: 2.5048, Train Acc: 55.75%\n",
      "Epoch [2/20], Loss: 0.7052, Train Acc: 87.99%\n",
      "Epoch [3/20], Loss: 0.4875, Train Acc: 92.17%\n",
      "Epoch [4/20], Loss: 0.3624, Train Acc: 94.29%\n",
      "Epoch [5/20], Loss: 0.2881, Train Acc: 96.03%\n",
      "Epoch [6/20], Loss: 0.2226, Train Acc: 97.07%\n",
      "Epoch [7/20], Loss: 0.2118, Train Acc: 98.03%\n",
      "Epoch [8/20], Loss: 0.1875, Train Acc: 98.57%\n",
      "Epoch [9/20], Loss: 0.1530, Train Acc: 98.92%\n",
      "Epoch [10/20], Loss: 0.1549, Train Acc: 99.13%\n",
      "Epoch [11/20], Loss: 0.1409, Train Acc: 99.10%\n",
      "Epoch [12/20], Loss: 0.1264, Train Acc: 99.43%\n",
      "Epoch [13/20], Loss: 0.1202, Train Acc: 99.64%\n",
      "Epoch [14/20], Loss: 0.1062, Train Acc: 99.55%\n",
      "Epoch [15/20], Loss: 0.1070, Train Acc: 99.49%\n",
      "Epoch [16/20], Loss: 0.0997, Train Acc: 99.64%\n",
      "Epoch [17/20], Loss: 0.1056, Train Acc: 99.58%\n",
      "Epoch [18/20], Loss: 0.0899, Train Acc: 99.58%\n",
      "Epoch [19/20], Loss: 0.0910, Train Acc: 99.67%\n",
      "Epoch [20/20], Loss: 0.0871, Train Acc: 99.82%\n",
      "Total elapsed: 303.61s, average per update step: 0.09s\n"
     ]
    },
    {
     "data": {
      "application/vnd.jupyter.widget-view+json": {
       "model_id": "fa8f9a5cc45a4c80906bfa278cd96573",
       "version_major": 2,
       "version_minor": 0
      },
      "text/plain": [
       "Evaluating:   0%|          | 0/115 [00:00<?, ?it/s]"
      ]
     },
     "metadata": {},
     "output_type": "display_data"
    },
    {
     "name": "stdout",
     "output_type": "stream",
     "text": [
      "Test Accuracy: 92.014 %\n",
      "Trying to load trainer from disk...\n",
      "Trainer not found. Retraining...\n",
      "[Trainer] Unfroze last 2 blocks\n"
     ]
    },
    {
     "data": {
      "application/vnd.jupyter.widget-view+json": {
       "model_id": "1018afc36aa7484e9d68f65f805ad224",
       "version_major": 2,
       "version_minor": 0
      },
      "text/plain": [
       "Update step:   0%|          | 0/2320 [00:00<?, ?it/s]"
      ]
     },
     "metadata": {},
     "output_type": "display_data"
    },
    {
     "name": "stdout",
     "output_type": "stream",
     "text": [
      "Epoch [1/20], Loss: 2.5168, Train Acc: 55.84%\n",
      "Epoch [2/20], Loss: 0.7187, Train Acc: 86.97%\n",
      "Epoch [3/20], Loss: 0.5019, Train Acc: 91.54%\n",
      "Epoch [4/20], Loss: 0.3533, Train Acc: 95.01%\n",
      "Epoch [5/20], Loss: 0.2808, Train Acc: 96.03%\n",
      "Epoch [6/20], Loss: 0.2537, Train Acc: 96.89%\n",
      "Epoch [7/20], Loss: 0.2118, Train Acc: 98.03%\n",
      "Epoch [8/20], Loss: 0.1699, Train Acc: 98.75%\n",
      "Epoch [9/20], Loss: 0.1601, Train Acc: 98.69%\n",
      "Epoch [10/20], Loss: 0.1477, Train Acc: 99.01%\n",
      "Epoch [11/20], Loss: 0.1325, Train Acc: 99.46%\n",
      "Epoch [12/20], Loss: 0.1155, Train Acc: 99.49%\n",
      "Epoch [13/20], Loss: 0.1197, Train Acc: 99.73%\n",
      "Epoch [14/20], Loss: 0.1024, Train Acc: 99.73%\n",
      "Epoch [15/20], Loss: 0.0911, Train Acc: 99.79%\n",
      "Epoch [16/20], Loss: 0.0937, Train Acc: 99.79%\n",
      "Epoch [17/20], Loss: 0.1011, Train Acc: 99.70%\n",
      "Epoch [18/20], Loss: 0.0867, Train Acc: 99.55%\n",
      "Epoch [19/20], Loss: 0.0905, Train Acc: 99.55%\n",
      "Epoch [20/20], Loss: 0.0826, Train Acc: 99.85%\n",
      "Total elapsed: 306.31s, average per update step: 0.10s\n"
     ]
    },
    {
     "data": {
      "application/vnd.jupyter.widget-view+json": {
       "model_id": "05f20a6e48f249a8a44dbff1fca94632",
       "version_major": 2,
       "version_minor": 0
      },
      "text/plain": [
       "Evaluating:   0%|          | 0/115 [00:00<?, ?it/s]"
      ]
     },
     "metadata": {},
     "output_type": "display_data"
    },
    {
     "name": "stdout",
     "output_type": "stream",
     "text": [
      "Test Accuracy: 92.287 %\n",
      "Trying to load trainer from disk...\n",
      "Trainer not found. Retraining...\n",
      "[Trainer] Unfroze last 2 blocks\n"
     ]
    },
    {
     "data": {
      "application/vnd.jupyter.widget-view+json": {
       "model_id": "022fc41589484113a0f45e5e13d4c9e4",
       "version_major": 2,
       "version_minor": 0
      },
      "text/plain": [
       "Update step:   0%|          | 0/2320 [00:00<?, ?it/s]"
      ]
     },
     "metadata": {},
     "output_type": "display_data"
    },
    {
     "name": "stdout",
     "output_type": "stream",
     "text": [
      "Epoch [1/20], Loss: 2.5017, Train Acc: 57.13%\n",
      "Epoch [2/20], Loss: 0.6962, Train Acc: 87.72%\n",
      "Epoch [3/20], Loss: 0.5012, Train Acc: 91.51%\n",
      "Epoch [4/20], Loss: 0.3732, Train Acc: 94.32%\n",
      "Epoch [5/20], Loss: 0.3044, Train Acc: 95.76%\n",
      "Epoch [6/20], Loss: 0.2342, Train Acc: 96.98%\n",
      "Epoch [7/20], Loss: 0.2116, Train Acc: 98.09%\n",
      "Epoch [8/20], Loss: 0.1835, Train Acc: 98.21%\n",
      "Epoch [9/20], Loss: 0.1578, Train Acc: 98.72%\n",
      "Epoch [10/20], Loss: 0.1611, Train Acc: 98.92%\n",
      "Epoch [11/20], Loss: 0.1368, Train Acc: 99.22%\n",
      "Epoch [12/20], Loss: 0.1209, Train Acc: 99.58%\n",
      "Epoch [13/20], Loss: 0.1245, Train Acc: 99.40%\n",
      "Epoch [14/20], Loss: 0.1070, Train Acc: 99.70%\n",
      "Epoch [15/20], Loss: 0.0946, Train Acc: 99.61%\n",
      "Epoch [16/20], Loss: 0.0974, Train Acc: 99.76%\n",
      "Epoch [17/20], Loss: 0.0972, Train Acc: 99.67%\n",
      "Epoch [18/20], Loss: 0.0812, Train Acc: 99.55%\n",
      "Epoch [19/20], Loss: 0.0883, Train Acc: 99.70%\n",
      "Epoch [20/20], Loss: 0.0863, Train Acc: 99.67%\n",
      "Total elapsed: 303.49s, average per update step: 0.09s\n"
     ]
    },
    {
     "data": {
      "application/vnd.jupyter.widget-view+json": {
       "model_id": "2b8f28f94cc94c75b42560ba507ff94f",
       "version_major": 2,
       "version_minor": 0
      },
      "text/plain": [
       "Evaluating:   0%|          | 0/115 [00:00<?, ?it/s]"
      ]
     },
     "metadata": {},
     "output_type": "display_data"
    },
    {
     "name": "stdout",
     "output_type": "stream",
     "text": [
      "Test Accuracy: 92.450 %\n",
      "Test Accuracy Mean: 92.25 %\n",
      "Test Accuracy Standard Error: 0.13 percentage points\n",
      "\n",
      "=====================================\n",
      "Training with fraction=0.9, pseudo_threshold=0.7\n",
      "=====================================\n",
      "Test size: 3669\n",
      "Trying to load trainer from disk...\n"
     ]
    },
    {
     "name": "stderr",
     "output_type": "stream",
     "text": [
      "/opt/python/3.10/lib/python3.10/site-packages/torch/optim/lr_scheduler.py:60: UserWarning: The verbose parameter is deprecated. Please use get_last_lr() to access the learning rate.\n",
      "  warnings.warn(\n"
     ]
    },
    {
     "name": "stdout",
     "output_type": "stream",
     "text": [
      "Trainer not found. Retraining...\n",
      "[Trainer] Unfroze last 2 blocks\n"
     ]
    },
    {
     "data": {
      "application/vnd.jupyter.widget-view+json": {
       "model_id": "3b99ffa0a9824110a80652f66d6380c8",
       "version_major": 2,
       "version_minor": 0
      },
      "text/plain": [
       "Update step:   0%|          | 0/2320 [00:00<?, ?it/s]"
      ]
     },
     "metadata": {},
     "output_type": "display_data"
    },
    {
     "name": "stdout",
     "output_type": "stream",
     "text": [
      "Epoch [1/20], Loss: 2.5048, Train Acc: 55.75%\n",
      "Epoch [2/20], Loss: 0.6885, Train Acc: 87.78%\n",
      "Epoch [3/20], Loss: 0.3812, Train Acc: 92.23%\n",
      "Epoch [4/20], Loss: 0.3463, Train Acc: 94.89%\n",
      "Epoch [5/20], Loss: 0.2934, Train Acc: 96.56%\n",
      "Epoch [6/20], Loss: 0.2733, Train Acc: 97.40%\n",
      "Epoch [7/20], Loss: 0.2186, Train Acc: 98.00%\n",
      "Epoch [8/20], Loss: 0.1867, Train Acc: 98.27%\n",
      "Epoch [9/20], Loss: 0.1524, Train Acc: 98.78%\n",
      "Epoch [10/20], Loss: 0.1533, Train Acc: 99.10%\n",
      "Epoch [11/20], Loss: 0.1253, Train Acc: 99.34%\n",
      "Epoch [12/20], Loss: 0.1128, Train Acc: 99.31%\n",
      "Epoch [13/20], Loss: 0.1120, Train Acc: 99.49%\n",
      "Epoch [14/20], Loss: 0.1116, Train Acc: 99.70%\n",
      "Epoch [15/20], Loss: 0.0944, Train Acc: 99.64%\n",
      "Epoch [16/20], Loss: 0.0923, Train Acc: 99.79%\n",
      "Epoch [17/20], Loss: 0.0986, Train Acc: 99.37%\n",
      "Epoch [18/20], Loss: 0.0853, Train Acc: 99.55%\n",
      "Epoch [19/20], Loss: 0.0764, Train Acc: 99.64%\n",
      "Epoch [20/20], Loss: 0.0721, Train Acc: 99.79%\n",
      "Total elapsed: 302.46s, average per update step: 0.10s\n"
     ]
    },
    {
     "data": {
      "application/vnd.jupyter.widget-view+json": {
       "model_id": "b7085c61e4e440d2820205b4661af3ec",
       "version_major": 2,
       "version_minor": 0
      },
      "text/plain": [
       "Evaluating:   0%|          | 0/115 [00:00<?, ?it/s]"
      ]
     },
     "metadata": {},
     "output_type": "display_data"
    },
    {
     "name": "stdout",
     "output_type": "stream",
     "text": [
      "Test Accuracy: 91.851 %\n",
      "Trying to load trainer from disk...\n",
      "Trainer not found. Retraining...\n",
      "[Trainer] Unfroze last 2 blocks\n"
     ]
    },
    {
     "data": {
      "application/vnd.jupyter.widget-view+json": {
       "model_id": "8b1ef639f45b46a586b29064bb9ee295",
       "version_major": 2,
       "version_minor": 0
      },
      "text/plain": [
       "Update step:   0%|          | 0/2320 [00:00<?, ?it/s]"
      ]
     },
     "metadata": {},
     "output_type": "display_data"
    },
    {
     "name": "stdout",
     "output_type": "stream",
     "text": [
      "Epoch [1/20], Loss: 2.5168, Train Acc: 55.84%\n",
      "Epoch [2/20], Loss: 0.7025, Train Acc: 87.78%\n",
      "Epoch [3/20], Loss: 0.4243, Train Acc: 91.66%\n",
      "Epoch [4/20], Loss: 0.3430, Train Acc: 94.74%\n",
      "Epoch [5/20], Loss: 0.3185, Train Acc: 96.12%\n",
      "Epoch [6/20], Loss: 0.2611, Train Acc: 96.62%\n",
      "Epoch [7/20], Loss: 0.2183, Train Acc: 97.94%\n",
      "Epoch [8/20], Loss: 0.1922, Train Acc: 98.51%\n",
      "Epoch [9/20], Loss: 0.1531, Train Acc: 98.89%\n",
      "Epoch [10/20], Loss: 0.1554, Train Acc: 98.83%\n",
      "Epoch [11/20], Loss: 0.1313, Train Acc: 99.25%\n",
      "Epoch [12/20], Loss: 0.1151, Train Acc: 99.46%\n",
      "Epoch [13/20], Loss: 0.1146, Train Acc: 99.64%\n",
      "Epoch [14/20], Loss: 0.0979, Train Acc: 99.70%\n",
      "Epoch [15/20], Loss: 0.0955, Train Acc: 99.64%\n",
      "Epoch [16/20], Loss: 0.0918, Train Acc: 99.67%\n",
      "Epoch [17/20], Loss: 0.1047, Train Acc: 99.61%\n",
      "Epoch [18/20], Loss: 0.0810, Train Acc: 99.55%\n",
      "Epoch [19/20], Loss: 0.0920, Train Acc: 99.61%\n",
      "Epoch [20/20], Loss: 0.0831, Train Acc: 99.73%\n",
      "Total elapsed: 304.80s, average per update step: 0.10s\n"
     ]
    },
    {
     "data": {
      "application/vnd.jupyter.widget-view+json": {
       "model_id": "fb261ea29de74128b90751ad8c087bac",
       "version_major": 2,
       "version_minor": 0
      },
      "text/plain": [
       "Evaluating:   0%|          | 0/115 [00:00<?, ?it/s]"
      ]
     },
     "metadata": {},
     "output_type": "display_data"
    },
    {
     "name": "stdout",
     "output_type": "stream",
     "text": [
      "Test Accuracy: 91.742 %\n",
      "Trying to load trainer from disk...\n",
      "Trainer not found. Retraining...\n",
      "[Trainer] Unfroze last 2 blocks\n"
     ]
    },
    {
     "data": {
      "application/vnd.jupyter.widget-view+json": {
       "model_id": "ac2e2c5546ba44a5bf3a5cd4fe7ecb52",
       "version_major": 2,
       "version_minor": 0
      },
      "text/plain": [
       "Update step:   0%|          | 0/2320 [00:00<?, ?it/s]"
      ]
     },
     "metadata": {},
     "output_type": "display_data"
    },
    {
     "name": "stdout",
     "output_type": "stream",
     "text": [
      "Epoch [1/20], Loss: 2.5017, Train Acc: 57.13%\n",
      "Epoch [2/20], Loss: 0.6816, Train Acc: 87.90%\n",
      "Epoch [3/20], Loss: 0.4197, Train Acc: 92.44%\n",
      "Epoch [4/20], Loss: 0.3561, Train Acc: 95.19%\n",
      "Epoch [5/20], Loss: 0.3036, Train Acc: 95.79%\n",
      "Epoch [6/20], Loss: 0.2625, Train Acc: 96.86%\n",
      "Epoch [7/20], Loss: 0.2122, Train Acc: 97.85%\n",
      "Epoch [8/20], Loss: 0.2030, Train Acc: 98.06%\n",
      "Epoch [9/20], Loss: 0.1627, Train Acc: 98.98%\n",
      "Epoch [10/20], Loss: 0.1642, Train Acc: 98.78%\n",
      "Epoch [11/20], Loss: 0.1298, Train Acc: 99.34%\n",
      "Epoch [12/20], Loss: 0.1142, Train Acc: 99.37%\n",
      "Epoch [13/20], Loss: 0.1138, Train Acc: 99.49%\n",
      "Epoch [14/20], Loss: 0.0965, Train Acc: 99.76%\n",
      "Epoch [15/20], Loss: 0.0926, Train Acc: 99.49%\n",
      "Epoch [16/20], Loss: 0.0909, Train Acc: 99.55%\n",
      "Epoch [17/20], Loss: 0.0956, Train Acc: 99.49%\n",
      "Epoch [18/20], Loss: 0.0878, Train Acc: 99.52%\n",
      "Epoch [19/20], Loss: 0.0812, Train Acc: 99.73%\n",
      "Epoch [20/20], Loss: 0.0811, Train Acc: 99.58%\n",
      "Total elapsed: 302.54s, average per update step: 0.09s\n"
     ]
    },
    {
     "data": {
      "application/vnd.jupyter.widget-view+json": {
       "model_id": "0d6d7e01e548413b8b9d33ccfef3dbd0",
       "version_major": 2,
       "version_minor": 0
      },
      "text/plain": [
       "Evaluating:   0%|          | 0/115 [00:00<?, ?it/s]"
      ]
     },
     "metadata": {},
     "output_type": "display_data"
    },
    {
     "name": "stdout",
     "output_type": "stream",
     "text": [
      "Test Accuracy: 91.769 %\n",
      "Test Accuracy Mean: 91.79 %\n",
      "Test Accuracy Standard Error: 0.03 percentage points\n",
      "\n",
      "=====================================\n",
      "Training with fraction=1.0, pseudo_threshold=None\n",
      "=====================================\n",
      "Test size: 3669\n",
      "Trying to load trainer from disk...\n"
     ]
    },
    {
     "name": "stderr",
     "output_type": "stream",
     "text": [
      "/opt/python/3.10/lib/python3.10/site-packages/torch/optim/lr_scheduler.py:60: UserWarning: The verbose parameter is deprecated. Please use get_last_lr() to access the learning rate.\n",
      "  warnings.warn(\n"
     ]
    },
    {
     "name": "stdout",
     "output_type": "stream",
     "text": [
      "Trainer not found. Retraining...\n",
      "[Trainer] Unfroze last 2 blocks\n"
     ]
    },
    {
     "data": {
      "application/vnd.jupyter.widget-view+json": {
       "model_id": "5d4e003d22fe46f589cf520dab73ccfc",
       "version_major": 2,
       "version_minor": 0
      },
      "text/plain": [
       "Update step:   0%|          | 0/2300 [00:00<?, ?it/s]"
      ]
     },
     "metadata": {},
     "output_type": "display_data"
    },
    {
     "ename": "KeyboardInterrupt",
     "evalue": "",
     "output_type": "error",
     "traceback": [
      "\u001b[0;31m---------------------------------------------------------------------------\u001b[0m",
      "\u001b[0;31mFileNotFoundError\u001b[0m                         Traceback (most recent call last)",
      "File \u001b[0;32m~/DD2424-project/run.py:55\u001b[0m, in \u001b[0;36mtry_loading_trainer\u001b[0;34m(dataset_params, training_params, determinism)\u001b[0m\n\u001b[1;32m     54\u001b[0m     \u001b[38;5;28mprint\u001b[39m(\u001b[38;5;124m\"\u001b[39m\u001b[38;5;124mTrying to load trainer from disk...\u001b[39m\u001b[38;5;124m\"\u001b[39m)\n\u001b[0;32m---> 55\u001b[0m     trainer \u001b[38;5;241m=\u001b[39m \u001b[43mTrainer\u001b[49m\u001b[38;5;241;43m.\u001b[39;49m\u001b[43mload\u001b[49m\u001b[43m(\u001b[49m\u001b[43mdataset_params\u001b[49m\u001b[43m,\u001b[49m\u001b[43m \u001b[49m\u001b[43mtraining_params\u001b[49m\u001b[43m,\u001b[49m\u001b[43m \u001b[49m\u001b[43mdeterminism\u001b[49m\u001b[43m)\u001b[49m\n\u001b[1;32m     56\u001b[0m \u001b[38;5;28;01mexcept\u001b[39;00m \u001b[38;5;167;01mFileNotFoundError\u001b[39;00m:\n",
      "File \u001b[0;32m~/DD2424-project/training.py:514\u001b[0m, in \u001b[0;36mTrainer.load\u001b[0;34m(cls, dataset_params, training_params, determinism)\u001b[0m\n\u001b[1;32m    513\u001b[0m trainer \u001b[38;5;241m=\u001b[39m Trainer(training_params, determinism)\n\u001b[0;32m--> 514\u001b[0m \u001b[43mtrainer\u001b[49m\u001b[38;5;241;43m.\u001b[39;49m\u001b[43mload_checkpoint\u001b[49m\u001b[43m(\u001b[49m\u001b[43mpath\u001b[49m\u001b[43m)\u001b[49m\n\u001b[1;32m    515\u001b[0m \u001b[38;5;28;01mreturn\u001b[39;00m trainer\n",
      "File \u001b[0;32m~/DD2424-project/training.py:539\u001b[0m, in \u001b[0;36mTrainer.load_checkpoint\u001b[0;34m(self, path, map_location, load_optimizer)\u001b[0m\n\u001b[1;32m    538\u001b[0m \u001b[38;5;28;01mdef\u001b[39;00m\u001b[38;5;250m \u001b[39m\u001b[38;5;21mload_checkpoint\u001b[39m(\u001b[38;5;28mself\u001b[39m, path: \u001b[38;5;28mstr\u001b[39m, map_location\u001b[38;5;241m=\u001b[39m\u001b[38;5;28;01mNone\u001b[39;00m, load_optimizer\u001b[38;5;241m=\u001b[39m\u001b[38;5;28;01mTrue\u001b[39;00m):\n\u001b[0;32m--> 539\u001b[0m     checkpoint \u001b[38;5;241m=\u001b[39m \u001b[43mtorch\u001b[49m\u001b[38;5;241;43m.\u001b[39;49m\u001b[43mload\u001b[49m\u001b[43m(\u001b[49m\u001b[43mpath\u001b[49m\u001b[43m,\u001b[49m\u001b[43m \u001b[49m\u001b[43mmap_location\u001b[49m\u001b[38;5;241;43m=\u001b[39;49m\u001b[43mmap_location\u001b[49m\u001b[43m \u001b[49m\u001b[38;5;129;43;01mor\u001b[39;49;00m\u001b[43m \u001b[49m\u001b[38;5;28;43mself\u001b[39;49m\u001b[38;5;241;43m.\u001b[39;49m\u001b[43mdevice\u001b[49m\u001b[43m)\u001b[49m\n\u001b[1;32m    540\u001b[0m     \u001b[38;5;28mself\u001b[39m\u001b[38;5;241m.\u001b[39mepoch \u001b[38;5;241m=\u001b[39m checkpoint\u001b[38;5;241m.\u001b[39mget(\u001b[38;5;124m'\u001b[39m\u001b[38;5;124mepoch\u001b[39m\u001b[38;5;124m'\u001b[39m, \u001b[38;5;241m0\u001b[39m)\n",
      "File \u001b[0;32m/opt/python/3.10/lib/python3.10/site-packages/torch/serialization.py:1065\u001b[0m, in \u001b[0;36mload\u001b[0;34m(f, map_location, pickle_module, weights_only, mmap, **pickle_load_args)\u001b[0m\n\u001b[1;32m   1063\u001b[0m     pickle_load_args[\u001b[38;5;124m'\u001b[39m\u001b[38;5;124mencoding\u001b[39m\u001b[38;5;124m'\u001b[39m] \u001b[38;5;241m=\u001b[39m \u001b[38;5;124m'\u001b[39m\u001b[38;5;124mutf-8\u001b[39m\u001b[38;5;124m'\u001b[39m\n\u001b[0;32m-> 1065\u001b[0m \u001b[38;5;28;01mwith\u001b[39;00m \u001b[43m_open_file_like\u001b[49m\u001b[43m(\u001b[49m\u001b[43mf\u001b[49m\u001b[43m,\u001b[49m\u001b[43m \u001b[49m\u001b[38;5;124;43m'\u001b[39;49m\u001b[38;5;124;43mrb\u001b[39;49m\u001b[38;5;124;43m'\u001b[39;49m\u001b[43m)\u001b[49m \u001b[38;5;28;01mas\u001b[39;00m opened_file:\n\u001b[1;32m   1066\u001b[0m     \u001b[38;5;28;01mif\u001b[39;00m _is_zipfile(opened_file):\n\u001b[1;32m   1067\u001b[0m         \u001b[38;5;66;03m# The zipfile reader is going to advance the current file position.\u001b[39;00m\n\u001b[1;32m   1068\u001b[0m         \u001b[38;5;66;03m# If we want to actually tail call to torch.jit.load, we need to\u001b[39;00m\n\u001b[1;32m   1069\u001b[0m         \u001b[38;5;66;03m# reset back to the original position.\u001b[39;00m\n",
      "File \u001b[0;32m/opt/python/3.10/lib/python3.10/site-packages/torch/serialization.py:468\u001b[0m, in \u001b[0;36m_open_file_like\u001b[0;34m(name_or_buffer, mode)\u001b[0m\n\u001b[1;32m    467\u001b[0m \u001b[38;5;28;01mif\u001b[39;00m _is_path(name_or_buffer):\n\u001b[0;32m--> 468\u001b[0m     \u001b[38;5;28;01mreturn\u001b[39;00m \u001b[43m_open_file\u001b[49m\u001b[43m(\u001b[49m\u001b[43mname_or_buffer\u001b[49m\u001b[43m,\u001b[49m\u001b[43m \u001b[49m\u001b[43mmode\u001b[49m\u001b[43m)\u001b[49m\n\u001b[1;32m    469\u001b[0m \u001b[38;5;28;01melse\u001b[39;00m:\n",
      "File \u001b[0;32m/opt/python/3.10/lib/python3.10/site-packages/torch/serialization.py:449\u001b[0m, in \u001b[0;36m_open_file.__init__\u001b[0;34m(self, name, mode)\u001b[0m\n\u001b[1;32m    448\u001b[0m \u001b[38;5;28;01mdef\u001b[39;00m\u001b[38;5;250m \u001b[39m\u001b[38;5;21m__init__\u001b[39m(\u001b[38;5;28mself\u001b[39m, name, mode):\n\u001b[0;32m--> 449\u001b[0m     \u001b[38;5;28msuper\u001b[39m()\u001b[38;5;241m.\u001b[39m\u001b[38;5;21m__init__\u001b[39m(\u001b[38;5;28;43mopen\u001b[39;49m\u001b[43m(\u001b[49m\u001b[43mname\u001b[49m\u001b[43m,\u001b[49m\u001b[43m \u001b[49m\u001b[43mmode\u001b[49m\u001b[43m)\u001b[49m)\n",
      "\u001b[0;31mFileNotFoundError\u001b[0m: [Errno 2] No such file or directory: 'runs/checkpoints/ab2d3d38f095d6d789b3d2457639c8f5.pth'",
      "\nDuring handling of the above exception, another exception occurred:\n",
      "\u001b[0;31mKeyboardInterrupt\u001b[0m                         Traceback (most recent call last)",
      "Cell \u001b[0;32mIn[3], line 71\u001b[0m\n\u001b[1;32m     66\u001b[0m \u001b[38;5;66;03m# print(training_params.pprint())\u001b[39;00m\n\u001b[1;32m     67\u001b[0m \u001b[38;5;66;03m# print(dataset_params.pprint())\u001b[39;00m\n\u001b[1;32m     70\u001b[0m trials \u001b[38;5;241m=\u001b[39m \u001b[38;5;241m3\u001b[39m\n\u001b[0;32m---> 71\u001b[0m \u001b[43mevaluate_final_test_accuracy\u001b[49m\u001b[43m(\u001b[49m\n\u001b[1;32m     72\u001b[0m \u001b[43m    \u001b[49m\u001b[43mdataset_params\u001b[49m\u001b[43m,\u001b[49m\n\u001b[1;32m     73\u001b[0m \u001b[43m    \u001b[49m\u001b[43mtraining_params\u001b[49m\u001b[43m,\u001b[49m\n\u001b[1;32m     74\u001b[0m \u001b[43m    \u001b[49m\u001b[43mdeterminism\u001b[49m\u001b[43m,\u001b[49m\n\u001b[1;32m     75\u001b[0m \u001b[43m    \u001b[49m\u001b[43mtrials\u001b[49m\u001b[43m,\u001b[49m\n\u001b[1;32m     76\u001b[0m \u001b[43m    \u001b[49m\u001b[43mdisplay_misclassified\u001b[49m\u001b[38;5;241;43m=\u001b[39;49m\u001b[38;5;28;43;01mFalse\u001b[39;49;00m\u001b[43m,\u001b[49m\n\u001b[1;32m     77\u001b[0m \u001b[43m\u001b[49m\u001b[43m)\u001b[49m\n",
      "File \u001b[0;32m~/DD2424-project/evaluation.py:311\u001b[0m, in \u001b[0;36mevaluate_final_test_accuracy\u001b[0;34m(dataset_params, training_params, determinism, trials, display_misclassified, invalidate)\u001b[0m\n\u001b[1;32m    309\u001b[0m args \u001b[38;5;241m=\u001b[39m (dataset_params, training_params, determinism, test_dataset, display_misclassified)\n\u001b[1;32m    310\u001b[0m invalidate_cache_entry(evaluate_cached, args, invalidate\u001b[38;5;241m=\u001b[39minvalidate)\n\u001b[0;32m--> 311\u001b[0m test_acc, misclassified_samples \u001b[38;5;241m=\u001b[39m \u001b[43mevaluate_cached\u001b[49m\u001b[43m(\u001b[49m\u001b[43mdataset_params\u001b[49m\u001b[43m,\u001b[49m\u001b[43m \u001b[49m\u001b[43mtraining_params\u001b[49m\u001b[43m,\u001b[49m\u001b[43m \u001b[49m\u001b[43mdeterminism\u001b[49m\u001b[43m,\u001b[49m\n\u001b[1;32m    312\u001b[0m \u001b[43m                                                  \u001b[49m\u001b[43mdisplay_misclassified\u001b[49m\u001b[43m,\u001b[49m\u001b[43m \u001b[49m\u001b[43mtest_dataset\u001b[49m\u001b[43m)\u001b[49m\n\u001b[1;32m    313\u001b[0m test_accs\u001b[38;5;241m.\u001b[39mappend(test_acc)\n\u001b[1;32m    314\u001b[0m training_params\u001b[38;5;241m.\u001b[39mseed \u001b[38;5;241m+\u001b[39m\u001b[38;5;241m=\u001b[39m \u001b[38;5;241m1\u001b[39m\n",
      "File \u001b[0;32m/opt/python/3.10/lib/python3.10/site-packages/joblib/memory.py:577\u001b[0m, in \u001b[0;36mMemorizedFunc.__call__\u001b[0;34m(self, *args, **kwargs)\u001b[0m\n\u001b[1;32m    575\u001b[0m \u001b[38;5;28;01mdef\u001b[39;00m\u001b[38;5;250m \u001b[39m\u001b[38;5;21m__call__\u001b[39m(\u001b[38;5;28mself\u001b[39m, \u001b[38;5;241m*\u001b[39margs, \u001b[38;5;241m*\u001b[39m\u001b[38;5;241m*\u001b[39mkwargs):\n\u001b[1;32m    576\u001b[0m     \u001b[38;5;66;03m# Return the output, without the metadata\u001b[39;00m\n\u001b[0;32m--> 577\u001b[0m     \u001b[38;5;28;01mreturn\u001b[39;00m \u001b[38;5;28;43mself\u001b[39;49m\u001b[38;5;241;43m.\u001b[39;49m\u001b[43m_cached_call\u001b[49m\u001b[43m(\u001b[49m\u001b[43margs\u001b[49m\u001b[43m,\u001b[49m\u001b[43m \u001b[49m\u001b[43mkwargs\u001b[49m\u001b[43m,\u001b[49m\u001b[43m \u001b[49m\u001b[43mshelving\u001b[49m\u001b[38;5;241;43m=\u001b[39;49m\u001b[38;5;28;43;01mFalse\u001b[39;49;00m\u001b[43m)\u001b[49m[\u001b[38;5;241m0\u001b[39m]\n",
      "File \u001b[0;32m/opt/python/3.10/lib/python3.10/site-packages/joblib/memory.py:532\u001b[0m, in \u001b[0;36mMemorizedFunc._cached_call\u001b[0;34m(self, args, kwargs, shelving)\u001b[0m\n\u001b[1;32m    526\u001b[0m     \u001b[38;5;28mself\u001b[39m\u001b[38;5;241m.\u001b[39mwarn(\n\u001b[1;32m    527\u001b[0m         \u001b[38;5;124mf\u001b[39m\u001b[38;5;124m\"\u001b[39m\u001b[38;5;124mComputing func \u001b[39m\u001b[38;5;132;01m{\u001b[39;00mfunc_name\u001b[38;5;132;01m}\u001b[39;00m\u001b[38;5;124m, argument hash \u001b[39m\u001b[38;5;132;01m{\u001b[39;00margs_id\u001b[38;5;132;01m}\u001b[39;00m\u001b[38;5;124m \u001b[39m\u001b[38;5;124m\"\u001b[39m\n\u001b[1;32m    528\u001b[0m         \u001b[38;5;124mf\u001b[39m\u001b[38;5;124m\"\u001b[39m\u001b[38;5;124min location \u001b[39m\u001b[38;5;132;01m{\u001b[39;00mlocation\u001b[38;5;132;01m}\u001b[39;00m\u001b[38;5;124m\"\u001b[39m\n\u001b[1;32m    529\u001b[0m     )\n\u001b[1;32m    531\u001b[0m \u001b[38;5;66;03m# Returns the output but not the metadata\u001b[39;00m\n\u001b[0;32m--> 532\u001b[0m \u001b[38;5;28;01mreturn\u001b[39;00m \u001b[38;5;28;43mself\u001b[39;49m\u001b[38;5;241;43m.\u001b[39;49m\u001b[43m_call\u001b[49m\u001b[43m(\u001b[49m\u001b[43mcall_id\u001b[49m\u001b[43m,\u001b[49m\u001b[43m \u001b[49m\u001b[43margs\u001b[49m\u001b[43m,\u001b[49m\u001b[43m \u001b[49m\u001b[43mkwargs\u001b[49m\u001b[43m,\u001b[49m\u001b[43m \u001b[49m\u001b[43mshelving\u001b[49m\u001b[43m)\u001b[49m\n",
      "File \u001b[0;32m/opt/python/3.10/lib/python3.10/site-packages/joblib/memory.py:771\u001b[0m, in \u001b[0;36mMemorizedFunc._call\u001b[0;34m(self, call_id, args, kwargs, shelving)\u001b[0m\n\u001b[1;32m    769\u001b[0m \u001b[38;5;28mself\u001b[39m\u001b[38;5;241m.\u001b[39m_before_call(args, kwargs)\n\u001b[1;32m    770\u001b[0m start_time \u001b[38;5;241m=\u001b[39m time\u001b[38;5;241m.\u001b[39mtime()\n\u001b[0;32m--> 771\u001b[0m output \u001b[38;5;241m=\u001b[39m \u001b[38;5;28;43mself\u001b[39;49m\u001b[38;5;241;43m.\u001b[39;49m\u001b[43mfunc\u001b[49m\u001b[43m(\u001b[49m\u001b[38;5;241;43m*\u001b[39;49m\u001b[43margs\u001b[49m\u001b[43m,\u001b[49m\u001b[43m \u001b[49m\u001b[38;5;241;43m*\u001b[39;49m\u001b[38;5;241;43m*\u001b[39;49m\u001b[43mkwargs\u001b[49m\u001b[43m)\u001b[49m\n\u001b[1;32m    772\u001b[0m \u001b[38;5;28;01mreturn\u001b[39;00m \u001b[38;5;28mself\u001b[39m\u001b[38;5;241m.\u001b[39m_after_call(call_id, args, kwargs, shelving,\n\u001b[1;32m    773\u001b[0m                         output, start_time)\n",
      "File \u001b[0;32m~/DD2424-project/evaluation.py:347\u001b[0m, in \u001b[0;36mevaluate_cached\u001b[0;34m(dataset_params, training_params, determinism, display_misclassified, test_dataset)\u001b[0m\n\u001b[1;32m    335\u001b[0m test_loader \u001b[38;5;241m=\u001b[39m DataLoader(\n\u001b[1;32m    336\u001b[0m     test_dataset,\n\u001b[1;32m    337\u001b[0m     batch_size\u001b[38;5;241m=\u001b[39mdataset_params\u001b[38;5;241m.\u001b[39mbatch_size,  \u001b[38;5;66;03m# default 1\u001b[39;00m\n\u001b[0;32m   (...)\u001b[0m\n\u001b[1;32m    343\u001b[0m     \u001b[38;5;66;03m# worker_init_fn=Determinism.data_loader_worker_init_fn(dataset_params.shuffler_seed),\u001b[39;00m\n\u001b[1;32m    344\u001b[0m )\n\u001b[1;32m    346\u001b[0m misclassified_samples \u001b[38;5;241m=\u001b[39m []\n\u001b[0;32m--> 347\u001b[0m trainer \u001b[38;5;241m=\u001b[39m \u001b[43mtry_loading_trainer\u001b[49m\u001b[43m(\u001b[49m\u001b[43mdataset_params\u001b[49m\u001b[43m,\u001b[49m\u001b[43m \u001b[49m\u001b[43mtraining_params\u001b[49m\u001b[43m,\u001b[49m\u001b[43m \u001b[49m\u001b[43mdeterminism\u001b[49m\u001b[43m)\u001b[49m\n\u001b[1;32m    348\u001b[0m \u001b[38;5;28;01mif\u001b[39;00m display_misclassified:\n\u001b[1;32m    349\u001b[0m     test_acc, misclassified_samples \u001b[38;5;241m=\u001b[39m evaluate_test_accuracy_and_misclassified(\n\u001b[1;32m    350\u001b[0m         trainer,\n\u001b[1;32m    351\u001b[0m         test_loader,\n\u001b[1;32m    352\u001b[0m         test_dataset\n\u001b[1;32m    353\u001b[0m     )\n",
      "File \u001b[0;32m~/DD2424-project/run.py:58\u001b[0m, in \u001b[0;36mtry_loading_trainer\u001b[0;34m(dataset_params, training_params, determinism)\u001b[0m\n\u001b[1;32m     56\u001b[0m \u001b[38;5;28;01mexcept\u001b[39;00m \u001b[38;5;167;01mFileNotFoundError\u001b[39;00m:\n\u001b[1;32m     57\u001b[0m     \u001b[38;5;28mprint\u001b[39m(\u001b[38;5;124m\"\u001b[39m\u001b[38;5;124mTrainer not found. Retraining...\u001b[39m\u001b[38;5;124m\"\u001b[39m)\n\u001b[0;32m---> 58\u001b[0m     trainer, _ \u001b[38;5;241m=\u001b[39m \u001b[43mmake_trained_trainer\u001b[49m\u001b[43m(\u001b[49m\u001b[43mdataset_params\u001b[49m\u001b[43m,\u001b[49m\u001b[43m \u001b[49m\u001b[43mtraining_params\u001b[49m\u001b[43m,\u001b[49m\u001b[43m \u001b[49m\u001b[43mdeterminism\u001b[49m\u001b[43m)\u001b[49m\n\u001b[1;32m     59\u001b[0m \u001b[38;5;28;01mreturn\u001b[39;00m trainer\n",
      "File \u001b[0;32m~/DD2424-project/run.py:48\u001b[0m, in \u001b[0;36mmake_trained_trainer\u001b[0;34m(dataset_params, training_params, determinism)\u001b[0m\n\u001b[1;32m     41\u001b[0m labelled_train_loader, unlabelled_train_loader, val_loader \u001b[38;5;241m=\u001b[39m make_datasets(\n\u001b[1;32m     42\u001b[0m     dataset_params,\n\u001b[1;32m     43\u001b[0m     trainer\u001b[38;5;241m.\u001b[39mbase_transform,\n\u001b[1;32m     44\u001b[0m     trainer\u001b[38;5;241m.\u001b[39mtraining_transform,\n\u001b[1;32m     45\u001b[0m     trainer\u001b[38;5;241m.\u001b[39mfixmatch_transform\n\u001b[1;32m     46\u001b[0m )\n\u001b[1;32m     47\u001b[0m trainer\u001b[38;5;241m.\u001b[39mload_dataset(labelled_train_loader, unlabelled_train_loader, val_loader)\n\u001b[0;32m---> 48\u001b[0m result \u001b[38;5;241m=\u001b[39m \u001b[43mtrainer\u001b[49m\u001b[38;5;241;43m.\u001b[39;49m\u001b[43mtrain\u001b[49m\u001b[43m(\u001b[49m\u001b[43mstop_condition\u001b[49m\u001b[38;5;241;43m=\u001b[39;49m\u001b[43mFinishedAllEpochs\u001b[49m\u001b[43m(\u001b[49m\u001b[43m)\u001b[49m\u001b[43m)\u001b[49m\n\u001b[1;32m     49\u001b[0m \u001b[38;5;28;01mreturn\u001b[39;00m trainer, result\n",
      "File \u001b[0;32m~/DD2424-project/training.py:429\u001b[0m, in \u001b[0;36mTrainer.train\u001b[0;34m(self, stop_condition)\u001b[0m\n\u001b[1;32m    427\u001b[0m inputs, labels \u001b[38;5;241m=\u001b[39m inputs\u001b[38;5;241m.\u001b[39mto(\u001b[38;5;28mself\u001b[39m\u001b[38;5;241m.\u001b[39mdevice), labels\u001b[38;5;241m.\u001b[39mto(\u001b[38;5;28mself\u001b[39m\u001b[38;5;241m.\u001b[39mdevice)\n\u001b[1;32m    428\u001b[0m \u001b[38;5;28mself\u001b[39m\u001b[38;5;241m.\u001b[39moptimizer\u001b[38;5;241m.\u001b[39mzero_grad()\n\u001b[0;32m--> 429\u001b[0m outputs, loss \u001b[38;5;241m=\u001b[39m \u001b[43mbackward_pass\u001b[49m\u001b[43m(\u001b[49m\u001b[38;5;28;43mself\u001b[39;49m\u001b[43m,\u001b[49m\u001b[43m \u001b[49m\u001b[43minputs\u001b[49m\u001b[43m,\u001b[49m\u001b[43m \u001b[49m\u001b[43mlabels\u001b[49m\u001b[43m,\u001b[49m\u001b[43m \u001b[49m\u001b[43mcriterion\u001b[49m\u001b[43m)\u001b[49m\n\u001b[1;32m    430\u001b[0m running_loss \u001b[38;5;241m+\u001b[39m\u001b[38;5;241m=\u001b[39m loss\u001b[38;5;241m.\u001b[39mitem()\n\u001b[1;32m    431\u001b[0m _, predicted \u001b[38;5;241m=\u001b[39m torch\u001b[38;5;241m.\u001b[39mmax(outputs\u001b[38;5;241m.\u001b[39mdata, \u001b[38;5;241m1\u001b[39m)\n",
      "File \u001b[0;32m~/DD2424-project/training.py:42\u001b[0m, in \u001b[0;36mbackward_pass\u001b[0;34m(trainer, inputs, labels, criterion)\u001b[0m\n\u001b[1;32m     40\u001b[0m outputs \u001b[38;5;241m=\u001b[39m trainer\u001b[38;5;241m.\u001b[39mmodel(inputs)\n\u001b[1;32m     41\u001b[0m loss \u001b[38;5;241m=\u001b[39m criterion(outputs, labels)\n\u001b[0;32m---> 42\u001b[0m \u001b[43mloss\u001b[49m\u001b[38;5;241;43m.\u001b[39;49m\u001b[43mbackward\u001b[49m\u001b[43m(\u001b[49m\u001b[43m)\u001b[49m\n\u001b[1;32m     43\u001b[0m trainer\u001b[38;5;241m.\u001b[39moptimizer\u001b[38;5;241m.\u001b[39mstep()\n\u001b[1;32m     44\u001b[0m \u001b[38;5;28;01mreturn\u001b[39;00m outputs, loss\n",
      "File \u001b[0;32m/opt/python/3.10/lib/python3.10/site-packages/torch/_tensor.py:521\u001b[0m, in \u001b[0;36mTensor.backward\u001b[0;34m(self, gradient, retain_graph, create_graph, inputs)\u001b[0m\n\u001b[1;32m    511\u001b[0m \u001b[38;5;28;01mif\u001b[39;00m has_torch_function_unary(\u001b[38;5;28mself\u001b[39m):\n\u001b[1;32m    512\u001b[0m     \u001b[38;5;28;01mreturn\u001b[39;00m handle_torch_function(\n\u001b[1;32m    513\u001b[0m         Tensor\u001b[38;5;241m.\u001b[39mbackward,\n\u001b[1;32m    514\u001b[0m         (\u001b[38;5;28mself\u001b[39m,),\n\u001b[0;32m   (...)\u001b[0m\n\u001b[1;32m    519\u001b[0m         inputs\u001b[38;5;241m=\u001b[39minputs,\n\u001b[1;32m    520\u001b[0m     )\n\u001b[0;32m--> 521\u001b[0m \u001b[43mtorch\u001b[49m\u001b[38;5;241;43m.\u001b[39;49m\u001b[43mautograd\u001b[49m\u001b[38;5;241;43m.\u001b[39;49m\u001b[43mbackward\u001b[49m\u001b[43m(\u001b[49m\n\u001b[1;32m    522\u001b[0m \u001b[43m    \u001b[49m\u001b[38;5;28;43mself\u001b[39;49m\u001b[43m,\u001b[49m\u001b[43m \u001b[49m\u001b[43mgradient\u001b[49m\u001b[43m,\u001b[49m\u001b[43m \u001b[49m\u001b[43mretain_graph\u001b[49m\u001b[43m,\u001b[49m\u001b[43m \u001b[49m\u001b[43mcreate_graph\u001b[49m\u001b[43m,\u001b[49m\u001b[43m \u001b[49m\u001b[43minputs\u001b[49m\u001b[38;5;241;43m=\u001b[39;49m\u001b[43minputs\u001b[49m\n\u001b[1;32m    523\u001b[0m \u001b[43m\u001b[49m\u001b[43m)\u001b[49m\n",
      "File \u001b[0;32m/opt/python/3.10/lib/python3.10/site-packages/torch/autograd/__init__.py:289\u001b[0m, in \u001b[0;36mbackward\u001b[0;34m(tensors, grad_tensors, retain_graph, create_graph, grad_variables, inputs)\u001b[0m\n\u001b[1;32m    284\u001b[0m     retain_graph \u001b[38;5;241m=\u001b[39m create_graph\n\u001b[1;32m    286\u001b[0m \u001b[38;5;66;03m# The reason we repeat the same comment below is that\u001b[39;00m\n\u001b[1;32m    287\u001b[0m \u001b[38;5;66;03m# some Python versions print out the first line of a multi-line function\u001b[39;00m\n\u001b[1;32m    288\u001b[0m \u001b[38;5;66;03m# calls in the traceback and some print out the last line\u001b[39;00m\n\u001b[0;32m--> 289\u001b[0m \u001b[43m_engine_run_backward\u001b[49m\u001b[43m(\u001b[49m\n\u001b[1;32m    290\u001b[0m \u001b[43m    \u001b[49m\u001b[43mtensors\u001b[49m\u001b[43m,\u001b[49m\n\u001b[1;32m    291\u001b[0m \u001b[43m    \u001b[49m\u001b[43mgrad_tensors_\u001b[49m\u001b[43m,\u001b[49m\n\u001b[1;32m    292\u001b[0m \u001b[43m    \u001b[49m\u001b[43mretain_graph\u001b[49m\u001b[43m,\u001b[49m\n\u001b[1;32m    293\u001b[0m \u001b[43m    \u001b[49m\u001b[43mcreate_graph\u001b[49m\u001b[43m,\u001b[49m\n\u001b[1;32m    294\u001b[0m \u001b[43m    \u001b[49m\u001b[43minputs\u001b[49m\u001b[43m,\u001b[49m\n\u001b[1;32m    295\u001b[0m \u001b[43m    \u001b[49m\u001b[43mallow_unreachable\u001b[49m\u001b[38;5;241;43m=\u001b[39;49m\u001b[38;5;28;43;01mTrue\u001b[39;49;00m\u001b[43m,\u001b[49m\n\u001b[1;32m    296\u001b[0m \u001b[43m    \u001b[49m\u001b[43maccumulate_grad\u001b[49m\u001b[38;5;241;43m=\u001b[39;49m\u001b[38;5;28;43;01mTrue\u001b[39;49;00m\u001b[43m,\u001b[49m\n\u001b[1;32m    297\u001b[0m \u001b[43m\u001b[49m\u001b[43m)\u001b[49m\n",
      "File \u001b[0;32m/opt/python/3.10/lib/python3.10/site-packages/torch/autograd/graph.py:768\u001b[0m, in \u001b[0;36m_engine_run_backward\u001b[0;34m(t_outputs, *args, **kwargs)\u001b[0m\n\u001b[1;32m    766\u001b[0m     unregister_hooks \u001b[38;5;241m=\u001b[39m _register_logging_hooks_on_whole_graph(t_outputs)\n\u001b[1;32m    767\u001b[0m \u001b[38;5;28;01mtry\u001b[39;00m:\n\u001b[0;32m--> 768\u001b[0m     \u001b[38;5;28;01mreturn\u001b[39;00m \u001b[43mVariable\u001b[49m\u001b[38;5;241;43m.\u001b[39;49m\u001b[43m_execution_engine\u001b[49m\u001b[38;5;241;43m.\u001b[39;49m\u001b[43mrun_backward\u001b[49m\u001b[43m(\u001b[49m\u001b[43m  \u001b[49m\u001b[38;5;66;43;03m# Calls into the C++ engine to run the backward pass\u001b[39;49;00m\n\u001b[1;32m    769\u001b[0m \u001b[43m        \u001b[49m\u001b[43mt_outputs\u001b[49m\u001b[43m,\u001b[49m\u001b[43m \u001b[49m\u001b[38;5;241;43m*\u001b[39;49m\u001b[43margs\u001b[49m\u001b[43m,\u001b[49m\u001b[43m \u001b[49m\u001b[38;5;241;43m*\u001b[39;49m\u001b[38;5;241;43m*\u001b[39;49m\u001b[43mkwargs\u001b[49m\n\u001b[1;32m    770\u001b[0m \u001b[43m    \u001b[49m\u001b[43m)\u001b[49m  \u001b[38;5;66;03m# Calls into the C++ engine to run the backward pass\u001b[39;00m\n\u001b[1;32m    771\u001b[0m \u001b[38;5;28;01mfinally\u001b[39;00m:\n\u001b[1;32m    772\u001b[0m     \u001b[38;5;28;01mif\u001b[39;00m attach_logging_hooks:\n",
      "\u001b[0;31mKeyboardInterrupt\u001b[0m: "
     ]
    }
   ],
   "source": [
    "from run import try_loading_trainer\n",
    "from augmentation import AugmentationParams\n",
    "from evaluation import evaluate_final_test_accuracy, run_with_different_seeds\n",
    "from torch.utils.data import DataLoader\n",
    "from datasets import load_dataset, DatasetParams\n",
    "from training import Trainer, TrainParams, NagParams\n",
    "from copy import deepcopy\n",
    "from caching import invalidate_cache_entry\n",
    "from determinism import Determinism\n",
    "\n",
    "%reload_ext autoreload\n",
    "%autoreload 2\n",
    "\n",
    "\n",
    "determinism = Determinism(seed=42).sow()  # Keep this before any torch import\n",
    "   \n",
    "dataset_params = DatasetParams(\n",
    "    splitting_seed=determinism.seed,\n",
    "    shuffler_seed=determinism.seed,\n",
    "    batch_size=32,\n",
    "    #trainval_size=None,  # Load all training data\n",
    "    class_fractions=(1.0,) * 37,\n",
    "    #trainval_size=400,  # Load a subset\n",
    "    validation_set_fraction=0.2,  # 20 % of trainval set\n",
    "    labelled_data_fraction=1.0, # full labelled data first\n",
    ")\n",
    "\n",
    "baseline_params = TrainParams(\n",
    "    seed=determinism.seed,\n",
    "    architecture=\"resnet50\",\n",
    "    n_epochs=20,\n",
    "    optimizer=NagParams(\n",
    "        learning_rate=0.004713842776302303,\n",
    "        weight_decay=4.287389519996026e-06,\n",
    "        momentum=0.7222321829989696,\n",
    "    ),\n",
    "    freeze_layers=True,\n",
    "    unfreezing_epochs=(2, 4),\n",
    "    validation_freq=1,\n",
    "    time_limit_seconds=None,\n",
    "    val_acc_target=None,\n",
    "    unfreeze_last_l_blocks = 2,\n",
    "    pseudo_threshold = 0.95,\n",
    "    unsup_weight = 0.5,\n",
    "    augmentation = AugmentationParams(\n",
    "        enabled=False,\n",
    "        transform=None\n",
    "    ),\n",
    "    fixmatch=True,\n",
    "    use_scheduler=True,\n",
    "    scheduler_type=\"plateau\"\n",
    ")\n",
    "\n",
    "fractions = [0.1, 0.3, 0.5, 0.7, 0.9]\n",
    "pseudo_threshold_list = [None, 0.5, 0.7]\n",
    "\n",
    "for fraction in fractions:\n",
    "    dataset_params.labelled_data_fraction = fraction\n",
    "    for pseudo_threshold in pseudo_threshold_list:\n",
    "        training_params = deepcopy(baseline_params)\n",
    "        training_params.pseudo_threshold = pseudo_threshold\n",
    "\n",
    "        print(\"\\n=====================================\")\n",
    "        print(f\"Training with fraction={fraction}, pseudo_threshold={pseudo_threshold}\")\n",
    "        print(\"=====================================\")\n",
    "        # print(training_params.pprint())\n",
    "        # print(dataset_params.pprint())\n",
    "\n",
    "\n",
    "        trials = 3\n",
    "        evaluate_final_test_accuracy(\n",
    "            dataset_params,\n",
    "            training_params,\n",
    "            determinism,\n",
    "            trials,\n",
    "            display_misclassified=False,\n",
    "        )"
   ]
  },
  {
   "cell_type": "code",
   "execution_count": null,
   "id": "094c671b-5bd5-4c38-8f1f-22ac963ba66e",
   "metadata": {},
   "outputs": [],
   "source": [
    "from evaluation import show_misclassified\n",
    "\n",
    "final_test_acc, misclassified_samples = evaluate_test_accuracy_and_misclassified(trainer, test_loader, test_dataset)\n",
    "print(f\"Final Test Accuracy: {final_test_acc:.2f}%\")\n",
    "print(f\"Number of misclassified samples: {len(misclassified_samples)}\")\n",
    "show_misclassified(misclassified_samples)"
   ]
  },
  {
   "cell_type": "code",
   "execution_count": null,
   "id": "df3cdc8f-d815-4fcb-affb-f7f7d3cea96f",
   "metadata": {},
   "outputs": [],
   "source": [
    "from evaluation import show_misclassified\n",
    "\n",
    "final_test_acc_tau, misclassified_samples_tau = evaluate_test_accuracy_and_misclassified(trainer, test_loader, test_dataset)\n",
    "print(f\"Final Test Accuracy: {final_test_acc_tau:.2f}%\")\n",
    "print(f\"Number of misclassified samples: {len(misclassified_samples_tau)}\")\n",
    "show_misclassified(misclassified_samples_tau)"
   ]
  },
  {
   "cell_type": "code",
   "execution_count": null,
   "id": "a574b217-d6c3-4b27-a2e3-4c507ccc95a1",
   "metadata": {},
   "outputs": [],
   "source": [
    "misclassified_diff = list(set(misclassified_samples).symmetric_difference(misclassified_samples_tau))\n",
    "print(f\"Difference of misclassified samples: {len(misclassified_diff)}\")\n",
    "show_misclassified(misclassified_diff)"
   ]
  },
  {
   "cell_type": "code",
   "execution_count": null,
   "id": "92b45697-f5b7-4a2c-8b1c-9d7ede45e0b7",
   "metadata": {},
   "outputs": [],
   "source": [
    "misclassified_diff2 = list(set(misclassified_samples) - set(misclassified_samples_tau))\n",
    "print(f\"Difference of misclassified samples: {len(misclassified_diff2)}\")\n",
    "show_misclassified(misclassified_diff2)"
   ]
  },
  {
   "cell_type": "code",
   "execution_count": null,
   "id": "17f9ea78-e163-4e43-96e2-33249d00301a",
   "metadata": {},
   "outputs": [],
   "source": []
  }
 ],
 "metadata": {
  "colab": {
   "provenance": []
  },
  "kernelspec": {
   "display_name": "Python 3 (ipykernel)",
   "language": "python",
   "name": "python3"
  },
  "language_info": {
   "codemirror_mode": {
    "name": "ipython",
    "version": 3
   },
   "file_extension": ".py",
   "mimetype": "text/x-python",
   "name": "python",
   "nbconvert_exporter": "python",
   "pygments_lexer": "ipython3",
   "version": "3.10.17"
  },
  "widgets": {
   "application/vnd.jupyter.widget-state+json": {
    "028b8d3c666e43bb95042495d535a882": {
     "model_module": "@jupyter-widgets/controls",
     "model_module_version": "1.5.0",
     "model_name": "DescriptionStyleModel",
     "state": {
      "_model_module": "@jupyter-widgets/controls",
      "_model_module_version": "1.5.0",
      "_model_name": "DescriptionStyleModel",
      "_view_count": null,
      "_view_module": "@jupyter-widgets/base",
      "_view_module_version": "1.2.0",
      "_view_name": "StyleView",
      "description_width": ""
     }
    },
    "06bc8512f4aa423da30c967f96965530": {
     "model_module": "@jupyter-widgets/base",
     "model_module_version": "1.2.0",
     "model_name": "LayoutModel",
     "state": {
      "_model_module": "@jupyter-widgets/base",
      "_model_module_version": "1.2.0",
      "_model_name": "LayoutModel",
      "_view_count": null,
      "_view_module": "@jupyter-widgets/base",
      "_view_module_version": "1.2.0",
      "_view_name": "LayoutView",
      "align_content": null,
      "align_items": null,
      "align_self": null,
      "border": null,
      "bottom": null,
      "display": null,
      "flex": null,
      "flex_flow": null,
      "grid_area": null,
      "grid_auto_columns": null,
      "grid_auto_flow": null,
      "grid_auto_rows": null,
      "grid_column": null,
      "grid_gap": null,
      "grid_row": null,
      "grid_template_areas": null,
      "grid_template_columns": null,
      "grid_template_rows": null,
      "height": null,
      "justify_content": null,
      "justify_items": null,
      "left": null,
      "margin": null,
      "max_height": null,
      "max_width": null,
      "min_height": null,
      "min_width": null,
      "object_fit": null,
      "object_position": null,
      "order": null,
      "overflow": null,
      "overflow_x": null,
      "overflow_y": null,
      "padding": null,
      "right": null,
      "top": null,
      "visibility": null,
      "width": null
     }
    },
    "07c651136ef840ffa5a457e59fa0e295": {
     "model_module": "@jupyter-widgets/controls",
     "model_module_version": "1.5.0",
     "model_name": "DescriptionStyleModel",
     "state": {
      "_model_module": "@jupyter-widgets/controls",
      "_model_module_version": "1.5.0",
      "_model_name": "DescriptionStyleModel",
      "_view_count": null,
      "_view_module": "@jupyter-widgets/base",
      "_view_module_version": "1.2.0",
      "_view_name": "StyleView",
      "description_width": ""
     }
    },
    "0a775b6f283f47f2999e4924f4037fae": {
     "model_module": "@jupyter-widgets/controls",
     "model_module_version": "1.5.0",
     "model_name": "HBoxModel",
     "state": {
      "_dom_classes": [],
      "_model_module": "@jupyter-widgets/controls",
      "_model_module_version": "1.5.0",
      "_model_name": "HBoxModel",
      "_view_count": null,
      "_view_module": "@jupyter-widgets/controls",
      "_view_module_version": "1.5.0",
      "_view_name": "HBoxView",
      "box_style": "",
      "children": [
       "IPY_MODEL_0a90f50ca6f24d65a63f593fc7477033",
       "IPY_MODEL_802215186b1a49bd872bfc7a04927c58",
       "IPY_MODEL_d05ffac886a14e8eb9ec963d889952c9"
      ],
      "layout": "IPY_MODEL_10597c196aea46a0a151a1440edbf492"
     }
    },
    "0a90f50ca6f24d65a63f593fc7477033": {
     "model_module": "@jupyter-widgets/controls",
     "model_module_version": "1.5.0",
     "model_name": "HTMLModel",
     "state": {
      "_dom_classes": [],
      "_model_module": "@jupyter-widgets/controls",
      "_model_module_version": "1.5.0",
      "_model_name": "HTMLModel",
      "_view_count": null,
      "_view_module": "@jupyter-widgets/controls",
      "_view_module_version": "1.5.0",
      "_view_name": "HTMLView",
      "description": "",
      "description_tooltip": null,
      "layout": "IPY_MODEL_b9b701cc8bdd484f97391a6bf4911bc1",
      "placeholder": "​",
      "style": "IPY_MODEL_d1f9c872f9274c778a6550e1e065f406",
      "value": "Iteration: 100%"
     }
    },
    "0efb70bca74e4b7883a963e02e7935d6": {
     "model_module": "@jupyter-widgets/controls",
     "model_module_version": "1.5.0",
     "model_name": "DescriptionStyleModel",
     "state": {
      "_model_module": "@jupyter-widgets/controls",
      "_model_module_version": "1.5.0",
      "_model_name": "DescriptionStyleModel",
      "_view_count": null,
      "_view_module": "@jupyter-widgets/base",
      "_view_module_version": "1.2.0",
      "_view_name": "StyleView",
      "description_width": ""
     }
    },
    "0f9f82479ebf4e7a809eb6ca3f5fae94": {
     "model_module": "@jupyter-widgets/controls",
     "model_module_version": "1.5.0",
     "model_name": "DescriptionStyleModel",
     "state": {
      "_model_module": "@jupyter-widgets/controls",
      "_model_module_version": "1.5.0",
      "_model_name": "DescriptionStyleModel",
      "_view_count": null,
      "_view_module": "@jupyter-widgets/base",
      "_view_module_version": "1.2.0",
      "_view_name": "StyleView",
      "description_width": ""
     }
    },
    "10597c196aea46a0a151a1440edbf492": {
     "model_module": "@jupyter-widgets/base",
     "model_module_version": "1.2.0",
     "model_name": "LayoutModel",
     "state": {
      "_model_module": "@jupyter-widgets/base",
      "_model_module_version": "1.2.0",
      "_model_name": "LayoutModel",
      "_view_count": null,
      "_view_module": "@jupyter-widgets/base",
      "_view_module_version": "1.2.0",
      "_view_name": "LayoutView",
      "align_content": null,
      "align_items": null,
      "align_self": null,
      "border": null,
      "bottom": null,
      "display": null,
      "flex": null,
      "flex_flow": null,
      "grid_area": null,
      "grid_auto_columns": null,
      "grid_auto_flow": null,
      "grid_auto_rows": null,
      "grid_column": null,
      "grid_gap": null,
      "grid_row": null,
      "grid_template_areas": null,
      "grid_template_columns": null,
      "grid_template_rows": null,
      "height": null,
      "justify_content": null,
      "justify_items": null,
      "left": null,
      "margin": null,
      "max_height": null,
      "max_width": null,
      "min_height": null,
      "min_width": null,
      "object_fit": null,
      "object_position": null,
      "order": null,
      "overflow": null,
      "overflow_x": null,
      "overflow_y": null,
      "padding": null,
      "right": null,
      "top": null,
      "visibility": "hidden",
      "width": null
     }
    },
    "10fc2b1849af4509a66677a5372c39ed": {
     "model_module": "@jupyter-widgets/controls",
     "model_module_version": "1.5.0",
     "model_name": "HTMLModel",
     "state": {
      "_dom_classes": [],
      "_model_module": "@jupyter-widgets/controls",
      "_model_module_version": "1.5.0",
      "_model_name": "HTMLModel",
      "_view_count": null,
      "_view_module": "@jupyter-widgets/controls",
      "_view_module_version": "1.5.0",
      "_view_name": "HTMLView",
      "description": "",
      "description_tooltip": null,
      "layout": "IPY_MODEL_ab199c14846a47acbe0d5cb36c28883d",
      "placeholder": "​",
      "style": "IPY_MODEL_0f9f82479ebf4e7a809eb6ca3f5fae94",
      "value": "Epoch: 100%"
     }
    },
    "110a4c3944c8432ca7ec9e434f53b27d": {
     "model_module": "@jupyter-widgets/controls",
     "model_module_version": "1.5.0",
     "model_name": "HTMLModel",
     "state": {
      "_dom_classes": [],
      "_model_module": "@jupyter-widgets/controls",
      "_model_module_version": "1.5.0",
      "_model_name": "HTMLModel",
      "_view_count": null,
      "_view_module": "@jupyter-widgets/controls",
      "_view_module_version": "1.5.0",
      "_view_name": "HTMLView",
      "description": "",
      "description_tooltip": null,
      "layout": "IPY_MODEL_1a1d653918174a489a8a2e5201b9a8e7",
      "placeholder": "​",
      "style": "IPY_MODEL_bcd0aae37ce34a2c83cf7afd95465584",
      "value": "Evaluating: 100%"
     }
    },
    "16addd9a61694bd4b1beb75251aa99cf": {
     "model_module": "@jupyter-widgets/controls",
     "model_module_version": "1.5.0",
     "model_name": "DescriptionStyleModel",
     "state": {
      "_model_module": "@jupyter-widgets/controls",
      "_model_module_version": "1.5.0",
      "_model_name": "DescriptionStyleModel",
      "_view_count": null,
      "_view_module": "@jupyter-widgets/base",
      "_view_module_version": "1.2.0",
      "_view_name": "StyleView",
      "description_width": ""
     }
    },
    "1a1d653918174a489a8a2e5201b9a8e7": {
     "model_module": "@jupyter-widgets/base",
     "model_module_version": "1.2.0",
     "model_name": "LayoutModel",
     "state": {
      "_model_module": "@jupyter-widgets/base",
      "_model_module_version": "1.2.0",
      "_model_name": "LayoutModel",
      "_view_count": null,
      "_view_module": "@jupyter-widgets/base",
      "_view_module_version": "1.2.0",
      "_view_name": "LayoutView",
      "align_content": null,
      "align_items": null,
      "align_self": null,
      "border": null,
      "bottom": null,
      "display": null,
      "flex": null,
      "flex_flow": null,
      "grid_area": null,
      "grid_auto_columns": null,
      "grid_auto_flow": null,
      "grid_auto_rows": null,
      "grid_column": null,
      "grid_gap": null,
      "grid_row": null,
      "grid_template_areas": null,
      "grid_template_columns": null,
      "grid_template_rows": null,
      "height": null,
      "justify_content": null,
      "justify_items": null,
      "left": null,
      "margin": null,
      "max_height": null,
      "max_width": null,
      "min_height": null,
      "min_width": null,
      "object_fit": null,
      "object_position": null,
      "order": null,
      "overflow": null,
      "overflow_x": null,
      "overflow_y": null,
      "padding": null,
      "right": null,
      "top": null,
      "visibility": null,
      "width": null
     }
    },
    "1a31c27858894f09b6d1e1a8f1b51f86": {
     "model_module": "@jupyter-widgets/controls",
     "model_module_version": "1.5.0",
     "model_name": "DescriptionStyleModel",
     "state": {
      "_model_module": "@jupyter-widgets/controls",
      "_model_module_version": "1.5.0",
      "_model_name": "DescriptionStyleModel",
      "_view_count": null,
      "_view_module": "@jupyter-widgets/base",
      "_view_module_version": "1.2.0",
      "_view_name": "StyleView",
      "description_width": ""
     }
    },
    "1e6378c767af4aec9fb7c9c8f7835b98": {
     "model_module": "@jupyter-widgets/controls",
     "model_module_version": "1.5.0",
     "model_name": "HBoxModel",
     "state": {
      "_dom_classes": [],
      "_model_module": "@jupyter-widgets/controls",
      "_model_module_version": "1.5.0",
      "_model_name": "HBoxModel",
      "_view_count": null,
      "_view_module": "@jupyter-widgets/controls",
      "_view_module_version": "1.5.0",
      "_view_name": "HBoxView",
      "box_style": "",
      "children": [
       "IPY_MODEL_10fc2b1849af4509a66677a5372c39ed",
       "IPY_MODEL_9e13a75035764c74a19290dd5c1baaf6",
       "IPY_MODEL_a9b6b6f50f294db1a0843081f6efc782"
      ],
      "layout": "IPY_MODEL_dccc605f54a04c11ad9b021deed63c5c"
     }
    },
    "1ec2f31dc66543eb9ce4c560a380eafb": {
     "model_module": "@jupyter-widgets/controls",
     "model_module_version": "1.5.0",
     "model_name": "HTMLModel",
     "state": {
      "_dom_classes": [],
      "_model_module": "@jupyter-widgets/controls",
      "_model_module_version": "1.5.0",
      "_model_name": "HTMLModel",
      "_view_count": null,
      "_view_module": "@jupyter-widgets/controls",
      "_view_module_version": "1.5.0",
      "_view_name": "HTMLView",
      "description": "",
      "description_tooltip": null,
      "layout": "IPY_MODEL_b62f907c98e14d03bc4ddb48a103c1ab",
      "placeholder": "​",
      "style": "IPY_MODEL_f8316b6c223e4b5f8654b38261e2a2ca",
      "value": " 23/23 [01:09&lt;00:00,  2.91s/it]"
     }
    },
    "21de943d91ba4767be8aaf394d13cc21": {
     "model_module": "@jupyter-widgets/controls",
     "model_module_version": "1.5.0",
     "model_name": "DescriptionStyleModel",
     "state": {
      "_model_module": "@jupyter-widgets/controls",
      "_model_module_version": "1.5.0",
      "_model_name": "DescriptionStyleModel",
      "_view_count": null,
      "_view_module": "@jupyter-widgets/base",
      "_view_module_version": "1.2.0",
      "_view_name": "StyleView",
      "description_width": ""
     }
    },
    "2444080b2c584b25a2e51ce9cda78390": {
     "model_module": "@jupyter-widgets/controls",
     "model_module_version": "1.5.0",
     "model_name": "HTMLModel",
     "state": {
      "_dom_classes": [],
      "_model_module": "@jupyter-widgets/controls",
      "_model_module_version": "1.5.0",
      "_model_name": "HTMLModel",
      "_view_count": null,
      "_view_module": "@jupyter-widgets/controls",
      "_view_module_version": "1.5.0",
      "_view_name": "HTMLView",
      "description": "",
      "description_tooltip": null,
      "layout": "IPY_MODEL_9ca3787ef919446ba1422f1ddf215e06",
      "placeholder": "​",
      "style": "IPY_MODEL_4eb18cbd99574914b0408cced942a2dd",
      "value": " 184/184 [26:23&lt;00:00,  7.60s/it]"
     }
    },
    "28b712ae20e24d31a0404a2daf03f735": {
     "model_module": "@jupyter-widgets/controls",
     "model_module_version": "1.5.0",
     "model_name": "HTMLModel",
     "state": {
      "_dom_classes": [],
      "_model_module": "@jupyter-widgets/controls",
      "_model_module_version": "1.5.0",
      "_model_name": "HTMLModel",
      "_view_count": null,
      "_view_module": "@jupyter-widgets/controls",
      "_view_module_version": "1.5.0",
      "_view_name": "HTMLView",
      "description": "",
      "description_tooltip": null,
      "layout": "IPY_MODEL_f2eed63e81494873b46ba509ba3b95c9",
      "placeholder": "​",
      "style": "IPY_MODEL_7c2ccadb1928435299b7e8c79052585e",
      "value": "Iteration: 100%"
     }
    },
    "3053a9be5c1c4baa83993c9ba5e5622c": {
     "model_module": "@jupyter-widgets/controls",
     "model_module_version": "1.5.0",
     "model_name": "HTMLModel",
     "state": {
      "_dom_classes": [],
      "_model_module": "@jupyter-widgets/controls",
      "_model_module_version": "1.5.0",
      "_model_name": "HTMLModel",
      "_view_count": null,
      "_view_module": "@jupyter-widgets/controls",
      "_view_module_version": "1.5.0",
      "_view_name": "HTMLView",
      "description": "",
      "description_tooltip": null,
      "layout": "IPY_MODEL_e78aa32aa54847b2a8a497cc94532ed8",
      "placeholder": "​",
      "style": "IPY_MODEL_1a31c27858894f09b6d1e1a8f1b51f86",
      "value": " 23/23 [01:06&lt;00:00,  2.94s/it]"
     }
    },
    "3150145a682347dda799c7431951a88b": {
     "model_module": "@jupyter-widgets/controls",
     "model_module_version": "1.5.0",
     "model_name": "HTMLModel",
     "state": {
      "_dom_classes": [],
      "_model_module": "@jupyter-widgets/controls",
      "_model_module_version": "1.5.0",
      "_model_name": "HTMLModel",
      "_view_count": null,
      "_view_module": "@jupyter-widgets/controls",
      "_view_module_version": "1.5.0",
      "_view_name": "HTMLView",
      "description": "",
      "description_tooltip": null,
      "layout": "IPY_MODEL_cb09a9412f624541b9dee06d7292c028",
      "placeholder": "​",
      "style": "IPY_MODEL_ff5ce6e4163045df97c036ddec745796",
      "value": "Iteration: 100%"
     }
    },
    "32a9d7d0eca344f9a50b78d5648e8fae": {
     "model_module": "@jupyter-widgets/controls",
     "model_module_version": "1.5.0",
     "model_name": "HBoxModel",
     "state": {
      "_dom_classes": [],
      "_model_module": "@jupyter-widgets/controls",
      "_model_module_version": "1.5.0",
      "_model_name": "HBoxModel",
      "_view_count": null,
      "_view_module": "@jupyter-widgets/controls",
      "_view_module_version": "1.5.0",
      "_view_name": "HBoxView",
      "box_style": "",
      "children": [
       "IPY_MODEL_d30b31807326499d80c4b2368228301a",
       "IPY_MODEL_713560252ce0470d8fc33b29d8bcfb28",
       "IPY_MODEL_ca150a7634a94d7d9aae1abc073ac560"
      ],
      "layout": "IPY_MODEL_8c4ae19d95a946cc98a71570de07cc8a"
     }
    },
    "32fe4352072941d1b4ffd0bad43d2085": {
     "model_module": "@jupyter-widgets/base",
     "model_module_version": "1.2.0",
     "model_name": "LayoutModel",
     "state": {
      "_model_module": "@jupyter-widgets/base",
      "_model_module_version": "1.2.0",
      "_model_name": "LayoutModel",
      "_view_count": null,
      "_view_module": "@jupyter-widgets/base",
      "_view_module_version": "1.2.0",
      "_view_name": "LayoutView",
      "align_content": null,
      "align_items": null,
      "align_self": null,
      "border": null,
      "bottom": null,
      "display": null,
      "flex": null,
      "flex_flow": null,
      "grid_area": null,
      "grid_auto_columns": null,
      "grid_auto_flow": null,
      "grid_auto_rows": null,
      "grid_column": null,
      "grid_gap": null,
      "grid_row": null,
      "grid_template_areas": null,
      "grid_template_columns": null,
      "grid_template_rows": null,
      "height": null,
      "justify_content": null,
      "justify_items": null,
      "left": null,
      "margin": null,
      "max_height": null,
      "max_width": null,
      "min_height": null,
      "min_width": null,
      "object_fit": null,
      "object_position": null,
      "order": null,
      "overflow": null,
      "overflow_x": null,
      "overflow_y": null,
      "padding": null,
      "right": null,
      "top": null,
      "visibility": null,
      "width": null
     }
    },
    "367a0c8f87954fd59dcd4b7c2bf6b355": {
     "model_module": "@jupyter-widgets/controls",
     "model_module_version": "1.5.0",
     "model_name": "FloatProgressModel",
     "state": {
      "_dom_classes": [],
      "_model_module": "@jupyter-widgets/controls",
      "_model_module_version": "1.5.0",
      "_model_name": "FloatProgressModel",
      "_view_count": null,
      "_view_module": "@jupyter-widgets/controls",
      "_view_module_version": "1.5.0",
      "_view_name": "ProgressView",
      "bar_style": "success",
      "description": "",
      "description_tooltip": null,
      "layout": "IPY_MODEL_49fd12c1d00346f6994e8f369076983f",
      "max": 23,
      "min": 0,
      "orientation": "horizontal",
      "style": "IPY_MODEL_f1e89413bcd54101b9ac4f69b053c5c0",
      "value": 23
     }
    },
    "3f34d383d6654eff9821e04f516530ff": {
     "model_module": "@jupyter-widgets/base",
     "model_module_version": "1.2.0",
     "model_name": "LayoutModel",
     "state": {
      "_model_module": "@jupyter-widgets/base",
      "_model_module_version": "1.2.0",
      "_model_name": "LayoutModel",
      "_view_count": null,
      "_view_module": "@jupyter-widgets/base",
      "_view_module_version": "1.2.0",
      "_view_name": "LayoutView",
      "align_content": null,
      "align_items": null,
      "align_self": null,
      "border": null,
      "bottom": null,
      "display": null,
      "flex": null,
      "flex_flow": null,
      "grid_area": null,
      "grid_auto_columns": null,
      "grid_auto_flow": null,
      "grid_auto_rows": null,
      "grid_column": null,
      "grid_gap": null,
      "grid_row": null,
      "grid_template_areas": null,
      "grid_template_columns": null,
      "grid_template_rows": null,
      "height": null,
      "justify_content": null,
      "justify_items": null,
      "left": null,
      "margin": null,
      "max_height": null,
      "max_width": null,
      "min_height": null,
      "min_width": null,
      "object_fit": null,
      "object_position": null,
      "order": null,
      "overflow": null,
      "overflow_x": null,
      "overflow_y": null,
      "padding": null,
      "right": null,
      "top": null,
      "visibility": null,
      "width": null
     }
    },
    "43a87df7a3bf44feaee97947f491eaa1": {
     "model_module": "@jupyter-widgets/controls",
     "model_module_version": "1.5.0",
     "model_name": "HBoxModel",
     "state": {
      "_dom_classes": [],
      "_model_module": "@jupyter-widgets/controls",
      "_model_module_version": "1.5.0",
      "_model_name": "HBoxModel",
      "_view_count": null,
      "_view_module": "@jupyter-widgets/controls",
      "_view_module_version": "1.5.0",
      "_view_name": "HBoxView",
      "box_style": "",
      "children": [
       "IPY_MODEL_9812861344ef48839879bc9865f490e0",
       "IPY_MODEL_b3ee448e65cb474eb089b002f4e3da63",
       "IPY_MODEL_f3b9f1cc8c914216b103fc83ba9f81e2"
      ],
      "layout": "IPY_MODEL_fae8e7661ad34b6ebac03aa834d70c4b"
     }
    },
    "4459809e49924d829567dc7faf049d59": {
     "model_module": "@jupyter-widgets/controls",
     "model_module_version": "1.5.0",
     "model_name": "ProgressStyleModel",
     "state": {
      "_model_module": "@jupyter-widgets/controls",
      "_model_module_version": "1.5.0",
      "_model_name": "ProgressStyleModel",
      "_view_count": null,
      "_view_module": "@jupyter-widgets/base",
      "_view_module_version": "1.2.0",
      "_view_name": "StyleView",
      "bar_color": null,
      "description_width": ""
     }
    },
    "49fd12c1d00346f6994e8f369076983f": {
     "model_module": "@jupyter-widgets/base",
     "model_module_version": "1.2.0",
     "model_name": "LayoutModel",
     "state": {
      "_model_module": "@jupyter-widgets/base",
      "_model_module_version": "1.2.0",
      "_model_name": "LayoutModel",
      "_view_count": null,
      "_view_module": "@jupyter-widgets/base",
      "_view_module_version": "1.2.0",
      "_view_name": "LayoutView",
      "align_content": null,
      "align_items": null,
      "align_self": null,
      "border": null,
      "bottom": null,
      "display": null,
      "flex": null,
      "flex_flow": null,
      "grid_area": null,
      "grid_auto_columns": null,
      "grid_auto_flow": null,
      "grid_auto_rows": null,
      "grid_column": null,
      "grid_gap": null,
      "grid_row": null,
      "grid_template_areas": null,
      "grid_template_columns": null,
      "grid_template_rows": null,
      "height": null,
      "justify_content": null,
      "justify_items": null,
      "left": null,
      "margin": null,
      "max_height": null,
      "max_width": null,
      "min_height": null,
      "min_width": null,
      "object_fit": null,
      "object_position": null,
      "order": null,
      "overflow": null,
      "overflow_x": null,
      "overflow_y": null,
      "padding": null,
      "right": null,
      "top": null,
      "visibility": null,
      "width": null
     }
    },
    "4a6716eb785e4f91811c9dda2cddcf2a": {
     "model_module": "@jupyter-widgets/controls",
     "model_module_version": "1.5.0",
     "model_name": "HTMLModel",
     "state": {
      "_dom_classes": [],
      "_model_module": "@jupyter-widgets/controls",
      "_model_module_version": "1.5.0",
      "_model_name": "HTMLModel",
      "_view_count": null,
      "_view_module": "@jupyter-widgets/controls",
      "_view_module_version": "1.5.0",
      "_view_name": "HTMLView",
      "description": "",
      "description_tooltip": null,
      "layout": "IPY_MODEL_95e0eacfa14b4334b564055713499ae8",
      "placeholder": "​",
      "style": "IPY_MODEL_cc35bcc5b2f349ef9afd7e4db7c7e852",
      "value": "Evaluating: 100%"
     }
    },
    "4ad2207333424851b7134baae93eee52": {
     "model_module": "@jupyter-widgets/base",
     "model_module_version": "1.2.0",
     "model_name": "LayoutModel",
     "state": {
      "_model_module": "@jupyter-widgets/base",
      "_model_module_version": "1.2.0",
      "_model_name": "LayoutModel",
      "_view_count": null,
      "_view_module": "@jupyter-widgets/base",
      "_view_module_version": "1.2.0",
      "_view_name": "LayoutView",
      "align_content": null,
      "align_items": null,
      "align_self": null,
      "border": null,
      "bottom": null,
      "display": null,
      "flex": null,
      "flex_flow": null,
      "grid_area": null,
      "grid_auto_columns": null,
      "grid_auto_flow": null,
      "grid_auto_rows": null,
      "grid_column": null,
      "grid_gap": null,
      "grid_row": null,
      "grid_template_areas": null,
      "grid_template_columns": null,
      "grid_template_rows": null,
      "height": null,
      "justify_content": null,
      "justify_items": null,
      "left": null,
      "margin": null,
      "max_height": null,
      "max_width": null,
      "min_height": null,
      "min_width": null,
      "object_fit": null,
      "object_position": null,
      "order": null,
      "overflow": null,
      "overflow_x": null,
      "overflow_y": null,
      "padding": null,
      "right": null,
      "top": null,
      "visibility": null,
      "width": null
     }
    },
    "4aecb1bef78e463fb5821cc20a0d87bc": {
     "model_module": "@jupyter-widgets/controls",
     "model_module_version": "1.5.0",
     "model_name": "ProgressStyleModel",
     "state": {
      "_model_module": "@jupyter-widgets/controls",
      "_model_module_version": "1.5.0",
      "_model_name": "ProgressStyleModel",
      "_view_count": null,
      "_view_module": "@jupyter-widgets/base",
      "_view_module_version": "1.2.0",
      "_view_name": "StyleView",
      "bar_color": null,
      "description_width": ""
     }
    },
    "4c043430abf14c0e880e3ea6b104be6d": {
     "model_module": "@jupyter-widgets/base",
     "model_module_version": "1.2.0",
     "model_name": "LayoutModel",
     "state": {
      "_model_module": "@jupyter-widgets/base",
      "_model_module_version": "1.2.0",
      "_model_name": "LayoutModel",
      "_view_count": null,
      "_view_module": "@jupyter-widgets/base",
      "_view_module_version": "1.2.0",
      "_view_name": "LayoutView",
      "align_content": null,
      "align_items": null,
      "align_self": null,
      "border": null,
      "bottom": null,
      "display": null,
      "flex": null,
      "flex_flow": null,
      "grid_area": null,
      "grid_auto_columns": null,
      "grid_auto_flow": null,
      "grid_auto_rows": null,
      "grid_column": null,
      "grid_gap": null,
      "grid_row": null,
      "grid_template_areas": null,
      "grid_template_columns": null,
      "grid_template_rows": null,
      "height": null,
      "justify_content": null,
      "justify_items": null,
      "left": null,
      "margin": null,
      "max_height": null,
      "max_width": null,
      "min_height": null,
      "min_width": null,
      "object_fit": null,
      "object_position": null,
      "order": null,
      "overflow": null,
      "overflow_x": null,
      "overflow_y": null,
      "padding": null,
      "right": null,
      "top": null,
      "visibility": null,
      "width": null
     }
    },
    "4de20954051443cea28874ddc9bca757": {
     "model_module": "@jupyter-widgets/controls",
     "model_module_version": "1.5.0",
     "model_name": "ProgressStyleModel",
     "state": {
      "_model_module": "@jupyter-widgets/controls",
      "_model_module_version": "1.5.0",
      "_model_name": "ProgressStyleModel",
      "_view_count": null,
      "_view_module": "@jupyter-widgets/base",
      "_view_module_version": "1.2.0",
      "_view_name": "StyleView",
      "bar_color": null,
      "description_width": ""
     }
    },
    "4eb18cbd99574914b0408cced942a2dd": {
     "model_module": "@jupyter-widgets/controls",
     "model_module_version": "1.5.0",
     "model_name": "DescriptionStyleModel",
     "state": {
      "_model_module": "@jupyter-widgets/controls",
      "_model_module_version": "1.5.0",
      "_model_name": "DescriptionStyleModel",
      "_view_count": null,
      "_view_module": "@jupyter-widgets/base",
      "_view_module_version": "1.2.0",
      "_view_name": "StyleView",
      "description_width": ""
     }
    },
    "51c7cd51a9164c51960324be3b1697ed": {
     "model_module": "@jupyter-widgets/base",
     "model_module_version": "1.2.0",
     "model_name": "LayoutModel",
     "state": {
      "_model_module": "@jupyter-widgets/base",
      "_model_module_version": "1.2.0",
      "_model_name": "LayoutModel",
      "_view_count": null,
      "_view_module": "@jupyter-widgets/base",
      "_view_module_version": "1.2.0",
      "_view_name": "LayoutView",
      "align_content": null,
      "align_items": null,
      "align_self": null,
      "border": null,
      "bottom": null,
      "display": null,
      "flex": null,
      "flex_flow": null,
      "grid_area": null,
      "grid_auto_columns": null,
      "grid_auto_flow": null,
      "grid_auto_rows": null,
      "grid_column": null,
      "grid_gap": null,
      "grid_row": null,
      "grid_template_areas": null,
      "grid_template_columns": null,
      "grid_template_rows": null,
      "height": null,
      "justify_content": null,
      "justify_items": null,
      "left": null,
      "margin": null,
      "max_height": null,
      "max_width": null,
      "min_height": null,
      "min_width": null,
      "object_fit": null,
      "object_position": null,
      "order": null,
      "overflow": null,
      "overflow_x": null,
      "overflow_y": null,
      "padding": null,
      "right": null,
      "top": null,
      "visibility": null,
      "width": null
     }
    },
    "52b475ad00054608a706096868e04467": {
     "model_module": "@jupyter-widgets/controls",
     "model_module_version": "1.5.0",
     "model_name": "FloatProgressModel",
     "state": {
      "_dom_classes": [],
      "_model_module": "@jupyter-widgets/controls",
      "_model_module_version": "1.5.0",
      "_model_name": "FloatProgressModel",
      "_view_count": null,
      "_view_module": "@jupyter-widgets/controls",
      "_view_module_version": "1.5.0",
      "_view_name": "ProgressView",
      "bar_style": "success",
      "description": "",
      "description_tooltip": null,
      "layout": "IPY_MODEL_7065e0741c1a410891268ea08b091a6e",
      "max": 23,
      "min": 0,
      "orientation": "horizontal",
      "style": "IPY_MODEL_d87cdab67926479a8730ce56954dc930",
      "value": 23
     }
    },
    "53595a15f3f148008378e40d6e5fe873": {
     "model_module": "@jupyter-widgets/controls",
     "model_module_version": "1.5.0",
     "model_name": "HTMLModel",
     "state": {
      "_dom_classes": [],
      "_model_module": "@jupyter-widgets/controls",
      "_model_module_version": "1.5.0",
      "_model_name": "HTMLModel",
      "_view_count": null,
      "_view_module": "@jupyter-widgets/controls",
      "_view_module_version": "1.5.0",
      "_view_name": "HTMLView",
      "description": "",
      "description_tooltip": null,
      "layout": "IPY_MODEL_6846d33cca2841009d28563294ed8f3c",
      "placeholder": "​",
      "style": "IPY_MODEL_ea11bd69cd3e45229f4fb5f7d1e7e506",
      "value": " 184/184 [26:37&lt;00:00,  7.84s/it]"
     }
    },
    "55ca049e524f4ba389d957f15776f110": {
     "model_module": "@jupyter-widgets/base",
     "model_module_version": "1.2.0",
     "model_name": "LayoutModel",
     "state": {
      "_model_module": "@jupyter-widgets/base",
      "_model_module_version": "1.2.0",
      "_model_name": "LayoutModel",
      "_view_count": null,
      "_view_module": "@jupyter-widgets/base",
      "_view_module_version": "1.2.0",
      "_view_name": "LayoutView",
      "align_content": null,
      "align_items": null,
      "align_self": null,
      "border": null,
      "bottom": null,
      "display": null,
      "flex": null,
      "flex_flow": null,
      "grid_area": null,
      "grid_auto_columns": null,
      "grid_auto_flow": null,
      "grid_auto_rows": null,
      "grid_column": null,
      "grid_gap": null,
      "grid_row": null,
      "grid_template_areas": null,
      "grid_template_columns": null,
      "grid_template_rows": null,
      "height": null,
      "justify_content": null,
      "justify_items": null,
      "left": null,
      "margin": null,
      "max_height": null,
      "max_width": null,
      "min_height": null,
      "min_width": null,
      "object_fit": null,
      "object_position": null,
      "order": null,
      "overflow": null,
      "overflow_x": null,
      "overflow_y": null,
      "padding": null,
      "right": null,
      "top": null,
      "visibility": "hidden",
      "width": null
     }
    },
    "57ffadfcaba743f691c07b32226c9cab": {
     "model_module": "@jupyter-widgets/controls",
     "model_module_version": "1.5.0",
     "model_name": "DescriptionStyleModel",
     "state": {
      "_model_module": "@jupyter-widgets/controls",
      "_model_module_version": "1.5.0",
      "_model_name": "DescriptionStyleModel",
      "_view_count": null,
      "_view_module": "@jupyter-widgets/base",
      "_view_module_version": "1.2.0",
      "_view_name": "StyleView",
      "description_width": ""
     }
    },
    "62a63f6b97eb4815aea5ecc0b47fc34d": {
     "model_module": "@jupyter-widgets/base",
     "model_module_version": "1.2.0",
     "model_name": "LayoutModel",
     "state": {
      "_model_module": "@jupyter-widgets/base",
      "_model_module_version": "1.2.0",
      "_model_name": "LayoutModel",
      "_view_count": null,
      "_view_module": "@jupyter-widgets/base",
      "_view_module_version": "1.2.0",
      "_view_name": "LayoutView",
      "align_content": null,
      "align_items": null,
      "align_self": null,
      "border": null,
      "bottom": null,
      "display": null,
      "flex": null,
      "flex_flow": null,
      "grid_area": null,
      "grid_auto_columns": null,
      "grid_auto_flow": null,
      "grid_auto_rows": null,
      "grid_column": null,
      "grid_gap": null,
      "grid_row": null,
      "grid_template_areas": null,
      "grid_template_columns": null,
      "grid_template_rows": null,
      "height": null,
      "justify_content": null,
      "justify_items": null,
      "left": null,
      "margin": null,
      "max_height": null,
      "max_width": null,
      "min_height": null,
      "min_width": null,
      "object_fit": null,
      "object_position": null,
      "order": null,
      "overflow": null,
      "overflow_x": null,
      "overflow_y": null,
      "padding": null,
      "right": null,
      "top": null,
      "visibility": null,
      "width": null
     }
    },
    "62e1486081874fddb50a384d2a2578d3": {
     "model_module": "@jupyter-widgets/controls",
     "model_module_version": "1.5.0",
     "model_name": "HTMLModel",
     "state": {
      "_dom_classes": [],
      "_model_module": "@jupyter-widgets/controls",
      "_model_module_version": "1.5.0",
      "_model_name": "HTMLModel",
      "_view_count": null,
      "_view_module": "@jupyter-widgets/controls",
      "_view_module_version": "1.5.0",
      "_view_name": "HTMLView",
      "description": "",
      "description_tooltip": null,
      "layout": "IPY_MODEL_8b421aef426849679e0b9fd0e146a29d",
      "placeholder": "​",
      "style": "IPY_MODEL_cad81f9ce3ac4fd1ab1ea83f85687b3d",
      "value": " 23/23 [01:07&lt;00:00,  2.99s/it]"
     }
    },
    "65cdf5ba7b904f1c92c8c3984a3df32b": {
     "model_module": "@jupyter-widgets/base",
     "model_module_version": "1.2.0",
     "model_name": "LayoutModel",
     "state": {
      "_model_module": "@jupyter-widgets/base",
      "_model_module_version": "1.2.0",
      "_model_name": "LayoutModel",
      "_view_count": null,
      "_view_module": "@jupyter-widgets/base",
      "_view_module_version": "1.2.0",
      "_view_name": "LayoutView",
      "align_content": null,
      "align_items": null,
      "align_self": null,
      "border": null,
      "bottom": null,
      "display": null,
      "flex": null,
      "flex_flow": null,
      "grid_area": null,
      "grid_auto_columns": null,
      "grid_auto_flow": null,
      "grid_auto_rows": null,
      "grid_column": null,
      "grid_gap": null,
      "grid_row": null,
      "grid_template_areas": null,
      "grid_template_columns": null,
      "grid_template_rows": null,
      "height": null,
      "justify_content": null,
      "justify_items": null,
      "left": null,
      "margin": null,
      "max_height": null,
      "max_width": null,
      "min_height": null,
      "min_width": null,
      "object_fit": null,
      "object_position": null,
      "order": null,
      "overflow": null,
      "overflow_x": null,
      "overflow_y": null,
      "padding": null,
      "right": null,
      "top": null,
      "visibility": null,
      "width": null
     }
    },
    "6846d33cca2841009d28563294ed8f3c": {
     "model_module": "@jupyter-widgets/base",
     "model_module_version": "1.2.0",
     "model_name": "LayoutModel",
     "state": {
      "_model_module": "@jupyter-widgets/base",
      "_model_module_version": "1.2.0",
      "_model_name": "LayoutModel",
      "_view_count": null,
      "_view_module": "@jupyter-widgets/base",
      "_view_module_version": "1.2.0",
      "_view_name": "LayoutView",
      "align_content": null,
      "align_items": null,
      "align_self": null,
      "border": null,
      "bottom": null,
      "display": null,
      "flex": null,
      "flex_flow": null,
      "grid_area": null,
      "grid_auto_columns": null,
      "grid_auto_flow": null,
      "grid_auto_rows": null,
      "grid_column": null,
      "grid_gap": null,
      "grid_row": null,
      "grid_template_areas": null,
      "grid_template_columns": null,
      "grid_template_rows": null,
      "height": null,
      "justify_content": null,
      "justify_items": null,
      "left": null,
      "margin": null,
      "max_height": null,
      "max_width": null,
      "min_height": null,
      "min_width": null,
      "object_fit": null,
      "object_position": null,
      "order": null,
      "overflow": null,
      "overflow_x": null,
      "overflow_y": null,
      "padding": null,
      "right": null,
      "top": null,
      "visibility": null,
      "width": null
     }
    },
    "70379b23712a4cfe93ab50a910177723": {
     "model_module": "@jupyter-widgets/controls",
     "model_module_version": "1.5.0",
     "model_name": "DescriptionStyleModel",
     "state": {
      "_model_module": "@jupyter-widgets/controls",
      "_model_module_version": "1.5.0",
      "_model_name": "DescriptionStyleModel",
      "_view_count": null,
      "_view_module": "@jupyter-widgets/base",
      "_view_module_version": "1.2.0",
      "_view_name": "StyleView",
      "description_width": ""
     }
    },
    "7065e0741c1a410891268ea08b091a6e": {
     "model_module": "@jupyter-widgets/base",
     "model_module_version": "1.2.0",
     "model_name": "LayoutModel",
     "state": {
      "_model_module": "@jupyter-widgets/base",
      "_model_module_version": "1.2.0",
      "_model_name": "LayoutModel",
      "_view_count": null,
      "_view_module": "@jupyter-widgets/base",
      "_view_module_version": "1.2.0",
      "_view_name": "LayoutView",
      "align_content": null,
      "align_items": null,
      "align_self": null,
      "border": null,
      "bottom": null,
      "display": null,
      "flex": null,
      "flex_flow": null,
      "grid_area": null,
      "grid_auto_columns": null,
      "grid_auto_flow": null,
      "grid_auto_rows": null,
      "grid_column": null,
      "grid_gap": null,
      "grid_row": null,
      "grid_template_areas": null,
      "grid_template_columns": null,
      "grid_template_rows": null,
      "height": null,
      "justify_content": null,
      "justify_items": null,
      "left": null,
      "margin": null,
      "max_height": null,
      "max_width": null,
      "min_height": null,
      "min_width": null,
      "object_fit": null,
      "object_position": null,
      "order": null,
      "overflow": null,
      "overflow_x": null,
      "overflow_y": null,
      "padding": null,
      "right": null,
      "top": null,
      "visibility": null,
      "width": null
     }
    },
    "70d18ee9e17547959b96a2d79a7a8ae2": {
     "model_module": "@jupyter-widgets/base",
     "model_module_version": "1.2.0",
     "model_name": "LayoutModel",
     "state": {
      "_model_module": "@jupyter-widgets/base",
      "_model_module_version": "1.2.0",
      "_model_name": "LayoutModel",
      "_view_count": null,
      "_view_module": "@jupyter-widgets/base",
      "_view_module_version": "1.2.0",
      "_view_name": "LayoutView",
      "align_content": null,
      "align_items": null,
      "align_self": null,
      "border": null,
      "bottom": null,
      "display": null,
      "flex": null,
      "flex_flow": null,
      "grid_area": null,
      "grid_auto_columns": null,
      "grid_auto_flow": null,
      "grid_auto_rows": null,
      "grid_column": null,
      "grid_gap": null,
      "grid_row": null,
      "grid_template_areas": null,
      "grid_template_columns": null,
      "grid_template_rows": null,
      "height": null,
      "justify_content": null,
      "justify_items": null,
      "left": null,
      "margin": null,
      "max_height": null,
      "max_width": null,
      "min_height": null,
      "min_width": null,
      "object_fit": null,
      "object_position": null,
      "order": null,
      "overflow": null,
      "overflow_x": null,
      "overflow_y": null,
      "padding": null,
      "right": null,
      "top": null,
      "visibility": null,
      "width": null
     }
    },
    "713560252ce0470d8fc33b29d8bcfb28": {
     "model_module": "@jupyter-widgets/controls",
     "model_module_version": "1.5.0",
     "model_name": "FloatProgressModel",
     "state": {
      "_dom_classes": [],
      "_model_module": "@jupyter-widgets/controls",
      "_model_module_version": "1.5.0",
      "_model_name": "FloatProgressModel",
      "_view_count": null,
      "_view_module": "@jupyter-widgets/controls",
      "_view_module_version": "1.5.0",
      "_view_name": "ProgressView",
      "bar_style": "success",
      "description": "",
      "description_tooltip": null,
      "layout": "IPY_MODEL_c164ee2904d44fedb9c1ee6b138cf845",
      "max": 23,
      "min": 0,
      "orientation": "horizontal",
      "style": "IPY_MODEL_a37657546e37440b9521a405354d84fe",
      "value": 23
     }
    },
    "75fd49e1fab941778a8718d1176d99f5": {
     "model_module": "@jupyter-widgets/base",
     "model_module_version": "1.2.0",
     "model_name": "LayoutModel",
     "state": {
      "_model_module": "@jupyter-widgets/base",
      "_model_module_version": "1.2.0",
      "_model_name": "LayoutModel",
      "_view_count": null,
      "_view_module": "@jupyter-widgets/base",
      "_view_module_version": "1.2.0",
      "_view_name": "LayoutView",
      "align_content": null,
      "align_items": null,
      "align_self": null,
      "border": null,
      "bottom": null,
      "display": null,
      "flex": null,
      "flex_flow": null,
      "grid_area": null,
      "grid_auto_columns": null,
      "grid_auto_flow": null,
      "grid_auto_rows": null,
      "grid_column": null,
      "grid_gap": null,
      "grid_row": null,
      "grid_template_areas": null,
      "grid_template_columns": null,
      "grid_template_rows": null,
      "height": null,
      "justify_content": null,
      "justify_items": null,
      "left": null,
      "margin": null,
      "max_height": null,
      "max_width": null,
      "min_height": null,
      "min_width": null,
      "object_fit": null,
      "object_position": null,
      "order": null,
      "overflow": null,
      "overflow_x": null,
      "overflow_y": null,
      "padding": null,
      "right": null,
      "top": null,
      "visibility": null,
      "width": null
     }
    },
    "785827bdf2b647dd8ad4f087647af888": {
     "model_module": "@jupyter-widgets/controls",
     "model_module_version": "1.5.0",
     "model_name": "HBoxModel",
     "state": {
      "_dom_classes": [],
      "_model_module": "@jupyter-widgets/controls",
      "_model_module_version": "1.5.0",
      "_model_name": "HBoxModel",
      "_view_count": null,
      "_view_module": "@jupyter-widgets/controls",
      "_view_module_version": "1.5.0",
      "_view_name": "HBoxView",
      "box_style": "",
      "children": [
       "IPY_MODEL_af26d4222c51495086edcb2b51246437",
       "IPY_MODEL_99dedb24596d48f49e7ce3eccb4cf470",
       "IPY_MODEL_8b115783453146959a1eeb955fc9b488"
      ],
      "layout": "IPY_MODEL_b0638d496d3847569253ca45e3d58b8b"
     }
    },
    "7a6f0b22521546b0a120bc8716c0e4e3": {
     "model_module": "@jupyter-widgets/controls",
     "model_module_version": "1.5.0",
     "model_name": "DescriptionStyleModel",
     "state": {
      "_model_module": "@jupyter-widgets/controls",
      "_model_module_version": "1.5.0",
      "_model_name": "DescriptionStyleModel",
      "_view_count": null,
      "_view_module": "@jupyter-widgets/base",
      "_view_module_version": "1.2.0",
      "_view_name": "StyleView",
      "description_width": ""
     }
    },
    "7aab4724b29545d2bd7f5ecc0a03d24a": {
     "model_module": "@jupyter-widgets/controls",
     "model_module_version": "1.5.0",
     "model_name": "ProgressStyleModel",
     "state": {
      "_model_module": "@jupyter-widgets/controls",
      "_model_module_version": "1.5.0",
      "_model_name": "ProgressStyleModel",
      "_view_count": null,
      "_view_module": "@jupyter-widgets/base",
      "_view_module_version": "1.2.0",
      "_view_name": "StyleView",
      "bar_color": null,
      "description_width": ""
     }
    },
    "7c2ccadb1928435299b7e8c79052585e": {
     "model_module": "@jupyter-widgets/controls",
     "model_module_version": "1.5.0",
     "model_name": "DescriptionStyleModel",
     "state": {
      "_model_module": "@jupyter-widgets/controls",
      "_model_module_version": "1.5.0",
      "_model_name": "DescriptionStyleModel",
      "_view_count": null,
      "_view_module": "@jupyter-widgets/base",
      "_view_module_version": "1.2.0",
      "_view_name": "StyleView",
      "description_width": ""
     }
    },
    "7e3f9d83a5e84033b87caaf5a80f7d41": {
     "model_module": "@jupyter-widgets/controls",
     "model_module_version": "1.5.0",
     "model_name": "ProgressStyleModel",
     "state": {
      "_model_module": "@jupyter-widgets/controls",
      "_model_module_version": "1.5.0",
      "_model_name": "ProgressStyleModel",
      "_view_count": null,
      "_view_module": "@jupyter-widgets/base",
      "_view_module_version": "1.2.0",
      "_view_name": "StyleView",
      "bar_color": null,
      "description_width": ""
     }
    },
    "802215186b1a49bd872bfc7a04927c58": {
     "model_module": "@jupyter-widgets/controls",
     "model_module_version": "1.5.0",
     "model_name": "FloatProgressModel",
     "state": {
      "_dom_classes": [],
      "_model_module": "@jupyter-widgets/controls",
      "_model_module_version": "1.5.0",
      "_model_name": "FloatProgressModel",
      "_view_count": null,
      "_view_module": "@jupyter-widgets/controls",
      "_view_module_version": "1.5.0",
      "_view_name": "ProgressView",
      "bar_style": "",
      "description": "",
      "description_tooltip": null,
      "layout": "IPY_MODEL_4c043430abf14c0e880e3ea6b104be6d",
      "max": 184,
      "min": 0,
      "orientation": "horizontal",
      "style": "IPY_MODEL_7aab4724b29545d2bd7f5ecc0a03d24a",
      "value": 184
     }
    },
    "821bb81b7ed344adb6faabe6520549d4": {
     "model_module": "@jupyter-widgets/controls",
     "model_module_version": "1.5.0",
     "model_name": "HBoxModel",
     "state": {
      "_dom_classes": [],
      "_model_module": "@jupyter-widgets/controls",
      "_model_module_version": "1.5.0",
      "_model_name": "HBoxModel",
      "_view_count": null,
      "_view_module": "@jupyter-widgets/controls",
      "_view_module_version": "1.5.0",
      "_view_name": "HBoxView",
      "box_style": "",
      "children": [
       "IPY_MODEL_110a4c3944c8432ca7ec9e434f53b27d",
       "IPY_MODEL_367a0c8f87954fd59dcd4b7c2bf6b355",
       "IPY_MODEL_3053a9be5c1c4baa83993c9ba5e5622c"
      ],
      "layout": "IPY_MODEL_dfb3ce6f99214b50b493d3cd8911fbc5"
     }
    },
    "822d8a52588c41f994d9164e6bf2fb1a": {
     "model_module": "@jupyter-widgets/controls",
     "model_module_version": "1.5.0",
     "model_name": "HBoxModel",
     "state": {
      "_dom_classes": [],
      "_model_module": "@jupyter-widgets/controls",
      "_model_module_version": "1.5.0",
      "_model_name": "HBoxModel",
      "_view_count": null,
      "_view_module": "@jupyter-widgets/controls",
      "_view_module_version": "1.5.0",
      "_view_name": "HBoxView",
      "box_style": "",
      "children": [
       "IPY_MODEL_4a6716eb785e4f91811c9dda2cddcf2a",
       "IPY_MODEL_cc8c61c505a245b189067f35a9bfca76",
       "IPY_MODEL_c51f666c1abf4a44839acc28ab725b3a"
      ],
      "layout": "IPY_MODEL_b1343f42a6da4510be85d75fed01b14e"
     }
    },
    "8492c217f3e84d9da921a92446485b3a": {
     "model_module": "@jupyter-widgets/controls",
     "model_module_version": "1.5.0",
     "model_name": "ProgressStyleModel",
     "state": {
      "_model_module": "@jupyter-widgets/controls",
      "_model_module_version": "1.5.0",
      "_model_name": "ProgressStyleModel",
      "_view_count": null,
      "_view_module": "@jupyter-widgets/base",
      "_view_module_version": "1.2.0",
      "_view_name": "StyleView",
      "bar_color": null,
      "description_width": ""
     }
    },
    "86757b74738a4d77ab4346e6ee1c11bc": {
     "model_module": "@jupyter-widgets/controls",
     "model_module_version": "1.5.0",
     "model_name": "ProgressStyleModel",
     "state": {
      "_model_module": "@jupyter-widgets/controls",
      "_model_module_version": "1.5.0",
      "_model_name": "ProgressStyleModel",
      "_view_count": null,
      "_view_module": "@jupyter-widgets/base",
      "_view_module_version": "1.2.0",
      "_view_name": "StyleView",
      "bar_color": null,
      "description_width": ""
     }
    },
    "87ddefba98c44513b33d69fb627bc200": {
     "model_module": "@jupyter-widgets/base",
     "model_module_version": "1.2.0",
     "model_name": "LayoutModel",
     "state": {
      "_model_module": "@jupyter-widgets/base",
      "_model_module_version": "1.2.0",
      "_model_name": "LayoutModel",
      "_view_count": null,
      "_view_module": "@jupyter-widgets/base",
      "_view_module_version": "1.2.0",
      "_view_name": "LayoutView",
      "align_content": null,
      "align_items": null,
      "align_self": null,
      "border": null,
      "bottom": null,
      "display": null,
      "flex": null,
      "flex_flow": null,
      "grid_area": null,
      "grid_auto_columns": null,
      "grid_auto_flow": null,
      "grid_auto_rows": null,
      "grid_column": null,
      "grid_gap": null,
      "grid_row": null,
      "grid_template_areas": null,
      "grid_template_columns": null,
      "grid_template_rows": null,
      "height": null,
      "justify_content": null,
      "justify_items": null,
      "left": null,
      "margin": null,
      "max_height": null,
      "max_width": null,
      "min_height": null,
      "min_width": null,
      "object_fit": null,
      "object_position": null,
      "order": null,
      "overflow": null,
      "overflow_x": null,
      "overflow_y": null,
      "padding": null,
      "right": null,
      "top": null,
      "visibility": null,
      "width": null
     }
    },
    "8b115783453146959a1eeb955fc9b488": {
     "model_module": "@jupyter-widgets/controls",
     "model_module_version": "1.5.0",
     "model_name": "HTMLModel",
     "state": {
      "_dom_classes": [],
      "_model_module": "@jupyter-widgets/controls",
      "_model_module_version": "1.5.0",
      "_model_name": "HTMLModel",
      "_view_count": null,
      "_view_module": "@jupyter-widgets/controls",
      "_view_module_version": "1.5.0",
      "_view_name": "HTMLView",
      "description": "",
      "description_tooltip": null,
      "layout": "IPY_MODEL_fb88284817e649ec86c45b75c6c64349",
      "placeholder": "​",
      "style": "IPY_MODEL_ac55eb3f6abd4116a3745334334a138c",
      "value": " 23/23 [01:09&lt;00:00,  2.96s/it]"
     }
    },
    "8b421aef426849679e0b9fd0e146a29d": {
     "model_module": "@jupyter-widgets/base",
     "model_module_version": "1.2.0",
     "model_name": "LayoutModel",
     "state": {
      "_model_module": "@jupyter-widgets/base",
      "_model_module_version": "1.2.0",
      "_model_name": "LayoutModel",
      "_view_count": null,
      "_view_module": "@jupyter-widgets/base",
      "_view_module_version": "1.2.0",
      "_view_name": "LayoutView",
      "align_content": null,
      "align_items": null,
      "align_self": null,
      "border": null,
      "bottom": null,
      "display": null,
      "flex": null,
      "flex_flow": null,
      "grid_area": null,
      "grid_auto_columns": null,
      "grid_auto_flow": null,
      "grid_auto_rows": null,
      "grid_column": null,
      "grid_gap": null,
      "grid_row": null,
      "grid_template_areas": null,
      "grid_template_columns": null,
      "grid_template_rows": null,
      "height": null,
      "justify_content": null,
      "justify_items": null,
      "left": null,
      "margin": null,
      "max_height": null,
      "max_width": null,
      "min_height": null,
      "min_width": null,
      "object_fit": null,
      "object_position": null,
      "order": null,
      "overflow": null,
      "overflow_x": null,
      "overflow_y": null,
      "padding": null,
      "right": null,
      "top": null,
      "visibility": null,
      "width": null
     }
    },
    "8c4ae19d95a946cc98a71570de07cc8a": {
     "model_module": "@jupyter-widgets/base",
     "model_module_version": "1.2.0",
     "model_name": "LayoutModel",
     "state": {
      "_model_module": "@jupyter-widgets/base",
      "_model_module_version": "1.2.0",
      "_model_name": "LayoutModel",
      "_view_count": null,
      "_view_module": "@jupyter-widgets/base",
      "_view_module_version": "1.2.0",
      "_view_name": "LayoutView",
      "align_content": null,
      "align_items": null,
      "align_self": null,
      "border": null,
      "bottom": null,
      "display": null,
      "flex": null,
      "flex_flow": null,
      "grid_area": null,
      "grid_auto_columns": null,
      "grid_auto_flow": null,
      "grid_auto_rows": null,
      "grid_column": null,
      "grid_gap": null,
      "grid_row": null,
      "grid_template_areas": null,
      "grid_template_columns": null,
      "grid_template_rows": null,
      "height": null,
      "justify_content": null,
      "justify_items": null,
      "left": null,
      "margin": null,
      "max_height": null,
      "max_width": null,
      "min_height": null,
      "min_width": null,
      "object_fit": null,
      "object_position": null,
      "order": null,
      "overflow": null,
      "overflow_x": null,
      "overflow_y": null,
      "padding": null,
      "right": null,
      "top": null,
      "visibility": null,
      "width": null
     }
    },
    "95248791546d40b3a002fd8de0957ed3": {
     "model_module": "@jupyter-widgets/base",
     "model_module_version": "1.2.0",
     "model_name": "LayoutModel",
     "state": {
      "_model_module": "@jupyter-widgets/base",
      "_model_module_version": "1.2.0",
      "_model_name": "LayoutModel",
      "_view_count": null,
      "_view_module": "@jupyter-widgets/base",
      "_view_module_version": "1.2.0",
      "_view_name": "LayoutView",
      "align_content": null,
      "align_items": null,
      "align_self": null,
      "border": null,
      "bottom": null,
      "display": null,
      "flex": null,
      "flex_flow": null,
      "grid_area": null,
      "grid_auto_columns": null,
      "grid_auto_flow": null,
      "grid_auto_rows": null,
      "grid_column": null,
      "grid_gap": null,
      "grid_row": null,
      "grid_template_areas": null,
      "grid_template_columns": null,
      "grid_template_rows": null,
      "height": null,
      "justify_content": null,
      "justify_items": null,
      "left": null,
      "margin": null,
      "max_height": null,
      "max_width": null,
      "min_height": null,
      "min_width": null,
      "object_fit": null,
      "object_position": null,
      "order": null,
      "overflow": null,
      "overflow_x": null,
      "overflow_y": null,
      "padding": null,
      "right": null,
      "top": null,
      "visibility": null,
      "width": null
     }
    },
    "95e0eacfa14b4334b564055713499ae8": {
     "model_module": "@jupyter-widgets/base",
     "model_module_version": "1.2.0",
     "model_name": "LayoutModel",
     "state": {
      "_model_module": "@jupyter-widgets/base",
      "_model_module_version": "1.2.0",
      "_model_name": "LayoutModel",
      "_view_count": null,
      "_view_module": "@jupyter-widgets/base",
      "_view_module_version": "1.2.0",
      "_view_name": "LayoutView",
      "align_content": null,
      "align_items": null,
      "align_self": null,
      "border": null,
      "bottom": null,
      "display": null,
      "flex": null,
      "flex_flow": null,
      "grid_area": null,
      "grid_auto_columns": null,
      "grid_auto_flow": null,
      "grid_auto_rows": null,
      "grid_column": null,
      "grid_gap": null,
      "grid_row": null,
      "grid_template_areas": null,
      "grid_template_columns": null,
      "grid_template_rows": null,
      "height": null,
      "justify_content": null,
      "justify_items": null,
      "left": null,
      "margin": null,
      "max_height": null,
      "max_width": null,
      "min_height": null,
      "min_width": null,
      "object_fit": null,
      "object_position": null,
      "order": null,
      "overflow": null,
      "overflow_x": null,
      "overflow_y": null,
      "padding": null,
      "right": null,
      "top": null,
      "visibility": null,
      "width": null
     }
    },
    "9812861344ef48839879bc9865f490e0": {
     "model_module": "@jupyter-widgets/controls",
     "model_module_version": "1.5.0",
     "model_name": "HTMLModel",
     "state": {
      "_dom_classes": [],
      "_model_module": "@jupyter-widgets/controls",
      "_model_module_version": "1.5.0",
      "_model_name": "HTMLModel",
      "_view_count": null,
      "_view_module": "@jupyter-widgets/controls",
      "_view_module_version": "1.5.0",
      "_view_name": "HTMLView",
      "description": "",
      "description_tooltip": null,
      "layout": "IPY_MODEL_4ad2207333424851b7134baae93eee52",
      "placeholder": "​",
      "style": "IPY_MODEL_0efb70bca74e4b7883a963e02e7935d6",
      "value": "Iteration: 100%"
     }
    },
    "99006b2bd48c492fb55bd35bf9d0283e": {
     "model_module": "@jupyter-widgets/controls",
     "model_module_version": "1.5.0",
     "model_name": "FloatProgressModel",
     "state": {
      "_dom_classes": [],
      "_model_module": "@jupyter-widgets/controls",
      "_model_module_version": "1.5.0",
      "_model_name": "FloatProgressModel",
      "_view_count": null,
      "_view_module": "@jupyter-widgets/controls",
      "_view_module_version": "1.5.0",
      "_view_name": "ProgressView",
      "bar_style": "",
      "description": "",
      "description_tooltip": null,
      "layout": "IPY_MODEL_9b71539be91c488cb12a9c2fafbce99a",
      "max": 184,
      "min": 0,
      "orientation": "horizontal",
      "style": "IPY_MODEL_4aecb1bef78e463fb5821cc20a0d87bc",
      "value": 184
     }
    },
    "99dedb24596d48f49e7ce3eccb4cf470": {
     "model_module": "@jupyter-widgets/controls",
     "model_module_version": "1.5.0",
     "model_name": "FloatProgressModel",
     "state": {
      "_dom_classes": [],
      "_model_module": "@jupyter-widgets/controls",
      "_model_module_version": "1.5.0",
      "_model_name": "FloatProgressModel",
      "_view_count": null,
      "_view_module": "@jupyter-widgets/controls",
      "_view_module_version": "1.5.0",
      "_view_name": "ProgressView",
      "bar_style": "success",
      "description": "",
      "description_tooltip": null,
      "layout": "IPY_MODEL_a8fccdd922154eb69204bc68ca6763fd",
      "max": 23,
      "min": 0,
      "orientation": "horizontal",
      "style": "IPY_MODEL_7e3f9d83a5e84033b87caaf5a80f7d41",
      "value": 23
     }
    },
    "9b71539be91c488cb12a9c2fafbce99a": {
     "model_module": "@jupyter-widgets/base",
     "model_module_version": "1.2.0",
     "model_name": "LayoutModel",
     "state": {
      "_model_module": "@jupyter-widgets/base",
      "_model_module_version": "1.2.0",
      "_model_name": "LayoutModel",
      "_view_count": null,
      "_view_module": "@jupyter-widgets/base",
      "_view_module_version": "1.2.0",
      "_view_name": "LayoutView",
      "align_content": null,
      "align_items": null,
      "align_self": null,
      "border": null,
      "bottom": null,
      "display": null,
      "flex": null,
      "flex_flow": null,
      "grid_area": null,
      "grid_auto_columns": null,
      "grid_auto_flow": null,
      "grid_auto_rows": null,
      "grid_column": null,
      "grid_gap": null,
      "grid_row": null,
      "grid_template_areas": null,
      "grid_template_columns": null,
      "grid_template_rows": null,
      "height": null,
      "justify_content": null,
      "justify_items": null,
      "left": null,
      "margin": null,
      "max_height": null,
      "max_width": null,
      "min_height": null,
      "min_width": null,
      "object_fit": null,
      "object_position": null,
      "order": null,
      "overflow": null,
      "overflow_x": null,
      "overflow_y": null,
      "padding": null,
      "right": null,
      "top": null,
      "visibility": null,
      "width": null
     }
    },
    "9ca3787ef919446ba1422f1ddf215e06": {
     "model_module": "@jupyter-widgets/base",
     "model_module_version": "1.2.0",
     "model_name": "LayoutModel",
     "state": {
      "_model_module": "@jupyter-widgets/base",
      "_model_module_version": "1.2.0",
      "_model_name": "LayoutModel",
      "_view_count": null,
      "_view_module": "@jupyter-widgets/base",
      "_view_module_version": "1.2.0",
      "_view_name": "LayoutView",
      "align_content": null,
      "align_items": null,
      "align_self": null,
      "border": null,
      "bottom": null,
      "display": null,
      "flex": null,
      "flex_flow": null,
      "grid_area": null,
      "grid_auto_columns": null,
      "grid_auto_flow": null,
      "grid_auto_rows": null,
      "grid_column": null,
      "grid_gap": null,
      "grid_row": null,
      "grid_template_areas": null,
      "grid_template_columns": null,
      "grid_template_rows": null,
      "height": null,
      "justify_content": null,
      "justify_items": null,
      "left": null,
      "margin": null,
      "max_height": null,
      "max_width": null,
      "min_height": null,
      "min_width": null,
      "object_fit": null,
      "object_position": null,
      "order": null,
      "overflow": null,
      "overflow_x": null,
      "overflow_y": null,
      "padding": null,
      "right": null,
      "top": null,
      "visibility": null,
      "width": null
     }
    },
    "9e13a75035764c74a19290dd5c1baaf6": {
     "model_module": "@jupyter-widgets/controls",
     "model_module_version": "1.5.0",
     "model_name": "FloatProgressModel",
     "state": {
      "_dom_classes": [],
      "_model_module": "@jupyter-widgets/controls",
      "_model_module_version": "1.5.0",
      "_model_name": "FloatProgressModel",
      "_view_count": null,
      "_view_module": "@jupyter-widgets/controls",
      "_view_module_version": "1.5.0",
      "_view_name": "ProgressView",
      "bar_style": "success",
      "description": "",
      "description_tooltip": null,
      "layout": "IPY_MODEL_95248791546d40b3a002fd8de0957ed3",
      "max": 5,
      "min": 0,
      "orientation": "horizontal",
      "style": "IPY_MODEL_d67f999dcbc9422f9b816e39d69eef82",
      "value": 5
     }
    },
    "9e7865af011e4ab98dffb7812228ba77": {
     "model_module": "@jupyter-widgets/base",
     "model_module_version": "1.2.0",
     "model_name": "LayoutModel",
     "state": {
      "_model_module": "@jupyter-widgets/base",
      "_model_module_version": "1.2.0",
      "_model_name": "LayoutModel",
      "_view_count": null,
      "_view_module": "@jupyter-widgets/base",
      "_view_module_version": "1.2.0",
      "_view_name": "LayoutView",
      "align_content": null,
      "align_items": null,
      "align_self": null,
      "border": null,
      "bottom": null,
      "display": null,
      "flex": null,
      "flex_flow": null,
      "grid_area": null,
      "grid_auto_columns": null,
      "grid_auto_flow": null,
      "grid_auto_rows": null,
      "grid_column": null,
      "grid_gap": null,
      "grid_row": null,
      "grid_template_areas": null,
      "grid_template_columns": null,
      "grid_template_rows": null,
      "height": null,
      "justify_content": null,
      "justify_items": null,
      "left": null,
      "margin": null,
      "max_height": null,
      "max_width": null,
      "min_height": null,
      "min_width": null,
      "object_fit": null,
      "object_position": null,
      "order": null,
      "overflow": null,
      "overflow_x": null,
      "overflow_y": null,
      "padding": null,
      "right": null,
      "top": null,
      "visibility": null,
      "width": null
     }
    },
    "a37657546e37440b9521a405354d84fe": {
     "model_module": "@jupyter-widgets/controls",
     "model_module_version": "1.5.0",
     "model_name": "ProgressStyleModel",
     "state": {
      "_model_module": "@jupyter-widgets/controls",
      "_model_module_version": "1.5.0",
      "_model_name": "ProgressStyleModel",
      "_view_count": null,
      "_view_module": "@jupyter-widgets/base",
      "_view_module_version": "1.2.0",
      "_view_name": "StyleView",
      "bar_color": null,
      "description_width": ""
     }
    },
    "a4a7e63b4989428a83c816dbbc22c566": {
     "model_module": "@jupyter-widgets/base",
     "model_module_version": "1.2.0",
     "model_name": "LayoutModel",
     "state": {
      "_model_module": "@jupyter-widgets/base",
      "_model_module_version": "1.2.0",
      "_model_name": "LayoutModel",
      "_view_count": null,
      "_view_module": "@jupyter-widgets/base",
      "_view_module_version": "1.2.0",
      "_view_name": "LayoutView",
      "align_content": null,
      "align_items": null,
      "align_self": null,
      "border": null,
      "bottom": null,
      "display": null,
      "flex": null,
      "flex_flow": null,
      "grid_area": null,
      "grid_auto_columns": null,
      "grid_auto_flow": null,
      "grid_auto_rows": null,
      "grid_column": null,
      "grid_gap": null,
      "grid_row": null,
      "grid_template_areas": null,
      "grid_template_columns": null,
      "grid_template_rows": null,
      "height": null,
      "justify_content": null,
      "justify_items": null,
      "left": null,
      "margin": null,
      "max_height": null,
      "max_width": null,
      "min_height": null,
      "min_width": null,
      "object_fit": null,
      "object_position": null,
      "order": null,
      "overflow": null,
      "overflow_x": null,
      "overflow_y": null,
      "padding": null,
      "right": null,
      "top": null,
      "visibility": null,
      "width": null
     }
    },
    "a4eebce3fbcd42ca9e57680e1d30bd64": {
     "model_module": "@jupyter-widgets/controls",
     "model_module_version": "1.5.0",
     "model_name": "HBoxModel",
     "state": {
      "_dom_classes": [],
      "_model_module": "@jupyter-widgets/controls",
      "_model_module_version": "1.5.0",
      "_model_name": "HBoxModel",
      "_view_count": null,
      "_view_module": "@jupyter-widgets/controls",
      "_view_module_version": "1.5.0",
      "_view_name": "HBoxView",
      "box_style": "",
      "children": [
       "IPY_MODEL_3150145a682347dda799c7431951a88b",
       "IPY_MODEL_dc2a66b7a7d84e529069e2e8e6866cbe",
       "IPY_MODEL_2444080b2c584b25a2e51ce9cda78390"
      ],
      "layout": "IPY_MODEL_55ca049e524f4ba389d957f15776f110"
     }
    },
    "a68600c7a0824cc9a6892ed077802f0e": {
     "model_module": "@jupyter-widgets/base",
     "model_module_version": "1.2.0",
     "model_name": "LayoutModel",
     "state": {
      "_model_module": "@jupyter-widgets/base",
      "_model_module_version": "1.2.0",
      "_model_name": "LayoutModel",
      "_view_count": null,
      "_view_module": "@jupyter-widgets/base",
      "_view_module_version": "1.2.0",
      "_view_name": "LayoutView",
      "align_content": null,
      "align_items": null,
      "align_self": null,
      "border": null,
      "bottom": null,
      "display": null,
      "flex": null,
      "flex_flow": null,
      "grid_area": null,
      "grid_auto_columns": null,
      "grid_auto_flow": null,
      "grid_auto_rows": null,
      "grid_column": null,
      "grid_gap": null,
      "grid_row": null,
      "grid_template_areas": null,
      "grid_template_columns": null,
      "grid_template_rows": null,
      "height": null,
      "justify_content": null,
      "justify_items": null,
      "left": null,
      "margin": null,
      "max_height": null,
      "max_width": null,
      "min_height": null,
      "min_width": null,
      "object_fit": null,
      "object_position": null,
      "order": null,
      "overflow": null,
      "overflow_x": null,
      "overflow_y": null,
      "padding": null,
      "right": null,
      "top": null,
      "visibility": null,
      "width": null
     }
    },
    "a800e7ba084a4467b726a7237735be35": {
     "model_module": "@jupyter-widgets/base",
     "model_module_version": "1.2.0",
     "model_name": "LayoutModel",
     "state": {
      "_model_module": "@jupyter-widgets/base",
      "_model_module_version": "1.2.0",
      "_model_name": "LayoutModel",
      "_view_count": null,
      "_view_module": "@jupyter-widgets/base",
      "_view_module_version": "1.2.0",
      "_view_name": "LayoutView",
      "align_content": null,
      "align_items": null,
      "align_self": null,
      "border": null,
      "bottom": null,
      "display": null,
      "flex": null,
      "flex_flow": null,
      "grid_area": null,
      "grid_auto_columns": null,
      "grid_auto_flow": null,
      "grid_auto_rows": null,
      "grid_column": null,
      "grid_gap": null,
      "grid_row": null,
      "grid_template_areas": null,
      "grid_template_columns": null,
      "grid_template_rows": null,
      "height": null,
      "justify_content": null,
      "justify_items": null,
      "left": null,
      "margin": null,
      "max_height": null,
      "max_width": null,
      "min_height": null,
      "min_width": null,
      "object_fit": null,
      "object_position": null,
      "order": null,
      "overflow": null,
      "overflow_x": null,
      "overflow_y": null,
      "padding": null,
      "right": null,
      "top": null,
      "visibility": "hidden",
      "width": null
     }
    },
    "a87527d7282f409ba04c3b74bc9e7f4a": {
     "model_module": "@jupyter-widgets/base",
     "model_module_version": "1.2.0",
     "model_name": "LayoutModel",
     "state": {
      "_model_module": "@jupyter-widgets/base",
      "_model_module_version": "1.2.0",
      "_model_name": "LayoutModel",
      "_view_count": null,
      "_view_module": "@jupyter-widgets/base",
      "_view_module_version": "1.2.0",
      "_view_name": "LayoutView",
      "align_content": null,
      "align_items": null,
      "align_self": null,
      "border": null,
      "bottom": null,
      "display": null,
      "flex": null,
      "flex_flow": null,
      "grid_area": null,
      "grid_auto_columns": null,
      "grid_auto_flow": null,
      "grid_auto_rows": null,
      "grid_column": null,
      "grid_gap": null,
      "grid_row": null,
      "grid_template_areas": null,
      "grid_template_columns": null,
      "grid_template_rows": null,
      "height": null,
      "justify_content": null,
      "justify_items": null,
      "left": null,
      "margin": null,
      "max_height": null,
      "max_width": null,
      "min_height": null,
      "min_width": null,
      "object_fit": null,
      "object_position": null,
      "order": null,
      "overflow": null,
      "overflow_x": null,
      "overflow_y": null,
      "padding": null,
      "right": null,
      "top": null,
      "visibility": null,
      "width": null
     }
    },
    "a8cdee5e97f34ddb9ab6ef3d4950e994": {
     "model_module": "@jupyter-widgets/base",
     "model_module_version": "1.2.0",
     "model_name": "LayoutModel",
     "state": {
      "_model_module": "@jupyter-widgets/base",
      "_model_module_version": "1.2.0",
      "_model_name": "LayoutModel",
      "_view_count": null,
      "_view_module": "@jupyter-widgets/base",
      "_view_module_version": "1.2.0",
      "_view_name": "LayoutView",
      "align_content": null,
      "align_items": null,
      "align_self": null,
      "border": null,
      "bottom": null,
      "display": null,
      "flex": null,
      "flex_flow": null,
      "grid_area": null,
      "grid_auto_columns": null,
      "grid_auto_flow": null,
      "grid_auto_rows": null,
      "grid_column": null,
      "grid_gap": null,
      "grid_row": null,
      "grid_template_areas": null,
      "grid_template_columns": null,
      "grid_template_rows": null,
      "height": null,
      "justify_content": null,
      "justify_items": null,
      "left": null,
      "margin": null,
      "max_height": null,
      "max_width": null,
      "min_height": null,
      "min_width": null,
      "object_fit": null,
      "object_position": null,
      "order": null,
      "overflow": null,
      "overflow_x": null,
      "overflow_y": null,
      "padding": null,
      "right": null,
      "top": null,
      "visibility": null,
      "width": null
     }
    },
    "a8fccdd922154eb69204bc68ca6763fd": {
     "model_module": "@jupyter-widgets/base",
     "model_module_version": "1.2.0",
     "model_name": "LayoutModel",
     "state": {
      "_model_module": "@jupyter-widgets/base",
      "_model_module_version": "1.2.0",
      "_model_name": "LayoutModel",
      "_view_count": null,
      "_view_module": "@jupyter-widgets/base",
      "_view_module_version": "1.2.0",
      "_view_name": "LayoutView",
      "align_content": null,
      "align_items": null,
      "align_self": null,
      "border": null,
      "bottom": null,
      "display": null,
      "flex": null,
      "flex_flow": null,
      "grid_area": null,
      "grid_auto_columns": null,
      "grid_auto_flow": null,
      "grid_auto_rows": null,
      "grid_column": null,
      "grid_gap": null,
      "grid_row": null,
      "grid_template_areas": null,
      "grid_template_columns": null,
      "grid_template_rows": null,
      "height": null,
      "justify_content": null,
      "justify_items": null,
      "left": null,
      "margin": null,
      "max_height": null,
      "max_width": null,
      "min_height": null,
      "min_width": null,
      "object_fit": null,
      "object_position": null,
      "order": null,
      "overflow": null,
      "overflow_x": null,
      "overflow_y": null,
      "padding": null,
      "right": null,
      "top": null,
      "visibility": null,
      "width": null
     }
    },
    "a9ac0b92b1194292a07a60634f2ef8c5": {
     "model_module": "@jupyter-widgets/controls",
     "model_module_version": "1.5.0",
     "model_name": "DescriptionStyleModel",
     "state": {
      "_model_module": "@jupyter-widgets/controls",
      "_model_module_version": "1.5.0",
      "_model_name": "DescriptionStyleModel",
      "_view_count": null,
      "_view_module": "@jupyter-widgets/base",
      "_view_module_version": "1.2.0",
      "_view_name": "StyleView",
      "description_width": ""
     }
    },
    "a9b6b6f50f294db1a0843081f6efc782": {
     "model_module": "@jupyter-widgets/controls",
     "model_module_version": "1.5.0",
     "model_name": "HTMLModel",
     "state": {
      "_dom_classes": [],
      "_model_module": "@jupyter-widgets/controls",
      "_model_module_version": "1.5.0",
      "_model_name": "HTMLModel",
      "_view_count": null,
      "_view_module": "@jupyter-widgets/controls",
      "_view_module_version": "1.5.0",
      "_view_name": "HTMLView",
      "description": "",
      "description_tooltip": null,
      "layout": "IPY_MODEL_f473ac2788e34220835d3c5369f8aa19",
      "placeholder": "​",
      "style": "IPY_MODEL_a9ac0b92b1194292a07a60634f2ef8c5",
      "value": " 5/5 [2:18:30&lt;00:00, 1659.41s/it]"
     }
    },
    "aa401b6ccd5748d8b99ffddc51078ffb": {
     "model_module": "@jupyter-widgets/controls",
     "model_module_version": "1.5.0",
     "model_name": "HTMLModel",
     "state": {
      "_dom_classes": [],
      "_model_module": "@jupyter-widgets/controls",
      "_model_module_version": "1.5.0",
      "_model_name": "HTMLModel",
      "_view_count": null,
      "_view_module": "@jupyter-widgets/controls",
      "_view_module_version": "1.5.0",
      "_view_name": "HTMLView",
      "description": "",
      "description_tooltip": null,
      "layout": "IPY_MODEL_65cdf5ba7b904f1c92c8c3984a3df32b",
      "placeholder": "​",
      "style": "IPY_MODEL_57ffadfcaba743f691c07b32226c9cab",
      "value": "Evaluating: 100%"
     }
    },
    "ab199c14846a47acbe0d5cb36c28883d": {
     "model_module": "@jupyter-widgets/base",
     "model_module_version": "1.2.0",
     "model_name": "LayoutModel",
     "state": {
      "_model_module": "@jupyter-widgets/base",
      "_model_module_version": "1.2.0",
      "_model_name": "LayoutModel",
      "_view_count": null,
      "_view_module": "@jupyter-widgets/base",
      "_view_module_version": "1.2.0",
      "_view_name": "LayoutView",
      "align_content": null,
      "align_items": null,
      "align_self": null,
      "border": null,
      "bottom": null,
      "display": null,
      "flex": null,
      "flex_flow": null,
      "grid_area": null,
      "grid_auto_columns": null,
      "grid_auto_flow": null,
      "grid_auto_rows": null,
      "grid_column": null,
      "grid_gap": null,
      "grid_row": null,
      "grid_template_areas": null,
      "grid_template_columns": null,
      "grid_template_rows": null,
      "height": null,
      "justify_content": null,
      "justify_items": null,
      "left": null,
      "margin": null,
      "max_height": null,
      "max_width": null,
      "min_height": null,
      "min_width": null,
      "object_fit": null,
      "object_position": null,
      "order": null,
      "overflow": null,
      "overflow_x": null,
      "overflow_y": null,
      "padding": null,
      "right": null,
      "top": null,
      "visibility": null,
      "width": null
     }
    },
    "ac55eb3f6abd4116a3745334334a138c": {
     "model_module": "@jupyter-widgets/controls",
     "model_module_version": "1.5.0",
     "model_name": "DescriptionStyleModel",
     "state": {
      "_model_module": "@jupyter-widgets/controls",
      "_model_module_version": "1.5.0",
      "_model_name": "DescriptionStyleModel",
      "_view_count": null,
      "_view_module": "@jupyter-widgets/base",
      "_view_module_version": "1.2.0",
      "_view_name": "StyleView",
      "description_width": ""
     }
    },
    "af26d4222c51495086edcb2b51246437": {
     "model_module": "@jupyter-widgets/controls",
     "model_module_version": "1.5.0",
     "model_name": "HTMLModel",
     "state": {
      "_dom_classes": [],
      "_model_module": "@jupyter-widgets/controls",
      "_model_module_version": "1.5.0",
      "_model_name": "HTMLModel",
      "_view_count": null,
      "_view_module": "@jupyter-widgets/controls",
      "_view_module_version": "1.5.0",
      "_view_name": "HTMLView",
      "description": "",
      "description_tooltip": null,
      "layout": "IPY_MODEL_a4a7e63b4989428a83c816dbbc22c566",
      "placeholder": "​",
      "style": "IPY_MODEL_cd6bbb8cdc6c4142821bef9d2f790fab",
      "value": "Evaluating: 100%"
     }
    },
    "b0638d496d3847569253ca45e3d58b8b": {
     "model_module": "@jupyter-widgets/base",
     "model_module_version": "1.2.0",
     "model_name": "LayoutModel",
     "state": {
      "_model_module": "@jupyter-widgets/base",
      "_model_module_version": "1.2.0",
      "_model_name": "LayoutModel",
      "_view_count": null,
      "_view_module": "@jupyter-widgets/base",
      "_view_module_version": "1.2.0",
      "_view_name": "LayoutView",
      "align_content": null,
      "align_items": null,
      "align_self": null,
      "border": null,
      "bottom": null,
      "display": null,
      "flex": null,
      "flex_flow": null,
      "grid_area": null,
      "grid_auto_columns": null,
      "grid_auto_flow": null,
      "grid_auto_rows": null,
      "grid_column": null,
      "grid_gap": null,
      "grid_row": null,
      "grid_template_areas": null,
      "grid_template_columns": null,
      "grid_template_rows": null,
      "height": null,
      "justify_content": null,
      "justify_items": null,
      "left": null,
      "margin": null,
      "max_height": null,
      "max_width": null,
      "min_height": null,
      "min_width": null,
      "object_fit": null,
      "object_position": null,
      "order": null,
      "overflow": null,
      "overflow_x": null,
      "overflow_y": null,
      "padding": null,
      "right": null,
      "top": null,
      "visibility": null,
      "width": null
     }
    },
    "b0d481cec0aa4ea89e20885e070ed636": {
     "model_module": "@jupyter-widgets/controls",
     "model_module_version": "1.5.0",
     "model_name": "HTMLModel",
     "state": {
      "_dom_classes": [],
      "_model_module": "@jupyter-widgets/controls",
      "_model_module_version": "1.5.0",
      "_model_name": "HTMLModel",
      "_view_count": null,
      "_view_module": "@jupyter-widgets/controls",
      "_view_module_version": "1.5.0",
      "_view_name": "HTMLView",
      "description": "",
      "description_tooltip": null,
      "layout": "IPY_MODEL_d7280b8bc50b49c8b6b37b1ea8a16ad0",
      "placeholder": "​",
      "style": "IPY_MODEL_21de943d91ba4767be8aaf394d13cc21",
      "value": " 184/184 [26:35&lt;00:00,  7.60s/it]"
     }
    },
    "b1343f42a6da4510be85d75fed01b14e": {
     "model_module": "@jupyter-widgets/base",
     "model_module_version": "1.2.0",
     "model_name": "LayoutModel",
     "state": {
      "_model_module": "@jupyter-widgets/base",
      "_model_module_version": "1.2.0",
      "_model_name": "LayoutModel",
      "_view_count": null,
      "_view_module": "@jupyter-widgets/base",
      "_view_module_version": "1.2.0",
      "_view_name": "LayoutView",
      "align_content": null,
      "align_items": null,
      "align_self": null,
      "border": null,
      "bottom": null,
      "display": null,
      "flex": null,
      "flex_flow": null,
      "grid_area": null,
      "grid_auto_columns": null,
      "grid_auto_flow": null,
      "grid_auto_rows": null,
      "grid_column": null,
      "grid_gap": null,
      "grid_row": null,
      "grid_template_areas": null,
      "grid_template_columns": null,
      "grid_template_rows": null,
      "height": null,
      "justify_content": null,
      "justify_items": null,
      "left": null,
      "margin": null,
      "max_height": null,
      "max_width": null,
      "min_height": null,
      "min_width": null,
      "object_fit": null,
      "object_position": null,
      "order": null,
      "overflow": null,
      "overflow_x": null,
      "overflow_y": null,
      "padding": null,
      "right": null,
      "top": null,
      "visibility": null,
      "width": null
     }
    },
    "b3ee448e65cb474eb089b002f4e3da63": {
     "model_module": "@jupyter-widgets/controls",
     "model_module_version": "1.5.0",
     "model_name": "FloatProgressModel",
     "state": {
      "_dom_classes": [],
      "_model_module": "@jupyter-widgets/controls",
      "_model_module_version": "1.5.0",
      "_model_name": "FloatProgressModel",
      "_view_count": null,
      "_view_module": "@jupyter-widgets/controls",
      "_view_module_version": "1.5.0",
      "_view_name": "ProgressView",
      "bar_style": "",
      "description": "",
      "description_tooltip": null,
      "layout": "IPY_MODEL_a8cdee5e97f34ddb9ab6ef3d4950e994",
      "max": 184,
      "min": 0,
      "orientation": "horizontal",
      "style": "IPY_MODEL_86757b74738a4d77ab4346e6ee1c11bc",
      "value": 184
     }
    },
    "b62f907c98e14d03bc4ddb48a103c1ab": {
     "model_module": "@jupyter-widgets/base",
     "model_module_version": "1.2.0",
     "model_name": "LayoutModel",
     "state": {
      "_model_module": "@jupyter-widgets/base",
      "_model_module_version": "1.2.0",
      "_model_name": "LayoutModel",
      "_view_count": null,
      "_view_module": "@jupyter-widgets/base",
      "_view_module_version": "1.2.0",
      "_view_name": "LayoutView",
      "align_content": null,
      "align_items": null,
      "align_self": null,
      "border": null,
      "bottom": null,
      "display": null,
      "flex": null,
      "flex_flow": null,
      "grid_area": null,
      "grid_auto_columns": null,
      "grid_auto_flow": null,
      "grid_auto_rows": null,
      "grid_column": null,
      "grid_gap": null,
      "grid_row": null,
      "grid_template_areas": null,
      "grid_template_columns": null,
      "grid_template_rows": null,
      "height": null,
      "justify_content": null,
      "justify_items": null,
      "left": null,
      "margin": null,
      "max_height": null,
      "max_width": null,
      "min_height": null,
      "min_width": null,
      "object_fit": null,
      "object_position": null,
      "order": null,
      "overflow": null,
      "overflow_x": null,
      "overflow_y": null,
      "padding": null,
      "right": null,
      "top": null,
      "visibility": null,
      "width": null
     }
    },
    "b7e5db78d74149ca8dc8ae001a92996a": {
     "model_module": "@jupyter-widgets/base",
     "model_module_version": "1.2.0",
     "model_name": "LayoutModel",
     "state": {
      "_model_module": "@jupyter-widgets/base",
      "_model_module_version": "1.2.0",
      "_model_name": "LayoutModel",
      "_view_count": null,
      "_view_module": "@jupyter-widgets/base",
      "_view_module_version": "1.2.0",
      "_view_name": "LayoutView",
      "align_content": null,
      "align_items": null,
      "align_self": null,
      "border": null,
      "bottom": null,
      "display": null,
      "flex": null,
      "flex_flow": null,
      "grid_area": null,
      "grid_auto_columns": null,
      "grid_auto_flow": null,
      "grid_auto_rows": null,
      "grid_column": null,
      "grid_gap": null,
      "grid_row": null,
      "grid_template_areas": null,
      "grid_template_columns": null,
      "grid_template_rows": null,
      "height": null,
      "justify_content": null,
      "justify_items": null,
      "left": null,
      "margin": null,
      "max_height": null,
      "max_width": null,
      "min_height": null,
      "min_width": null,
      "object_fit": null,
      "object_position": null,
      "order": null,
      "overflow": null,
      "overflow_x": null,
      "overflow_y": null,
      "padding": null,
      "right": null,
      "top": null,
      "visibility": "hidden",
      "width": null
     }
    },
    "b9b701cc8bdd484f97391a6bf4911bc1": {
     "model_module": "@jupyter-widgets/base",
     "model_module_version": "1.2.0",
     "model_name": "LayoutModel",
     "state": {
      "_model_module": "@jupyter-widgets/base",
      "_model_module_version": "1.2.0",
      "_model_name": "LayoutModel",
      "_view_count": null,
      "_view_module": "@jupyter-widgets/base",
      "_view_module_version": "1.2.0",
      "_view_name": "LayoutView",
      "align_content": null,
      "align_items": null,
      "align_self": null,
      "border": null,
      "bottom": null,
      "display": null,
      "flex": null,
      "flex_flow": null,
      "grid_area": null,
      "grid_auto_columns": null,
      "grid_auto_flow": null,
      "grid_auto_rows": null,
      "grid_column": null,
      "grid_gap": null,
      "grid_row": null,
      "grid_template_areas": null,
      "grid_template_columns": null,
      "grid_template_rows": null,
      "height": null,
      "justify_content": null,
      "justify_items": null,
      "left": null,
      "margin": null,
      "max_height": null,
      "max_width": null,
      "min_height": null,
      "min_width": null,
      "object_fit": null,
      "object_position": null,
      "order": null,
      "overflow": null,
      "overflow_x": null,
      "overflow_y": null,
      "padding": null,
      "right": null,
      "top": null,
      "visibility": null,
      "width": null
     }
    },
    "bcd0aae37ce34a2c83cf7afd95465584": {
     "model_module": "@jupyter-widgets/controls",
     "model_module_version": "1.5.0",
     "model_name": "DescriptionStyleModel",
     "state": {
      "_model_module": "@jupyter-widgets/controls",
      "_model_module_version": "1.5.0",
      "_model_name": "DescriptionStyleModel",
      "_view_count": null,
      "_view_module": "@jupyter-widgets/base",
      "_view_module_version": "1.2.0",
      "_view_name": "StyleView",
      "description_width": ""
     }
    },
    "c164ee2904d44fedb9c1ee6b138cf845": {
     "model_module": "@jupyter-widgets/base",
     "model_module_version": "1.2.0",
     "model_name": "LayoutModel",
     "state": {
      "_model_module": "@jupyter-widgets/base",
      "_model_module_version": "1.2.0",
      "_model_name": "LayoutModel",
      "_view_count": null,
      "_view_module": "@jupyter-widgets/base",
      "_view_module_version": "1.2.0",
      "_view_name": "LayoutView",
      "align_content": null,
      "align_items": null,
      "align_self": null,
      "border": null,
      "bottom": null,
      "display": null,
      "flex": null,
      "flex_flow": null,
      "grid_area": null,
      "grid_auto_columns": null,
      "grid_auto_flow": null,
      "grid_auto_rows": null,
      "grid_column": null,
      "grid_gap": null,
      "grid_row": null,
      "grid_template_areas": null,
      "grid_template_columns": null,
      "grid_template_rows": null,
      "height": null,
      "justify_content": null,
      "justify_items": null,
      "left": null,
      "margin": null,
      "max_height": null,
      "max_width": null,
      "min_height": null,
      "min_width": null,
      "object_fit": null,
      "object_position": null,
      "order": null,
      "overflow": null,
      "overflow_x": null,
      "overflow_y": null,
      "padding": null,
      "right": null,
      "top": null,
      "visibility": null,
      "width": null
     }
    },
    "c2e15b316e1d40c0871bb747416ece13": {
     "model_module": "@jupyter-widgets/controls",
     "model_module_version": "1.5.0",
     "model_name": "FloatProgressModel",
     "state": {
      "_dom_classes": [],
      "_model_module": "@jupyter-widgets/controls",
      "_model_module_version": "1.5.0",
      "_model_name": "FloatProgressModel",
      "_view_count": null,
      "_view_module": "@jupyter-widgets/controls",
      "_view_module_version": "1.5.0",
      "_view_name": "ProgressView",
      "bar_style": "success",
      "description": "",
      "description_tooltip": null,
      "layout": "IPY_MODEL_a68600c7a0824cc9a6892ed077802f0e",
      "max": 23,
      "min": 0,
      "orientation": "horizontal",
      "style": "IPY_MODEL_8492c217f3e84d9da921a92446485b3a",
      "value": 23
     }
    },
    "c51f666c1abf4a44839acc28ab725b3a": {
     "model_module": "@jupyter-widgets/controls",
     "model_module_version": "1.5.0",
     "model_name": "HTMLModel",
     "state": {
      "_dom_classes": [],
      "_model_module": "@jupyter-widgets/controls",
      "_model_module_version": "1.5.0",
      "_model_name": "HTMLModel",
      "_view_count": null,
      "_view_module": "@jupyter-widgets/controls",
      "_view_module_version": "1.5.0",
      "_view_name": "HTMLView",
      "description": "",
      "description_tooltip": null,
      "layout": "IPY_MODEL_a87527d7282f409ba04c3b74bc9e7f4a",
      "placeholder": "​",
      "style": "IPY_MODEL_fd968167a64e4f6ab5b1ae081766b918",
      "value": " 23/23 [01:05&lt;00:00,  2.74s/it]"
     }
    },
    "c617b069231f48329ec952664290c96f": {
     "model_module": "@jupyter-widgets/controls",
     "model_module_version": "1.5.0",
     "model_name": "HBoxModel",
     "state": {
      "_dom_classes": [],
      "_model_module": "@jupyter-widgets/controls",
      "_model_module_version": "1.5.0",
      "_model_name": "HBoxModel",
      "_view_count": null,
      "_view_module": "@jupyter-widgets/controls",
      "_view_module_version": "1.5.0",
      "_view_name": "HBoxView",
      "box_style": "",
      "children": [
       "IPY_MODEL_aa401b6ccd5748d8b99ffddc51078ffb",
       "IPY_MODEL_c2e15b316e1d40c0871bb747416ece13",
       "IPY_MODEL_62e1486081874fddb50a384d2a2578d3"
      ],
      "layout": "IPY_MODEL_e2c9fd358e2549f3b4b6314c14b34f0f"
     }
    },
    "c62991b17b434728a4d2056aa91c2df3": {
     "model_module": "@jupyter-widgets/controls",
     "model_module_version": "1.5.0",
     "model_name": "DescriptionStyleModel",
     "state": {
      "_model_module": "@jupyter-widgets/controls",
      "_model_module_version": "1.5.0",
      "_model_name": "DescriptionStyleModel",
      "_view_count": null,
      "_view_module": "@jupyter-widgets/base",
      "_view_module_version": "1.2.0",
      "_view_name": "StyleView",
      "description_width": ""
     }
    },
    "c71cdadc627d47ec943800c4e62d83e3": {
     "model_module": "@jupyter-widgets/controls",
     "model_module_version": "1.5.0",
     "model_name": "HBoxModel",
     "state": {
      "_dom_classes": [],
      "_model_module": "@jupyter-widgets/controls",
      "_model_module_version": "1.5.0",
      "_model_name": "HBoxModel",
      "_view_count": null,
      "_view_module": "@jupyter-widgets/controls",
      "_view_module_version": "1.5.0",
      "_view_name": "HBoxView",
      "box_style": "",
      "children": [
       "IPY_MODEL_28b712ae20e24d31a0404a2daf03f735",
       "IPY_MODEL_d702600f388441429a34df4416325acd",
       "IPY_MODEL_53595a15f3f148008378e40d6e5fe873"
      ],
      "layout": "IPY_MODEL_a800e7ba084a4467b726a7237735be35"
     }
    },
    "ca150a7634a94d7d9aae1abc073ac560": {
     "model_module": "@jupyter-widgets/controls",
     "model_module_version": "1.5.0",
     "model_name": "HTMLModel",
     "state": {
      "_dom_classes": [],
      "_model_module": "@jupyter-widgets/controls",
      "_model_module_version": "1.5.0",
      "_model_name": "HTMLModel",
      "_view_count": null,
      "_view_module": "@jupyter-widgets/controls",
      "_view_module_version": "1.5.0",
      "_view_name": "HTMLView",
      "description": "",
      "description_tooltip": null,
      "layout": "IPY_MODEL_62a63f6b97eb4815aea5ecc0b47fc34d",
      "placeholder": "​",
      "style": "IPY_MODEL_07c651136ef840ffa5a457e59fa0e295",
      "value": " 23/23 [00:05&lt;00:00,  4.58it/s]"
     }
    },
    "cad81f9ce3ac4fd1ab1ea83f85687b3d": {
     "model_module": "@jupyter-widgets/controls",
     "model_module_version": "1.5.0",
     "model_name": "DescriptionStyleModel",
     "state": {
      "_model_module": "@jupyter-widgets/controls",
      "_model_module_version": "1.5.0",
      "_model_name": "DescriptionStyleModel",
      "_view_count": null,
      "_view_module": "@jupyter-widgets/base",
      "_view_module_version": "1.2.0",
      "_view_name": "StyleView",
      "description_width": ""
     }
    },
    "cb09a9412f624541b9dee06d7292c028": {
     "model_module": "@jupyter-widgets/base",
     "model_module_version": "1.2.0",
     "model_name": "LayoutModel",
     "state": {
      "_model_module": "@jupyter-widgets/base",
      "_model_module_version": "1.2.0",
      "_model_name": "LayoutModel",
      "_view_count": null,
      "_view_module": "@jupyter-widgets/base",
      "_view_module_version": "1.2.0",
      "_view_name": "LayoutView",
      "align_content": null,
      "align_items": null,
      "align_self": null,
      "border": null,
      "bottom": null,
      "display": null,
      "flex": null,
      "flex_flow": null,
      "grid_area": null,
      "grid_auto_columns": null,
      "grid_auto_flow": null,
      "grid_auto_rows": null,
      "grid_column": null,
      "grid_gap": null,
      "grid_row": null,
      "grid_template_areas": null,
      "grid_template_columns": null,
      "grid_template_rows": null,
      "height": null,
      "justify_content": null,
      "justify_items": null,
      "left": null,
      "margin": null,
      "max_height": null,
      "max_width": null,
      "min_height": null,
      "min_width": null,
      "object_fit": null,
      "object_position": null,
      "order": null,
      "overflow": null,
      "overflow_x": null,
      "overflow_y": null,
      "padding": null,
      "right": null,
      "top": null,
      "visibility": null,
      "width": null
     }
    },
    "cbcdbf47f9ce4b828176f627e5e82665": {
     "model_module": "@jupyter-widgets/controls",
     "model_module_version": "1.5.0",
     "model_name": "HBoxModel",
     "state": {
      "_dom_classes": [],
      "_model_module": "@jupyter-widgets/controls",
      "_model_module_version": "1.5.0",
      "_model_name": "HBoxModel",
      "_view_count": null,
      "_view_module": "@jupyter-widgets/controls",
      "_view_module_version": "1.5.0",
      "_view_name": "HBoxView",
      "box_style": "",
      "children": [
       "IPY_MODEL_dfb2cf30d2144ea39f93df32cf267777",
       "IPY_MODEL_99006b2bd48c492fb55bd35bf9d0283e",
       "IPY_MODEL_b0d481cec0aa4ea89e20885e070ed636"
      ],
      "layout": "IPY_MODEL_b7e5db78d74149ca8dc8ae001a92996a"
     }
    },
    "cc35bcc5b2f349ef9afd7e4db7c7e852": {
     "model_module": "@jupyter-widgets/controls",
     "model_module_version": "1.5.0",
     "model_name": "DescriptionStyleModel",
     "state": {
      "_model_module": "@jupyter-widgets/controls",
      "_model_module_version": "1.5.0",
      "_model_name": "DescriptionStyleModel",
      "_view_count": null,
      "_view_module": "@jupyter-widgets/base",
      "_view_module_version": "1.2.0",
      "_view_name": "StyleView",
      "description_width": ""
     }
    },
    "cc8c61c505a245b189067f35a9bfca76": {
     "model_module": "@jupyter-widgets/controls",
     "model_module_version": "1.5.0",
     "model_name": "FloatProgressModel",
     "state": {
      "_dom_classes": [],
      "_model_module": "@jupyter-widgets/controls",
      "_model_module_version": "1.5.0",
      "_model_name": "FloatProgressModel",
      "_view_count": null,
      "_view_module": "@jupyter-widgets/controls",
      "_view_module_version": "1.5.0",
      "_view_name": "ProgressView",
      "bar_style": "success",
      "description": "",
      "description_tooltip": null,
      "layout": "IPY_MODEL_70d18ee9e17547959b96a2d79a7a8ae2",
      "max": 23,
      "min": 0,
      "orientation": "horizontal",
      "style": "IPY_MODEL_4459809e49924d829567dc7faf049d59",
      "value": 23
     }
    },
    "cd6bbb8cdc6c4142821bef9d2f790fab": {
     "model_module": "@jupyter-widgets/controls",
     "model_module_version": "1.5.0",
     "model_name": "DescriptionStyleModel",
     "state": {
      "_model_module": "@jupyter-widgets/controls",
      "_model_module_version": "1.5.0",
      "_model_name": "DescriptionStyleModel",
      "_view_count": null,
      "_view_module": "@jupyter-widgets/base",
      "_view_module_version": "1.2.0",
      "_view_name": "StyleView",
      "description_width": ""
     }
    },
    "d05ffac886a14e8eb9ec963d889952c9": {
     "model_module": "@jupyter-widgets/controls",
     "model_module_version": "1.5.0",
     "model_name": "HTMLModel",
     "state": {
      "_dom_classes": [],
      "_model_module": "@jupyter-widgets/controls",
      "_model_module_version": "1.5.0",
      "_model_name": "HTMLModel",
      "_view_count": null,
      "_view_module": "@jupyter-widgets/controls",
      "_view_module_version": "1.5.0",
      "_view_name": "HTMLView",
      "description": "",
      "description_tooltip": null,
      "layout": "IPY_MODEL_3f34d383d6654eff9821e04f516530ff",
      "placeholder": "​",
      "style": "IPY_MODEL_7a6f0b22521546b0a120bc8716c0e4e3",
      "value": " 184/184 [26:25&lt;00:00,  7.91s/it]"
     }
    },
    "d1f9c872f9274c778a6550e1e065f406": {
     "model_module": "@jupyter-widgets/controls",
     "model_module_version": "1.5.0",
     "model_name": "DescriptionStyleModel",
     "state": {
      "_model_module": "@jupyter-widgets/controls",
      "_model_module_version": "1.5.0",
      "_model_name": "DescriptionStyleModel",
      "_view_count": null,
      "_view_module": "@jupyter-widgets/base",
      "_view_module_version": "1.2.0",
      "_view_name": "StyleView",
      "description_width": ""
     }
    },
    "d30b31807326499d80c4b2368228301a": {
     "model_module": "@jupyter-widgets/controls",
     "model_module_version": "1.5.0",
     "model_name": "HTMLModel",
     "state": {
      "_dom_classes": [],
      "_model_module": "@jupyter-widgets/controls",
      "_model_module_version": "1.5.0",
      "_model_name": "HTMLModel",
      "_view_count": null,
      "_view_module": "@jupyter-widgets/controls",
      "_view_module_version": "1.5.0",
      "_view_name": "HTMLView",
      "description": "",
      "description_tooltip": null,
      "layout": "IPY_MODEL_75fd49e1fab941778a8718d1176d99f5",
      "placeholder": "​",
      "style": "IPY_MODEL_c62991b17b434728a4d2056aa91c2df3",
      "value": "Evaluating: 100%"
     }
    },
    "d67f999dcbc9422f9b816e39d69eef82": {
     "model_module": "@jupyter-widgets/controls",
     "model_module_version": "1.5.0",
     "model_name": "ProgressStyleModel",
     "state": {
      "_model_module": "@jupyter-widgets/controls",
      "_model_module_version": "1.5.0",
      "_model_name": "ProgressStyleModel",
      "_view_count": null,
      "_view_module": "@jupyter-widgets/base",
      "_view_module_version": "1.2.0",
      "_view_name": "StyleView",
      "bar_color": null,
      "description_width": ""
     }
    },
    "d702600f388441429a34df4416325acd": {
     "model_module": "@jupyter-widgets/controls",
     "model_module_version": "1.5.0",
     "model_name": "FloatProgressModel",
     "state": {
      "_dom_classes": [],
      "_model_module": "@jupyter-widgets/controls",
      "_model_module_version": "1.5.0",
      "_model_name": "FloatProgressModel",
      "_view_count": null,
      "_view_module": "@jupyter-widgets/controls",
      "_view_module_version": "1.5.0",
      "_view_name": "ProgressView",
      "bar_style": "",
      "description": "",
      "description_tooltip": null,
      "layout": "IPY_MODEL_51c7cd51a9164c51960324be3b1697ed",
      "max": 184,
      "min": 0,
      "orientation": "horizontal",
      "style": "IPY_MODEL_fff2e5609a274719b75cc2d6d4e0d565",
      "value": 184
     }
    },
    "d7280b8bc50b49c8b6b37b1ea8a16ad0": {
     "model_module": "@jupyter-widgets/base",
     "model_module_version": "1.2.0",
     "model_name": "LayoutModel",
     "state": {
      "_model_module": "@jupyter-widgets/base",
      "_model_module_version": "1.2.0",
      "_model_name": "LayoutModel",
      "_view_count": null,
      "_view_module": "@jupyter-widgets/base",
      "_view_module_version": "1.2.0",
      "_view_name": "LayoutView",
      "align_content": null,
      "align_items": null,
      "align_self": null,
      "border": null,
      "bottom": null,
      "display": null,
      "flex": null,
      "flex_flow": null,
      "grid_area": null,
      "grid_auto_columns": null,
      "grid_auto_flow": null,
      "grid_auto_rows": null,
      "grid_column": null,
      "grid_gap": null,
      "grid_row": null,
      "grid_template_areas": null,
      "grid_template_columns": null,
      "grid_template_rows": null,
      "height": null,
      "justify_content": null,
      "justify_items": null,
      "left": null,
      "margin": null,
      "max_height": null,
      "max_width": null,
      "min_height": null,
      "min_width": null,
      "object_fit": null,
      "object_position": null,
      "order": null,
      "overflow": null,
      "overflow_x": null,
      "overflow_y": null,
      "padding": null,
      "right": null,
      "top": null,
      "visibility": null,
      "width": null
     }
    },
    "d87cdab67926479a8730ce56954dc930": {
     "model_module": "@jupyter-widgets/controls",
     "model_module_version": "1.5.0",
     "model_name": "ProgressStyleModel",
     "state": {
      "_model_module": "@jupyter-widgets/controls",
      "_model_module_version": "1.5.0",
      "_model_name": "ProgressStyleModel",
      "_view_count": null,
      "_view_module": "@jupyter-widgets/base",
      "_view_module_version": "1.2.0",
      "_view_name": "StyleView",
      "bar_color": null,
      "description_width": ""
     }
    },
    "dc2a66b7a7d84e529069e2e8e6866cbe": {
     "model_module": "@jupyter-widgets/controls",
     "model_module_version": "1.5.0",
     "model_name": "FloatProgressModel",
     "state": {
      "_dom_classes": [],
      "_model_module": "@jupyter-widgets/controls",
      "_model_module_version": "1.5.0",
      "_model_name": "FloatProgressModel",
      "_view_count": null,
      "_view_module": "@jupyter-widgets/controls",
      "_view_module_version": "1.5.0",
      "_view_name": "ProgressView",
      "bar_style": "",
      "description": "",
      "description_tooltip": null,
      "layout": "IPY_MODEL_9e7865af011e4ab98dffb7812228ba77",
      "max": 184,
      "min": 0,
      "orientation": "horizontal",
      "style": "IPY_MODEL_4de20954051443cea28874ddc9bca757",
      "value": 184
     }
    },
    "dc618f4a4b254822a3324111eb5494a6": {
     "model_module": "@jupyter-widgets/controls",
     "model_module_version": "1.5.0",
     "model_name": "HBoxModel",
     "state": {
      "_dom_classes": [],
      "_model_module": "@jupyter-widgets/controls",
      "_model_module_version": "1.5.0",
      "_model_name": "HBoxModel",
      "_view_count": null,
      "_view_module": "@jupyter-widgets/controls",
      "_view_module_version": "1.5.0",
      "_view_name": "HBoxView",
      "box_style": "",
      "children": [
       "IPY_MODEL_e64bdf9ef15f4444bb6c9f9598f9ecf7",
       "IPY_MODEL_52b475ad00054608a706096868e04467",
       "IPY_MODEL_1ec2f31dc66543eb9ce4c560a380eafb"
      ],
      "layout": "IPY_MODEL_87ddefba98c44513b33d69fb627bc200"
     }
    },
    "dccc605f54a04c11ad9b021deed63c5c": {
     "model_module": "@jupyter-widgets/base",
     "model_module_version": "1.2.0",
     "model_name": "LayoutModel",
     "state": {
      "_model_module": "@jupyter-widgets/base",
      "_model_module_version": "1.2.0",
      "_model_name": "LayoutModel",
      "_view_count": null,
      "_view_module": "@jupyter-widgets/base",
      "_view_module_version": "1.2.0",
      "_view_name": "LayoutView",
      "align_content": null,
      "align_items": null,
      "align_self": null,
      "border": null,
      "bottom": null,
      "display": null,
      "flex": null,
      "flex_flow": null,
      "grid_area": null,
      "grid_auto_columns": null,
      "grid_auto_flow": null,
      "grid_auto_rows": null,
      "grid_column": null,
      "grid_gap": null,
      "grid_row": null,
      "grid_template_areas": null,
      "grid_template_columns": null,
      "grid_template_rows": null,
      "height": null,
      "justify_content": null,
      "justify_items": null,
      "left": null,
      "margin": null,
      "max_height": null,
      "max_width": null,
      "min_height": null,
      "min_width": null,
      "object_fit": null,
      "object_position": null,
      "order": null,
      "overflow": null,
      "overflow_x": null,
      "overflow_y": null,
      "padding": null,
      "right": null,
      "top": null,
      "visibility": null,
      "width": null
     }
    },
    "dfb2cf30d2144ea39f93df32cf267777": {
     "model_module": "@jupyter-widgets/controls",
     "model_module_version": "1.5.0",
     "model_name": "HTMLModel",
     "state": {
      "_dom_classes": [],
      "_model_module": "@jupyter-widgets/controls",
      "_model_module_version": "1.5.0",
      "_model_name": "HTMLModel",
      "_view_count": null,
      "_view_module": "@jupyter-widgets/controls",
      "_view_module_version": "1.5.0",
      "_view_name": "HTMLView",
      "description": "",
      "description_tooltip": null,
      "layout": "IPY_MODEL_06bc8512f4aa423da30c967f96965530",
      "placeholder": "​",
      "style": "IPY_MODEL_16addd9a61694bd4b1beb75251aa99cf",
      "value": "Iteration: 100%"
     }
    },
    "dfb3ce6f99214b50b493d3cd8911fbc5": {
     "model_module": "@jupyter-widgets/base",
     "model_module_version": "1.2.0",
     "model_name": "LayoutModel",
     "state": {
      "_model_module": "@jupyter-widgets/base",
      "_model_module_version": "1.2.0",
      "_model_name": "LayoutModel",
      "_view_count": null,
      "_view_module": "@jupyter-widgets/base",
      "_view_module_version": "1.2.0",
      "_view_name": "LayoutView",
      "align_content": null,
      "align_items": null,
      "align_self": null,
      "border": null,
      "bottom": null,
      "display": null,
      "flex": null,
      "flex_flow": null,
      "grid_area": null,
      "grid_auto_columns": null,
      "grid_auto_flow": null,
      "grid_auto_rows": null,
      "grid_column": null,
      "grid_gap": null,
      "grid_row": null,
      "grid_template_areas": null,
      "grid_template_columns": null,
      "grid_template_rows": null,
      "height": null,
      "justify_content": null,
      "justify_items": null,
      "left": null,
      "margin": null,
      "max_height": null,
      "max_width": null,
      "min_height": null,
      "min_width": null,
      "object_fit": null,
      "object_position": null,
      "order": null,
      "overflow": null,
      "overflow_x": null,
      "overflow_y": null,
      "padding": null,
      "right": null,
      "top": null,
      "visibility": null,
      "width": null
     }
    },
    "e2c9fd358e2549f3b4b6314c14b34f0f": {
     "model_module": "@jupyter-widgets/base",
     "model_module_version": "1.2.0",
     "model_name": "LayoutModel",
     "state": {
      "_model_module": "@jupyter-widgets/base",
      "_model_module_version": "1.2.0",
      "_model_name": "LayoutModel",
      "_view_count": null,
      "_view_module": "@jupyter-widgets/base",
      "_view_module_version": "1.2.0",
      "_view_name": "LayoutView",
      "align_content": null,
      "align_items": null,
      "align_self": null,
      "border": null,
      "bottom": null,
      "display": null,
      "flex": null,
      "flex_flow": null,
      "grid_area": null,
      "grid_auto_columns": null,
      "grid_auto_flow": null,
      "grid_auto_rows": null,
      "grid_column": null,
      "grid_gap": null,
      "grid_row": null,
      "grid_template_areas": null,
      "grid_template_columns": null,
      "grid_template_rows": null,
      "height": null,
      "justify_content": null,
      "justify_items": null,
      "left": null,
      "margin": null,
      "max_height": null,
      "max_width": null,
      "min_height": null,
      "min_width": null,
      "object_fit": null,
      "object_position": null,
      "order": null,
      "overflow": null,
      "overflow_x": null,
      "overflow_y": null,
      "padding": null,
      "right": null,
      "top": null,
      "visibility": null,
      "width": null
     }
    },
    "e64bdf9ef15f4444bb6c9f9598f9ecf7": {
     "model_module": "@jupyter-widgets/controls",
     "model_module_version": "1.5.0",
     "model_name": "HTMLModel",
     "state": {
      "_dom_classes": [],
      "_model_module": "@jupyter-widgets/controls",
      "_model_module_version": "1.5.0",
      "_model_name": "HTMLModel",
      "_view_count": null,
      "_view_module": "@jupyter-widgets/controls",
      "_view_module_version": "1.5.0",
      "_view_name": "HTMLView",
      "description": "",
      "description_tooltip": null,
      "layout": "IPY_MODEL_32fe4352072941d1b4ffd0bad43d2085",
      "placeholder": "​",
      "style": "IPY_MODEL_70379b23712a4cfe93ab50a910177723",
      "value": "Evaluating: 100%"
     }
    },
    "e78aa32aa54847b2a8a497cc94532ed8": {
     "model_module": "@jupyter-widgets/base",
     "model_module_version": "1.2.0",
     "model_name": "LayoutModel",
     "state": {
      "_model_module": "@jupyter-widgets/base",
      "_model_module_version": "1.2.0",
      "_model_name": "LayoutModel",
      "_view_count": null,
      "_view_module": "@jupyter-widgets/base",
      "_view_module_version": "1.2.0",
      "_view_name": "LayoutView",
      "align_content": null,
      "align_items": null,
      "align_self": null,
      "border": null,
      "bottom": null,
      "display": null,
      "flex": null,
      "flex_flow": null,
      "grid_area": null,
      "grid_auto_columns": null,
      "grid_auto_flow": null,
      "grid_auto_rows": null,
      "grid_column": null,
      "grid_gap": null,
      "grid_row": null,
      "grid_template_areas": null,
      "grid_template_columns": null,
      "grid_template_rows": null,
      "height": null,
      "justify_content": null,
      "justify_items": null,
      "left": null,
      "margin": null,
      "max_height": null,
      "max_width": null,
      "min_height": null,
      "min_width": null,
      "object_fit": null,
      "object_position": null,
      "order": null,
      "overflow": null,
      "overflow_x": null,
      "overflow_y": null,
      "padding": null,
      "right": null,
      "top": null,
      "visibility": null,
      "width": null
     }
    },
    "ea11bd69cd3e45229f4fb5f7d1e7e506": {
     "model_module": "@jupyter-widgets/controls",
     "model_module_version": "1.5.0",
     "model_name": "DescriptionStyleModel",
     "state": {
      "_model_module": "@jupyter-widgets/controls",
      "_model_module_version": "1.5.0",
      "_model_name": "DescriptionStyleModel",
      "_view_count": null,
      "_view_module": "@jupyter-widgets/base",
      "_view_module_version": "1.2.0",
      "_view_name": "StyleView",
      "description_width": ""
     }
    },
    "ef8c8db636924605861a7cfb1b1d5c5e": {
     "model_module": "@jupyter-widgets/base",
     "model_module_version": "1.2.0",
     "model_name": "LayoutModel",
     "state": {
      "_model_module": "@jupyter-widgets/base",
      "_model_module_version": "1.2.0",
      "_model_name": "LayoutModel",
      "_view_count": null,
      "_view_module": "@jupyter-widgets/base",
      "_view_module_version": "1.2.0",
      "_view_name": "LayoutView",
      "align_content": null,
      "align_items": null,
      "align_self": null,
      "border": null,
      "bottom": null,
      "display": null,
      "flex": null,
      "flex_flow": null,
      "grid_area": null,
      "grid_auto_columns": null,
      "grid_auto_flow": null,
      "grid_auto_rows": null,
      "grid_column": null,
      "grid_gap": null,
      "grid_row": null,
      "grid_template_areas": null,
      "grid_template_columns": null,
      "grid_template_rows": null,
      "height": null,
      "justify_content": null,
      "justify_items": null,
      "left": null,
      "margin": null,
      "max_height": null,
      "max_width": null,
      "min_height": null,
      "min_width": null,
      "object_fit": null,
      "object_position": null,
      "order": null,
      "overflow": null,
      "overflow_x": null,
      "overflow_y": null,
      "padding": null,
      "right": null,
      "top": null,
      "visibility": null,
      "width": null
     }
    },
    "f1e89413bcd54101b9ac4f69b053c5c0": {
     "model_module": "@jupyter-widgets/controls",
     "model_module_version": "1.5.0",
     "model_name": "ProgressStyleModel",
     "state": {
      "_model_module": "@jupyter-widgets/controls",
      "_model_module_version": "1.5.0",
      "_model_name": "ProgressStyleModel",
      "_view_count": null,
      "_view_module": "@jupyter-widgets/base",
      "_view_module_version": "1.2.0",
      "_view_name": "StyleView",
      "bar_color": null,
      "description_width": ""
     }
    },
    "f2eed63e81494873b46ba509ba3b95c9": {
     "model_module": "@jupyter-widgets/base",
     "model_module_version": "1.2.0",
     "model_name": "LayoutModel",
     "state": {
      "_model_module": "@jupyter-widgets/base",
      "_model_module_version": "1.2.0",
      "_model_name": "LayoutModel",
      "_view_count": null,
      "_view_module": "@jupyter-widgets/base",
      "_view_module_version": "1.2.0",
      "_view_name": "LayoutView",
      "align_content": null,
      "align_items": null,
      "align_self": null,
      "border": null,
      "bottom": null,
      "display": null,
      "flex": null,
      "flex_flow": null,
      "grid_area": null,
      "grid_auto_columns": null,
      "grid_auto_flow": null,
      "grid_auto_rows": null,
      "grid_column": null,
      "grid_gap": null,
      "grid_row": null,
      "grid_template_areas": null,
      "grid_template_columns": null,
      "grid_template_rows": null,
      "height": null,
      "justify_content": null,
      "justify_items": null,
      "left": null,
      "margin": null,
      "max_height": null,
      "max_width": null,
      "min_height": null,
      "min_width": null,
      "object_fit": null,
      "object_position": null,
      "order": null,
      "overflow": null,
      "overflow_x": null,
      "overflow_y": null,
      "padding": null,
      "right": null,
      "top": null,
      "visibility": null,
      "width": null
     }
    },
    "f3b9f1cc8c914216b103fc83ba9f81e2": {
     "model_module": "@jupyter-widgets/controls",
     "model_module_version": "1.5.0",
     "model_name": "HTMLModel",
     "state": {
      "_dom_classes": [],
      "_model_module": "@jupyter-widgets/controls",
      "_model_module_version": "1.5.0",
      "_model_name": "HTMLModel",
      "_view_count": null,
      "_view_module": "@jupyter-widgets/controls",
      "_view_module_version": "1.5.0",
      "_view_name": "HTMLView",
      "description": "",
      "description_tooltip": null,
      "layout": "IPY_MODEL_ef8c8db636924605861a7cfb1b1d5c5e",
      "placeholder": "​",
      "style": "IPY_MODEL_028b8d3c666e43bb95042495d535a882",
      "value": " 184/184 [26:50&lt;00:00,  8.03s/it]"
     }
    },
    "f473ac2788e34220835d3c5369f8aa19": {
     "model_module": "@jupyter-widgets/base",
     "model_module_version": "1.2.0",
     "model_name": "LayoutModel",
     "state": {
      "_model_module": "@jupyter-widgets/base",
      "_model_module_version": "1.2.0",
      "_model_name": "LayoutModel",
      "_view_count": null,
      "_view_module": "@jupyter-widgets/base",
      "_view_module_version": "1.2.0",
      "_view_name": "LayoutView",
      "align_content": null,
      "align_items": null,
      "align_self": null,
      "border": null,
      "bottom": null,
      "display": null,
      "flex": null,
      "flex_flow": null,
      "grid_area": null,
      "grid_auto_columns": null,
      "grid_auto_flow": null,
      "grid_auto_rows": null,
      "grid_column": null,
      "grid_gap": null,
      "grid_row": null,
      "grid_template_areas": null,
      "grid_template_columns": null,
      "grid_template_rows": null,
      "height": null,
      "justify_content": null,
      "justify_items": null,
      "left": null,
      "margin": null,
      "max_height": null,
      "max_width": null,
      "min_height": null,
      "min_width": null,
      "object_fit": null,
      "object_position": null,
      "order": null,
      "overflow": null,
      "overflow_x": null,
      "overflow_y": null,
      "padding": null,
      "right": null,
      "top": null,
      "visibility": null,
      "width": null
     }
    },
    "f8316b6c223e4b5f8654b38261e2a2ca": {
     "model_module": "@jupyter-widgets/controls",
     "model_module_version": "1.5.0",
     "model_name": "DescriptionStyleModel",
     "state": {
      "_model_module": "@jupyter-widgets/controls",
      "_model_module_version": "1.5.0",
      "_model_name": "DescriptionStyleModel",
      "_view_count": null,
      "_view_module": "@jupyter-widgets/base",
      "_view_module_version": "1.2.0",
      "_view_name": "StyleView",
      "description_width": ""
     }
    },
    "fae8e7661ad34b6ebac03aa834d70c4b": {
     "model_module": "@jupyter-widgets/base",
     "model_module_version": "1.2.0",
     "model_name": "LayoutModel",
     "state": {
      "_model_module": "@jupyter-widgets/base",
      "_model_module_version": "1.2.0",
      "_model_name": "LayoutModel",
      "_view_count": null,
      "_view_module": "@jupyter-widgets/base",
      "_view_module_version": "1.2.0",
      "_view_name": "LayoutView",
      "align_content": null,
      "align_items": null,
      "align_self": null,
      "border": null,
      "bottom": null,
      "display": null,
      "flex": null,
      "flex_flow": null,
      "grid_area": null,
      "grid_auto_columns": null,
      "grid_auto_flow": null,
      "grid_auto_rows": null,
      "grid_column": null,
      "grid_gap": null,
      "grid_row": null,
      "grid_template_areas": null,
      "grid_template_columns": null,
      "grid_template_rows": null,
      "height": null,
      "justify_content": null,
      "justify_items": null,
      "left": null,
      "margin": null,
      "max_height": null,
      "max_width": null,
      "min_height": null,
      "min_width": null,
      "object_fit": null,
      "object_position": null,
      "order": null,
      "overflow": null,
      "overflow_x": null,
      "overflow_y": null,
      "padding": null,
      "right": null,
      "top": null,
      "visibility": "hidden",
      "width": null
     }
    },
    "fb88284817e649ec86c45b75c6c64349": {
     "model_module": "@jupyter-widgets/base",
     "model_module_version": "1.2.0",
     "model_name": "LayoutModel",
     "state": {
      "_model_module": "@jupyter-widgets/base",
      "_model_module_version": "1.2.0",
      "_model_name": "LayoutModel",
      "_view_count": null,
      "_view_module": "@jupyter-widgets/base",
      "_view_module_version": "1.2.0",
      "_view_name": "LayoutView",
      "align_content": null,
      "align_items": null,
      "align_self": null,
      "border": null,
      "bottom": null,
      "display": null,
      "flex": null,
      "flex_flow": null,
      "grid_area": null,
      "grid_auto_columns": null,
      "grid_auto_flow": null,
      "grid_auto_rows": null,
      "grid_column": null,
      "grid_gap": null,
      "grid_row": null,
      "grid_template_areas": null,
      "grid_template_columns": null,
      "grid_template_rows": null,
      "height": null,
      "justify_content": null,
      "justify_items": null,
      "left": null,
      "margin": null,
      "max_height": null,
      "max_width": null,
      "min_height": null,
      "min_width": null,
      "object_fit": null,
      "object_position": null,
      "order": null,
      "overflow": null,
      "overflow_x": null,
      "overflow_y": null,
      "padding": null,
      "right": null,
      "top": null,
      "visibility": null,
      "width": null
     }
    },
    "fd968167a64e4f6ab5b1ae081766b918": {
     "model_module": "@jupyter-widgets/controls",
     "model_module_version": "1.5.0",
     "model_name": "DescriptionStyleModel",
     "state": {
      "_model_module": "@jupyter-widgets/controls",
      "_model_module_version": "1.5.0",
      "_model_name": "DescriptionStyleModel",
      "_view_count": null,
      "_view_module": "@jupyter-widgets/base",
      "_view_module_version": "1.2.0",
      "_view_name": "StyleView",
      "description_width": ""
     }
    },
    "ff5ce6e4163045df97c036ddec745796": {
     "model_module": "@jupyter-widgets/controls",
     "model_module_version": "1.5.0",
     "model_name": "DescriptionStyleModel",
     "state": {
      "_model_module": "@jupyter-widgets/controls",
      "_model_module_version": "1.5.0",
      "_model_name": "DescriptionStyleModel",
      "_view_count": null,
      "_view_module": "@jupyter-widgets/base",
      "_view_module_version": "1.2.0",
      "_view_name": "StyleView",
      "description_width": ""
     }
    },
    "fff2e5609a274719b75cc2d6d4e0d565": {
     "model_module": "@jupyter-widgets/controls",
     "model_module_version": "1.5.0",
     "model_name": "ProgressStyleModel",
     "state": {
      "_model_module": "@jupyter-widgets/controls",
      "_model_module_version": "1.5.0",
      "_model_name": "ProgressStyleModel",
      "_view_count": null,
      "_view_module": "@jupyter-widgets/base",
      "_view_module_version": "1.2.0",
      "_view_name": "StyleView",
      "bar_color": null,
      "description_width": ""
     }
    },
    "state": {}
   }
  }
 },
 "nbformat": 4,
 "nbformat_minor": 5
}
