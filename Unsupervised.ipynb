{
 "cells": [
  {
   "cell_type": "code",
   "execution_count": 21,
   "id": "0a65fd3c-247d-4c06-8eaa-f546c9093433",
   "metadata": {},
   "outputs": [
    {
     "name": "stdout",
     "output_type": "stream",
     "text": [
      " Labelled train size: 2944, Iterations per epoch: 92\n",
      " validation size: 736, Iterations per epoch: 23\n"
     ]
    }
   ],
   "source": [
    "import random\n",
    "import numpy as np\n",
    "import torch\n",
    "import os\n",
    "import torchvision\n",
    "from torchvision.models import ResNet50_Weights\n",
    "from torch.utils.data import DataLoader, random_split, Dataset, Subset\n",
    "\n",
    "# Use ResNet's default preprocessing pipeline\n",
    "weights = ResNet50_Weights.DEFAULT\n",
    "transform = weights.transforms()\n",
    "\n",
    "\n",
    "def load_dataset(split_name: str):\n",
    "    return torchvision.datasets.OxfordIIITPet(\n",
    "        root=\"./data\",\n",
    "        split=split_name,\n",
    "        target_types=\"category\",\n",
    "        download=True,\n",
    "        transform=transform,\n",
    "    )\n",
    "\n",
    "\n",
    "train_dataset = load_dataset(\"trainval\")\n",
    "test_dataset = load_dataset(\"test\")\n",
    "\n",
    "\n",
    "def set_seed(seed=42):\n",
    "    random.seed(seed)\n",
    "    np.random.seed(seed)\n",
    "    torch.manual_seed(seed)\n",
    "    torch.cuda.manual_seed(seed)\n",
    "    torch.cuda.manual_seed_all(seed)  # If multi-GPU\n",
    "    torch.backends.cudnn.deterministic = True\n",
    "    torch.backends.cudnn.benchmark = False  # Slower, but reproducible\n",
    "    os.environ['PYTHONHASHSEED'] = str(seed)\n",
    "\n",
    "\n",
    "global_seed = 42\n",
    "set_seed(global_seed)\n",
    "batch_size = 32\n",
    "num_workers = 2\n",
    "\n",
    "num_train = int(0.8 * len(train_dataset))\n",
    "num_val = len(train_dataset) - num_train\n",
    "train_subset, val_subset = random_split(train_dataset, [num_train, num_val],\n",
    "                                        generator=torch.Generator().manual_seed(42))\n",
    "\n",
    "\n",
    "# 1) Choose fraction of data to keep as labelled\n",
    "labelled_fraction = 1\n",
    "total = len(train_subset)\n",
    "n_labelled = int(labelled_fraction * total)\n",
    "\n",
    "# 2) Fix the RNG for reproducibility\n",
    "g = torch.Generator().manual_seed(global_seed)\n",
    "\n",
    "# 3) Randomly permute indices, then split\n",
    "perm = torch.randperm(total, generator=g)\n",
    "labelled_idx   = perm[:n_labelled].tolist()\n",
    "unlabelled_idx = perm[n_labelled:].tolist()\n",
    "\n",
    "\n",
    "labelled_subset   = Subset(train_subset, labelled_idx)\n",
    "unlabelled_subset = None\n",
    "if len(unlabelled_idx) > 0:\n",
    "    unlabelled_subset = Subset(train_subset, unlabelled_idx)\n",
    "\n",
    "# 4) Wrap the “unlabelled” subset so it only returns the image\n",
    "class UnlabelledDataset(Dataset):\n",
    "    def __init__(self, ds):\n",
    "        self.ds = ds\n",
    "    def __len__(self):\n",
    "        return len(self.ds)\n",
    "    def __getitem__(self, i):\n",
    "        img, *_ = self.ds[i]   # drop all labels\n",
    "        return img\n",
    "\n",
    "if unlabelled_subset is not None:\n",
    "    unlabelled_dataset = UnlabelledDataset(unlabelled_subset)\n",
    "\n",
    "# 5) Create DataLoaders\n",
    "labelled_loader = DataLoader(\n",
    "    labelled_subset, batch_size=batch_size, shuffle=True,\n",
    "    num_workers=num_workers, pin_memory=True\n",
    ")\n",
    "unlabelled_loader = None\n",
    "if unlabelled_subset is not None:\n",
    "    unlabelled_loader = DataLoader(\n",
    "        unlabelled_dataset, batch_size=batch_size, shuffle=True,\n",
    "        num_workers=num_workers, pin_memory=True\n",
    "    )\n",
    "\n",
    "val_loader = DataLoader(\n",
    "    val_subset,\n",
    "    batch_size=batch_size,\n",
    "    shuffle=False,\n",
    "    num_workers=num_workers,\n",
    ")\n",
    "\n",
    "print(f\" Labelled train size: {len(labelled_loader.dataset)}, Iterations per epoch: {len(labelled_loader)}\")\n",
    "print(f\" validation size: {len(val_loader.dataset)}, Iterations per epoch: {len(val_loader)}\")\n",
    "\n",
    "if unlabelled_subset is not None:\n",
    "    print(f\" Unlabelled size: {len(unlabelled_loader.dataset)}, Iterations per epoch: {len(unlabelled_loader)}\")"
   ]
  },
  {
   "cell_type": "code",
   "execution_count": 22,
   "id": "a0eb5038-2349-4d51-9d0b-5f93ccefdff2",
   "metadata": {},
   "outputs": [
    {
     "name": "stdout",
     "output_type": "stream",
     "text": [
      "GPU acceleration enabled: Yes 🚀\n"
     ]
    }
   ],
   "source": [
    "import torch\n",
    "import torch.nn as nn\n",
    "import torch.optim as optim\n",
    "from torchvision import models\n",
    "from tqdm.notebook import tqdm\n",
    "\n",
    "device = torch.device(\"cuda\" if torch.cuda.is_available() else \"cpu\")\n",
    "\n",
    "# Load ResNet50\n",
    "model = models.resnet50(weights=weights)\n",
    "\n",
    "# Freeze earlier layers (improves performance)\n",
    "freeze_layers = True\n",
    "if freeze_layers:\n",
    "    for param in model.parameters():\n",
    "        param.requires_grad = False\n",
    "\n",
    "num_features = model.fc.in_features\n",
    "model.fc = nn.Linear(num_features, 37)  # Binary classification (cat vs dog)\n",
    "\n",
    "# Ensure final layer is trainable\n",
    "for param in model.fc.parameters():\n",
    "    param.requires_grad = True\n",
    "\n",
    "model = model.to(device)\n",
    "\n",
    "print(f\"GPU acceleration enabled: {'Yes 🚀' if device.type == 'cuda' else 'No 🐌'}\")"
   ]
  },
  {
   "cell_type": "code",
   "execution_count": 23,
   "id": "14692515-4050-481d-812d-567e8fa60fc5",
   "metadata": {},
   "outputs": [
    {
     "data": {
      "application/vnd.jupyter.widget-view+json": {
       "model_id": "cca09a8132ec4c658e31dcbcc8a91fbd",
       "version_major": 2,
       "version_minor": 0
      },
      "text/plain": [
       "Epoch:   0%|          | 0/10 [00:00<?, ?it/s]"
      ]
     },
     "metadata": {},
     "output_type": "display_data"
    },
    {
     "data": {
      "application/vnd.jupyter.widget-view+json": {
       "model_id": "797e87373b5b403080753d9ce30e18db",
       "version_major": 2,
       "version_minor": 0
      },
      "text/plain": [
       "Batch:   0%|          | 0/92 [00:00<?, ?it/s]"
      ]
     },
     "metadata": {},
     "output_type": "display_data"
    },
    {
     "data": {
      "application/vnd.jupyter.widget-view+json": {
       "model_id": "b1a2ae91ffb54471a450e1d55f5fce01",
       "version_major": 2,
       "version_minor": 0
      },
      "text/plain": [
       "Evaluating:   0%|          | 0/23 [00:00<?, ?it/s]"
      ]
     },
     "metadata": {},
     "output_type": "display_data"
    },
    {
     "name": "stdout",
     "output_type": "stream",
     "text": [
      "Epoch [1/10]  Loss: 3.2819, Train Acc: 38.25%, Val Acc: 76.36%\n"
     ]
    },
    {
     "data": {
      "application/vnd.jupyter.widget-view+json": {
       "model_id": "84738a1c16f24f15b147584bc8b1e324",
       "version_major": 2,
       "version_minor": 0
      },
      "text/plain": [
       "Batch:   0%|          | 0/92 [00:00<?, ?it/s]"
      ]
     },
     "metadata": {},
     "output_type": "display_data"
    },
    {
     "data": {
      "application/vnd.jupyter.widget-view+json": {
       "model_id": "ea48551dac4347d1affd1619eba658f0",
       "version_major": 2,
       "version_minor": 0
      },
      "text/plain": [
       "Evaluating:   0%|          | 0/23 [00:00<?, ?it/s]"
      ]
     },
     "metadata": {},
     "output_type": "display_data"
    },
    {
     "name": "stdout",
     "output_type": "stream",
     "text": [
      "Epoch [2/10]  Loss: 2.5157, Train Acc: 80.30%, Val Acc: 82.47%\n"
     ]
    },
    {
     "data": {
      "application/vnd.jupyter.widget-view+json": {
       "model_id": "9671c921be6b4f23abe35387c789c180",
       "version_major": 2,
       "version_minor": 0
      },
      "text/plain": [
       "Batch:   0%|          | 0/92 [00:00<?, ?it/s]"
      ]
     },
     "metadata": {},
     "output_type": "display_data"
    },
    {
     "data": {
      "application/vnd.jupyter.widget-view+json": {
       "model_id": "640e86be328e4909be505c7103aed97f",
       "version_major": 2,
       "version_minor": 0
      },
      "text/plain": [
       "Evaluating:   0%|          | 0/23 [00:00<?, ?it/s]"
      ]
     },
     "metadata": {},
     "output_type": "display_data"
    },
    {
     "name": "stdout",
     "output_type": "stream",
     "text": [
      "Epoch [3/10]  Loss: 1.9241, Train Acc: 86.18%, Val Acc: 86.28%\n"
     ]
    },
    {
     "data": {
      "application/vnd.jupyter.widget-view+json": {
       "model_id": "7e9c9fa33aba484b9c5bfce6d9058ff1",
       "version_major": 2,
       "version_minor": 0
      },
      "text/plain": [
       "Batch:   0%|          | 0/92 [00:00<?, ?it/s]"
      ]
     },
     "metadata": {},
     "output_type": "display_data"
    },
    {
     "data": {
      "application/vnd.jupyter.widget-view+json": {
       "model_id": "4eb97cb9e59347b790aa7dddb953d066",
       "version_major": 2,
       "version_minor": 0
      },
      "text/plain": [
       "Evaluating:   0%|          | 0/23 [00:00<?, ?it/s]"
      ]
     },
     "metadata": {},
     "output_type": "display_data"
    },
    {
     "name": "stdout",
     "output_type": "stream",
     "text": [
      "Epoch [4/10]  Loss: 1.4982, Train Acc: 89.13%, Val Acc: 87.64%\n"
     ]
    },
    {
     "data": {
      "application/vnd.jupyter.widget-view+json": {
       "model_id": "7f28b92b20c3427f837935cb84480b6a",
       "version_major": 2,
       "version_minor": 0
      },
      "text/plain": [
       "Batch:   0%|          | 0/92 [00:00<?, ?it/s]"
      ]
     },
     "metadata": {},
     "output_type": "display_data"
    },
    {
     "data": {
      "application/vnd.jupyter.widget-view+json": {
       "model_id": "8f3518e0b0a54f00adcc25a26316869a",
       "version_major": 2,
       "version_minor": 0
      },
      "text/plain": [
       "Evaluating:   0%|          | 0/23 [00:00<?, ?it/s]"
      ]
     },
     "metadata": {},
     "output_type": "display_data"
    },
    {
     "name": "stdout",
     "output_type": "stream",
     "text": [
      "Epoch [5/10]  Loss: 1.2101, Train Acc: 90.79%, Val Acc: 88.45%\n"
     ]
    },
    {
     "data": {
      "application/vnd.jupyter.widget-view+json": {
       "model_id": "7046106bec814035bd8c852c91d9cc65",
       "version_major": 2,
       "version_minor": 0
      },
      "text/plain": [
       "Batch:   0%|          | 0/92 [00:00<?, ?it/s]"
      ]
     },
     "metadata": {},
     "output_type": "display_data"
    },
    {
     "data": {
      "application/vnd.jupyter.widget-view+json": {
       "model_id": "107a91ab4c9841d5bff604310c63e9fd",
       "version_major": 2,
       "version_minor": 0
      },
      "text/plain": [
       "Evaluating:   0%|          | 0/23 [00:00<?, ?it/s]"
      ]
     },
     "metadata": {},
     "output_type": "display_data"
    },
    {
     "name": "stdout",
     "output_type": "stream",
     "text": [
      "Epoch [6/10]  Loss: 1.0814, Train Acc: 91.20%, Val Acc: 88.45%\n"
     ]
    },
    {
     "data": {
      "application/vnd.jupyter.widget-view+json": {
       "model_id": "3864a1be2dd542c3af16f9ac7b32bc62",
       "version_major": 2,
       "version_minor": 0
      },
      "text/plain": [
       "Batch:   0%|          | 0/92 [00:00<?, ?it/s]"
      ]
     },
     "metadata": {},
     "output_type": "display_data"
    },
    {
     "data": {
      "application/vnd.jupyter.widget-view+json": {
       "model_id": "c4185ea4a29c42e79a55d71bd2454877",
       "version_major": 2,
       "version_minor": 0
      },
      "text/plain": [
       "Evaluating:   0%|          | 0/23 [00:00<?, ?it/s]"
      ]
     },
     "metadata": {},
     "output_type": "display_data"
    },
    {
     "name": "stdout",
     "output_type": "stream",
     "text": [
      "Epoch [7/10]  Loss: 1.0594, Train Acc: 91.30%, Val Acc: 88.59%\n"
     ]
    },
    {
     "data": {
      "application/vnd.jupyter.widget-view+json": {
       "model_id": "00501941e94a4f60b8625d28602e5ae0",
       "version_major": 2,
       "version_minor": 0
      },
      "text/plain": [
       "Batch:   0%|          | 0/92 [00:00<?, ?it/s]"
      ]
     },
     "metadata": {},
     "output_type": "display_data"
    },
    {
     "data": {
      "application/vnd.jupyter.widget-view+json": {
       "model_id": "46aa3cae9b654cd6b4f7cbaf438330cb",
       "version_major": 2,
       "version_minor": 0
      },
      "text/plain": [
       "Evaluating:   0%|          | 0/23 [00:00<?, ?it/s]"
      ]
     },
     "metadata": {},
     "output_type": "display_data"
    },
    {
     "name": "stdout",
     "output_type": "stream",
     "text": [
      "Epoch [8/10]  Loss: 1.0347, Train Acc: 91.88%, Val Acc: 88.72%\n"
     ]
    },
    {
     "data": {
      "application/vnd.jupyter.widget-view+json": {
       "model_id": "b0568c7c57f440e4a66ec12361116b41",
       "version_major": 2,
       "version_minor": 0
      },
      "text/plain": [
       "Batch:   0%|          | 0/92 [00:00<?, ?it/s]"
      ]
     },
     "metadata": {},
     "output_type": "display_data"
    },
    {
     "data": {
      "application/vnd.jupyter.widget-view+json": {
       "model_id": "5986d9ccfe014fc7b969c1bcab6fb7fe",
       "version_major": 2,
       "version_minor": 0
      },
      "text/plain": [
       "Evaluating:   0%|          | 0/23 [00:00<?, ?it/s]"
      ]
     },
     "metadata": {},
     "output_type": "display_data"
    },
    {
     "name": "stdout",
     "output_type": "stream",
     "text": [
      "Epoch [9/10]  Loss: 1.0251, Train Acc: 91.13%, Val Acc: 88.04%\n"
     ]
    },
    {
     "data": {
      "application/vnd.jupyter.widget-view+json": {
       "model_id": "b307f037bbf94352ac8eb33d30863362",
       "version_major": 2,
       "version_minor": 0
      },
      "text/plain": [
       "Batch:   0%|          | 0/92 [00:00<?, ?it/s]"
      ]
     },
     "metadata": {},
     "output_type": "display_data"
    },
    {
     "data": {
      "application/vnd.jupyter.widget-view+json": {
       "model_id": "95f718007cd948328b523dba77ec8669",
       "version_major": 2,
       "version_minor": 0
      },
      "text/plain": [
       "Evaluating:   0%|          | 0/23 [00:00<?, ?it/s]"
      ]
     },
     "metadata": {},
     "output_type": "display_data"
    },
    {
     "name": "stdout",
     "output_type": "stream",
     "text": [
      "Epoch [10/10]  Loss: 1.0029, Train Acc: 91.61%, Val Acc: 88.72%\n"
     ]
    },
    {
     "data": {
      "image/png": "[encoded data removed]",
      "text/plain": [
       "<Figure size 1000x500 with 2 Axes>"
      ]
     },
     "metadata": {},
     "output_type": "display_data"
    }
   ],
   "source": [
    "import itertools\n",
    "import torch\n",
    "import torch.nn as nn\n",
    "import torch.nn.functional as F\n",
    "import torch.optim as optim\n",
    "from torch.cuda.amp import GradScaler, autocast\n",
    "from tqdm.notebook import tqdm\n",
    "import matplotlib.pyplot as plt\n",
    "from typing import Literal\n",
    "\n",
    "\n",
    "def make_optimizer(optimization: Literal[\"nag\", \"adam\"]):\n",
    "    if optimization == \"adam\":\n",
    "        return optim.Adam(\n",
    "            model.fc.parameters(),\n",
    "            lr=0.001\n",
    "        )\n",
    "    elif optimization == \"nag\":\n",
    "        return optim.SGD(\n",
    "            model.fc.parameters(),\n",
    "            lr=0.001,\n",
    "            momentum=0.9,\n",
    "            nesterov=True,\n",
    "            weight_decay=1e-4,\n",
    "        )\n",
    "    else:\n",
    "        raise NotImplementedError\n",
    "\n",
    "\n",
    "def evaluate(model, loader, device):\n",
    "    model.eval()\n",
    "    correct = 0\n",
    "    total = 0\n",
    "    with torch.no_grad():\n",
    "        for inputs, labels in tqdm(loader, desc=\"Evaluating\"):\n",
    "            inputs, labels = inputs.to(device), labels.to(device)\n",
    "            outputs = model(inputs)\n",
    "            _, predicted = torch.max(outputs.data, 1)\n",
    "            total += labels.size(0)\n",
    "            correct += (predicted == labels).sum().item()\n",
    "    model.train()\n",
    "    return 100 * correct / total\n",
    "\n",
    "def backward_pass(model, inputs, labels, criterion, scaler=None):\n",
    "    if scaler is not None:\n",
    "        with autocast(device_type='cuda'):\n",
    "            outputs = model(inputs)\n",
    "            loss = criterion(outputs, labels)\n",
    "        scaler.scale(loss).backward()\n",
    "        scaler.step(optimizer)\n",
    "        scaler.update()\n",
    "    else:\n",
    "        outputs = model(inputs)\n",
    "        loss = criterion(outputs, labels)\n",
    "        loss.backward()\n",
    "        optimizer.step()\n",
    "    return outputs, loss\n",
    "\n",
    "# 2) Setup\n",
    "optimizer = make_optimizer(\"nag\")              # or \"adam\"\n",
    "criterion = nn.CrossEntropyLoss()\n",
    "enable_mixed_precision = False\n",
    "scaler = GradScaler() if enable_mixed_precision else None\n",
    "num_epochs = 10\n",
    "\n",
    "scheduler = torch.optim.lr_scheduler.StepLR(optimizer, step_size=5, gamma=0.1)\n",
    "\n",
    "# Prepare pseudo-label iter if needed\n",
    "if unlabelled_loader is not None:\n",
    "    unlab_iter = itertools.cycle(unlabelled_loader)\n",
    "    unsup_loss = 0.5    # weight for unsupervised loss\n",
    "    tau      = 0.95     # confidence threshold\n",
    "\n",
    "# 3) Training loop\n",
    "train_accuracies = []\n",
    "val_accuracies   = []\n",
    "epoch_losses     = []\n",
    "\n",
    "model.train()\n",
    "for epoch in tqdm(range(num_epochs), desc=\"Epoch\"):\n",
    "    running_loss = 0.0\n",
    "    correct = total = 0\n",
    "\n",
    "    for inputs, labels in tqdm(labelled_loader, desc=\"Batch\"):\n",
    "        inputs, labels = inputs.to(device), labels.to(device)\n",
    "        optimizer.zero_grad()\n",
    "\n",
    "        # Supervised step\n",
    "        outputs_l, sup_loss = backward_pass(model, inputs, labels, criterion, scaler)\n",
    "        running_loss += sup_loss.item()\n",
    "        _, preds = torch.max(outputs_l.data, 1)\n",
    "        correct += (preds == labels).sum().item()\n",
    "        total   += labels.size(0)\n",
    "\n",
    "        # Unsupervised pseudo-label step (if available)\n",
    "        if unlabelled_loader is not None:\n",
    "            #print(f\"Unsupervised pseudo-label step\")\n",
    "            x_u = next(unlab_iter).to(device)\n",
    "            with torch.no_grad():\n",
    "                logits_u = model(x_u)\n",
    "                probs_u, pseudo = F.softmax(logits_u, dim=1).max(1)\n",
    "                mask = probs_u.ge(tau)\n",
    "\n",
    "            if mask.any():\n",
    "                inputs_u = x_u[mask]\n",
    "                labels_u = pseudo[mask]\n",
    "                _, unsup_loss = backward_pass(model, inputs_u, labels_u, criterion, scaler)\n",
    "                running_loss += unsup_loss * unsup_loss.item()\n",
    "\n",
    "    # End of epoch metrics\n",
    "    train_acc = 100 * correct / total\n",
    "    epoch_losses.append(running_loss / len(labelled_loader))\n",
    "    train_accuracies.append(train_acc)\n",
    "\n",
    "    val_acc = evaluate(model, val_loader, device)\n",
    "    val_accuracies.append(val_acc)\n",
    "    val_str = f\", Val Acc: {val_acc:.2f}%\"\n",
    "\n",
    "    tqdm.write(\n",
    "        f\"Epoch [{epoch+1}/{num_epochs}]  \"\n",
    "        f\"Loss: {running_loss/len(labelled_loader):.4f}, \"\n",
    "        f\"Train Acc: {train_acc:.2f}%{val_str}\"\n",
    "    )\n",
    "    scheduler.step()\n",
    "\n",
    "# 4) Plotting results\n",
    "epochs = range(1, num_epochs + 1)\n",
    "plt.figure(figsize=(10, 5))\n",
    "\n",
    "# Accuracy plot\n",
    "plt.subplot(1, 2, 1)\n",
    "plt.plot(epochs, train_accuracies, label='Train Accuracy')\n",
    "plt.plot(epochs, val_accuracies,   label='Validation Accuracy')\n",
    "plt.xlabel('Epoch')\n",
    "plt.ylabel('Accuracy (%)')\n",
    "plt.title('Train vs Validation Accuracy')\n",
    "plt.legend()\n",
    "plt.grid(True)\n",
    "\n",
    "# Loss plot\n",
    "plt.subplot(1, 2, 2)\n",
    "plt.plot(epochs, epoch_losses, label='Training Loss')\n",
    "plt.xlabel('Epoch')\n",
    "plt.ylabel('Loss')\n",
    "plt.title('Training Loss per Epoch')\n",
    "plt.legend()\n",
    "plt.grid(True)\n",
    "\n",
    "plt.tight_layout()\n",
    "plt.savefig(\"plot1.png\")\n",
    "plt.show()"
   ]
  },
  {
   "cell_type": "code",
   "execution_count": null,
   "id": "ad4f277c-d1ae-407b-9a3e-7927e5033dd7",
   "metadata": {},
   "outputs": [],
   "source": []
  }
 ],
 "metadata": {
  "kernelspec": {
   "display_name": "Python 3 (ipykernel)",
   "language": "python",
   "name": "python3"
  },
  "language_info": {
   "codemirror_mode": {
    "name": "ipython",
    "version": 3
   },
   "file_extension": ".py",
   "mimetype": "text/x-python",
   "name": "python",
   "nbconvert_exporter": "python",
   "pygments_lexer": "ipython3",
   "version": "3.10.17"
  }
 },
 "nbformat": 4,
 "nbformat_minor": 5
}
